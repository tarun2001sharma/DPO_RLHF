{
  "cells": [
    {
      "cell_type": "code",
      "execution_count": null,
      "metadata": {
        "id": "SraOQpciTVHO"
      },
      "outputs": [],
      "source": [
        "# from google.colab import drive\n",
        "# drive.mount('/content/drive')\n"
      ]
    },
    {
      "cell_type": "code",
      "execution_count": null,
      "metadata": {
        "id": "g4dAR5KzT9d5"
      },
      "outputs": [],
      "source": [
        "import os"
      ]
    },
    {
      "cell_type": "code",
      "execution_count": null,
      "metadata": {
        "id": "LC6GrxSMT2yZ"
      },
      "outputs": [],
      "source": [
        "# # Change the path to the location of the shortcut in your drive\n",
        "# folder_path = '/content/drive/MyDrive/ConceptualGapsProject'\n",
        "# files = os.listdir(folder_path)\n",
        "# print(files)  # This will list all the files in the shared folder\n"
      ]
    },
    {
      "cell_type": "code",
      "execution_count": null,
      "metadata": {
        "colab": {
          "base_uri": "https://localhost:8080/"
        },
        "id": "alnkX_cRT8FU",
        "outputId": "51d828f4-f849-4731-fa6f-5a1533039bde"
      },
      "outputs": [
        {
          "output_type": "stream",
          "name": "stdout",
          "text": [
            "\u001b[2K     \u001b[90m━━━━━━━━━━━━━━━━━━━━━━━━━━━━━━━━━━━━━━━━\u001b[0m \u001b[32m119.8/119.8 MB\u001b[0m \u001b[31m12.8 MB/s\u001b[0m eta \u001b[36m0:00:00\u001b[0m\n",
            "\u001b[?25h  Installing build dependencies ... \u001b[?25l\u001b[?25hdone\n",
            "  Getting requirements to build wheel ... \u001b[?25l\u001b[?25hdone\n",
            "  Preparing metadata (pyproject.toml) ... \u001b[?25l\u001b[?25hdone\n",
            "  Building wheel for transformers (pyproject.toml) ... \u001b[?25l\u001b[?25hdone\n",
            "  Installing build dependencies ... \u001b[?25l\u001b[?25hdone\n",
            "  Getting requirements to build wheel ... \u001b[?25l\u001b[?25hdone\n",
            "  Preparing metadata (pyproject.toml) ... \u001b[?25l\u001b[?25hdone\n",
            "\u001b[2K     \u001b[90m━━━━━━━━━━━━━━━━━━━━━━━━━━━━━━━━━━━━━━━━\u001b[0m \u001b[32m297.6/297.6 kB\u001b[0m \u001b[31m6.5 MB/s\u001b[0m eta \u001b[36m0:00:00\u001b[0m\n",
            "\u001b[?25h  Building wheel for peft (pyproject.toml) ... \u001b[?25l\u001b[?25hdone\n",
            "  Installing build dependencies ... \u001b[?25l\u001b[?25hdone\n",
            "  Getting requirements to build wheel ... \u001b[?25l\u001b[?25hdone\n",
            "  Preparing metadata (pyproject.toml) ... \u001b[?25l\u001b[?25hdone\n",
            "  Building wheel for accelerate (pyproject.toml) ... \u001b[?25l\u001b[?25hdone\n",
            "\u001b[2K     \u001b[90m━━━━━━━━━━━━━━━━━━━━━━━━━━━━━━━━━━━━━━━━\u001b[0m \u001b[32m542.0/542.0 kB\u001b[0m \u001b[31m10.4 MB/s\u001b[0m eta \u001b[36m0:00:00\u001b[0m\n",
            "\u001b[2K     \u001b[90m━━━━━━━━━━━━━━━━━━━━━━━━━━━━━━━━━━━━━━━━\u001b[0m \u001b[32m116.3/116.3 kB\u001b[0m \u001b[31m9.9 MB/s\u001b[0m eta \u001b[36m0:00:00\u001b[0m\n",
            "\u001b[2K     \u001b[90m━━━━━━━━━━━━━━━━━━━━━━━━━━━━━━━━━━━━━━━━\u001b[0m \u001b[32m194.1/194.1 kB\u001b[0m \u001b[31m11.8 MB/s\u001b[0m eta \u001b[36m0:00:00\u001b[0m\n",
            "\u001b[2K     \u001b[90m━━━━━━━━━━━━━━━━━━━━━━━━━━━━━━━━━━━━━━━━\u001b[0m \u001b[32m134.8/134.8 kB\u001b[0m \u001b[31m12.5 MB/s\u001b[0m eta \u001b[36m0:00:00\u001b[0m\n",
            "\u001b[2K     \u001b[90m━━━━━━━━━━━━━━━━━━━━━━━━━━━━━━━━━━━━━━━━\u001b[0m \u001b[32m388.9/388.9 kB\u001b[0m \u001b[31m19.3 MB/s\u001b[0m eta \u001b[36m0:00:00\u001b[0m\n",
            "\u001b[?25h"
          ]
        }
      ],
      "source": [
        "!pip install -q -U bitsandbytes\n",
        "!pip install -q -U git+https://github.com/huggingface/transformers.git\n",
        "!pip install -q -U git+https://github.com/huggingface/peft.git\n",
        "!pip install -q -U git+https://github.com/huggingface/accelerate.git\n",
        "!pip install -q datasets"
      ]
    },
    {
      "cell_type": "code",
      "execution_count": null,
      "metadata": {
        "colab": {
          "base_uri": "https://localhost:8080/"
        },
        "id": "P7mOwl9Yifem",
        "outputId": "8f28adca-8433-4b95-b41b-291aa8a096b9"
      },
      "outputs": [
        {
          "output_type": "stream",
          "name": "stdout",
          "text": [
            "Collecting trl\n",
            "  Downloading trl-0.8.6-py3-none-any.whl (245 kB)\n",
            "\u001b[?25l     \u001b[90m━━━━━━━━━━━━━━━━━━━━━━━━━━━━━━━━━━━━━━━━\u001b[0m \u001b[32m0.0/245.2 kB\u001b[0m \u001b[31m?\u001b[0m eta \u001b[36m-:--:--\u001b[0m\r\u001b[2K     \u001b[91m━━━━━━━━━━━━━━━━━━━━━━━━━━━━━━━━━━━━━━\u001b[0m\u001b[90m╺\u001b[0m\u001b[90m━\u001b[0m \u001b[32m235.5/245.2 kB\u001b[0m \u001b[31m8.1 MB/s\u001b[0m eta \u001b[36m0:00:01\u001b[0m\r\u001b[2K     \u001b[90m━━━━━━━━━━━━━━━━━━━━━━━━━━━━━━━━━━━━━━━━\u001b[0m \u001b[32m245.2/245.2 kB\u001b[0m \u001b[31m6.6 MB/s\u001b[0m eta \u001b[36m0:00:00\u001b[0m\n",
            "\u001b[?25hRequirement already satisfied: torch>=1.4.0 in /usr/local/lib/python3.10/dist-packages (from trl) (2.2.1+cu121)\n",
            "Requirement already satisfied: transformers>=4.31.0 in /usr/local/lib/python3.10/dist-packages (from trl) (4.41.0.dev0)\n",
            "Requirement already satisfied: numpy>=1.18.2 in /usr/local/lib/python3.10/dist-packages (from trl) (1.25.2)\n",
            "Requirement already satisfied: accelerate in /usr/local/lib/python3.10/dist-packages (from trl) (0.30.0.dev0)\n",
            "Requirement already satisfied: datasets in /usr/local/lib/python3.10/dist-packages (from trl) (2.19.0)\n",
            "Collecting tyro>=0.5.11 (from trl)\n",
            "  Downloading tyro-0.8.3-py3-none-any.whl (102 kB)\n",
            "\u001b[2K     \u001b[90m━━━━━━━━━━━━━━━━━━━━━━━━━━━━━━━━━━━━━━━━\u001b[0m \u001b[32m102.0/102.0 kB\u001b[0m \u001b[31m11.1 MB/s\u001b[0m eta \u001b[36m0:00:00\u001b[0m\n",
            "\u001b[?25hRequirement already satisfied: filelock in /usr/local/lib/python3.10/dist-packages (from torch>=1.4.0->trl) (3.13.4)\n",
            "Requirement already satisfied: typing-extensions>=4.8.0 in /usr/local/lib/python3.10/dist-packages (from torch>=1.4.0->trl) (4.11.0)\n",
            "Requirement already satisfied: sympy in /usr/local/lib/python3.10/dist-packages (from torch>=1.4.0->trl) (1.12)\n",
            "Requirement already satisfied: networkx in /usr/local/lib/python3.10/dist-packages (from torch>=1.4.0->trl) (3.3)\n",
            "Requirement already satisfied: jinja2 in /usr/local/lib/python3.10/dist-packages (from torch>=1.4.0->trl) (3.1.3)\n",
            "Requirement already satisfied: fsspec in /usr/local/lib/python3.10/dist-packages (from torch>=1.4.0->trl) (2023.6.0)\n",
            "Requirement already satisfied: nvidia-cuda-nvrtc-cu12==12.1.105 in /usr/local/lib/python3.10/dist-packages (from torch>=1.4.0->trl) (12.1.105)\n",
            "Requirement already satisfied: nvidia-cuda-runtime-cu12==12.1.105 in /usr/local/lib/python3.10/dist-packages (from torch>=1.4.0->trl) (12.1.105)\n",
            "Requirement already satisfied: nvidia-cuda-cupti-cu12==12.1.105 in /usr/local/lib/python3.10/dist-packages (from torch>=1.4.0->trl) (12.1.105)\n",
            "Requirement already satisfied: nvidia-cudnn-cu12==8.9.2.26 in /usr/local/lib/python3.10/dist-packages (from torch>=1.4.0->trl) (8.9.2.26)\n",
            "Requirement already satisfied: nvidia-cublas-cu12==12.1.3.1 in /usr/local/lib/python3.10/dist-packages (from torch>=1.4.0->trl) (12.1.3.1)\n",
            "Requirement already satisfied: nvidia-cufft-cu12==11.0.2.54 in /usr/local/lib/python3.10/dist-packages (from torch>=1.4.0->trl) (11.0.2.54)\n",
            "Requirement already satisfied: nvidia-curand-cu12==10.3.2.106 in /usr/local/lib/python3.10/dist-packages (from torch>=1.4.0->trl) (10.3.2.106)\n",
            "Requirement already satisfied: nvidia-cusolver-cu12==11.4.5.107 in /usr/local/lib/python3.10/dist-packages (from torch>=1.4.0->trl) (11.4.5.107)\n",
            "Requirement already satisfied: nvidia-cusparse-cu12==12.1.0.106 in /usr/local/lib/python3.10/dist-packages (from torch>=1.4.0->trl) (12.1.0.106)\n",
            "Requirement already satisfied: nvidia-nccl-cu12==2.19.3 in /usr/local/lib/python3.10/dist-packages (from torch>=1.4.0->trl) (2.19.3)\n",
            "Requirement already satisfied: nvidia-nvtx-cu12==12.1.105 in /usr/local/lib/python3.10/dist-packages (from torch>=1.4.0->trl) (12.1.105)\n",
            "Requirement already satisfied: triton==2.2.0 in /usr/local/lib/python3.10/dist-packages (from torch>=1.4.0->trl) (2.2.0)\n",
            "Requirement already satisfied: nvidia-nvjitlink-cu12 in /usr/local/lib/python3.10/dist-packages (from nvidia-cusolver-cu12==11.4.5.107->torch>=1.4.0->trl) (12.4.127)\n",
            "Requirement already satisfied: huggingface-hub<1.0,>=0.19.3 in /usr/local/lib/python3.10/dist-packages (from transformers>=4.31.0->trl) (0.22.2)\n",
            "Requirement already satisfied: packaging>=20.0 in /usr/local/lib/python3.10/dist-packages (from transformers>=4.31.0->trl) (24.0)\n",
            "Requirement already satisfied: pyyaml>=5.1 in /usr/local/lib/python3.10/dist-packages (from transformers>=4.31.0->trl) (6.0.1)\n",
            "Requirement already satisfied: regex!=2019.12.17 in /usr/local/lib/python3.10/dist-packages (from transformers>=4.31.0->trl) (2023.12.25)\n",
            "Requirement already satisfied: requests in /usr/local/lib/python3.10/dist-packages (from transformers>=4.31.0->trl) (2.31.0)\n",
            "Requirement already satisfied: tokenizers<0.20,>=0.19 in /usr/local/lib/python3.10/dist-packages (from transformers>=4.31.0->trl) (0.19.1)\n",
            "Requirement already satisfied: safetensors>=0.4.1 in /usr/local/lib/python3.10/dist-packages (from transformers>=4.31.0->trl) (0.4.3)\n",
            "Requirement already satisfied: tqdm>=4.27 in /usr/local/lib/python3.10/dist-packages (from transformers>=4.31.0->trl) (4.66.2)\n",
            "Requirement already satisfied: docstring-parser>=0.14.1 in /usr/local/lib/python3.10/dist-packages (from tyro>=0.5.11->trl) (0.16)\n",
            "Requirement already satisfied: rich>=11.1.0 in /usr/local/lib/python3.10/dist-packages (from tyro>=0.5.11->trl) (13.7.1)\n",
            "Collecting shtab>=1.5.6 (from tyro>=0.5.11->trl)\n",
            "  Downloading shtab-1.7.1-py3-none-any.whl (14 kB)\n",
            "Requirement already satisfied: psutil in /usr/local/lib/python3.10/dist-packages (from accelerate->trl) (5.9.5)\n",
            "Requirement already satisfied: pyarrow>=12.0.0 in /usr/local/lib/python3.10/dist-packages (from datasets->trl) (14.0.2)\n",
            "Requirement already satisfied: pyarrow-hotfix in /usr/local/lib/python3.10/dist-packages (from datasets->trl) (0.6)\n",
            "Requirement already satisfied: dill<0.3.9,>=0.3.0 in /usr/local/lib/python3.10/dist-packages (from datasets->trl) (0.3.8)\n",
            "Requirement already satisfied: pandas in /usr/local/lib/python3.10/dist-packages (from datasets->trl) (2.0.3)\n",
            "Requirement already satisfied: xxhash in /usr/local/lib/python3.10/dist-packages (from datasets->trl) (3.4.1)\n",
            "Requirement already satisfied: multiprocess in /usr/local/lib/python3.10/dist-packages (from datasets->trl) (0.70.16)\n",
            "Requirement already satisfied: aiohttp in /usr/local/lib/python3.10/dist-packages (from datasets->trl) (3.9.5)\n",
            "Requirement already satisfied: aiosignal>=1.1.2 in /usr/local/lib/python3.10/dist-packages (from aiohttp->datasets->trl) (1.3.1)\n",
            "Requirement already satisfied: attrs>=17.3.0 in /usr/local/lib/python3.10/dist-packages (from aiohttp->datasets->trl) (23.2.0)\n",
            "Requirement already satisfied: frozenlist>=1.1.1 in /usr/local/lib/python3.10/dist-packages (from aiohttp->datasets->trl) (1.4.1)\n",
            "Requirement already satisfied: multidict<7.0,>=4.5 in /usr/local/lib/python3.10/dist-packages (from aiohttp->datasets->trl) (6.0.5)\n",
            "Requirement already satisfied: yarl<2.0,>=1.0 in /usr/local/lib/python3.10/dist-packages (from aiohttp->datasets->trl) (1.9.4)\n",
            "Requirement already satisfied: async-timeout<5.0,>=4.0 in /usr/local/lib/python3.10/dist-packages (from aiohttp->datasets->trl) (4.0.3)\n",
            "Requirement already satisfied: charset-normalizer<4,>=2 in /usr/local/lib/python3.10/dist-packages (from requests->transformers>=4.31.0->trl) (3.3.2)\n",
            "Requirement already satisfied: idna<4,>=2.5 in /usr/local/lib/python3.10/dist-packages (from requests->transformers>=4.31.0->trl) (3.7)\n",
            "Requirement already satisfied: urllib3<3,>=1.21.1 in /usr/local/lib/python3.10/dist-packages (from requests->transformers>=4.31.0->trl) (2.0.7)\n",
            "Requirement already satisfied: certifi>=2017.4.17 in /usr/local/lib/python3.10/dist-packages (from requests->transformers>=4.31.0->trl) (2024.2.2)\n",
            "Requirement already satisfied: markdown-it-py>=2.2.0 in /usr/local/lib/python3.10/dist-packages (from rich>=11.1.0->tyro>=0.5.11->trl) (3.0.0)\n",
            "Requirement already satisfied: pygments<3.0.0,>=2.13.0 in /usr/local/lib/python3.10/dist-packages (from rich>=11.1.0->tyro>=0.5.11->trl) (2.16.1)\n",
            "Requirement already satisfied: MarkupSafe>=2.0 in /usr/local/lib/python3.10/dist-packages (from jinja2->torch>=1.4.0->trl) (2.1.5)\n",
            "Requirement already satisfied: python-dateutil>=2.8.2 in /usr/local/lib/python3.10/dist-packages (from pandas->datasets->trl) (2.8.2)\n",
            "Requirement already satisfied: pytz>=2020.1 in /usr/local/lib/python3.10/dist-packages (from pandas->datasets->trl) (2023.4)\n",
            "Requirement already satisfied: tzdata>=2022.1 in /usr/local/lib/python3.10/dist-packages (from pandas->datasets->trl) (2024.1)\n",
            "Requirement already satisfied: mpmath>=0.19 in /usr/local/lib/python3.10/dist-packages (from sympy->torch>=1.4.0->trl) (1.3.0)\n",
            "Requirement already satisfied: mdurl~=0.1 in /usr/local/lib/python3.10/dist-packages (from markdown-it-py>=2.2.0->rich>=11.1.0->tyro>=0.5.11->trl) (0.1.2)\n",
            "Requirement already satisfied: six>=1.5 in /usr/local/lib/python3.10/dist-packages (from python-dateutil>=2.8.2->pandas->datasets->trl) (1.16.0)\n",
            "Installing collected packages: shtab, tyro, trl\n",
            "Successfully installed shtab-1.7.1 trl-0.8.6 tyro-0.8.3\n"
          ]
        }
      ],
      "source": [
        "!pip install trl"
      ]
    },
    {
      "cell_type": "code",
      "execution_count": null,
      "metadata": {
        "colab": {
          "base_uri": "https://localhost:8080/"
        },
        "id": "35aQWyoSjUo8",
        "outputId": "dae3092b-5b2c-4b13-8f49-e71bb17aa40d"
      },
      "outputs": [
        {
          "output_type": "stream",
          "name": "stdout",
          "text": [
            "Requirement already satisfied: huggingface_hub[cli] in /usr/local/lib/python3.10/dist-packages (0.22.2)\n",
            "Requirement already satisfied: filelock in /usr/local/lib/python3.10/dist-packages (from huggingface_hub[cli]) (3.13.4)\n",
            "Requirement already satisfied: fsspec>=2023.5.0 in /usr/local/lib/python3.10/dist-packages (from huggingface_hub[cli]) (2023.6.0)\n",
            "Requirement already satisfied: packaging>=20.9 in /usr/local/lib/python3.10/dist-packages (from huggingface_hub[cli]) (24.0)\n",
            "Requirement already satisfied: pyyaml>=5.1 in /usr/local/lib/python3.10/dist-packages (from huggingface_hub[cli]) (6.0.1)\n",
            "Requirement already satisfied: requests in /usr/local/lib/python3.10/dist-packages (from huggingface_hub[cli]) (2.31.0)\n",
            "Requirement already satisfied: tqdm>=4.42.1 in /usr/local/lib/python3.10/dist-packages (from huggingface_hub[cli]) (4.66.2)\n",
            "Requirement already satisfied: typing-extensions>=3.7.4.3 in /usr/local/lib/python3.10/dist-packages (from huggingface_hub[cli]) (4.11.0)\n",
            "Collecting InquirerPy==0.3.4 (from huggingface_hub[cli])\n",
            "  Downloading InquirerPy-0.3.4-py3-none-any.whl (67 kB)\n",
            "\u001b[2K     \u001b[90m━━━━━━━━━━━━━━━━━━━━━━━━━━━━━━━━━━━━━━━━\u001b[0m \u001b[32m67.7/67.7 kB\u001b[0m \u001b[31m3.0 MB/s\u001b[0m eta \u001b[36m0:00:00\u001b[0m\n",
            "\u001b[?25hCollecting pfzy<0.4.0,>=0.3.1 (from InquirerPy==0.3.4->huggingface_hub[cli])\n",
            "  Downloading pfzy-0.3.4-py3-none-any.whl (8.5 kB)\n",
            "Requirement already satisfied: prompt-toolkit<4.0.0,>=3.0.1 in /usr/local/lib/python3.10/dist-packages (from InquirerPy==0.3.4->huggingface_hub[cli]) (3.0.43)\n",
            "Requirement already satisfied: charset-normalizer<4,>=2 in /usr/local/lib/python3.10/dist-packages (from requests->huggingface_hub[cli]) (3.3.2)\n",
            "Requirement already satisfied: idna<4,>=2.5 in /usr/local/lib/python3.10/dist-packages (from requests->huggingface_hub[cli]) (3.7)\n",
            "Requirement already satisfied: urllib3<3,>=1.21.1 in /usr/local/lib/python3.10/dist-packages (from requests->huggingface_hub[cli]) (2.0.7)\n",
            "Requirement already satisfied: certifi>=2017.4.17 in /usr/local/lib/python3.10/dist-packages (from requests->huggingface_hub[cli]) (2024.2.2)\n",
            "Requirement already satisfied: wcwidth in /usr/local/lib/python3.10/dist-packages (from prompt-toolkit<4.0.0,>=3.0.1->InquirerPy==0.3.4->huggingface_hub[cli]) (0.2.13)\n",
            "Installing collected packages: pfzy, InquirerPy\n",
            "Successfully installed InquirerPy-0.3.4 pfzy-0.3.4\n"
          ]
        }
      ],
      "source": [
        "!pip install -U \"huggingface_hub[cli]\""
      ]
    },
    {
      "cell_type": "code",
      "execution_count": null,
      "metadata": {
        "colab": {
          "base_uri": "https://localhost:8080/"
        },
        "id": "D6XuUyEZjXk0",
        "outputId": "85e1b3ed-2ba5-4d3c-cdb4-16ea206b7149"
      },
      "outputs": [
        {
          "output_type": "stream",
          "name": "stdout",
          "text": [
            "\n",
            "    _|    _|  _|    _|    _|_|_|    _|_|_|  _|_|_|  _|      _|    _|_|_|      _|_|_|_|    _|_|      _|_|_|  _|_|_|_|\n",
            "    _|    _|  _|    _|  _|        _|          _|    _|_|    _|  _|            _|        _|    _|  _|        _|\n",
            "    _|_|_|_|  _|    _|  _|  _|_|  _|  _|_|    _|    _|  _|  _|  _|  _|_|      _|_|_|    _|_|_|_|  _|        _|_|_|\n",
            "    _|    _|  _|    _|  _|    _|  _|    _|    _|    _|    _|_|  _|    _|      _|        _|    _|  _|        _|\n",
            "    _|    _|    _|_|      _|_|_|    _|_|_|  _|_|_|  _|      _|    _|_|_|      _|        _|    _|    _|_|_|  _|_|_|_|\n",
            "\n",
            "    To login, `huggingface_hub` requires a token generated from https://huggingface.co/settings/tokens .\n",
            "Enter your token (input will not be visible): \n",
            "Add token as git credential? (Y/n) Y\n",
            "Token is valid (permission: write).\n",
            "\u001b[1m\u001b[31mCannot authenticate through git-credential as no helper is defined on your machine.\n",
            "You might have to re-authenticate when pushing to the Hugging Face Hub.\n",
            "Run the following command in your terminal in case you want to set the 'store' credential helper as default.\n",
            "\n",
            "git config --global credential.helper store\n",
            "\n",
            "Read https://git-scm.com/book/en/v2/Git-Tools-Credential-Storage for more details.\u001b[0m\n",
            "Token has not been saved to git credential helper.\n",
            "Your token has been saved to /root/.cache/huggingface/token\n",
            "Login successful\n"
          ]
        }
      ],
      "source": [
        "!huggingface-cli login\n"
      ]
    },
    {
      "cell_type": "code",
      "execution_count": null,
      "metadata": {
        "id": "47GYB1CUqGcT"
      },
      "outputs": [],
      "source": [
        "# import os\n",
        "# os.makedirs('/content/drive/MyDrive/ConceptualGapsProject/huggingFace/', exist_ok=True)\n",
        "# #"
      ]
    },
    {
      "cell_type": "code",
      "execution_count": null,
      "metadata": {
        "id": "ysC2NCzOBDt-"
      },
      "outputs": [],
      "source": [
        "# !rm -rf /content/drive/*\n"
      ]
    },
    {
      "cell_type": "code",
      "execution_count": null,
      "metadata": {
        "colab": {
          "base_uri": "https://localhost:8080/"
        },
        "id": "yYSuX0GMpKLC",
        "outputId": "1fa7a850-fd98-4247-9fee-af2afee18a0a"
      },
      "outputs": [
        {
          "output_type": "stream",
          "name": "stdout",
          "text": [
            "Mounted at /content/drive\n"
          ]
        }
      ],
      "source": [
        "from google.colab import drive\n",
        "drive.mount('/content/drive')"
      ]
    },
    {
      "cell_type": "code",
      "execution_count": null,
      "metadata": {
        "colab": {
          "base_uri": "https://localhost:8080/",
          "height": 148,
          "referenced_widgets": [
            "8315ebfd66f34eb8ab6a393f610f3a47",
            "56b57325de48478dace04979b849f6bf",
            "7426f2241ba349d8bca6e08ed4a35d1e",
            "fc72a32088ed42f186c337c43cd0185a",
            "d9c62c3cb0494835989b34d301d4b327",
            "6f2c58af081e4011b7295d0ed890fe94",
            "18800091dfb74987812e011be24a27f9",
            "8ce29e03caf9455db421f321f31b424b",
            "7904059c9d3847b2b894f62c955dd23f",
            "10ea496722ea46af9fb593999412c2c0",
            "159615e13c964f4e93be94c15408d477",
            "9f5e4f0f6bda41f3a9baf2442c1f3411",
            "4ff9b7a7e8ff426ab1d8945e13de2cc8",
            "209c4abef30a40c7a4b01be3234fd1a2",
            "683726ff882845fbb4defa85786782d7",
            "ab0e62072d874cce863a47fc0b79e9db",
            "ad574333cb694b4f939a219d6fb6dd21",
            "e3a3f1f690a549ad87b88cb4792cd0dd",
            "9a225ccf4f8c4552a5340a02c69c5a24",
            "2d2357fc438e4e3ebfdd3c1ea97c0b0c",
            "e106958822f140bc9e74c7938e3b523a",
            "e7a6e7df9c6144bf99cdfad413376fb7",
            "e2c5f54215734103ab72d5d46d974c0f",
            "98ab96b6229945f8b94339608194481e",
            "636ee5ab196942d099586ab4635a0468",
            "aa4f0d9ad28f49e799fc68a8fdc9256d",
            "dd2d87ea8c1a49b5a9709d18bb925a1f",
            "0636511047ae4b7a86a226e60dc46db6",
            "045fbec6db3746769613d0f680b225f4",
            "3fc2eaca2bad4c76a3405867cc0aa231",
            "428c2242e7db488aab5925fff354afe7",
            "01b1c9090b5c46d187cf682f49be571d",
            "a453e57b0a9644fcb88a88547ad0bf2b"
          ]
        },
        "id": "FuBPnS0AjqJq",
        "outputId": "74aca2aa-4e1f-4160-db65-0157ba16465e"
      },
      "outputs": [
        {
          "output_type": "stream",
          "name": "stdout",
          "text": [
            "Loading Dataset\n",
            "\n"
          ]
        },
        {
          "output_type": "display_data",
          "data": {
            "text/plain": [
              "Generating train split: 0 examples [00:00, ? examples/s]"
            ],
            "application/vnd.jupyter.widget-view+json": {
              "version_major": 2,
              "version_minor": 0,
              "model_id": "8315ebfd66f34eb8ab6a393f610f3a47"
            }
          },
          "metadata": {}
        },
        {
          "output_type": "display_data",
          "data": {
            "text/plain": [
              "Generating train split: 0 examples [00:00, ? examples/s]"
            ],
            "application/vnd.jupyter.widget-view+json": {
              "version_major": 2,
              "version_minor": 0,
              "model_id": "9f5e4f0f6bda41f3a9baf2442c1f3411"
            }
          },
          "metadata": {}
        },
        {
          "output_type": "display_data",
          "data": {
            "text/plain": [
              "Generating train split: 0 examples [00:00, ? examples/s]"
            ],
            "application/vnd.jupyter.widget-view+json": {
              "version_major": 2,
              "version_minor": 0,
              "model_id": "e2c5f54215734103ab72d5d46d974c0f"
            }
          },
          "metadata": {}
        }
      ],
      "source": [
        "# Dataset\n",
        "from datasets import load_dataset\n",
        "from trl import SFTTrainer\n",
        "\n",
        "print(\"Loading Dataset\\n\")\n",
        "\n",
        "# load train jsonl dataset\n",
        "train_dataset = load_dataset(\"json\", data_files=\"/content/drive/MyDrive/ConceptualGapsProject/redditDataset/sftDataset/train.jsonl\", split=\"train\")\n",
        "# load valid jsonl dataset\n",
        "valid_dataset = load_dataset(\"json\", data_files=\"/content/drive/MyDrive/ConceptualGapsProject/redditDataset/sftDataset/valid.jsonl\", split=\"train\")\n",
        "# load test jsonl dataset\n",
        "test_dataset = load_dataset(\"json\", data_files=\"/content/drive/MyDrive/ConceptualGapsProject/redditDataset/sftDataset/test.jsonl\", split=\"train\")\n",
        "\n",
        "def formatting_prompts_func_2(example):\n",
        "  bos_token = \"<s>\"\n",
        "  eos_token = \"</s>\"\n",
        "\n",
        "  full_prompt = \"\"\n",
        "  full_prompt += bos_token\n",
        "  full_prompt += \"### Instruction:\"\n",
        "  full_prompt += \"\\n\" + \"Summarize the given reddit post\"\n",
        "  full_prompt += \"\\n\\n### Input:\"\n",
        "  full_prompt += \"\\n\" + f\"SUBREDDIT: r/{example['subreddit']}\\nTITLE: {example['title']}\\nPOST: {example['post']}\"\n",
        "  full_prompt += \"\\n\\n### Response:\"\n",
        "  # full_prompt += \"\\n\" + f\"Summary: {example['summary']}\"\n",
        "  # full_prompt += eos_token\n",
        "\n",
        "  return full_prompt\n",
        "\n",
        "def formatting_prompts_func_3(example):\n",
        "    bos_token = \"<s>\"\n",
        "    eos_token = \"</s>\"\n",
        "    text = \"\"\n",
        "    text += bos_token\n",
        "    text += f\"SUBREDDIT: r/{example['subreddit']}\\nTITLE: {example['title']}\\nPOST: {example['post']}\\nTL;DR:\" # {example['summary']}\"\n",
        "    # text += eos_token\n",
        "    return text"
      ]
    },
    {
      "cell_type": "code",
      "execution_count": null,
      "metadata": {
        "id": "JVZpNV1_jcky"
      },
      "outputs": [],
      "source": [
        "# !huggingface-cli download mistralai/Mistral-7B-v0.1 --local-dir /content/drive/MyDrive/ConceptualGapsProject/huggingFace/ --cache-dir /content/drive/MyDrive/ConceptualGapsProject/huggingFace/cache/"
      ]
    },
    {
      "cell_type": "code",
      "execution_count": null,
      "metadata": {
        "colab": {
          "base_uri": "https://localhost:8080/",
          "height": 84,
          "referenced_widgets": [
            "c829fa0fda6c4c6d8c7d79b48ce768f7",
            "49700ba668294dc1a726dbb164a0e726",
            "02fdeed82788408c97ea0feedd8d7515",
            "56247df187744518b96eac1b6474f887",
            "5128afbcd86d44c3bd797dca6c301d6b",
            "139b095a4a844eaaad1aa4078bdc6d18",
            "01a4804e784743d1910967c38085d94e",
            "88f73ec2bdbb425baecfb4dc89035fe1",
            "8960efb58e1748509de7a12cb928f895",
            "27beaa2d6dd547efaa5b53851fffe79b",
            "39227966376e453e92540a5c595b7c67"
          ]
        },
        "id": "yPUslAPpj_Gn",
        "outputId": "9302938f-4ae2-4cd5-c232-505e9b8ac093"
      },
      "outputs": [
        {
          "output_type": "stream",
          "name": "stdout",
          "text": [
            "Loading Model\n",
            "\n"
          ]
        },
        {
          "output_type": "display_data",
          "data": {
            "text/plain": [
              "Loading checkpoint shards:   0%|          | 0/2 [00:00<?, ?it/s]"
            ],
            "application/vnd.jupyter.widget-view+json": {
              "version_major": 2,
              "version_minor": 0,
              "model_id": "c829fa0fda6c4c6d8c7d79b48ce768f7"
            }
          },
          "metadata": {}
        }
      ],
      "source": [
        "# Model\n",
        "\n",
        "print(\"Loading Model\\n\")\n",
        "\n",
        "from transformers import AutoModelForCausalLM, AutoTokenizer, BitsAndBytesConfig\n",
        "import torch\n",
        "\n",
        "nf4_config = BitsAndBytesConfig(\n",
        "   load_in_4bit=True,\n",
        "   bnb_4bit_quant_type=\"nf4\",\n",
        "   bnb_4bit_use_double_quant=True,\n",
        "   bnb_4bit_compute_dtype=torch.bfloat16\n",
        ")\n",
        "\n",
        "model = AutoModelForCausalLM.from_pretrained(\n",
        "    \"/content/drive/MyDrive/ConceptualGapsProject/huggingFace\",\n",
        "    device_map='auto',\n",
        "    quantization_config=nf4_config,\n",
        "    # use_cache=False,\n",
        "    trust_remote_code=True,\n",
        ")"
      ]
    },
    {
      "cell_type": "code",
      "execution_count": null,
      "metadata": {
        "colab": {
          "base_uri": "https://localhost:8080/"
        },
        "id": "lTYvjrtRGO9h",
        "outputId": "3f1bf529-074d-4f8c-8af2-cb6888a18f57"
      },
      "outputs": [
        {
          "output_type": "stream",
          "name": "stdout",
          "text": [
            "Loading Tokenizer\n",
            "\n"
          ]
        }
      ],
      "source": [
        "# Tokenizer\n",
        "print(\"Loading Tokenizer\\n\")\n",
        "\n",
        "from transformers import AutoTokenizer\n",
        "\n",
        "tokenizer = AutoTokenizer.from_pretrained(\"/content/drive/MyDrive/ConceptualGapsProject/huggingFace\", trust_remote_code=True,)\n",
        "\n",
        "tokenizer.pad_token = tokenizer.eos_token\n",
        "tokenizer.padding_side = \"left\""
      ]
    },
    {
      "cell_type": "code",
      "source": [
        "import json\n"
      ],
      "metadata": {
        "id": "fKdu9TmLcuzQ"
      },
      "execution_count": null,
      "outputs": []
    },
    {
      "cell_type": "code",
      "execution_count": null,
      "metadata": {
        "colab": {
          "base_uri": "https://localhost:8080/"
        },
        "id": "QMbAGHEukNoJ",
        "outputId": "389b4b06-811d-4369-b858-de1977733885"
      },
      "outputs": [
        {
          "output_type": "stream",
          "name": "stderr",
          "text": [
            "Setting `pad_token_id` to `eos_token_id`:2 for open-end generation.\n"
          ]
        },
        {
          "output_type": "stream",
          "name": "stdout",
          "text": [
            "\n",
            "###############\n",
            "\n",
            "sft_output_3 :  SUBREDDIT: r/relationships\n",
            "TITLE: Me [19 F] with my friend [19 M], not sure if I may have messed things up already.\n",
            "POST: Hello hello everybody. I hope this isn't too trivial of a question to ask on here, but I've been feeling a bit out of my depth when it comes to this situation (I've had only one relationship before, and for many reasons, it was out of the ordinary).\n",
            "\n",
            "Okay! So, a couple of weeks ago, I started talking to this guy on Facebook, through a student group that we were both part of. I thought he was sort of cute, so I sent him a PM just to talk, etc, etc. We're both transfer students at the same school, so I knew that we could eventually meet in person once we both moved on-campus. So, we did, and we hung out maybe twice, just as friends.\n",
            "\n",
            "Okay. So, everything is going pretty well. We talk over Facebook and Snapchat, whatever. So, Saturday night, I was just hanging out with people and kind of being bored, when I got a Snapchat from him asking what I was doing. I asked if he wanted to hang out, so we did. \n",
            "\n",
            "We ended up smoking pot (the first time for me, ever), and sort of just wandering around. Eventually we ended up back at his dorm room, where high me decided to just go for it, and I came on to him pretty strongly. It worked out for me (luckily, otherwise things would have been really super awkward), and we ended up messing around but not having sex.\n",
            "\n",
            "Yesterday, however, I ended up going to hang out with him again, and this time we did sleep together. Afterward, we kind of discussed what we were going to do, and he just said that he wanted to \"play it by ear\" and not slap any labels on anything. I'm wondering if this means that he wants a fwb-type situation, or if he might actually be interested in me. The way I've been acting is extremely out of character for me, and I am not interested in having a fuck buddy. I like him, and I would be very interested in maybe seeing where things go, but I'm worried that I may have ruined my chances of a relationship by sleeping with him already.\n",
            "TL;DR: I slept with a guy after knowing him for less than two weeks, and now I don't know whether or not I should continue pursuing something more serious with him.\n"
          ]
        }
      ],
      "source": [
        "# Loading PEFT Model\n",
        "\n",
        "from peft import PeftModel\n",
        "\n",
        "# sft_model_1 = PeftModel.from_pretrained(model, \"/scratch/ax2119/conceptualGapsProj/sftCheckpoints/MistralFinetuningRedditSumm/checkpoint-4500/\")\n",
        "\n",
        "# sft_model_2 = PeftModel.from_pretrained(model, \"/content/drive/MyDrive/ConceptualGapsProject/SFT_Model_2/checkpoint-10000/\")\n",
        "\n",
        "sft_model_3 = PeftModel.from_pretrained(model, \"/content/drive/MyDrive/ConceptualGapsProject/SFT_Model_3/checkpoint-10000/\")\n",
        "\n",
        "# Trying out queries\n",
        "\n",
        "def respond(query):\n",
        "    # eval_prompt_2 = formatting_prompts_func_2(query)\n",
        "    eval_prompt_3 = formatting_prompts_func_3(query)\n",
        "\n",
        "    # model_input_2 = tokenizer(eval_prompt_2, return_tensors=\"pt\").to(\"cuda\")\n",
        "    model_input_3 = tokenizer(eval_prompt_3, return_tensors=\"pt\").to(\"cuda\")\n",
        "\n",
        "    # output_2 = tokenizer.decode(sft_model_2.generate(**model_input_2, max_new_tokens=256, repetition_penalty=1.15)[0], skip_special_tokens=True)\n",
        "    # output_2 = output_2.replace(eval_prompt_2, \"\")\n",
        "\n",
        "    output_3 = tokenizer.decode(sft_model_3.generate(**model_input_3, max_new_tokens=256, repetition_penalty=1.15)[0], skip_special_tokens=True)\n",
        "    output_3 = output_3.replace(eval_prompt_3, \"\")\n",
        "\n",
        "    return output_3\n",
        "\n",
        "for i in range(1):\n",
        "    sft_output_3 = respond(test_dataset[i])\n",
        "    print(\"\\n###############\")\n",
        "    # print(\"sft_output_2 : \", sft_output_2)\n",
        "    print(\"\\nsft_output_3 : \", sft_output_3)"
      ]
    },
    {
      "cell_type": "code",
      "source": [
        "import json\n",
        "\n",
        "# Assume necessary imports and models setup like tokenizer and sft_model_3\n",
        "\n",
        "def respond(query, num_responses=4):\n",
        "    ans = []\n",
        "    eval_prompt_3 = formatting_prompts_func_3(query)\n",
        "    model_input_3 = tokenizer(eval_prompt_3, return_tensors=\"pt\").to(\"cuda\")\n",
        "    for _ in range(num_responses):\n",
        "        output = []\n",
        "        output_3 = tokenizer.decode(sft_model_3.generate(**model_input_3, max_new_tokens=256, repetition_penalty=1.15, do_sample=True)[0], skip_special_tokens=True)\n",
        "        output_3 = output_3.replace(eval_prompt_3, \"\")\n",
        "        # print(\"*****************\",output_3)\n",
        "        output.append(output_3)\n",
        "        ans.append(output)\n",
        "\n",
        "    return ans\n",
        "\n",
        "# List to store outputs for each input\n",
        "outputs_per_input = []\n",
        "unique = set()\n",
        "\n",
        "for i in range(100):  # Assuming there are 10 inputs in test_dataset\n",
        "    query = test_dataset[i]  # Assuming test_dataset is accessible and contains queries\n",
        "\n",
        "    responses = respond(query)\n",
        "    outputs_per_input.append(responses)\n",
        "    print(f\"\\nOutputs for input {i}: \", responses)\n",
        "\n",
        "# Write results to a JSON file\n",
        "with open('outputs_per_input.json', 'w') as f:\n",
        "    json.dump(outputs_per_input, f, indent=4)\n"
      ],
      "metadata": {
        "colab": {
          "base_uri": "https://localhost:8080/"
        },
        "id": "mK_u1QdUoRJI",
        "outputId": "cf9374f5-68e2-4d6e-a170-dd2a2d0354f5"
      },
      "execution_count": null,
      "outputs": [
        {
          "metadata": {
            "tags": null
          },
          "name": "stderr",
          "output_type": "stream",
          "text": [
            "Setting `pad_token_id` to `eos_token_id`:2 for open-end generation.\n",
            "Setting `pad_token_id` to `eos_token_id`:2 for open-end generation.\n",
            "Setting `pad_token_id` to `eos_token_id`:2 for open-end generation.\n",
            "Setting `pad_token_id` to `eos_token_id`:2 for open-end generation.\n",
            "Setting `pad_token_id` to `eos_token_id`:2 for open-end generation.\n"
          ]
        },
        {
          "metadata": {
            "tags": null
          },
          "name": "stdout",
          "output_type": "stream",
          "text": [
            "\n",
            "Outputs for input 0:  [['SUBREDDIT: r/relationships\\nTITLE: Me [19 F] with my friend [19 M], not sure if I may have messed things up already.\\nPOST: Hello hello everybody. I hope this isn\\'t too trivial of a question to ask on here, but I\\'ve been feeling a bit out of my depth when it comes to this situation (I\\'ve had only one relationship before, and for many reasons, it was out of the ordinary).\\n\\nOkay! So, a couple of weeks ago, I started talking to this guy on Facebook, through a student group that we were both part of. I thought he was sort of cute, so I sent him a PM just to talk, etc, etc. We\\'re both transfer students at the same school, so I knew that we could eventually meet in person once we both moved on-campus. So, we did, and we hung out maybe twice, just as friends.\\n\\nOkay. So, everything is going pretty well. We talk over Facebook and Snapchat, whatever. So, Saturday night, I was just hanging out with people and kind of being bored, when I got a Snapchat from him asking what I was doing. I asked if he wanted to hang out, so we did. \\n\\nWe ended up smoking pot (the first time for me, ever), and sort of just wandering around. Eventually we ended up back at his dorm room, where high me decided to just go for it, and I came on to him pretty strongly. It worked out for me (luckily, otherwise things would have been really super awkward), and we ended up messing around but not having sex.\\n\\nYesterday, however, I ended up going to hang out with him again, and this time we did sleep together. Afterward, we kind of discussed what we were going to do, and he just said that he wanted to \"play it by ear\" and not slap any labels on anything. I\\'m wondering if this means that he wants a fwb-type situation, or if he might actually be interested in me. The way I\\'ve been acting is extremely out of character for me, and I am not interested in having a fuck buddy. I like him, and I would be very interested in maybe seeing where things go, but I\\'m worried that I may have ruined my chances of a relationship by sleeping with him already.\\nTL;DR: Slept with friend after meeting only last weekend--does this ruin possibilities of more? Should I wait awhile before telling him how I feel? Help?'], ['SUBREDDIT: r/relationships\\nTITLE: Me [19 F] with my friend [19 M], not sure if I may have messed things up already.\\nPOST: Hello hello everybody. I hope this isn\\'t too trivial of a question to ask on here, but I\\'ve been feeling a bit out of my depth when it comes to this situation (I\\'ve had only one relationship before, and for many reasons, it was out of the ordinary).\\n\\nOkay! So, a couple of weeks ago, I started talking to this guy on Facebook, through a student group that we were both part of. I thought he was sort of cute, so I sent him a PM just to talk, etc, etc. We\\'re both transfer students at the same school, so I knew that we could eventually meet in person once we both moved on-campus. So, we did, and we hung out maybe twice, just as friends.\\n\\nOkay. So, everything is going pretty well. We talk over Facebook and Snapchat, whatever. So, Saturday night, I was just hanging out with people and kind of being bored, when I got a Snapchat from him asking what I was doing. I asked if he wanted to hang out, so we did. \\n\\nWe ended up smoking pot (the first time for me, ever), and sort of just wandering around. Eventually we ended up back at his dorm room, where high me decided to just go for it, and I came on to him pretty strongly. It worked out for me (luckily, otherwise things would have been really super awkward), and we ended up messing around but not having sex.\\n\\nYesterday, however, I ended up going to hang out with him again, and this time we did sleep together. Afterward, we kind of discussed what we were going to do, and he just said that he wanted to \"play it by ear\" and not slap any labels on anything. I\\'m wondering if this means that he wants a fwb-type situation, or if he might actually be interested in me. The way I\\'ve been acting is extremely out of character for me, and I am not interested in having a fuck buddy. I like him, and I would be very interested in maybe seeing where things go, but I\\'m worried that I may have ruined my chances of a relationship by sleeping with him already.\\nTL;DR: hooked up with fwb for the night and wonder now how to read signs whether he would actually want more than that'], ['SUBREDDIT: r/relationships\\nTITLE: Me [19 F] with my friend [19 M], not sure if I may have messed things up already.\\nPOST: Hello hello everybody. I hope this isn\\'t too trivial of a question to ask on here, but I\\'ve been feeling a bit out of my depth when it comes to this situation (I\\'ve had only one relationship before, and for many reasons, it was out of the ordinary).\\n\\nOkay! So, a couple of weeks ago, I started talking to this guy on Facebook, through a student group that we were both part of. I thought he was sort of cute, so I sent him a PM just to talk, etc, etc. We\\'re both transfer students at the same school, so I knew that we could eventually meet in person once we both moved on-campus. So, we did, and we hung out maybe twice, just as friends.\\n\\nOkay. So, everything is going pretty well. We talk over Facebook and Snapchat, whatever. So, Saturday night, I was just hanging out with people and kind of being bored, when I got a Snapchat from him asking what I was doing. I asked if he wanted to hang out, so we did. \\n\\nWe ended up smoking pot (the first time for me, ever), and sort of just wandering around. Eventually we ended up back at his dorm room, where high me decided to just go for it, and I came on to him pretty strongly. It worked out for me (luckily, otherwise things would have been really super awkward), and we ended up messing around but not having sex.\\n\\nYesterday, however, I ended up going to hang out with him again, and this time we did sleep together. Afterward, we kind of discussed what we were going to do, and he just said that he wanted to \"play it by ear\" and not slap any labels on anything. I\\'m wondering if this means that he wants a fwb-type situation, or if he might actually be interested in me. The way I\\'ve been acting is extremely out of character for me, and I am not interested in having a fuck buddy. I like him, and I would be very interested in maybe seeing where things go, but I\\'m worried that I may have ruined my chances of a relationship by sleeping with him already.\\nTL;DR: Slept with \\'boyfriend\\'. He says there are no labels, but also seems okay about just chilling. How do I get clarification? Or, even better, advice :)'], ['SUBREDDIT: r/relationships\\nTITLE: Me [19 F] with my friend [19 M], not sure if I may have messed things up already.\\nPOST: Hello hello everybody. I hope this isn\\'t too trivial of a question to ask on here, but I\\'ve been feeling a bit out of my depth when it comes to this situation (I\\'ve had only one relationship before, and for many reasons, it was out of the ordinary).\\n\\nOkay! So, a couple of weeks ago, I started talking to this guy on Facebook, through a student group that we were both part of. I thought he was sort of cute, so I sent him a PM just to talk, etc, etc. We\\'re both transfer students at the same school, so I knew that we could eventually meet in person once we both moved on-campus. So, we did, and we hung out maybe twice, just as friends.\\n\\nOkay. So, everything is going pretty well. We talk over Facebook and Snapchat, whatever. So, Saturday night, I was just hanging out with people and kind of being bored, when I got a Snapchat from him asking what I was doing. I asked if he wanted to hang out, so we did. \\n\\nWe ended up smoking pot (the first time for me, ever), and sort of just wandering around. Eventually we ended up back at his dorm room, where high me decided to just go for it, and I came on to him pretty strongly. It worked out for me (luckily, otherwise things would have been really super awkward), and we ended up messing around but not having sex.\\n\\nYesterday, however, I ended up going to hang out with him again, and this time we did sleep together. Afterward, we kind of discussed what we were going to do, and he just said that he wanted to \"play it by ear\" and not slap any labels on anything. I\\'m wondering if this means that he wants a fwb-type situation, or if he might actually be interested in me. The way I\\'ve been acting is extremely out of character for me, and I am not interested in having a fuck buddy. I like him, and I would be very interested in maybe seeing where things go, but I\\'m worried that I may have ruined my chances of a relationship by sleeping with him already.\\nTL;DR: Hooked up w/ guy friend and don\\'t know how to continue without fucking things up. Is he worth waiting around for me?']]\n"
          ]
        },
        {
          "metadata": {
            "tags": null
          },
          "name": "stderr",
          "output_type": "stream",
          "text": [
            "Setting `pad_token_id` to `eos_token_id`:2 for open-end generation.\n",
            "Setting `pad_token_id` to `eos_token_id`:2 for open-end generation.\n",
            "Setting `pad_token_id` to `eos_token_id`:2 for open-end generation.\n",
            "Setting `pad_token_id` to `eos_token_id`:2 for open-end generation.\n"
          ]
        },
        {
          "metadata": {
            "tags": null
          },
          "name": "stdout",
          "output_type": "stream",
          "text": [
            "\n",
            "Outputs for input 1:  [[\"SUBREDDIT: r/Parenting\\nTITLE: My 11 year old sons friend died suddenly, his funeral is today and my son suddenly doesn't want to attend.\\nPOST: **repost from relationships**\\n\\nA couple of weeks ago my sons friend died in a freak accident, it was completely shocking and horrific. He isn't aware of the details, but we broke the news to him as soon as we found out and have spoke about it many times with him.\\n\\nHe has cried about it, asked questions and spoken about it with his older siblings (who have also recently lost a friend) and seemed to be okay with it (considering the circumstances).\\n\\nLeading up to the funeral, we have talked about it and explained what he is to expect, etc. This is his first funeral, so we have made sure that he is aware of everything.\\n\\nBut today is the day, and he has broken down in the morning and says he doesn't want to go. I have no idea what to do. Do I push him to go? I am worried that he will regret it later, as he is a kid who doesn't like to do new things. But at the same time, I don't want to pressure him to do something he doesn't want to do.\\nAdvice, please?\\nTL;DR: Son's first funeral for a close school friend, suddenly changed his mind this morning that he doesn't want to go, how can i get him to feel it's ok if he feels he can't take it all in now?\"], [\"SUBREDDIT: r/Parenting\\nTITLE: My 11 year old sons friend died suddenly, his funeral is today and my son suddenly doesn't want to attend.\\nPOST: **repost from relationships**\\n\\nA couple of weeks ago my sons friend died in a freak accident, it was completely shocking and horrific. He isn't aware of the details, but we broke the news to him as soon as we found out and have spoke about it many times with him.\\n\\nHe has cried about it, asked questions and spoken about it with his older siblings (who have also recently lost a friend) and seemed to be okay with it (considering the circumstances).\\n\\nLeading up to the funeral, we have talked about it and explained what he is to expect, etc. This is his first funeral, so we have made sure that he is aware of everything.\\n\\nBut today is the day, and he has broken down in the morning and says he doesn't want to go. I have no idea what to do. Do I push him to go? I am worried that he will regret it later, as he is a kid who doesn't like to do new things. But at the same time, I don't want to pressure him to do something he doesn't want to do.\\nAdvice, please?\\nTL;DR: our friends son died unexpectedly two weeks ago, today is the kids first funeral and my SOs youngest doesn't want to go and now my SO wants me too stand my ground while she supports him through this.\"], [\"SUBREDDIT: r/Parenting\\nTITLE: My 11 year old sons friend died suddenly, his funeral is today and my son suddenly doesn't want to attend.\\nPOST: **repost from relationships**\\n\\nA couple of weeks ago my sons friend died in a freak accident, it was completely shocking and horrific. He isn't aware of the details, but we broke the news to him as soon as we found out and have spoke about it many times with him.\\n\\nHe has cried about it, asked questions and spoken about it with his older siblings (who have also recently lost a friend) and seemed to be okay with it (considering the circumstances).\\n\\nLeading up to the funeral, we have talked about it and explained what he is to expect, etc. This is his first funeral, so we have made sure that he is aware of everything.\\n\\nBut today is the day, and he has broken down in the morning and says he doesn't want to go. I have no idea what to do. Do I push him to go? I am worried that he will regret it later, as he is a kid who doesn't like to do new things. But at the same time, I don't want to pressure him to do something he doesn't want to do.\\nAdvice, please?\\nTL;DR: Son didn't want to attend funeral of dead friends. How can i help him through this without putting too much pressure on him?\"], [\"SUBREDDIT: r/Parenting\\nTITLE: My 11 year old sons friend died suddenly, his funeral is today and my son suddenly doesn't want to attend.\\nPOST: **repost from relationships**\\n\\nA couple of weeks ago my sons friend died in a freak accident, it was completely shocking and horrific. He isn't aware of the details, but we broke the news to him as soon as we found out and have spoke about it many times with him.\\n\\nHe has cried about it, asked questions and spoken about it with his older siblings (who have also recently lost a friend) and seemed to be okay with it (considering the circumstances).\\n\\nLeading up to the funeral, we have talked about it and explained what he is to expect, etc. This is his first funeral, so we have made sure that he is aware of everything.\\n\\nBut today is the day, and he has broken down in the morning and says he doesn't want to go. I have no idea what to do. Do I push him to go? I am worried that he will regret it later, as he is a kid who doesn't like to do new things. But at the same time, I don't want to pressure him to do something he doesn't want to do.\\nAdvice, please?\\nTL;DR: A good friends child died in a tragedy weeks ago, they are finally having the funeral this week, now my son doesn't want to go? What do I do?\"]]\n"
          ]
        },
        {
          "metadata": {
            "tags": null
          },
          "name": "stderr",
          "output_type": "stream",
          "text": [
            "Setting `pad_token_id` to `eos_token_id`:2 for open-end generation.\n",
            "Setting `pad_token_id` to `eos_token_id`:2 for open-end generation.\n",
            "Setting `pad_token_id` to `eos_token_id`:2 for open-end generation.\n",
            "Setting `pad_token_id` to `eos_token_id`:2 for open-end generation.\n"
          ]
        },
        {
          "metadata": {
            "tags": null
          },
          "name": "stdout",
          "output_type": "stream",
          "text": [
            "\n",
            "Outputs for input 2:  [[\"SUBREDDIT: r/relationships\\nTITLE: The girl [26 F] I [22 M] have been seeing for a month didn't respond to me at all yesterday while hanging out with a friend [~30? M].\\nPOST: She gets terrible service while at her house, but I texted her 3 times yesterday, 4-5 hours apart. She didn't call me until early this morning and left a voicemail that she was busy all day with a friend who showed up out of the blue.\\n\\nI saw that she posted a picture of the two of them out of her dead zone house on facebook before I texted her the last time.\\n\\nI don't mind that she hangs out with friends, and I know it's pretty early in the relationship, but am I wrong to be a little annoyed that she didn't respond until 24 hours after my first text?\\nTL;DR: Saw picture online before getting response to a text, and then didn't hear from her till 24 hrs later. Is it wrong for me to get upset about not having heard from her for so long when we agreed she wouldn't make plans for when we see each other?\"], [\"SUBREDDIT: r/relationships\\nTITLE: The girl [26 F] I [22 M] have been seeing for a month didn't respond to me at all yesterday while hanging out with a friend [~30? M].\\nPOST: She gets terrible service while at her house, but I texted her 3 times yesterday, 4-5 hours apart. She didn't call me until early this morning and left a voicemail that she was busy all day with a friend who showed up out of the blue.\\n\\nI saw that she posted a picture of the two of them out of her dead zone house on facebook before I texted her the last time.\\n\\nI don't mind that she hangs out with friends, and I know it's pretty early in the relationship, but am I wrong to be a little annoyed that she didn't respond until 24 hours after my first text?\\nTL;DR: Girlfriend doesn't answer texts from a distance, has been hanging out with a boy I know nothing about all day, leaving me wondering.\"], ['SUBREDDIT: r/relationships\\nTITLE: The girl [26 F] I [22 M] have been seeing for a month didn\\'t respond to me at all yesterday while hanging out with a friend [~30? M].\\nPOST: She gets terrible service while at her house, but I texted her 3 times yesterday, 4-5 hours apart. She didn\\'t call me until early this morning and left a voicemail that she was busy all day with a friend who showed up out of the blue.\\n\\nI saw that she posted a picture of the two of them out of her dead zone house on facebook before I texted her the last time.\\n\\nI don\\'t mind that she hangs out with friends, and I know it\\'s pretty early in the relationship, but am I wrong to be a little annoyed that she didn\\'t respond until 24 hours after my first text?\\nTL;DR: Girl I see doesn\\'t seem very interested and hasn\\'t really had plans recently because she is \"really busy\". Am I being impatient, or should I just move on if interest isn\\'t there?'], [\"SUBREDDIT: r/relationships\\nTITLE: The girl [26 F] I [22 M] have been seeing for a month didn't respond to me at all yesterday while hanging out with a friend [~30? M].\\nPOST: She gets terrible service while at her house, but I texted her 3 times yesterday, 4-5 hours apart. She didn't call me until early this morning and left a voicemail that she was busy all day with a friend who showed up out of the blue.\\n\\nI saw that she posted a picture of the two of them out of her dead zone house on facebook before I texted her the last time.\\n\\nI don't mind that she hangs out with friends, and I know it's pretty early in the relationship, but am I wrong to be a little annoyed that she didn't respond until 24 hours after my first text?\\nTL;DR: Didn't hear from the girl I been dating in over 18 consecutive hours after sending three separate texts while she hung our with another guy. Am I rightfully upset about being ghosted like that?\"]]\n"
          ]
        },
        {
          "metadata": {
            "tags": null
          },
          "name": "stderr",
          "output_type": "stream",
          "text": [
            "Setting `pad_token_id` to `eos_token_id`:2 for open-end generation.\n",
            "Setting `pad_token_id` to `eos_token_id`:2 for open-end generation.\n",
            "Setting `pad_token_id` to `eos_token_id`:2 for open-end generation.\n",
            "Setting `pad_token_id` to `eos_token_id`:2 for open-end generation.\n"
          ]
        },
        {
          "metadata": {
            "tags": null
          },
          "name": "stdout",
          "output_type": "stream",
          "text": [
            "\n",
            "Outputs for input 3:  [['SUBREDDIT: r/tifu\\nTITLE: TIFU by accidently kicking an old woman\\nPOST: So this didn\\'t happen today but actually about a year or two ago.\\n\\nI was at my granddads funeral so of course it was all very sad and full of lots of crying old people. After the ceremony everyone walks outside the building and onto the other side of the small road the hearses drive down. Now the road is important because obviously if there\\'s a road, there\\'s a curb onto the sidewalk, so most of us are on the other side of the road, besides a few older people walking a lot slower. \\n\\nAs one of the old woman goes to walk up the curb she trips (obviously didn\\'t notice there was one due to crying and whatnot) and I\\'m the only one who not only sees it coming but is in any position to do anything. So of course as someone who is an avid football (soccer if you\\'re American) player my first instinct is to stick my foot out and kind of control her head like you would with a football.\\n\\nOf course you can imagine this looked horrendously bad on my part (quite literally kicking an old woman while she\\'s down) and as she got up everyone noticed that her nose was completely grey/black as if she\\'d just been punched in the face. She assures us she\\'s fine and we go to the dinner afterwards where someone finally informs her of her bruising. She goes to the toilet and comes out with a completely normal looking nose so of course everyone\\'s wondering how and it turns out that the \"bruising\" was actually shoe polish from my shoe, confirming to everyone that i kicked this poor old lady square in the face as she fell.\\nTL;DR: At A funeral i kick an old german lady as she falls and everyone assumes i gave her a black eye when in actuality it was shoe polish'], ['SUBREDDIT: r/tifu\\nTITLE: TIFU by accidently kicking an old woman\\nPOST: So this didn\\'t happen today but actually about a year or two ago.\\n\\nI was at my granddads funeral so of course it was all very sad and full of lots of crying old people. After the ceremony everyone walks outside the building and onto the other side of the small road the hearses drive down. Now the road is important because obviously if there\\'s a road, there\\'s a curb onto the sidewalk, so most of us are on the other side of the road, besides a few older people walking a lot slower. \\n\\nAs one of the old woman goes to walk up the curb she trips (obviously didn\\'t notice there was one due to crying and whatnot) and I\\'m the only one who not only sees it coming but is in any position to do anything. So of course as someone who is an avid football (soccer if you\\'re American) player my first instinct is to stick my foot out and kind of control her head like you would with a football.\\n\\nOf course you can imagine this looked horrendously bad on my part (quite literally kicking an old woman while she\\'s down) and as she got up everyone noticed that her nose was completely grey/black as if she\\'d just been punched in the face. She assures us she\\'s fine and we go to the dinner afterwards where someone finally informs her of her bruising. She goes to the toilet and comes out with a completely normal looking nose so of course everyone\\'s wondering how and it turns out that the \"bruising\" was actually shoe polish from my shoe, confirming to everyone that i kicked this poor old lady square in the face as she fell.\\nTL;DR: Funeral for granddad happens. An old lady falls over as i run past to kick her off balance, ending up knocking a little bit of shoe polish into the wound and making it look like i gave her a black eye'], ['SUBREDDIT: r/tifu\\nTITLE: TIFU by accidently kicking an old woman\\nPOST: So this didn\\'t happen today but actually about a year or two ago.\\n\\nI was at my granddads funeral so of course it was all very sad and full of lots of crying old people. After the ceremony everyone walks outside the building and onto the other side of the small road the hearses drive down. Now the road is important because obviously if there\\'s a road, there\\'s a curb onto the sidewalk, so most of us are on the other side of the road, besides a few older people walking a lot slower. \\n\\nAs one of the old woman goes to walk up the curb she trips (obviously didn\\'t notice there was one due to crying and whatnot) and I\\'m the only one who not only sees it coming but is in any position to do anything. So of course as someone who is an avid football (soccer if you\\'re American) player my first instinct is to stick my foot out and kind of control her head like you would with a football.\\n\\nOf course you can imagine this looked horrendously bad on my part (quite literally kicking an old woman while she\\'s down) and as she got up everyone noticed that her nose was completely grey/black as if she\\'d just been punched in the face. She assures us she\\'s fine and we go to the dinner afterwards where someone finally informs her of her bruising. She goes to the toilet and comes out with a completely normal looking nose so of course everyone\\'s wondering how and it turns out that the \"bruising\" was actually shoe polish from my shoe, confirming to everyone that i kicked this poor old lady square in the face as she fell.\\nTL;DR: Kicked a old woman after she\\'s fallen, thinking I help her not hurt her even worse. Everyone though otherwise for years.'], ['SUBREDDIT: r/tifu\\nTITLE: TIFU by accidently kicking an old woman\\nPOST: So this didn\\'t happen today but actually about a year or two ago.\\n\\nI was at my granddads funeral so of course it was all very sad and full of lots of crying old people. After the ceremony everyone walks outside the building and onto the other side of the small road the hearses drive down. Now the road is important because obviously if there\\'s a road, there\\'s a curb onto the sidewalk, so most of us are on the other side of the road, besides a few older people walking a lot slower. \\n\\nAs one of the old woman goes to walk up the curb she trips (obviously didn\\'t notice there was one due to crying and whatnot) and I\\'m the only one who not only sees it coming but is in any position to do anything. So of course as someone who is an avid football (soccer if you\\'re American) player my first instinct is to stick my foot out and kind of control her head like you would with a football.\\n\\nOf course you can imagine this looked horrendously bad on my part (quite literally kicking an old woman while she\\'s down) and as she got up everyone noticed that her nose was completely grey/black as if she\\'d just been punched in the face. She assures us she\\'s fine and we go to the dinner afterwards where someone finally informs her of her bruising. She goes to the toilet and comes out with a completely normal looking nose so of course everyone\\'s wondering how and it turns out that the \"bruising\" was actually shoe polish from my shoe, confirming to everyone that i kicked this poor old lady square in the face as she fell.\\nTL;DR: old woman falls, trip at funeral, kicked hard to prevent injury, ends up with bruised face because its shoe polish']]\n"
          ]
        },
        {
          "metadata": {
            "tags": null
          },
          "name": "stderr",
          "output_type": "stream",
          "text": [
            "Setting `pad_token_id` to `eos_token_id`:2 for open-end generation.\n",
            "Setting `pad_token_id` to `eos_token_id`:2 for open-end generation.\n",
            "Setting `pad_token_id` to `eos_token_id`:2 for open-end generation.\n",
            "Setting `pad_token_id` to `eos_token_id`:2 for open-end generation.\n"
          ]
        },
        {
          "metadata": {
            "tags": null
          },
          "name": "stdout",
          "output_type": "stream",
          "text": [
            "\n",
            "Outputs for input 4:  [['SUBREDDIT: r/relationships\\nTITLE: I [32 M] found out my wife [31 F] had an affair a year and a half ago, now I can\\'t stop thinking about other women.\\nPOST: Wife and I moved accross the country with our two daughters <our dream.  \\n\\nWe settle in, happy, rosey veiws, living the dream or so I though.  6mo later she sleeps with a co-worker. I find out about it four months later on my birthday. Shit hits the fan at home and work - she and d-bag are fired. Did I mention she work for a Christian organization?\\n\\nFast forward 18 months - today. I don\\'t have a marrage - rather - a roomate who\\'s the mother of my children.  She\\'s too fragile to say I want out, but I want out.\\n\\nDo I pursue an \"affair\" or just flip the world upside down my kids and leave?\\nTL;DR: My best friend is having sex behind my back. Do I fuck someone else\\'s hot wife or do I get divorced?'], ['SUBREDDIT: r/relationships\\nTITLE: I [32 M] found out my wife [31 F] had an affair a year and a half ago, now I can\\'t stop thinking about other women.\\nPOST: Wife and I moved accross the country with our two daughters <our dream.  \\n\\nWe settle in, happy, rosey veiws, living the dream or so I though.  6mo later she sleeps with a co-worker. I find out about it four months later on my birthday. Shit hits the fan at home and work - she and d-bag are fired. Did I mention she work for a Christian organization?\\n\\nFast forward 18 months - today. I don\\'t have a marrage - rather - a roomate who\\'s the mother of my children.  She\\'s too fragile to say I want out, but I want out.\\n\\nDo I pursue an \"affair\" or just flip the world upside down my kids and leave?\\nTL;DR: Wife cheated on me, we made nice but nothing is there (I am sure)... should i quit and live life?'], ['SUBREDDIT: r/relationships\\nTITLE: I [32 M] found out my wife [31 F] had an affair a year and a half ago, now I can\\'t stop thinking about other women.\\nPOST: Wife and I moved accross the country with our two daughters <our dream.  \\n\\nWe settle in, happy, rosey veiws, living the dream or so I though.  6mo later she sleeps with a co-worker. I find out about it four months later on my birthday. Shit hits the fan at home and work - she and d-bag are fired. Did I mention she work for a Christian organization?\\n\\nFast forward 18 months - today. I don\\'t have a marrage - rather - a roomate who\\'s the mother of my children.  She\\'s too fragile to say I want out, but I want out.\\n\\nDo I pursue an \"affair\" or just flip the world upside down my kids and leave?\\nTL;DR: D-bag cheated on me, got caught and got fired.  One yr later, no more love, nothing left..'], ['SUBREDDIT: r/relationships\\nTITLE: I [32 M] found out my wife [31 F] had an affair a year and a half ago, now I can\\'t stop thinking about other women.\\nPOST: Wife and I moved accross the country with our two daughters <our dream.  \\n\\nWe settle in, happy, rosey veiws, living the dream or so I though.  6mo later she sleeps with a co-worker. I find out about it four months later on my birthday. Shit hits the fan at home and work - she and d-bag are fired. Did I mention she work for a Christian organization?\\n\\nFast forward 18 months - today. I don\\'t have a marrage - rather - a roomate who\\'s the mother of my children.  She\\'s too fragile to say I want out, but I want out.\\n\\nDo I pursue an \"affair\" or just flip the world upside down my kids and leave?\\nTL;DR: wife cheated on me, left her husband, father of her kid twice her age and ran off to a different state only for him to tell everyone after we got married.']]\n"
          ]
        },
        {
          "metadata": {
            "tags": null
          },
          "name": "stderr",
          "output_type": "stream",
          "text": [
            "Setting `pad_token_id` to `eos_token_id`:2 for open-end generation.\n",
            "Setting `pad_token_id` to `eos_token_id`:2 for open-end generation.\n",
            "Setting `pad_token_id` to `eos_token_id`:2 for open-end generation.\n",
            "Setting `pad_token_id` to `eos_token_id`:2 for open-end generation.\n"
          ]
        },
        {
          "metadata": {
            "tags": null
          },
          "name": "stdout",
          "output_type": "stream",
          "text": [
            "\n",
            "Outputs for input 5:  [[\"SUBREDDIT: r/loseit\\nTITLE: Caffeine addiction. Anyone taking vitamins or supplements with caffeine?\\nPOST: I have a horrible caffeine addiction, and I don't like sacrificing any of my daily calories for coffee. I used to drink 5-6 Diet Dr. Peppers a day, but I have switched to almost exclusively drinking only water most days. I do have a Diet Dr. Pepper occasionally, and I know that technically it's okay to probably have one a day, but I honestly just feel better all around when I drink only water. But if I don't have some caffeine in the morning, I will be writhing in the floor in pain with a skull-pounding headache by mid-day. I know. Ridiculous, right? \\n\\nSo, I went to the vitamin aisle the other day in search of a supplement with a little caffeine and the only thing I found was One A Day Adult Vitacraves Gummies with Energy Support. Here's the website with [nutritional info] One serving is 20 calories and has 90 mg of caffeine. There's also some vitamin B6, B12, and folic acid in there that supposedly helps turn food into energy. I have no idea if that's true. I've been taking them a couple days, and so far I do feel more energized and I haven't had any headaches. The issue is that one bottle is around $9 and there are only 60 in a bottle. You have to take 4 (4!) a day, which is very intriguing considering the brand name and all. So it'll cost me around $20 a month. Which is admittedly cheaper than what I used to spend on Diet Dr. Peppers, but still. I was just curious if anyone else had a better option for caffeine in a supplement or vitamin?\\nTL;DR: Severe caffeine withdrawal pains if I go without it for many hours during WOE. Looking for good caffeine supplement alternatives for healthier version of former crazed behavior. Thank you!\"], [\"SUBREDDIT: r/loseit\\nTITLE: Caffeine addiction. Anyone taking vitamins or supplements with caffeine?\\nPOST: I have a horrible caffeine addiction, and I don't like sacrificing any of my daily calories for coffee. I used to drink 5-6 Diet Dr. Peppers a day, but I have switched to almost exclusively drinking only water most days. I do have a Diet Dr. Pepper occasionally, and I know that technically it's okay to probably have one a day, but I honestly just feel better all around when I drink only water. But if I don't have some caffeine in the morning, I will be writhing in the floor in pain with a skull-pounding headache by mid-day. I know. Ridiculous, right? \\n\\nSo, I went to the vitamin aisle the other day in search of a supplement with a little caffeine and the only thing I found was One A Day Adult Vitacraves Gummies with Energy Support. Here's the website with [nutritional info] One serving is 20 calories and has 90 mg of caffeine. There's also some vitamin B6, B12, and folic acid in there that supposedly helps turn food into energy. I have no idea if that's true. I've been taking them a couple days, and so far I do feel more energized and I haven't had any headaches. The issue is that one bottle is around $9 and there are only 60 in a bottle. You have to take 4 (4!) a day, which is very intriguing considering the brand name and all. So it'll cost me around $20 a month. Which is admittedly cheaper than what I used to spend on Diet Dr. Peppers, but still. I was just curious if anyone else had a better option for caffeine in a supplement or vitamin?\\nTL;DR: My doctor doesn't really approve of the amount of diet coke, but isn't allowing me to cut it out completely because caffeine withdrawal causes excruciating headache when mixed w/ severe back problems and fibromyalgia.\"], ['SUBREDDIT: r/loseit\\nTITLE: Caffeine addiction. Anyone taking vitamins or supplements with caffeine?\\nPOST: I have a horrible caffeine addiction, and I don\\'t like sacrificing any of my daily calories for coffee. I used to drink 5-6 Diet Dr. Peppers a day, but I have switched to almost exclusively drinking only water most days. I do have a Diet Dr. Pepper occasionally, and I know that technically it\\'s okay to probably have one a day, but I honestly just feel better all around when I drink only water. But if I don\\'t have some caffeine in the morning, I will be writhing in the floor in pain with a skull-pounding headache by mid-day. I know. Ridiculous, right? \\n\\nSo, I went to the vitamin aisle the other day in search of a supplement with a little caffeine and the only thing I found was One A Day Adult Vitacraves Gummies with Energy Support. Here\\'s the website with [nutritional info] One serving is 20 calories and has 90 mg of caffeine. There\\'s also some vitamin B6, B12, and folic acid in there that supposedly helps turn food into energy. I have no idea if that\\'s true. I\\'ve been taking them a couple days, and so far I do feel more energized and I haven\\'t had any headaches. The issue is that one bottle is around $9 and there are only 60 in a bottle. You have to take 4 (4!) a day, which is very intriguing considering the brand name and all. So it\\'ll cost me around $20 a month. Which is admittedly cheaper than what I used to spend on Diet Dr. Peppers, but still. I was just curious if anyone else had a better option for caffeine in a supplement or vitamin?\\nTL;DR: Am addicted to sugar free sodas, and would rather use their cals for real foods instead of sodas. Found a supplement w/ 90mg and extra vitamins like b12 & folic acid, but costs nearly $20/mo. Anyone using vitamins or supplements as another form of \"caffeination\"? Suggestions welcome.'], [\"SUBREDDIT: r/loseit\\nTITLE: Caffeine addiction. Anyone taking vitamins or supplements with caffeine?\\nPOST: I have a horrible caffeine addiction, and I don't like sacrificing any of my daily calories for coffee. I used to drink 5-6 Diet Dr. Peppers a day, but I have switched to almost exclusively drinking only water most days. I do have a Diet Dr. Pepper occasionally, and I know that technically it's okay to probably have one a day, but I honestly just feel better all around when I drink only water. But if I don't have some caffeine in the morning, I will be writhing in the floor in pain with a skull-pounding headache by mid-day. I know. Ridiculous, right? \\n\\nSo, I went to the vitamin aisle the other day in search of a supplement with a little caffeine and the only thing I found was One A Day Adult Vitacraves Gummies with Energy Support. Here's the website with [nutritional info] One serving is 20 calories and has 90 mg of caffeine. There's also some vitamin B6, B12, and folic acid in there that supposedly helps turn food into energy. I have no idea if that's true. I've been taking them a couple days, and so far I do feel more energized and I haven't had any headaches. The issue is that one bottle is around $9 and there are only 60 in a bottle. You have to take 4 (4!) a day, which is very intriguing considering the brand name and all. So it'll cost me around $20 a month. Which is admittedly cheaper than what I used to spend on Diet Dr. Peppers, but still. I was just curious if anyone else had a better option for caffeine in a supplement or vitamin?\\nTL;DR: Any affordable caffeinated supplements out there and/or can folic acid plus B vitamins actually help make me more energetic even though they aren't technically full of stimulants?\"]]\n"
          ]
        },
        {
          "metadata": {
            "tags": null
          },
          "name": "stderr",
          "output_type": "stream",
          "text": [
            "Setting `pad_token_id` to `eos_token_id`:2 for open-end generation.\n",
            "Setting `pad_token_id` to `eos_token_id`:2 for open-end generation.\n",
            "Setting `pad_token_id` to `eos_token_id`:2 for open-end generation.\n",
            "Setting `pad_token_id` to `eos_token_id`:2 for open-end generation.\n"
          ]
        },
        {
          "metadata": {
            "tags": null
          },
          "name": "stdout",
          "output_type": "stream",
          "text": [
            "\n",
            "Outputs for input 6:  [['SUBREDDIT: r/tifu\\nTITLE: TIFU by eating a banana.\\nPOST: So, this actually happened yesterday. I am currently studying abroad in a tropical country. As a result, the selection of locally grown fruit is phenomenal. Now, I\\'m not usually one for bananas, but I keeping hearing they are much more flavorful here, so I decided I\\'d give it a go and bought a small bunch from the local market. Yesterday morning, I decided I\\'d have one for breakfast along with my usual corn flakes. After I wash it down with coffee, I immediately start feeling like crap, but one of my roommates had a stomach bug over the weekend, so I just automatically assume that I must have contracted said bug and rush off to my four hour class. Four hours of hell, that is. As soon as I sit down, my nose becomes a waterfall with off and on sneezing fits. Next, cue the most god awful indigestion and acid reflux I have ever experienced. I keep telling myself that I only have to make it to 1 o\\' clock, then I can just go to bed. Easier said than done, but I finally get home and find little success in napping. Once I get up, I discover that I have a nice little rash starting in each armpit, which I chalk up to having switched deodorants just that morning. Finish off a bottle of Maalox with some advil and commenced sleep attempt number two. I wake up a little more clear headed this time and begin to assess my situation. The rash is now worse and I start wondering, what if the deodorant didn\\'t cause the rash? Is there a single thing that could possibly explain all of my symptoms? I started to ask myself out loud, \"Did I eat anything today that I don\\'t usually..... oh, shit.\" In an instant my fingers were flying on Google to search \"banana allergy\" only to find a multitude of symptom lists that pretty much specifically described my day of hell. By this time, my face had even started to swell a bit, but now knowing what I  was up against, I bought some benedryl, had a couple of beers and went back to sleep. Woke up this morning feeling much better, and unlike Pam Poovey, I will not continue to stuff my face with foods I know I am allergic to. No more bananas. Ever.\\nTL;DR: Ate a banana, suffered horribly until waking up to do some very intensive Googling after which I discovered that I was probably suffering through either anaphylactic shock or a benign allergic reaction to bananas'], ['SUBREDDIT: r/tifu\\nTITLE: TIFU by eating a banana.\\nPOST: So, this actually happened yesterday. I am currently studying abroad in a tropical country. As a result, the selection of locally grown fruit is phenomenal. Now, I\\'m not usually one for bananas, but I keeping hearing they are much more flavorful here, so I decided I\\'d give it a go and bought a small bunch from the local market. Yesterday morning, I decided I\\'d have one for breakfast along with my usual corn flakes. After I wash it down with coffee, I immediately start feeling like crap, but one of my roommates had a stomach bug over the weekend, so I just automatically assume that I must have contracted said bug and rush off to my four hour class. Four hours of hell, that is. As soon as I sit down, my nose becomes a waterfall with off and on sneezing fits. Next, cue the most god awful indigestion and acid reflux I have ever experienced. I keep telling myself that I only have to make it to 1 o\\' clock, then I can just go to bed. Easier said than done, but I finally get home and find little success in napping. Once I get up, I discover that I have a nice little rash starting in each armpit, which I chalk up to having switched deodorants just that morning. Finish off a bottle of Maalox with some advil and commenced sleep attempt number two. I wake up a little more clear headed this time and begin to assess my situation. The rash is now worse and I start wondering, what if the deodorant didn\\'t cause the rash? Is there a single thing that could possibly explain all of my symptoms? I started to ask myself out loud, \"Did I eat anything today that I don\\'t usually..... oh, shit.\" In an instant my fingers were flying on Google to search \"banana allergy\" only to find a multitude of symptom lists that pretty much specifically described my day of hell. By this time, my face had even started to swell a bit, but now knowing what I  was up against, I bought some benedryl, had a couple of beers and went back to sleep. Woke up this morning feeling much better, and unlike Pam Poovey, I will not continue to stuff my face with foods I know I am allergic to. No more bananas. Ever.\\nTL;DR: Ate a banana the other night expecting magic-flavored-fruit goodness; woke up feeling like hell; turned into a human snot/indigestion fountain; diagnosed myself with a fruit allergy with help from google; felt much better.'], ['SUBREDDIT: r/tifu\\nTITLE: TIFU by eating a banana.\\nPOST: So, this actually happened yesterday. I am currently studying abroad in a tropical country. As a result, the selection of locally grown fruit is phenomenal. Now, I\\'m not usually one for bananas, but I keeping hearing they are much more flavorful here, so I decided I\\'d give it a go and bought a small bunch from the local market. Yesterday morning, I decided I\\'d have one for breakfast along with my usual corn flakes. After I wash it down with coffee, I immediately start feeling like crap, but one of my roommates had a stomach bug over the weekend, so I just automatically assume that I must have contracted said bug and rush off to my four hour class. Four hours of hell, that is. As soon as I sit down, my nose becomes a waterfall with off and on sneezing fits. Next, cue the most god awful indigestion and acid reflux I have ever experienced. I keep telling myself that I only have to make it to 1 o\\' clock, then I can just go to bed. Easier said than done, but I finally get home and find little success in napping. Once I get up, I discover that I have a nice little rash starting in each armpit, which I chalk up to having switched deodorants just that morning. Finish off a bottle of Maalox with some advil and commenced sleep attempt number two. I wake up a little more clear headed this time and begin to assess my situation. The rash is now worse and I start wondering, what if the deodorant didn\\'t cause the rash? Is there a single thing that could possibly explain all of my symptoms? I started to ask myself out loud, \"Did I eat anything today that I don\\'t usually..... oh, shit.\" In an instant my fingers were flying on Google to search \"banana allergy\" only to find a multitude of symptom lists that pretty much specifically described my day of hell. By this time, my face had even started to swell a bit, but now knowing what I  was up against, I bought some benedryl, had a couple of beers and went back to sleep. Woke up this morning feeling much better, and unlike Pam Poovey, I will not continue to stuff my face with foods I know I am allergic to. No more bananas. Ever.\\nTL;DR: Ate a previously uninvestigated food (for me) before finals week. Spent subsequent day experiencing various symptoms of anaphylactic shock including facial swelling and rashes under both arms.'], ['SUBREDDIT: r/tifu\\nTITLE: TIFU by eating a banana.\\nPOST: So, this actually happened yesterday. I am currently studying abroad in a tropical country. As a result, the selection of locally grown fruit is phenomenal. Now, I\\'m not usually one for bananas, but I keeping hearing they are much more flavorful here, so I decided I\\'d give it a go and bought a small bunch from the local market. Yesterday morning, I decided I\\'d have one for breakfast along with my usual corn flakes. After I wash it down with coffee, I immediately start feeling like crap, but one of my roommates had a stomach bug over the weekend, so I just automatically assume that I must have contracted said bug and rush off to my four hour class. Four hours of hell, that is. As soon as I sit down, my nose becomes a waterfall with off and on sneezing fits. Next, cue the most god awful indigestion and acid reflux I have ever experienced. I keep telling myself that I only have to make it to 1 o\\' clock, then I can just go to bed. Easier said than done, but I finally get home and find little success in napping. Once I get up, I discover that I have a nice little rash starting in each armpit, which I chalk up to having switched deodorants just that morning. Finish off a bottle of Maalox with some advil and commenced sleep attempt number two. I wake up a little more clear headed this time and begin to assess my situation. The rash is now worse and I start wondering, what if the deodorant didn\\'t cause the rash? Is there a single thing that could possibly explain all of my symptoms? I started to ask myself out loud, \"Did I eat anything today that I don\\'t usually..... oh, shit.\" In an instant my fingers were flying on Google to search \"banana allergy\" only to find a multitude of symptom lists that pretty much specifically described my day of hell. By this time, my face had even started to swell a bit, but now knowing what I  was up against, I bought some benedryl, had a couple of beers and went back to sleep. Woke up this morning feeling much better, and unlike Pam Poovey, I will not continue to stuff my face with foods I know I am allergic to. No more bananas. Ever.\\nTL;DR: Ate more flavorful bananas in foreign part. Felt fine at first. Later felt as if every muscle in my body would eventually succumb to severe infection. Found my answer in allergies. Hate is a strong word, but.... Fuck you Banana.']]\n"
          ]
        },
        {
          "metadata": {
            "tags": null
          },
          "name": "stderr",
          "output_type": "stream",
          "text": [
            "Setting `pad_token_id` to `eos_token_id`:2 for open-end generation.\n",
            "Setting `pad_token_id` to `eos_token_id`:2 for open-end generation.\n",
            "Setting `pad_token_id` to `eos_token_id`:2 for open-end generation.\n",
            "Setting `pad_token_id` to `eos_token_id`:2 for open-end generation.\n"
          ]
        },
        {
          "metadata": {
            "tags": null
          },
          "name": "stdout",
          "output_type": "stream",
          "text": [
            "\n",
            "Outputs for input 7:  [[\"SUBREDDIT: r/relationships\\nTITLE: Me [16F] have been dating my bf [16M] for 2 years and have not done anything sexually yet, is this alright?\\nPOST: Hi guy's I just need some advice to calm my nerves. \\n\\nSo I have been dating this guy for 2 years since we were the age of 14. The most we have done is make out and cuddle, that's it nothing more. \\n\\nWe are only 16 and I was wondering is it a bad thing we have not done anything sexually for the 2 years we have been dating? because you hear of people taking it slow, but are we going to slow?\\n\\nI have not spoken to him about this, but I just need an outside opinion on this before I do. Because I don't want to mess this up, I really love this guy\\nTL;DR: My boyfriend and I havent had sex or even done much more than kissing in our entire almost two year relation ship and i am nervous if its okay\"], [\"SUBREDDIT: r/relationships\\nTITLE: Me [16F] have been dating my bf [16M] for 2 years and have not done anything sexually yet, is this alright?\\nPOST: Hi guy's I just need some advice to calm my nerves. \\n\\nSo I have been dating this guy for 2 years since we were the age of 14. The most we have done is make out and cuddle, that's it nothing more. \\n\\nWe are only 16 and I was wondering is it a bad thing we have not done anything sexually for the 2 years we have been dating? because you hear of people taking it slow, but are we going to slow?\\n\\nI have not spoken to him about this, but I just need an outside opinion on this before I do. Because I don't want to mess this up, I really love this guy\\nTL;DR: Been with BF for 2 years and haven't had sex, normal? And am i doing damage if its what hes wants?\"], [\"SUBREDDIT: r/relationships\\nTITLE: Me [16F] have been dating my bf [16M] for 2 years and have not done anything sexually yet, is this alright?\\nPOST: Hi guy's I just need some advice to calm my nerves. \\n\\nSo I have been dating this guy for 2 years since we were the age of 14. The most we have done is make out and cuddle, that's it nothing more. \\n\\nWe are only 16 and I was wondering is it a bad thing we have not done anything sexually for the 2 years we have been dating? because you hear of people taking it slow, but are we going to slow?\\n\\nI have not spoken to him about this, but I just need an outside opinion on this before I do. Because I don't want to mess this up, I really love this guy\\nTL;DR: Dating a guy for two years never done anything sexual am I too slow or would it be weird if i started now since we both agreed I wouldn't till we were older\"], [\"SUBREDDIT: r/relationships\\nTITLE: Me [16F] have been dating my bf [16M] for 2 years and have not done anything sexually yet, is this alright?\\nPOST: Hi guy's I just need some advice to calm my nerves. \\n\\nSo I have been dating this guy for 2 years since we were the age of 14. The most we have done is make out and cuddle, that's it nothing more. \\n\\nWe are only 16 and I was wondering is it a bad thing we have not done anything sexually for the 2 years we have been dating? because you hear of people taking it slow, but are we going to slow?\\n\\nI have not spoken to him about this, but I just need an outside opinion on this before I do. Because I don't want to mess this up, I really love this guy\\nTL;DR: BF and i are the same age. Only cuddled/kissed for 2 years in our relationship, do we go to slowly or fine?\"]]\n"
          ]
        },
        {
          "metadata": {
            "tags": null
          },
          "name": "stderr",
          "output_type": "stream",
          "text": [
            "Setting `pad_token_id` to `eos_token_id`:2 for open-end generation.\n",
            "Setting `pad_token_id` to `eos_token_id`:2 for open-end generation.\n",
            "Setting `pad_token_id` to `eos_token_id`:2 for open-end generation.\n",
            "Setting `pad_token_id` to `eos_token_id`:2 for open-end generation.\n"
          ]
        },
        {
          "metadata": {
            "tags": null
          },
          "name": "stdout",
          "output_type": "stream",
          "text": [
            "\n",
            "Outputs for input 8:  [[\"SUBREDDIT: r/AskReddit\\nTITLE: My fellow redditors! Within reason.. turn your ridiculous ideas into porn!\\nPOST: Soo there isn't a question in the headline.. How about.. Reddit, what kind of porn would you make if you could?\\n\\nBe respectful. I may be a whore, but I'm a human being above all else!\\n\\nI am in the process of developing a website for my alter ego porn star. \\n\\nI've decided that aside from all the normal boring porn stuff that I want really memorable pornos. Full length movies or short clips.\\n\\nSo far we are having a scenario where I am dared to suck off a corpse in a morgue.\\n\\nI'm also going to fuck every super hero to which a costume is available and I am particularly excited about that!\\n\\nGiant mud pit. Need I say more?\\n\\nSadly, unicorn porn was already made...\\n\\nSo, in this vast pool of insane and colorful minds that is reddit.. I ask you to share with me elaborate or not so elaborate ideas for porn. They don't all have to be silly, some things you legitimately might want to see and never do or never see enough of it.\\n\\nIn all seriousness your idea could get turned into the real thing and if it does I will send you a free copy of the production so you can show your friends!\\nTL;DR: What kinds of wacky and/or sexy pornos would people like to see and what ones do they already love (if any)?\"], [\"SUBREDDIT: r/AskReddit\\nTITLE: My fellow redditors! Within reason.. turn your ridiculous ideas into porn!\\nPOST: Soo there isn't a question in the headline.. How about.. Reddit, what kind of porn would you make if you could?\\n\\nBe respectful. I may be a whore, but I'm a human being above all else!\\n\\nI am in the process of developing a website for my alter ego porn star. \\n\\nI've decided that aside from all the normal boring porn stuff that I want really memorable pornos. Full length movies or short clips.\\n\\nSo far we are having a scenario where I am dared to suck off a corpse in a morgue.\\n\\nI'm also going to fuck every super hero to which a costume is available and I am particularly excited about that!\\n\\nGiant mud pit. Need I say more?\\n\\nSadly, unicorn porn was already made...\\n\\nSo, in this vast pool of insane and colorful minds that is reddit.. I ask you to share with me elaborate or not so elaborate ideas for porn. They don't all have to be silly, some things you legitimately might want to see and never do or never see enough of it.\\n\\nIn all seriousness your idea could get turned into the real thing and if it does I will send you a free copy of the production so you can show your friends!\\nTL;DR: Redditors tell me crazy cool porn ideas and if they sound really amazing I *may* make them!\"], [\"SUBREDDIT: r/AskReddit\\nTITLE: My fellow redditors! Within reason.. turn your ridiculous ideas into porn!\\nPOST: Soo there isn't a question in the headline.. How about.. Reddit, what kind of porn would you make if you could?\\n\\nBe respectful. I may be a whore, but I'm a human being above all else!\\n\\nI am in the process of developing a website for my alter ego porn star. \\n\\nI've decided that aside from all the normal boring porn stuff that I want really memorable pornos. Full length movies or short clips.\\n\\nSo far we are having a scenario where I am dared to suck off a corpse in a morgue.\\n\\nI'm also going to fuck every super hero to which a costume is available and I am particularly excited about that!\\n\\nGiant mud pit. Need I say more?\\n\\nSadly, unicorn porn was already made...\\n\\nSo, in this vast pool of insane and colorful minds that is reddit.. I ask you to share with me elaborate or not so elaborate ideas for porn. They don't all have to be silly, some things you legitimately might want to see and never do or never see enough of it.\\n\\nIn all seriousness your idea could get turned into the real thing and if it does I will send you a free copy of the production so you can show your friends!\\nTL;DR: My alter ego needs porn suggestions. Give me good things or dumb things and you just could see them in hard core sex acts!!!\"], [\"SUBREDDIT: r/AskReddit\\nTITLE: My fellow redditors! Within reason.. turn your ridiculous ideas into porn!\\nPOST: Soo there isn't a question in the headline.. How about.. Reddit, what kind of porn would you make if you could?\\n\\nBe respectful. I may be a whore, but I'm a human being above all else!\\n\\nI am in the process of developing a website for my alter ego porn star. \\n\\nI've decided that aside from all the normal boring porn stuff that I want really memorable pornos. Full length movies or short clips.\\n\\nSo far we are having a scenario where I am dared to suck off a corpse in a morgue.\\n\\nI'm also going to fuck every super hero to which a costume is available and I am particularly excited about that!\\n\\nGiant mud pit. Need I say more?\\n\\nSadly, unicorn porn was already made...\\n\\nSo, in this vast pool of insane and colorful minds that is reddit.. I ask you to share with me elaborate or not so elaborate ideas for porn. They don't all have to be silly, some things you legitimately might want to see and never do or never see enough of it.\\n\\nIn all seriousness your idea could get turned into the real thing and if it does I will send you a free copy of the production so you can show your friends!\\nTL;DR: help me decide whether to put a guy in a giant condom and let a woman ride him like a bucking bronco\"]]\n"
          ]
        },
        {
          "metadata": {
            "tags": null
          },
          "name": "stderr",
          "output_type": "stream",
          "text": [
            "Setting `pad_token_id` to `eos_token_id`:2 for open-end generation.\n",
            "Setting `pad_token_id` to `eos_token_id`:2 for open-end generation.\n",
            "Setting `pad_token_id` to `eos_token_id`:2 for open-end generation.\n",
            "Setting `pad_token_id` to `eos_token_id`:2 for open-end generation.\n"
          ]
        },
        {
          "metadata": {
            "tags": null
          },
          "name": "stdout",
          "output_type": "stream",
          "text": [
            "\n",
            "Outputs for input 9:  [[\"SUBREDDIT: r/relationships\\nTITLE: Me [18M] questioning if I should ask out my friend [17F]\\nPOST: Ok so perhaps this isn't the most dramatic thing you have seen on this subreddit but I feel like I'm stuck.\\n\\nI have been friends with this girl for a while now asking her and things were going great until I asked her to prom. I am hoping this will be a great night however ever since I asked her a couple weeks ago I find I can no longer talk to her. Out conversations are awkward with me trying to start the majority of topics (Badly written but you get the picture)\\n\\nI really like the girl but i'm wondering if she saw too much into the prom-posal. Should I just give up, or ask her out? Im not sure\\nTL;DR: ASKED GIRL TO PROM. TALK TO HER FOR EVERYTHING THESE DAYS EXCEPT PROBABLY WILL I HAVE FUN AT SCHOOOOL IF WE GO...\"], [\"SUBREDDIT: r/relationships\\nTITLE: Me [18M] questioning if I should ask out my friend [17F]\\nPOST: Ok so perhaps this isn't the most dramatic thing you have seen on this subreddit but I feel like I'm stuck.\\n\\nI have been friends with this girl for a while now asking her and things were going great until I asked her to prom. I am hoping this will be a great night however ever since I asked her a couple weeks ago I find I can no longer talk to her. Out conversations are awkward with me trying to start the majority of topics (Badly written but you get the picture)\\n\\nI really like the girl but i'm wondering if she saw too much into the prom-posal. Should I just give up, or ask her out? Im not sure\\nTL;DR: Asking girl who was supposed to go with me to prom may put people off as it seems we have dated\"], [\"SUBREDDIT: r/relationships\\nTITLE: Me [18M] questioning if I should ask out my friend [17F]\\nPOST: Ok so perhaps this isn't the most dramatic thing you have seen on this subreddit but I feel like I'm stuck.\\n\\nI have been friends with this girl for a while now asking her and things were going great until I asked her to prom. I am hoping this will be a great night however ever since I asked her a couple weeks ago I find I can no longer talk to her. Out conversations are awkward with me trying to start the majority of topics (Badly written but you get the picture)\\n\\nI really like the girl but i'm wondering if she saw too much into the prom-posal. Should I just give up, or ask her out? Im not sure\\nTL;DR: Invited girl over to Prom. Talking to her is harder than before Prom invite. Deciding whether to continue talking / trying something more\"], [\"SUBREDDIT: r/relationships\\nTITLE: Me [18M] questioning if I should ask out my friend [17F]\\nPOST: Ok so perhaps this isn't the most dramatic thing you have seen on this subreddit but I feel like I'm stuck.\\n\\nI have been friends with this girl for a while now asking her and things were going great until I asked her to prom. I am hoping this will be a great night however ever since I asked her a couple weeks ago I find I can no longer talk to her. Out conversations are awkward with me trying to start the majority of topics (Badly written but you get the picture)\\n\\nI really like the girl but i'm wondering if she saw too much into the prom-posal. Should I just give up, or ask her out? Im not sure\\nTL;DR: Asking a girl to prom made it more awkward when talking to her afterwards, don't know whether to continue liking her/asking her out\"]]\n"
          ]
        },
        {
          "metadata": {
            "tags": null
          },
          "name": "stderr",
          "output_type": "stream",
          "text": [
            "Setting `pad_token_id` to `eos_token_id`:2 for open-end generation.\n",
            "Setting `pad_token_id` to `eos_token_id`:2 for open-end generation.\n",
            "Setting `pad_token_id` to `eos_token_id`:2 for open-end generation.\n",
            "Setting `pad_token_id` to `eos_token_id`:2 for open-end generation.\n"
          ]
        },
        {
          "metadata": {
            "tags": null
          },
          "name": "stdout",
          "output_type": "stream",
          "text": [
            "\n",
            "Outputs for input 10:  [[\"SUBREDDIT: r/AskReddit\\nTITLE: Cock blocked by a friend (Who's a girl).\\nPOST: So for the past week there's been this girl in one of my classes I've been talking to, she's pretty cute (dyed red hair, fair skin, a few freckles, not ginger), she loves star wars and I suspect she's a redditor.  I was going to ask her for her number today, but a girl i met about a year ago came and sat right where the red head had been sitting, effectively cock-blocking me and driving the girl I was interested in away.  Now it seems like the red head thinks I'm uninterested in her and has since found some other guy to talk to.  Has anybody been in a similar scenario?  Advice?\\nTL;DR: A girl that was looking at me the whole time I went to class was made invisible just because a friend decided to sit in front of me.\"], [\"SUBREDDIT: r/AskReddit\\nTITLE: Cock blocked by a friend (Who's a girl).\\nPOST: So for the past week there's been this girl in one of my classes I've been talking to, she's pretty cute (dyed red hair, fair skin, a few freckles, not ginger), she loves star wars and I suspect she's a redditor.  I was going to ask her for her number today, but a girl i met about a year ago came and sat right where the red head had been sitting, effectively cock-blocking me and driving the girl I was interested in away.  Now it seems like the red head thinks I'm uninterested in her and has since found some other guy to talk to.  Has anybody been in a similar scenario?  Advice?\\nTL;DR: Some random ass nigga cock block me from asking another female out and now my target chick thinks I'm not into her.\"], [\"SUBREDDIT: r/AskReddit\\nTITLE: Cock blocked by a friend (Who's a girl).\\nPOST: So for the past week there's been this girl in one of my classes I've been talking to, she's pretty cute (dyed red hair, fair skin, a few freckles, not ginger), she loves star wars and I suspect she's a redditor.  I was going to ask her for her number today, but a girl i met about a year ago came and sat right where the red head had been sitting, effectively cock-blocking me and driving the girl I was interested in away.  Now it seems like the red head thinks I'm uninterested in her and has since found some other guy to talk to.  Has anybody been in a similar scenario?  Advice?\\nTL;DR: Had chances with 2 girls in class, 1 already taken so the second girl became infatuated with someone else\"], [\"SUBREDDIT: r/AskReddit\\nTITLE: Cock blocked by a friend (Who's a girl).\\nPOST: So for the past week there's been this girl in one of my classes I've been talking to, she's pretty cute (dyed red hair, fair skin, a few freckles, not ginger), she loves star wars and I suspect she's a redditor.  I was going to ask her for her number today, but a girl i met about a year ago came and sat right where the red head had been sitting, effectively cock-blocking me and driving the girl I was interested in away.  Now it seems like the red head thinks I'm uninterested in her and has since found some other guy to talk to.  Has anybody been in a similar scenario?  Advice?\\nTL;DR: Red Headed lady I talked with all term suddenly changed seats when another girl moved near her seat and now thinks im disinterested (which isnt really true)\"]]\n"
          ]
        },
        {
          "metadata": {
            "tags": null
          },
          "name": "stderr",
          "output_type": "stream",
          "text": [
            "Setting `pad_token_id` to `eos_token_id`:2 for open-end generation.\n",
            "Setting `pad_token_id` to `eos_token_id`:2 for open-end generation.\n",
            "Setting `pad_token_id` to `eos_token_id`:2 for open-end generation.\n",
            "Setting `pad_token_id` to `eos_token_id`:2 for open-end generation.\n"
          ]
        },
        {
          "metadata": {
            "tags": null
          },
          "name": "stdout",
          "output_type": "stream",
          "text": [
            "\n",
            "Outputs for input 11:  [['SUBREDDIT: r/AskReddit\\nTITLE: Wife\\'s \"friend\" is stealing money.  Any ideas on how to approach this?\\nPOST: So my wife has a friend that I will call Julie.  My wife and Julie have been friends for about 6 years if I remember correctly.  Julie is a shit friend in my opinion and I have told the wife my feelings.  When they lived together Julie would start physical fights with my wife and spat on my wife\\'s face once.  Now when Julie comes over to our house there is a 98% chance that something will be broken and really really dirty when she leaves.\\nJulie does not have any other good close friends in our town and her closest family is 5 hours away.  I am thinking that is why my wife doesn\\'t get rid of Julie.  About 7 months ago we were all outside and Julie said that she needed to go inside to use the restroom.  As we soon outside I noticed that our bedroom light turned on, stayed on for less than a minute, and then went off.  \\nLater that night after Julie left when the wife and I went inside and the wife discovered that her purse had been moved and that she was missing $20.  I looked at my stuff and my checkbook had been moved.  The only other person in our house that night was Julie and she was left alone.\\nOn Saturday my wife went shopping with Julie.  Again for some reason my wife left her purse with Julie alone.  Today my wife was trying to buy gas and is now missing $30.  \\nBefore Julie started to steal from us her car battery died and she called us.  Stupidly I paid for and installed a new one for her.  I still haven\\'t been paid back for that $87.\\nI am trying to figure out if it is time for me to say something to Julie or do I let the wife handle it?\\nTL;DR: Friend who used to cause problems is now stealing things form us.  Thinking of telling her or wait. Also waiting for her to break a window or something.'], ['SUBREDDIT: r/AskReddit\\nTITLE: Wife\\'s \"friend\" is stealing money.  Any ideas on how to approach this?\\nPOST: So my wife has a friend that I will call Julie.  My wife and Julie have been friends for about 6 years if I remember correctly.  Julie is a shit friend in my opinion and I have told the wife my feelings.  When they lived together Julie would start physical fights with my wife and spat on my wife\\'s face once.  Now when Julie comes over to our house there is a 98% chance that something will be broken and really really dirty when she leaves.\\nJulie does not have any other good close friends in our town and her closest family is 5 hours away.  I am thinking that is why my wife doesn\\'t get rid of Julie.  About 7 months ago we were all outside and Julie said that she needed to go inside to use the restroom.  As we soon outside I noticed that our bedroom light turned on, stayed on for less than a minute, and then went off.  \\nLater that night after Julie left when the wife and I went inside and the wife discovered that her purse had been moved and that she was missing $20.  I looked at my stuff and my checkbook had been moved.  The only other person in our house that night was Julie and she was left alone.\\nOn Saturday my wife went shopping with Julie.  Again for some reason my wife left her purse with Julie alone.  Today my wife was trying to buy gas and is now missing $30.  \\nBefore Julie started to steal from us her car battery died and she called us.  Stupidly I paid for and installed a new one for her.  I still haven\\'t been paid back for that $87.\\nI am trying to figure out if it is time for me to say something to Julie or do I let the wife handle it?\\nTL;DR: Our shit neighbor has stolen from us twice but my wife says nothing because she fears losing her only \"close\" (shit) friend.'], ['SUBREDDIT: r/AskReddit\\nTITLE: Wife\\'s \"friend\" is stealing money.  Any ideas on how to approach this?\\nPOST: So my wife has a friend that I will call Julie.  My wife and Julie have been friends for about 6 years if I remember correctly.  Julie is a shit friend in my opinion and I have told the wife my feelings.  When they lived together Julie would start physical fights with my wife and spat on my wife\\'s face once.  Now when Julie comes over to our house there is a 98% chance that something will be broken and really really dirty when she leaves.\\nJulie does not have any other good close friends in our town and her closest family is 5 hours away.  I am thinking that is why my wife doesn\\'t get rid of Julie.  About 7 months ago we were all outside and Julie said that she needed to go inside to use the restroom.  As we soon outside I noticed that our bedroom light turned on, stayed on for less than a minute, and then went off.  \\nLater that night after Julie left when the wife and I went inside and the wife discovered that her purse had been moved and that she was missing $20.  I looked at my stuff and my checkbook had been moved.  The only other person in our house that night was Julie and she was left alone.\\nOn Saturday my wife went shopping with Julie.  Again for some reason my wife left her purse with Julie alone.  Today my wife was trying to buy gas and is now missing $30.  \\nBefore Julie started to steal from us her car battery died and she called us.  Stupidly I paid for and installed a new one for her.  I still haven\\'t been paid back for that $87.\\nI am trying to figure out if it is time for me to say something to Julie or do I let the wife handle it?\\nTL;DR: Wife has shitty friend that hangs around way to much who I am sure steals.  Not sure if I should let wife know what I think.'], ['SUBREDDIT: r/AskReddit\\nTITLE: Wife\\'s \"friend\" is stealing money.  Any ideas on how to approach this?\\nPOST: So my wife has a friend that I will call Julie.  My wife and Julie have been friends for about 6 years if I remember correctly.  Julie is a shit friend in my opinion and I have told the wife my feelings.  When they lived together Julie would start physical fights with my wife and spat on my wife\\'s face once.  Now when Julie comes over to our house there is a 98% chance that something will be broken and really really dirty when she leaves.\\nJulie does not have any other good close friends in our town and her closest family is 5 hours away.  I am thinking that is why my wife doesn\\'t get rid of Julie.  About 7 months ago we were all outside and Julie said that she needed to go inside to use the restroom.  As we soon outside I noticed that our bedroom light turned on, stayed on for less than a minute, and then went off.  \\nLater that night after Julie left when the wife and I went inside and the wife discovered that her purse had been moved and that she was missing $20.  I looked at my stuff and my checkbook had been moved.  The only other person in our house that night was Julie and she was left alone.\\nOn Saturday my wife went shopping with Julie.  Again for some reason my wife left her purse with Julie alone.  Today my wife was trying to buy gas and is now missing $30.  \\nBefore Julie started to steal from us her car battery died and she called us.  Stupidly I paid for and installed a new one for her.  I still haven\\'t been paid back for that $87.\\nI am trying to figure out if it is time for me to say something to Julie or do I let the wife handle it?\\nTL;DR: Wife has a shit friend who may or may not be trying to financially mooch off of us and steal our shit which she hides when other adults are present.']]\n"
          ]
        },
        {
          "metadata": {
            "tags": null
          },
          "name": "stderr",
          "output_type": "stream",
          "text": [
            "Setting `pad_token_id` to `eos_token_id`:2 for open-end generation.\n",
            "Setting `pad_token_id` to `eos_token_id`:2 for open-end generation.\n",
            "Setting `pad_token_id` to `eos_token_id`:2 for open-end generation.\n",
            "Setting `pad_token_id` to `eos_token_id`:2 for open-end generation.\n"
          ]
        },
        {
          "metadata": {
            "tags": null
          },
          "name": "stdout",
          "output_type": "stream",
          "text": [
            "\n",
            "Outputs for input 12:  [[\"SUBREDDIT: r/tifu\\nTITLE: TIFU bY brushing with Baking Soda without learning how to do it correctly.\\nPOST: Always wanted White Teeth but never visited the dentist since I was 8 due to fear [gotten bad experience as a kid].        \\n\\nSo I heard that baking soda makes your teeth white if you brush your teeth with it.        \\nWhat I didn't get from all the reading, is that though it is supposed to be made into a paste, it shouldn't still be gritty.       \\n\\nI always kept my baking soda paste gritty by putting very little water.        \\n\\nAfter brushing straight with it for three months, my gum was extremely sore, but on the up side is, it is true, it is all true, I am amazed myself ! My teeth is very VERY white now compared to the past and even when taking pictures, the teeth becomes the center of attention simply because of how white it is, even my friends jokingly asked if I have painted it white.       \\nThese are the images after baking soda brushing for months, understand that I have NEVER visited a dentist ever since I was 8:    \\n   \\n\\nAs my ego grew, I forget about the irritation from the gum and keep on using it.      \\nOne fine day, my gum gave up...I was brushing and I saw a nice chunk of my gum get physically brushed OUT of my teeth, I was shocked and at a lost of what I should do...I tried to piece the gum back in hoping that it would stay, suffices to say by the very next day, the gum eventually fall off.       \\n\\nIt is not that visible if I don't smile too big, but let this be a lesson to all of you out there, baking soda paste works, BUT PLEASE, make sure the paste is not gritty, PLEASE...don't experience this ever.\\nTL;DR: Brushed hard enough with Gritty baking powder until my gum fell....This happens once every one year in my area :(\"], [\"SUBREDDIT: r/tifu\\nTITLE: TIFU bY brushing with Baking Soda without learning how to do it correctly.\\nPOST: Always wanted White Teeth but never visited the dentist since I was 8 due to fear [gotten bad experience as a kid].        \\n\\nSo I heard that baking soda makes your teeth white if you brush your teeth with it.        \\nWhat I didn't get from all the reading, is that though it is supposed to be made into a paste, it shouldn't still be gritty.       \\n\\nI always kept my baking soda paste gritty by putting very little water.        \\n\\nAfter brushing straight with it for three months, my gum was extremely sore, but on the up side is, it is true, it is all true, I am amazed myself ! My teeth is very VERY white now compared to the past and even when taking pictures, the teeth becomes the center of attention simply because of how white it is, even my friends jokingly asked if I have painted it white.       \\nThese are the images after baking soda brushing for months, understand that I have NEVER visited a dentist ever since I was 8:    \\n   \\n\\nAs my ego grew, I forget about the irritation from the gum and keep on using it.      \\nOne fine day, my gum gave up...I was brushing and I saw a nice chunk of my gum get physically brushed OUT of my teeth, I was shocked and at a lost of what I should do...I tried to piece the gum back in hoping that it would stay, suffices to say by the very next day, the gum eventually fall off.       \\n\\nIt is not that visible if I don't smile too big, but let this be a lesson to all of you out there, baking soda paste works, BUT PLEASE, make sure the paste is not gritty, PLEASE...don't experience this ever.\\nTL;DR: wanted white enamel so been brushing with baking soda...took almost 3 months before I realized the mistake I had done, ended up losing part of the gum\"], [\"SUBREDDIT: r/tifu\\nTITLE: TIFU bY brushing with Baking Soda without learning how to do it correctly.\\nPOST: Always wanted White Teeth but never visited the dentist since I was 8 due to fear [gotten bad experience as a kid].        \\n\\nSo I heard that baking soda makes your teeth white if you brush your teeth with it.        \\nWhat I didn't get from all the reading, is that though it is supposed to be made into a paste, it shouldn't still be gritty.       \\n\\nI always kept my baking soda paste gritty by putting very little water.        \\n\\nAfter brushing straight with it for three months, my gum was extremely sore, but on the up side is, it is true, it is all true, I am amazed myself ! My teeth is very VERY white now compared to the past and even when taking pictures, the teeth becomes the center of attention simply because of how white it is, even my friends jokingly asked if I have painted it white.       \\nThese are the images after baking soda brushing for months, understand that I have NEVER visited a dentist ever since I was 8:    \\n   \\n\\nAs my ego grew, I forget about the irritation from the gum and keep on using it.      \\nOne fine day, my gum gave up...I was brushing and I saw a nice chunk of my gum get physically brushed OUT of my teeth, I was shocked and at a lost of what I should do...I tried to piece the gum back in hoping that it would stay, suffices to say by the very next day, the gum eventually fall off.       \\n\\nIt is not that visible if I don't smile too big, but let this be a lesson to all of you out there, baking soda paste works, BUT PLEASE, make sure the paste is not gritty, PLEASE...don't experience this ever.\\nTL;DR: Brushed with Baking Soda for months and ended up accidentally making half of my gum come off because my paste is too coarse.\"], [\"SUBREDDIT: r/tifu\\nTITLE: TIFU bY brushing with Baking Soda without learning how to do it correctly.\\nPOST: Always wanted White Teeth but never visited the dentist since I was 8 due to fear [gotten bad experience as a kid].        \\n\\nSo I heard that baking soda makes your teeth white if you brush your teeth with it.        \\nWhat I didn't get from all the reading, is that though it is supposed to be made into a paste, it shouldn't still be gritty.       \\n\\nI always kept my baking soda paste gritty by putting very little water.        \\n\\nAfter brushing straight with it for three months, my gum was extremely sore, but on the up side is, it is true, it is all true, I am amazed myself ! My teeth is very VERY white now compared to the past and even when taking pictures, the teeth becomes the center of attention simply because of how white it is, even my friends jokingly asked if I have painted it white.       \\nThese are the images after baking soda brushing for months, understand that I have NEVER visited a dentist ever since I was 8:    \\n   \\n\\nAs my ego grew, I forget about the irritation from the gum and keep on using it.      \\nOne fine day, my gum gave up...I was brushing and I saw a nice chunk of my gum get physically brushed OUT of my teeth, I was shocked and at a lost of what I should do...I tried to piece the gum back in hoping that it would stay, suffices to say by the very next day, the gum eventually fall off.       \\n\\nIt is not that visible if I don't smile too big, but let this be a lesson to all of you out there, baking soda paste works, BUT PLEASE, make sure the paste is not gritty, PLEASE...don't experience this ever.\\nTL;DR: Brushed with Gritty Baking Soda paste. Gum got damaged enough where it came out naturally with no pain, left open wound till now, can barely taste food and still eating through sheer determination\"]]\n"
          ]
        },
        {
          "metadata": {
            "tags": null
          },
          "name": "stderr",
          "output_type": "stream",
          "text": [
            "Setting `pad_token_id` to `eos_token_id`:2 for open-end generation.\n",
            "Setting `pad_token_id` to `eos_token_id`:2 for open-end generation.\n",
            "Setting `pad_token_id` to `eos_token_id`:2 for open-end generation.\n",
            "Setting `pad_token_id` to `eos_token_id`:2 for open-end generation.\n"
          ]
        },
        {
          "metadata": {
            "tags": null
          },
          "name": "stdout",
          "output_type": "stream",
          "text": [
            "\n",
            "Outputs for input 13:  [[\"SUBREDDIT: r/relationships\\nTITLE: Me [27M] with [27F] was she the one that got away?\\nPOST: Basically this is just something that has been bugging me for a while and want to know what you guys think. I met this girl Cara when I was in college. We were both in long distance relationships throughout college so we never dated, but I flirted my dardnest with her.\\n\\nFast forward to graduation, I end up breaking up with my LDR and Cara moves about two hours away, gets engaged. I would talk to her semi-regularly during this time. \\n\\nSome time passes and she gets ready to move far away to grad school, I'm bummed by this, but she keeps saying she wants to see me before she leaves. We plan a night to go to dinner. She drives the two hours down to my house, we have an awesome night out, dinner, drinks. Go back to hang back at my house. I so desperately want to make a move, but the whole thing about her being engaged and not wanting to make things weird get in the way. We hug, say our good byes, and I figure that's the last time I'll see her maybe ever.\\n\\nShe texts me at 3 AM when she gets home and says she wants to hangout again. Now I'm really thrown through a loop.\\n\\nShe comes back down two days later, we go out for drinks again and we end up watching fireworks on a freaking boat. I was so god damn close to just kissing her but I didn't do it. And now she's married.\\n\\nDid I fuck up? Was I just reading too much in to it? She was a pretty conservative girl (never saw her flirting with other guys). None of her friends really liked her BF and would sometimes insinuate that we would be better together. Not that any of this matters at this point.\\n\\nWhen I get drunk I think about texting her asking if I should have made a move that night, but never actually do it.\\n\\nThoughts?\\nTL;DR: Met a girl in college, I flirted with her constantly even knew as well as some of her friends did that there were still feelings between us.\"], [\"SUBREDDIT: r/relationships\\nTITLE: Me [27M] with [27F] was she the one that got away?\\nPOST: Basically this is just something that has been bugging me for a while and want to know what you guys think. I met this girl Cara when I was in college. We were both in long distance relationships throughout college so we never dated, but I flirted my dardnest with her.\\n\\nFast forward to graduation, I end up breaking up with my LDR and Cara moves about two hours away, gets engaged. I would talk to her semi-regularly during this time. \\n\\nSome time passes and she gets ready to move far away to grad school, I'm bummed by this, but she keeps saying she wants to see me before she leaves. We plan a night to go to dinner. She drives the two hours down to my house, we have an awesome night out, dinner, drinks. Go back to hang back at my house. I so desperately want to make a move, but the whole thing about her being engaged and not wanting to make things weird get in the way. We hug, say our good byes, and I figure that's the last time I'll see her maybe ever.\\n\\nShe texts me at 3 AM when she gets home and says she wants to hangout again. Now I'm really thrown through a loop.\\n\\nShe comes back down two days later, we go out for drinks again and we end up watching fireworks on a freaking boat. I was so god damn close to just kissing her but I didn't do it. And now she's married.\\n\\nDid I fuck up? Was I just reading too much in to it? She was a pretty conservative girl (never saw her flirting with other guys). None of her friends really liked her BF and would sometimes insinuate that we would be better together. Not that any of this matters at this point.\\n\\nWhen I get drunk I think about texting her asking if I should have made a move that night, but never actually do it.\\n\\nThoughts?\\nTL;DR: Had a great night out with a girls who was engaged getting ready to move across country.. didn't seal it with my lips...\"], [\"SUBREDDIT: r/relationships\\nTITLE: Me [27M] with [27F] was she the one that got away?\\nPOST: Basically this is just something that has been bugging me for a while and want to know what you guys think. I met this girl Cara when I was in college. We were both in long distance relationships throughout college so we never dated, but I flirted my dardnest with her.\\n\\nFast forward to graduation, I end up breaking up with my LDR and Cara moves about two hours away, gets engaged. I would talk to her semi-regularly during this time. \\n\\nSome time passes and she gets ready to move far away to grad school, I'm bummed by this, but she keeps saying she wants to see me before she leaves. We plan a night to go to dinner. She drives the two hours down to my house, we have an awesome night out, dinner, drinks. Go back to hang back at my house. I so desperately want to make a move, but the whole thing about her being engaged and not wanting to make things weird get in the way. We hug, say our good byes, and I figure that's the last time I'll see her maybe ever.\\n\\nShe texts me at 3 AM when she gets home and says she wants to hangout again. Now I'm really thrown through a loop.\\n\\nShe comes back down two days later, we go out for drinks again and we end up watching fireworks on a freaking boat. I was so god damn close to just kissing her but I didn't do it. And now she's married.\\n\\nDid I fuck up? Was I just reading too much in to it? She was a pretty conservative girl (never saw her flirting with other guys). None of her friends really liked her BF and would sometimes insinuate that we would be better together. Not that any of this matters at this point.\\n\\nWhen I get drunk I think about texting her asking if I should have made a move that night, but never actually do it.\\n\\nThoughts?\\nTL;DR: Flirted with my old grad school crush, it ends with us making our from eachothers mouths to their wedding altar, wondering if I shouldve made more of a move or just not read too much into things.\"], [\"SUBREDDIT: r/relationships\\nTITLE: Me [27M] with [27F] was she the one that got away?\\nPOST: Basically this is just something that has been bugging me for a while and want to know what you guys think. I met this girl Cara when I was in college. We were both in long distance relationships throughout college so we never dated, but I flirted my dardnest with her.\\n\\nFast forward to graduation, I end up breaking up with my LDR and Cara moves about two hours away, gets engaged. I would talk to her semi-regularly during this time. \\n\\nSome time passes and she gets ready to move far away to grad school, I'm bummed by this, but she keeps saying she wants to see me before she leaves. We plan a night to go to dinner. She drives the two hours down to my house, we have an awesome night out, dinner, drinks. Go back to hang back at my house. I so desperately want to make a move, but the whole thing about her being engaged and not wanting to make things weird get in the way. We hug, say our good byes, and I figure that's the last time I'll see her maybe ever.\\n\\nShe texts me at 3 AM when she gets home and says she wants to hangout again. Now I'm really thrown through a loop.\\n\\nShe comes back down two days later, we go out for drinks again and we end up watching fireworks on a freaking boat. I was so god damn close to just kissing her but I didn't do it. And now she's married.\\n\\nDid I fuck up? Was I just reading too much in to it? She was a pretty conservative girl (never saw her flirting with other guys). None of her friends really liked her BF and would sometimes insinuate that we would be better together. Not that any of this matters at this point.\\n\\nWhen I get drunk I think about texting her asking if I should have made a move that night, but never actually do it.\\n\\nThoughts?\\nTL;DR: Almost had sex with my best friend from college after she broke off her engagement right as moving day gets close. Now married and regretting missing opportunity.\"]]\n"
          ]
        },
        {
          "metadata": {
            "tags": null
          },
          "name": "stderr",
          "output_type": "stream",
          "text": [
            "Setting `pad_token_id` to `eos_token_id`:2 for open-end generation.\n",
            "Setting `pad_token_id` to `eos_token_id`:2 for open-end generation.\n",
            "Setting `pad_token_id` to `eos_token_id`:2 for open-end generation.\n",
            "Setting `pad_token_id` to `eos_token_id`:2 for open-end generation.\n"
          ]
        },
        {
          "metadata": {
            "tags": null
          },
          "name": "stdout",
          "output_type": "stream",
          "text": [
            "\n",
            "Outputs for input 14:  [[\"SUBREDDIT: r/offmychest\\nTITLE: My dad's in the hospital, again. Need to vent a bit.\\nPOST: My dad just turned 83 last week. The (sort of) short version of the chain of events is this. Last year he fell in the shower then didn't go to the doctor. For about the next 3 days he got weaker and more tired. He started hallucinating (seeing his dead brother in the room, etc.) so my mom got him to the hospital. He had lost a lot of blood through presumably some internal bleeding. They got more blood in him and stabilized so after a week he went home. He recovered pretty well.\\n\\nFast forward to October and one morning he couldn't get up off the couch, had no energy and was looking really bad, so back to the hospital he goes. He spent two weeks there this time (and had to miss my brother's wedding) because it was an infection in his blood and it took a while to get the right antibiotics in him to knock out the infection.\\n\\nThree days ago my dad was back in the hospital again for being weak and hallucinating. Low on blood again so they've given him more, but he's still too weak to get out of bed, so we don't know how long he'll be there.\\n\\nI'm starting to get really worried that he doesn't have much time left. He *just* retired about 3 months ago, and to think that now he could be near the end really sucks. He has lived to an older age than all of his siblings except one half-sister. I'm only 37 and I'm not ready to not have my dad around.\\n\\nNot really looking for comments or advice, but just needed a place to write it out. Thanks for reading.\\nTL;DR: Dad's gone into multiple hospitals in the past three years. Maybe nearing his end and it hurts knowing he won't be around forever.\"], [\"SUBREDDIT: r/offmychest\\nTITLE: My dad's in the hospital, again. Need to vent a bit.\\nPOST: My dad just turned 83 last week. The (sort of) short version of the chain of events is this. Last year he fell in the shower then didn't go to the doctor. For about the next 3 days he got weaker and more tired. He started hallucinating (seeing his dead brother in the room, etc.) so my mom got him to the hospital. He had lost a lot of blood through presumably some internal bleeding. They got more blood in him and stabilized so after a week he went home. He recovered pretty well.\\n\\nFast forward to October and one morning he couldn't get up off the couch, had no energy and was looking really bad, so back to the hospital he goes. He spent two weeks there this time (and had to miss my brother's wedding) because it was an infection in his blood and it took a while to get the right antibiotics in him to knock out the infection.\\n\\nThree days ago my dad was back in the hospital again for being weak and hallucinating. Low on blood again so they've given him more, but he's still too weak to get out of bed, so we don't know how long he'll be there.\\n\\nI'm starting to get really worried that he doesn't have much time left. He *just* retired about 3 months ago, and to think that now he could be near the end really sucks. He has lived to an older age than all of his siblings except one half-sister. I'm only 37 and I'm not ready to not have my dad around.\\n\\nNot really looking for comments or advice, but just needed a place to write it out. Thanks for reading.\\nTL;DR: Dad keeps having to stay in the hospital with low or no blood pressure and a bunch of other stuff making him sick and weary. May not have much longer here.\"], [\"SUBREDDIT: r/offmychest\\nTITLE: My dad's in the hospital, again. Need to vent a bit.\\nPOST: My dad just turned 83 last week. The (sort of) short version of the chain of events is this. Last year he fell in the shower then didn't go to the doctor. For about the next 3 days he got weaker and more tired. He started hallucinating (seeing his dead brother in the room, etc.) so my mom got him to the hospital. He had lost a lot of blood through presumably some internal bleeding. They got more blood in him and stabilized so after a week he went home. He recovered pretty well.\\n\\nFast forward to October and one morning he couldn't get up off the couch, had no energy and was looking really bad, so back to the hospital he goes. He spent two weeks there this time (and had to miss my brother's wedding) because it was an infection in his blood and it took a while to get the right antibiotics in him to knock out the infection.\\n\\nThree days ago my dad was back in the hospital again for being weak and hallucinating. Low on blood again so they've given him more, but he's still too weak to get out of bed, so we don't know how long he'll be there.\\n\\nI'm starting to get really worried that he doesn't have much time left. He *just* retired about 3 months ago, and to think that now he could be near the end really sucks. He has lived to an older age than all of his siblings except one half-sister. I'm only 37 and I'm not ready to not have my dad around.\\n\\nNot really looking for comments or advice, but just needed a place to write it out. Thanks for reading.\\nTL;DR: Dad has been in and out of hopsital and getting sicker (losing blood, low on blood volume), starting to worry he won't recover this time\"], [\"SUBREDDIT: r/offmychest\\nTITLE: My dad's in the hospital, again. Need to vent a bit.\\nPOST: My dad just turned 83 last week. The (sort of) short version of the chain of events is this. Last year he fell in the shower then didn't go to the doctor. For about the next 3 days he got weaker and more tired. He started hallucinating (seeing his dead brother in the room, etc.) so my mom got him to the hospital. He had lost a lot of blood through presumably some internal bleeding. They got more blood in him and stabilized so after a week he went home. He recovered pretty well.\\n\\nFast forward to October and one morning he couldn't get up off the couch, had no energy and was looking really bad, so back to the hospital he goes. He spent two weeks there this time (and had to miss my brother's wedding) because it was an infection in his blood and it took a while to get the right antibiotics in him to knock out the infection.\\n\\nThree days ago my dad was back in the hospital again for being weak and hallucinating. Low on blood again so they've given him more, but he's still too weak to get out of bed, so we don't know how long he'll be there.\\n\\nI'm starting to get really worried that he doesn't have much time left. He *just* retired about 3 months ago, and to think that now he could be near the end really sucks. He has lived to an older age than all of his siblings except one half-sister. I'm only 37 and I'm not ready to not have my dad around.\\n\\nNot really looking for comments or advice, but just needed a place to write it out. Thanks for reading.\\nTL;DR: Dad is getting weaker so he's been in the hospital a few times over the past year. Really hoping things turn around for him soon, but worry that might not happen\"]]\n"
          ]
        },
        {
          "metadata": {
            "tags": null
          },
          "name": "stderr",
          "output_type": "stream",
          "text": [
            "Setting `pad_token_id` to `eos_token_id`:2 for open-end generation.\n",
            "Setting `pad_token_id` to `eos_token_id`:2 for open-end generation.\n",
            "Setting `pad_token_id` to `eos_token_id`:2 for open-end generation.\n",
            "Setting `pad_token_id` to `eos_token_id`:2 for open-end generation.\n"
          ]
        },
        {
          "metadata": {
            "tags": null
          },
          "name": "stdout",
          "output_type": "stream",
          "text": [
            "\n",
            "Outputs for input 15:  [['SUBREDDIT: r/AskReddit\\nTITLE: Advice for dealing with a non-binding HOA and restrictive covenants.\\nPOST: I posted this over in advice, but I only got one response, so I\\'m trying here...\\n\\nA neighbor of mine received a letter in the mail today stating that the HOA was taking action against him for keeping chickens on his property.\\n\\nThe letter arrived normal post, and it described that keeping a chicken coop was against the neighborhood covenant and that he had been previously warned about the infraction.  It also stated that he would be responsible for the attorney fees and any and all legal fees associated with pursuing the case in court.\\n\\nBeing a non-binding HOA, I assume that they are only able to enforce the covenants outlined in the deed for the property which was created by the now-no-longer builder of the neighborhood 35ish years ago.   We\\'ve gone to the zoning department to view the original deed to the property and they said that the covenant was too old to enforce.\\n\\nHere is the particular covenant that the HOA is referencing:\\n*No noxious or offensive activity shall be carried on upon any lot, nor shall anything be done thereon which may be or may become an annoyance or nuisance to the neighborhood.  No hogs, goats, poultry, cows or horses which shall constitute a nuisance or cause unsanitary conditions, or any undesirable situation to any neighboring property, shall be maintained on any lot.*\\n\\nDoes anyone have any advice with how to proceed?\\n\\nCan a covenant on a deed really be too old to enforce? \\n\\nHow would you read \"which shall constitute a nuisance\" in the statement above?\\n\\nWe\\'re looking in to getting an attorney but just ignoring them seems a might bit cheaper.\\n\\nSome fun facts:\\n\\nHe has eight chickens, the coop is approximately 5\\' by 4\\' and 5\\' tall.  The run is about 20 feet square.\\n\\nWe live in the county so there is no ordinance against keeping small flocks of chickens.\\n\\nMany other neighbors keep small flocks of chickens. (I keep chickens and bees.)\\n\\nWe do not pay dues to the HOA.\\n\\nThe attorney referenced in the latest letter lives in our neighborhood.\\nTL;DR: Non-binding HOA states that my neighbor owns his own property and he can do what ever he wants on it despite previous warnings.'], ['SUBREDDIT: r/AskReddit\\nTITLE: Advice for dealing with a non-binding HOA and restrictive covenants.\\nPOST: I posted this over in advice, but I only got one response, so I\\'m trying here...\\n\\nA neighbor of mine received a letter in the mail today stating that the HOA was taking action against him for keeping chickens on his property.\\n\\nThe letter arrived normal post, and it described that keeping a chicken coop was against the neighborhood covenant and that he had been previously warned about the infraction.  It also stated that he would be responsible for the attorney fees and any and all legal fees associated with pursuing the case in court.\\n\\nBeing a non-binding HOA, I assume that they are only able to enforce the covenants outlined in the deed for the property which was created by the now-no-longer builder of the neighborhood 35ish years ago.   We\\'ve gone to the zoning department to view the original deed to the property and they said that the covenant was too old to enforce.\\n\\nHere is the particular covenant that the HOA is referencing:\\n*No noxious or offensive activity shall be carried on upon any lot, nor shall anything be done thereon which may be or may become an annoyance or nuisance to the neighborhood.  No hogs, goats, poultry, cows or horses which shall constitute a nuisance or cause unsanitary conditions, or any undesirable situation to any neighboring property, shall be maintained on any lot.*\\n\\nDoes anyone have any advice with how to proceed?\\n\\nCan a covenant on a deed really be too old to enforce? \\n\\nHow would you read \"which shall constitute a nuisance\" in the statement above?\\n\\nWe\\'re looking in to getting an attorney but just ignoring them seems a might bit cheaper.\\n\\nSome fun facts:\\n\\nHe has eight chickens, the coop is approximately 5\\' by 4\\' and 5\\' tall.  The run is about 20 feet square.\\n\\nWe live in the county so there is no ordinance against keeping small flocks of chickens.\\n\\nMany other neighbors keep small flocks of chickens. (I keep chickens and bees.)\\n\\nWe do not pay dues to the HOA.\\n\\nThe attorney referenced in the latest letter lives in our neighborhood.\\nTL;DR: Chickens on my property violated neighborhood rules, but I believe the HOA doesn\\'t have the power to enforce the violation.'], ['SUBREDDIT: r/AskReddit\\nTITLE: Advice for dealing with a non-binding HOA and restrictive covenants.\\nPOST: I posted this over in advice, but I only got one response, so I\\'m trying here...\\n\\nA neighbor of mine received a letter in the mail today stating that the HOA was taking action against him for keeping chickens on his property.\\n\\nThe letter arrived normal post, and it described that keeping a chicken coop was against the neighborhood covenant and that he had been previously warned about the infraction.  It also stated that he would be responsible for the attorney fees and any and all legal fees associated with pursuing the case in court.\\n\\nBeing a non-binding HOA, I assume that they are only able to enforce the covenants outlined in the deed for the property which was created by the now-no-longer builder of the neighborhood 35ish years ago.   We\\'ve gone to the zoning department to view the original deed to the property and they said that the covenant was too old to enforce.\\n\\nHere is the particular covenant that the HOA is referencing:\\n*No noxious or offensive activity shall be carried on upon any lot, nor shall anything be done thereon which may be or may become an annoyance or nuisance to the neighborhood.  No hogs, goats, poultry, cows or horses which shall constitute a nuisance or cause unsanitary conditions, or any undesirable situation to any neighboring property, shall be maintained on any lot.*\\n\\nDoes anyone have any advice with how to proceed?\\n\\nCan a covenant on a deed really be too old to enforce? \\n\\nHow would you read \"which shall constitute a nuisance\" in the statement above?\\n\\nWe\\'re looking in to getting an attorney but just ignoring them seems a might bit cheaper.\\n\\nSome fun facts:\\n\\nHe has eight chickens, the coop is approximately 5\\' by 4\\' and 5\\' tall.  The run is about 20 feet square.\\n\\nWe live in the county so there is no ordinance against keeping small flocks of chickens.\\n\\nMany other neighbors keep small flocks of chickens. (I keep chickens and bees.)\\n\\nWe do not pay dues to the HOA.\\n\\nThe attorney referenced in the latest letter lives in our neighborhood.\\nTL;DR: The HOA wants us to stop our non-neighbor affecting behavior and we want their lawyers to shove it up their ass.'], ['SUBREDDIT: r/AskReddit\\nTITLE: Advice for dealing with a non-binding HOA and restrictive covenants.\\nPOST: I posted this over in advice, but I only got one response, so I\\'m trying here...\\n\\nA neighbor of mine received a letter in the mail today stating that the HOA was taking action against him for keeping chickens on his property.\\n\\nThe letter arrived normal post, and it described that keeping a chicken coop was against the neighborhood covenant and that he had been previously warned about the infraction.  It also stated that he would be responsible for the attorney fees and any and all legal fees associated with pursuing the case in court.\\n\\nBeing a non-binding HOA, I assume that they are only able to enforce the covenants outlined in the deed for the property which was created by the now-no-longer builder of the neighborhood 35ish years ago.   We\\'ve gone to the zoning department to view the original deed to the property and they said that the covenant was too old to enforce.\\n\\nHere is the particular covenant that the HOA is referencing:\\n*No noxious or offensive activity shall be carried on upon any lot, nor shall anything be done thereon which may be or may become an annoyance or nuisance to the neighborhood.  No hogs, goats, poultry, cows or horses which shall constitute a nuisance or cause unsanitary conditions, or any undesirable situation to any neighboring property, shall be maintained on any lot.*\\n\\nDoes anyone have any advice with how to proceed?\\n\\nCan a covenant on a deed really be too old to enforce? \\n\\nHow would you read \"which shall constitute a nuisance\" in the statement above?\\n\\nWe\\'re looking in to getting an attorney but just ignoring them seems a might bit cheaper.\\n\\nSome fun facts:\\n\\nHe has eight chickens, the coop is approximately 5\\' by 4\\' and 5\\' tall.  The run is about 20 feet square.\\n\\nWe live in the county so there is no ordinance against keeping small flocks of chickens.\\n\\nMany other neighbors keep small flocks of chickens. (I keep chickens and bees.)\\n\\nWe do not pay dues to the HOA.\\n\\nThe attorney referenced in the latest letter lives in our neighborhood.\\nTL;DR: Is there an angle we can take legally to get the upper hand here before we end up losing our house because we couldn\\'t afford lawyer after lawyer?']]\n"
          ]
        },
        {
          "metadata": {
            "tags": null
          },
          "name": "stderr",
          "output_type": "stream",
          "text": [
            "Setting `pad_token_id` to `eos_token_id`:2 for open-end generation.\n",
            "Setting `pad_token_id` to `eos_token_id`:2 for open-end generation.\n",
            "Setting `pad_token_id` to `eos_token_id`:2 for open-end generation.\n",
            "Setting `pad_token_id` to `eos_token_id`:2 for open-end generation.\n"
          ]
        },
        {
          "metadata": {
            "tags": null
          },
          "name": "stdout",
          "output_type": "stream",
          "text": [
            "\n",
            "Outputs for input 16:  [['SUBREDDIT: r/relationships\\nTITLE: Why does my (24F) boyfriend (25M) of four months make these kinds of comments to me?\\nPOST: I know we are all human here, and we all find people attractive. I\\'m happy to discuss beautiful people with my SO, but over the last few days a few comments just seem unnecessary. Why do you find it necessary to tell me that you like the way some reality show girl moved her mouth, (\"Ooo, I like THAT.\") Or, when discussing acceptable age differences in relationships, tell me that you would gladly fuck a 15 year old but not date her. This stuff feels hurtful but I cannot intellectualize why. It feels very sexually aggressive and almost disrespectful.\\n\\nIs it unreasonable that this stuff makes me uncomfortable? We have been dating for about 4 months now, and I feel like this is just a sign of sloppiness. I reacted in the moment to his comment about that girls mouth, saying \"okay cool, I\\'ll leave you to look at girls mouths and I\\'ll head home.\" and then he will cling to me saying \"no, don\\'t go,\" kissing me, telling me he loves me..... I\\'ve also noticed an increase in the amount of \"play\" kissing (I don\\'t know if other people do this, but it\\'s just a playful kinda mouth thing...) versus actual kissing. I\\'ve been staying over his apartment (or he stays with me) most every night since we became monogamous. I\\'m wondering if this is all a sign that he is just comfortable and expects me to be there all the time. Maybe some distance would be good. I\\'m afraid though that he will interpret me spending less time with him as a decrease in affection, however...\\n\\nWhy do some dudes act like this? I am not sexually inhibited. I casually sexed a good deal while single, and I can recognize an attractive man. But I don\\'t feel compelled to inform him in the way he seems compelled to inform me.\\n\\nSo I guess my main curiosities are: Is this a typical dude thing? Is it a sign of comfort level in the relationship? Is he being rude or am I just projecting my own insecurity?\\nTL;DR: Boyfriend says sexual comments to me, I feel very uncomfortable as they remind me of my ex\\'s emotional abuse regarding body image and attractiveness.'], ['SUBREDDIT: r/relationships\\nTITLE: Why does my (24F) boyfriend (25M) of four months make these kinds of comments to me?\\nPOST: I know we are all human here, and we all find people attractive. I\\'m happy to discuss beautiful people with my SO, but over the last few days a few comments just seem unnecessary. Why do you find it necessary to tell me that you like the way some reality show girl moved her mouth, (\"Ooo, I like THAT.\") Or, when discussing acceptable age differences in relationships, tell me that you would gladly fuck a 15 year old but not date her. This stuff feels hurtful but I cannot intellectualize why. It feels very sexually aggressive and almost disrespectful.\\n\\nIs it unreasonable that this stuff makes me uncomfortable? We have been dating for about 4 months now, and I feel like this is just a sign of sloppiness. I reacted in the moment to his comment about that girls mouth, saying \"okay cool, I\\'ll leave you to look at girls mouths and I\\'ll head home.\" and then he will cling to me saying \"no, don\\'t go,\" kissing me, telling me he loves me..... I\\'ve also noticed an increase in the amount of \"play\" kissing (I don\\'t know if other people do this, but it\\'s just a playful kinda mouth thing...) versus actual kissing. I\\'ve been staying over his apartment (or he stays with me) most every night since we became monogamous. I\\'m wondering if this is all a sign that he is just comfortable and expects me to be there all the time. Maybe some distance would be good. I\\'m afraid though that he will interpret me spending less time with him as a decrease in affection, however...\\n\\nWhy do some dudes act like this? I am not sexually inhibited. I casually sexed a good deal while single, and I can recognize an attractive man. But I don\\'t feel compelled to inform him in the way he seems compelled to inform me.\\n\\nSo I guess my main curiosities are: Is this a typical dude thing? Is it a sign of comfort level in the relationship? Is he being rude or am I just projecting my own insecurity?\\nTL;DR: BF asks me in public if I\\'d let him fuck an underage chick. Gets mad when I say no and go home. Wondering how common this behavior is'], ['SUBREDDIT: r/relationships\\nTITLE: Why does my (24F) boyfriend (25M) of four months make these kinds of comments to me?\\nPOST: I know we are all human here, and we all find people attractive. I\\'m happy to discuss beautiful people with my SO, but over the last few days a few comments just seem unnecessary. Why do you find it necessary to tell me that you like the way some reality show girl moved her mouth, (\"Ooo, I like THAT.\") Or, when discussing acceptable age differences in relationships, tell me that you would gladly fuck a 15 year old but not date her. This stuff feels hurtful but I cannot intellectualize why. It feels very sexually aggressive and almost disrespectful.\\n\\nIs it unreasonable that this stuff makes me uncomfortable? We have been dating for about 4 months now, and I feel like this is just a sign of sloppiness. I reacted in the moment to his comment about that girls mouth, saying \"okay cool, I\\'ll leave you to look at girls mouths and I\\'ll head home.\" and then he will cling to me saying \"no, don\\'t go,\" kissing me, telling me he loves me..... I\\'ve also noticed an increase in the amount of \"play\" kissing (I don\\'t know if other people do this, but it\\'s just a playful kinda mouth thing...) versus actual kissing. I\\'ve been staying over his apartment (or he stays with me) most every night since we became monogamous. I\\'m wondering if this is all a sign that he is just comfortable and expects me to be there all the time. Maybe some distance would be good. I\\'m afraid though that he will interpret me spending less time with him as a decrease in affection, however...\\n\\nWhy do some dudes act like this? I am not sexually inhibited. I casually sexed a good deal while single, and I can recognize an attractive man. But I don\\'t feel compelled to inform him in the way he seems compelled to inform me.\\n\\nSo I guess my main curiosities are: Is this a typical dude thing? Is it a sign of comfort level in the relationship? Is he being rude or am I just projecting my own insecurity?\\nTL;DR: My boyfriend tells me things about the female body or sexuality that make me feel uncomfortable. Any thoughts on how to talk about it without hurting his feelings?'], ['SUBREDDIT: r/relationships\\nTITLE: Why does my (24F) boyfriend (25M) of four months make these kinds of comments to me?\\nPOST: I know we are all human here, and we all find people attractive. I\\'m happy to discuss beautiful people with my SO, but over the last few days a few comments just seem unnecessary. Why do you find it necessary to tell me that you like the way some reality show girl moved her mouth, (\"Ooo, I like THAT.\") Or, when discussing acceptable age differences in relationships, tell me that you would gladly fuck a 15 year old but not date her. This stuff feels hurtful but I cannot intellectualize why. It feels very sexually aggressive and almost disrespectful.\\n\\nIs it unreasonable that this stuff makes me uncomfortable? We have been dating for about 4 months now, and I feel like this is just a sign of sloppiness. I reacted in the moment to his comment about that girls mouth, saying \"okay cool, I\\'ll leave you to look at girls mouths and I\\'ll head home.\" and then he will cling to me saying \"no, don\\'t go,\" kissing me, telling me he loves me..... I\\'ve also noticed an increase in the amount of \"play\" kissing (I don\\'t know if other people do this, but it\\'s just a playful kinda mouth thing...) versus actual kissing. I\\'ve been staying over his apartment (or he stays with me) most every night since we became monogamous. I\\'m wondering if this is all a sign that he is just comfortable and expects me to be there all the time. Maybe some distance would be good. I\\'m afraid though that he will interpret me spending less time with him as a decrease in affection, however...\\n\\nWhy do some dudes act like this? I am not sexually inhibited. I casually sexed a good deal while single, and I can recognize an attractive man. But I don\\'t feel compelled to inform him in the way he seems compelled to inform me.\\n\\nSo I guess my main curiosities are: Is this a typical dude thing? Is it a sign of comfort level in the relationship? Is he being rude or am I just projecting my own insecurity?\\nTL;DR: Boyfriend says shit like, \"omg he has so much muscle!\" And \"Wow...his ass is amazing...\" And, \"if it weren\\'t against the law, I would totally bone those five little teenagers from TOWIE on my couch right now! Oh and I think I like their friend too...\"']]\n"
          ]
        },
        {
          "metadata": {
            "tags": null
          },
          "name": "stderr",
          "output_type": "stream",
          "text": [
            "Setting `pad_token_id` to `eos_token_id`:2 for open-end generation.\n",
            "Setting `pad_token_id` to `eos_token_id`:2 for open-end generation.\n",
            "Setting `pad_token_id` to `eos_token_id`:2 for open-end generation.\n",
            "Setting `pad_token_id` to `eos_token_id`:2 for open-end generation.\n"
          ]
        },
        {
          "metadata": {
            "tags": null
          },
          "name": "stdout",
          "output_type": "stream",
          "text": [
            "\n",
            "Outputs for input 17:  [[\"SUBREDDIT: r/tifu\\nTITLE: TIFU by emptying the vacuum\\nPOST: So my wife and I are adopting two kittens today and have been preparing the kitten room, cleaning thoroughly and setting everything up. Vacuuming was my job, and I was doing a damn good job (IMO). I should inform you that we have one of those Dyson Cyclone vacuums that has the cylinder that you detach and then press the button to empty from the bottom. So I detach the cylinder and hold it over the trash bag to empty. I press the button-dust, dirt and hair ALL OVER the floor while only a small amount made it into the bag. I curse silently, turn the vacuum back on and go to work. I had gotten most of it back into the vacuum when the garbage bag was caught by the vacuum and tipped over, spilling the rest of the vacuum's prior contents onto the floor. I cursed again (not silently this time) and cleaned the rest of it up. Such a simple task and yet, TIFU.\\nTL;DR: Spilled dust and cat hair all over the carpet with the very last bit that I was trying to clean the garage canister out and then spilled the previous weeks worth all over the same spot\"], [\"SUBREDDIT: r/tifu\\nTITLE: TIFU by emptying the vacuum\\nPOST: So my wife and I are adopting two kittens today and have been preparing the kitten room, cleaning thoroughly and setting everything up. Vacuuming was my job, and I was doing a damn good job (IMO). I should inform you that we have one of those Dyson Cyclone vacuums that has the cylinder that you detach and then press the button to empty from the bottom. So I detach the cylinder and hold it over the trash bag to empty. I press the button-dust, dirt and hair ALL OVER the floor while only a small amount made it into the bag. I curse silently, turn the vacuum back on and go to work. I had gotten most of it back into the vacuum when the garbage bag was caught by the vacuum and tipped over, spilling the rest of the vacuum's prior contents onto the floor. I cursed again (not silently this time) and cleaned the rest of it up. Such a simple task and yet, TIFU.\\nTL;DR: Emptied out too much at once. Garbage bag gets sucked and now there's a giant pile of cat hair in our house.\"], [\"SUBREDDIT: r/tifu\\nTITLE: TIFU by emptying the vacuum\\nPOST: So my wife and I are adopting two kittens today and have been preparing the kitten room, cleaning thoroughly and setting everything up. Vacuuming was my job, and I was doing a damn good job (IMO). I should inform you that we have one of those Dyson Cyclone vacuums that has the cylinder that you detach and then press the button to empty from the bottom. So I detach the cylinder and hold it over the trash bag to empty. I press the button-dust, dirt and hair ALL OVER the floor while only a small amount made it into the bag. I curse silently, turn the vacuum back on and go to work. I had gotten most of it back into the vacuum when the garbage bag was caught by the vacuum and tipped over, spilling the rest of the vacuum's prior contents onto the floor. I cursed again (not silently this time) and cleaned the rest of it up. Such a simple task and yet, TIFU.\\nTL;DR: Did a very nice job vacuuming before adoption day for 2 cute new cats. Fucking got lazy at cleanup and now have a second round of floor cleanups ahead.\"], [\"SUBREDDIT: r/tifu\\nTITLE: TIFU by emptying the vacuum\\nPOST: So my wife and I are adopting two kittens today and have been preparing the kitten room, cleaning thoroughly and setting everything up. Vacuuming was my job, and I was doing a damn good job (IMO). I should inform you that we have one of those Dyson Cyclone vacuums that has the cylinder that you detach and then press the button to empty from the bottom. So I detach the cylinder and hold it over the trash bag to empty. I press the button-dust, dirt and hair ALL OVER the floor while only a small amount made it into the bag. I curse silently, turn the vacuum back on and go to work. I had gotten most of it back into the vacuum when the garbage bag was caught by the vacuum and tipped over, spilling the rest of the vacuum's prior contents onto the floor. I cursed again (not silently this time) and cleaned the rest of it up. Such a simple task and yet, TIFU.\\nTL;DR: Emptied out vacuum cleaner too fast leading to half the load ending up all over the garage carpeting and a trip to Dicks with another garbage sack to buy replacement bags.\"]]\n"
          ]
        },
        {
          "metadata": {
            "tags": null
          },
          "name": "stderr",
          "output_type": "stream",
          "text": [
            "Setting `pad_token_id` to `eos_token_id`:2 for open-end generation.\n",
            "Setting `pad_token_id` to `eos_token_id`:2 for open-end generation.\n",
            "Setting `pad_token_id` to `eos_token_id`:2 for open-end generation.\n",
            "Setting `pad_token_id` to `eos_token_id`:2 for open-end generation.\n"
          ]
        },
        {
          "metadata": {
            "tags": null
          },
          "name": "stdout",
          "output_type": "stream",
          "text": [
            "\n",
            "Outputs for input 18:  [[\"SUBREDDIT: r/personalfinance\\nTITLE: $200 phone bill in one night\\nPOST: So I lost my phone for a few weeks, then yesterday I found it. I looked up my plan and had 5gbs of data left and two days in my plan. I didn't want to waste it so I googled how much data streaming a movie would take and it said 1-3gbs so I decided to use my phone as a hotspot and watch I'm Still Here on Netflix. Woke up in the morning to a $150 fee added to my $40 phone bill. I called them and the guy I spoke to initially estimated 3-4gbs for a movie, but when I pointed out I had apparently used 7 he thought that was normal too. He straight away said he could get half of the bill knocked off, and I just agreed to that because I (clearly) am not very technologically informed. I guess I'm just frustrated that their automatic setting for going over your data is to charge you $70 a gb instead of just adding their $10 1gb data pack to your plan and then they can't even text me to let me know until I've already blown through $150 worth. I received 3 emails (even though they manage to text me about paying my bill) about four hours after I watched the movie saying I was 50%, 75% and 100% over my data limit, and then another few hours later finally got a text saying I'd used all my data. Can/should I do anything about this or should I shuttup and pay my bill?\\nTL;DR: $0<(3*1->7)>$150. Charged by carrier without warning of data usage in real time, after I'd already surpassed usage.\"], [\"SUBREDDIT: r/personalfinance\\nTITLE: $200 phone bill in one night\\nPOST: So I lost my phone for a few weeks, then yesterday I found it. I looked up my plan and had 5gbs of data left and two days in my plan. I didn't want to waste it so I googled how much data streaming a movie would take and it said 1-3gbs so I decided to use my phone as a hotspot and watch I'm Still Here on Netflix. Woke up in the morning to a $150 fee added to my $40 phone bill. I called them and the guy I spoke to initially estimated 3-4gbs for a movie, but when I pointed out I had apparently used 7 he thought that was normal too. He straight away said he could get half of the bill knocked off, and I just agreed to that because I (clearly) am not very technologically informed. I guess I'm just frustrated that their automatic setting for going over your data is to charge you $70 a gb instead of just adding their $10 1gb data pack to your plan and then they can't even text me to let me know until I've already blown through $150 worth. I received 3 emails (even though they manage to text me about paying my bill) about four hours after I watched the movie saying I was 50%, 75% and 100% over my data limit, and then another few hours later finally got a text saying I'd used all my data. Can/should I do anything about this or should I shuttup and pay my bill?\\nTL;DR: Streamed one movie with 7gbs of my extra 5gbs which came down as an additional $200 charge on top of my monthly payment\"], [\"SUBREDDIT: r/personalfinance\\nTITLE: $200 phone bill in one night\\nPOST: So I lost my phone for a few weeks, then yesterday I found it. I looked up my plan and had 5gbs of data left and two days in my plan. I didn't want to waste it so I googled how much data streaming a movie would take and it said 1-3gbs so I decided to use my phone as a hotspot and watch I'm Still Here on Netflix. Woke up in the morning to a $150 fee added to my $40 phone bill. I called them and the guy I spoke to initially estimated 3-4gbs for a movie, but when I pointed out I had apparently used 7 he thought that was normal too. He straight away said he could get half of the bill knocked off, and I just agreed to that because I (clearly) am not very technologically informed. I guess I'm just frustrated that their automatic setting for going over your data is to charge you $70 a gb instead of just adding their $10 1gb data pack to your plan and then they can't even text me to let me know until I've already blown through $150 worth. I received 3 emails (even though they manage to text me about paying my bill) about four hours after I watched the movie saying I was 50%, 75% and 100% over my data limit, and then another few hours later finally got a text saying I'd used all my data. Can/should I do anything about this or should I shuttup and pay my bill?\\nTL;DR: Used data from my contract for first time, charged $6/gigabyte for watching TV on my phone rather than giving me an extra 1GB package for an additional $10.\"], [\"SUBREDDIT: r/personalfinance\\nTITLE: $200 phone bill in one night\\nPOST: So I lost my phone for a few weeks, then yesterday I found it. I looked up my plan and had 5gbs of data left and two days in my plan. I didn't want to waste it so I googled how much data streaming a movie would take and it said 1-3gbs so I decided to use my phone as a hotspot and watch I'm Still Here on Netflix. Woke up in the morning to a $150 fee added to my $40 phone bill. I called them and the guy I spoke to initially estimated 3-4gbs for a movie, but when I pointed out I had apparently used 7 he thought that was normal too. He straight away said he could get half of the bill knocked off, and I just agreed to that because I (clearly) am not very technologically informed. I guess I'm just frustrated that their automatic setting for going over your data is to charge you $70 a gb instead of just adding their $10 1gb data pack to your plan and then they can't even text me to let me know until I've already blown through $150 worth. I received 3 emails (even though they manage to text me about paying my bill) about four hours after I watched the movie saying I was 50%, 75% and 100% over my data limit, and then another few hours later finally got a text saying I'd used all my data. Can/should I do anything about this or should I shuttup and pay my bill?\\nTL;DR: Lost phone in July and found it last week. Watched a streamed movie in one sitting. Got charged $200 more than usual. Can and should I say something?\"]]\n"
          ]
        },
        {
          "metadata": {
            "tags": null
          },
          "name": "stderr",
          "output_type": "stream",
          "text": [
            "Setting `pad_token_id` to `eos_token_id`:2 for open-end generation.\n",
            "Setting `pad_token_id` to `eos_token_id`:2 for open-end generation.\n",
            "Setting `pad_token_id` to `eos_token_id`:2 for open-end generation.\n",
            "Setting `pad_token_id` to `eos_token_id`:2 for open-end generation.\n"
          ]
        },
        {
          "metadata": {
            "tags": null
          },
          "name": "stdout",
          "output_type": "stream",
          "text": [
            "\n",
            "Outputs for input 19:  [['SUBREDDIT: r/relationships\\nTITLE: Me [19M] Just discovered that my GF [19] has been lying to me about our long distance relationship.\\nPOST: Be sure to explain in detail with line breaks.\\n\\nI live in Oregon, she\\'s attending school on campus in Utah, but lived in Oregon. I visit her once a month for about a week. Last visit (march 31-apr6) she was super distant and snappy towards me, I brushed it off assuming she was stressed with school and work\\n\\nFour days ago (4/16) she says that she thinks we should take a break so she can focus on school and work, but when she comes home for the summer (June) we\\'ll be stronger.\\n\\nI was recently hanging out with one of our mutual friends and she asked me how we were doing. I told her about our break and she decided to Facetime her. I stayed in the room and listened (instant regret)\\n\\nMy GF of almost one year (April 25th) was talking with passion in her voice about this dark skinned handsome boy genius who owns his own business at 21, and that she\\'s spent the night at his house three different times. Our friend asked her if they did anything she responded with \"Not what you think but two other things.\" My stomach sank and I just don\\'t know how to handle this.\\n\\nI\\'m going to call her when she gets off work in about an hour and confront her about it.\\nTL;DR: Girlfriend and I broke up so she could focus more on education and not us. Turned out She wasn\\'t focused on education at all'], ['SUBREDDIT: r/relationships\\nTITLE: Me [19M] Just discovered that my GF [19] has been lying to me about our long distance relationship.\\nPOST: Be sure to explain in detail with line breaks.\\n\\nI live in Oregon, she\\'s attending school on campus in Utah, but lived in Oregon. I visit her once a month for about a week. Last visit (march 31-apr6) she was super distant and snappy towards me, I brushed it off assuming she was stressed with school and work\\n\\nFour days ago (4/16) she says that she thinks we should take a break so she can focus on school and work, but when she comes home for the summer (June) we\\'ll be stronger.\\n\\nI was recently hanging out with one of our mutual friends and she asked me how we were doing. I told her about our break and she decided to Facetime her. I stayed in the room and listened (instant regret)\\n\\nMy GF of almost one year (April 25th) was talking with passion in her voice about this dark skinned handsome boy genius who owns his own business at 21, and that she\\'s spent the night at his house three different times. Our friend asked her if they did anything she responded with \"Not what you think but two other things.\" My stomach sank and I just don\\'t know how to handle this.\\n\\nI\\'m going to call her when she gets off work in about an hour and confront her about it.\\nTL;DR: GF lied about spending the nights with black guy genius over spring break, found out by snooping through cell phone. Going to confront her and need some advice!'], ['SUBREDDIT: r/relationships\\nTITLE: Me [19M] Just discovered that my GF [19] has been lying to me about our long distance relationship.\\nPOST: Be sure to explain in detail with line breaks.\\n\\nI live in Oregon, she\\'s attending school on campus in Utah, but lived in Oregon. I visit her once a month for about a week. Last visit (march 31-apr6) she was super distant and snappy towards me, I brushed it off assuming she was stressed with school and work\\n\\nFour days ago (4/16) she says that she thinks we should take a break so she can focus on school and work, but when she comes home for the summer (June) we\\'ll be stronger.\\n\\nI was recently hanging out with one of our mutual friends and she asked me how we were doing. I told her about our break and she decided to Facetime her. I stayed in the room and listened (instant regret)\\n\\nMy GF of almost one year (April 25th) was talking with passion in her voice about this dark skinned handsome boy genius who owns his own business at 21, and that she\\'s spent the night at his house three different times. Our friend asked her if they did anything she responded with \"Not what you think but two other things.\" My stomach sank and I just don\\'t know how to handle this.\\n\\nI\\'m going to call her when she gets off work in about an hour and confront her about it.\\nTL;DR: Thought gf left from trip mad at me, discovered she cheated on me (twice?), don\\'t know how to feel sorry for myself or deal'], ['SUBREDDIT: r/relationships\\nTITLE: Me [19M] Just discovered that my GF [19] has been lying to me about our long distance relationship.\\nPOST: Be sure to explain in detail with line breaks.\\n\\nI live in Oregon, she\\'s attending school on campus in Utah, but lived in Oregon. I visit her once a month for about a week. Last visit (march 31-apr6) she was super distant and snappy towards me, I brushed it off assuming she was stressed with school and work\\n\\nFour days ago (4/16) she says that she thinks we should take a break so she can focus on school and work, but when she comes home for the summer (June) we\\'ll be stronger.\\n\\nI was recently hanging out with one of our mutual friends and she asked me how we were doing. I told her about our break and she decided to Facetime her. I stayed in the room and listened (instant regret)\\n\\nMy GF of almost one year (April 25th) was talking with passion in her voice about this dark skinned handsome boy genius who owns his own business at 21, and that she\\'s spent the night at his house three different times. Our friend asked her if they did anything she responded with \"Not what you think but two other things.\" My stomach sank and I just don\\'t know how to handle this.\\n\\nI\\'m going to call her when she gets off work in about an hour and confront her about it.\\nTL;DR: Lying gf is now claiming that we never had sex even though they have clearly. What should i plan on asking to find out exactly what she\\'s done before?']]\n"
          ]
        },
        {
          "metadata": {
            "tags": null
          },
          "name": "stderr",
          "output_type": "stream",
          "text": [
            "Setting `pad_token_id` to `eos_token_id`:2 for open-end generation.\n",
            "Setting `pad_token_id` to `eos_token_id`:2 for open-end generation.\n",
            "Setting `pad_token_id` to `eos_token_id`:2 for open-end generation.\n",
            "Setting `pad_token_id` to `eos_token_id`:2 for open-end generation.\n"
          ]
        },
        {
          "metadata": {
            "tags": null
          },
          "name": "stdout",
          "output_type": "stream",
          "text": [
            "\n",
            "Outputs for input 20:  [[\"SUBREDDIT: r/AskReddit\\nTITLE: I know this is going to sound selfish, but I'm going through a pretty rough time myself too, and I need to vent.\\nPOST: I'm sorry that this is just another one of those tired old sob stories on AskReddit, but I think that I've reached a point that I can no longer keep this all in.  I'm a 26-year-old postgrad with a BA in Political Science from the University of Miami, and it's been incredibly hard to find employment.  I just want to do work locally; I've written to so many consulting firms and political groups over the past couple of weeks that my fingers have been starting to form calluses.  I may be unable to pay rent at the end of the month and I can't afford a plane ticket to Milwaukee to visit my family for Christmas.  I don't want to ask for their help because of the shame.\\n\\nGetting a college degree was a huge accomplishment for me because of my intermittent problems with depression that never seem to end.  I've gone through the campus in the past to get psychological treatment, but because I am no longer a student /and/ I'm being dropped from my health insurance provider, I'm running out of the medication I need.  I tried so many different drugs in the past - I've been on Zoloft, Sinequan, and Abilify - now I'm taking, every day, .5mg to 1mg clonozepam as needed, 1.5mg bupropion (Wellbutrin) twice daily, .5mg uranium, .25mg viloxazine, and to top it all off, I'm getting back on Abilify.  I don't want to need to take the drugs, and I want to be productive with my life.  I just don't know where to turn to next.\\nTL;DR: Can't find a job after graduating college, depressed/medicated by doctor in order to feel better and get around daily chores such as washing laundry on cold or finding a way to pay rent next month even though I made more than $70K last year\"], [\"SUBREDDIT: r/AskReddit\\nTITLE: I know this is going to sound selfish, but I'm going through a pretty rough time myself too, and I need to vent.\\nPOST: I'm sorry that this is just another one of those tired old sob stories on AskReddit, but I think that I've reached a point that I can no longer keep this all in.  I'm a 26-year-old postgrad with a BA in Political Science from the University of Miami, and it's been incredibly hard to find employment.  I just want to do work locally; I've written to so many consulting firms and political groups over the past couple of weeks that my fingers have been starting to form calluses.  I may be unable to pay rent at the end of the month and I can't afford a plane ticket to Milwaukee to visit my family for Christmas.  I don't want to ask for their help because of the shame.\\n\\nGetting a college degree was a huge accomplishment for me because of my intermittent problems with depression that never seem to end.  I've gone through the campus in the past to get psychological treatment, but because I am no longer a student /and/ I'm being dropped from my health insurance provider, I'm running out of the medication I need.  I tried so many different drugs in the past - I've been on Zoloft, Sinequan, and Abilify - now I'm taking, every day, .5mg to 1mg clonozepam as needed, 1.5mg bupropion (Wellbutrin) twice daily, .5mg uranium, .25mg viloxazine, and to top it all off, I'm getting back on Abilify.  I don't want to need to take the drugs, and I want to be productive with my life.  I just don't know where to turn to next.\\nTL;DR: It looks like I might be homeless before Christmas after having worked very hard to get an education and to move forward through psychological issues and physical illnesses.\"], [\"SUBREDDIT: r/AskReddit\\nTITLE: I know this is going to sound selfish, but I'm going through a pretty rough time myself too, and I need to vent.\\nPOST: I'm sorry that this is just another one of those tired old sob stories on AskReddit, but I think that I've reached a point that I can no longer keep this all in.  I'm a 26-year-old postgrad with a BA in Political Science from the University of Miami, and it's been incredibly hard to find employment.  I just want to do work locally; I've written to so many consulting firms and political groups over the past couple of weeks that my fingers have been starting to form calluses.  I may be unable to pay rent at the end of the month and I can't afford a plane ticket to Milwaukee to visit my family for Christmas.  I don't want to ask for their help because of the shame.\\n\\nGetting a college degree was a huge accomplishment for me because of my intermittent problems with depression that never seem to end.  I've gone through the campus in the past to get psychological treatment, but because I am no longer a student /and/ I'm being dropped from my health insurance provider, I'm running out of the medication I need.  I tried so many different drugs in the past - I've been on Zoloft, Sinequan, and Abilify - now I'm taking, every day, .5mg to 1mg clonozepam as needed, 1.5mg bupropion (Wellbutrin) twice daily, .5mg uranium, .25mg viloxazine, and to top it all off, I'm getting back on Abilify.  I don't want to need to take the drugs, and I want to be productive with my life.  I just don't know where to turn to next.\\nTL;DR: Really, really desperate and lost, depressed again after years of being medicated by a wonderful doctor whose not affiliated with a school anymore.\"], [\"SUBREDDIT: r/AskReddit\\nTITLE: I know this is going to sound selfish, but I'm going through a pretty rough time myself too, and I need to vent.\\nPOST: I'm sorry that this is just another one of those tired old sob stories on AskReddit, but I think that I've reached a point that I can no longer keep this all in.  I'm a 26-year-old postgrad with a BA in Political Science from the University of Miami, and it's been incredibly hard to find employment.  I just want to do work locally; I've written to so many consulting firms and political groups over the past couple of weeks that my fingers have been starting to form calluses.  I may be unable to pay rent at the end of the month and I can't afford a plane ticket to Milwaukee to visit my family for Christmas.  I don't want to ask for their help because of the shame.\\n\\nGetting a college degree was a huge accomplishment for me because of my intermittent problems with depression that never seem to end.  I've gone through the campus in the past to get psychological treatment, but because I am no longer a student /and/ I'm being dropped from my health insurance provider, I'm running out of the medication I need.  I tried so many different drugs in the past - I've been on Zoloft, Sinequan, and Abilify - now I'm taking, every day, .5mg to 1mg clonozepam as needed, 1.5mg bupropion (Wellbutrin) twice daily, .5mg uranium, .25mg viloxazine, and to top it all off, I'm getting back on Abilify.  I don't want to need to take the drugs, and I want to be productive with my life.  I just don't know where to turn to next.\\nTL;DR: I want to cry.  Nothing has helped with making me any less depressed since I got out of the University of Miami in May.\"]]\n"
          ]
        },
        {
          "metadata": {
            "tags": null
          },
          "name": "stderr",
          "output_type": "stream",
          "text": [
            "Setting `pad_token_id` to `eos_token_id`:2 for open-end generation.\n",
            "Setting `pad_token_id` to `eos_token_id`:2 for open-end generation.\n",
            "Setting `pad_token_id` to `eos_token_id`:2 for open-end generation.\n",
            "Setting `pad_token_id` to `eos_token_id`:2 for open-end generation.\n"
          ]
        },
        {
          "metadata": {
            "tags": null
          },
          "name": "stdout",
          "output_type": "stream",
          "text": [
            "\n",
            "Outputs for input 21:  [[\"SUBREDDIT: r/relationships\\nTITLE: Me [24 M] interested in a university coursemate [22F] over the last 10 weeks, how do I ask her out?\\nPOST: I'm a uni student, and every monday I take this particular 3 hour module. Now there's this girl in the course, which we shall call Mandy, who is very active in class. The particular course is a gender studies-related course, but her responses in class have set her apart from the other girls, because she does not give typical feminine responses, yet she has shown herself to be a very spunky person.\\n\\nOn the other hand, I'm also one of the more active contributors in class, as I'm one of the few guys in class, and I'm the one most likely to speak my mind, usually about controversial topics. And there have been times when we have been involved in arguments during the classroom.\\n\\nAnyway, I've found myself interested in her around 3 weeks into the class, because I was very attracted by her personality and her brains. I also found out that she was actually from my year, and I've tried finding opportunities to talk to her before or after class. Usually we will sit in separate rows in class, because she would usually sit with her friend, and I would sit with my group of friends. But last week, I just went to sit beside her, and tried my best to seem natural about it. I don't think she minded, because as far as I could tell, she's not really close to any of the coursemates. In fact, every time I see her out of class, she's not interacting with others, even the people who were sitting beside her.\\n\\nHowever, until now, I haven't had an opportunity to ask for her number, because I didn't want to scare her off. I wanted to add her on Facebook, but she doesn't have an account. The class is going to end in two weeks time, and I really want to grab this opportunity to at least ask her out before I possibly never see her again. Even if it doesn't work out romantically or anything like that, I would love to have her as a friend, because I think she's awesome that way, but I just don't know how to get closer to her. Please help!\\nTL;DR: I find myself interested in another university coursemate, and I want to date (or become platonic friends) with her, before our module ends in 2 weeks\"], [\"SUBREDDIT: r/relationships\\nTITLE: Me [24 M] interested in a university coursemate [22F] over the last 10 weeks, how do I ask her out?\\nPOST: I'm a uni student, and every monday I take this particular 3 hour module. Now there's this girl in the course, which we shall call Mandy, who is very active in class. The particular course is a gender studies-related course, but her responses in class have set her apart from the other girls, because she does not give typical feminine responses, yet she has shown herself to be a very spunky person.\\n\\nOn the other hand, I'm also one of the more active contributors in class, as I'm one of the few guys in class, and I'm the one most likely to speak my mind, usually about controversial topics. And there have been times when we have been involved in arguments during the classroom.\\n\\nAnyway, I've found myself interested in her around 3 weeks into the class, because I was very attracted by her personality and her brains. I also found out that she was actually from my year, and I've tried finding opportunities to talk to her before or after class. Usually we will sit in separate rows in class, because she would usually sit with her friend, and I would sit with my group of friends. But last week, I just went to sit beside her, and tried my best to seem natural about it. I don't think she minded, because as far as I could tell, she's not really close to any of the coursemates. In fact, every time I see her out of class, she's not interacting with others, even the people who were sitting beside her.\\n\\nHowever, until now, I haven't had an opportunity to ask for her number, because I didn't want to scare her off. I wanted to add her on Facebook, but she doesn't have an account. The class is going to end in two weeks time, and I really want to grab this opportunity to at least ask her out before I possibly never see her again. Even if it doesn't work out romantically or anything like that, I would love to have her as a friend, because I think she's awesome that way, but I just don't know how to get closer to her. Please help!\\nTL;DR: There's this awesome girl in one of my courses that I met, but there seems be huge communication gap and how should I approach her to overcome that gap.\"], [\"SUBREDDIT: r/relationships\\nTITLE: Me [24 M] interested in a university coursemate [22F] over the last 10 weeks, how do I ask her out?\\nPOST: I'm a uni student, and every monday I take this particular 3 hour module. Now there's this girl in the course, which we shall call Mandy, who is very active in class. The particular course is a gender studies-related course, but her responses in class have set her apart from the other girls, because she does not give typical feminine responses, yet she has shown herself to be a very spunky person.\\n\\nOn the other hand, I'm also one of the more active contributors in class, as I'm one of the few guys in class, and I'm the one most likely to speak my mind, usually about controversial topics. And there have been times when we have been involved in arguments during the classroom.\\n\\nAnyway, I've found myself interested in her around 3 weeks into the class, because I was very attracted by her personality and her brains. I also found out that she was actually from my year, and I've tried finding opportunities to talk to her before or after class. Usually we will sit in separate rows in class, because she would usually sit with her friend, and I would sit with my group of friends. But last week, I just went to sit beside her, and tried my best to seem natural about it. I don't think she minded, because as far as I could tell, she's not really close to any of the coursemates. In fact, every time I see her out of class, she's not interacting with others, even the people who were sitting beside her.\\n\\nHowever, until now, I haven't had an opportunity to ask for her number, because I didn't want to scare her off. I wanted to add her on Facebook, but she doesn't have an account. The class is going to end in two weeks time, and I really want to grab this opportunity to at least ask her out before I possibly never see her again. Even if it doesn't work out romantically or anything like that, I would love to have her as a friend, because I think she's awesome that way, but I just don't know how to get closer to her. Please help!\\nTL;DR: Lust + admiration for this female coursemate, need to break 3-week silence to talk to her, donotknow what to say\"], [\"SUBREDDIT: r/relationships\\nTITLE: Me [24 M] interested in a university coursemate [22F] over the last 10 weeks, how do I ask her out?\\nPOST: I'm a uni student, and every monday I take this particular 3 hour module. Now there's this girl in the course, which we shall call Mandy, who is very active in class. The particular course is a gender studies-related course, but her responses in class have set her apart from the other girls, because she does not give typical feminine responses, yet she has shown herself to be a very spunky person.\\n\\nOn the other hand, I'm also one of the more active contributors in class, as I'm one of the few guys in class, and I'm the one most likely to speak my mind, usually about controversial topics. And there have been times when we have been involved in arguments during the classroom.\\n\\nAnyway, I've found myself interested in her around 3 weeks into the class, because I was very attracted by her personality and her brains. I also found out that she was actually from my year, and I've tried finding opportunities to talk to her before or after class. Usually we will sit in separate rows in class, because she would usually sit with her friend, and I would sit with my group of friends. But last week, I just went to sit beside her, and tried my best to seem natural about it. I don't think she minded, because as far as I could tell, she's not really close to any of the coursemates. In fact, every time I see her out of class, she's not interacting with others, even the people who were sitting beside her.\\n\\nHowever, until now, I haven't had an opportunity to ask for her number, because I didn't want to scare her off. I wanted to add her on Facebook, but she doesn't have an account. The class is going to end in two weeks time, and I really want to grab this opportunity to at least ask her out before I possibly never see her again. Even if it doesn't work out romantically or anything like that, I would love to have her as a friend, because I think she's awesome that way, but I just don't know how to get closer to her. Please help!\\nTL;DR: Interested in a lady who seems open enough to interact with me, but am unsure of whether to make move outside of the school environment.\"]]\n"
          ]
        },
        {
          "metadata": {
            "tags": null
          },
          "name": "stderr",
          "output_type": "stream",
          "text": [
            "Setting `pad_token_id` to `eos_token_id`:2 for open-end generation.\n",
            "Setting `pad_token_id` to `eos_token_id`:2 for open-end generation.\n",
            "Setting `pad_token_id` to `eos_token_id`:2 for open-end generation.\n",
            "Setting `pad_token_id` to `eos_token_id`:2 for open-end generation.\n"
          ]
        },
        {
          "metadata": {
            "tags": null
          },
          "name": "stdout",
          "output_type": "stream",
          "text": [
            "\n",
            "Outputs for input 22:  [['SUBREDDIT: r/relationship_advice\\nTITLE: [23/f] American girl studying abroad just started a sexual relationship with a [25/m] Chinese boy.  Need advice!\\nPOST: So, I am an American student studying Chinese language at a university in China.  I met a grad student here majoring in English and we really hit it off, right from the day we met.  I am a rather bold, outgoing girl who was raised in the New Jersey/New York area.  He is from a small rural area of China.  However, since he has been studying English language and American culture, we actually have quite a bit in common (like discussing politics, social issues, cultural differences, and Sino-American relations) we instantly connected.  I was actually surprised at how quickly things progressed.  I am only the second girl he\\'s ever kissed, and the first girl to \"go all the way.\"  Overall, we are happy with the no-strings-attached, mutually language-sharing/studying, and close friendship that we\\'ve developed.\\n\\nHere\\'s the problem: he is very self conscious, and tends to over-think during our romantic liaisons.  This can have some flaccid consequences.  I\\'ve tried to be as understanding, helpful, and supportive as possible.  I told him to think with his heart rather than his head when we have our trysts, but he has difficulty putting aside his worries and poor self-image.\\n\\nHas anyone else been in a similar situation when seeing a Chinese boy?    Any advice is appreciated on how to teach him to let loose and enjoy himself without worrying about appearances or his lack of experience. I want him to enjoy himself as much as I do, and I want to make him happy.  Also, he has asked for this help, so my \"teaching\" is not unsolicited.\\nTL;DR: How do we overcome shyness, poor self image, bad performance anxiety, while still enjoying our time together?'], ['SUBREDDIT: r/relationship_advice\\nTITLE: [23/f] American girl studying abroad just started a sexual relationship with a [25/m] Chinese boy.  Need advice!\\nPOST: So, I am an American student studying Chinese language at a university in China.  I met a grad student here majoring in English and we really hit it off, right from the day we met.  I am a rather bold, outgoing girl who was raised in the New Jersey/New York area.  He is from a small rural area of China.  However, since he has been studying English language and American culture, we actually have quite a bit in common (like discussing politics, social issues, cultural differences, and Sino-American relations) we instantly connected.  I was actually surprised at how quickly things progressed.  I am only the second girl he\\'s ever kissed, and the first girl to \"go all the way.\"  Overall, we are happy with the no-strings-attached, mutually language-sharing/studying, and close friendship that we\\'ve developed.\\n\\nHere\\'s the problem: he is very self conscious, and tends to over-think during our romantic liaisons.  This can have some flaccid consequences.  I\\'ve tried to be as understanding, helpful, and supportive as possible.  I told him to think with his heart rather than his head when we have our trysts, but he has difficulty putting aside his worries and poor self-image.\\n\\nHas anyone else been in a similar situation when seeing a Chinese boy?    Any advice is appreciated on how to teach him to let loose and enjoy himself without worrying about appearances or his lack of experience. I want him to enjoy himself as much as I do, and I want to make him happy.  Also, he has asked for this help, so my \"teaching\" is not unsolicited.\\nTL;DR: foreign girl sees Asian guy who is too focused on appearance instead of fun pleasure.  How to change mindset without seeming like a bitch?'], ['SUBREDDIT: r/relationship_advice\\nTITLE: [23/f] American girl studying abroad just started a sexual relationship with a [25/m] Chinese boy.  Need advice!\\nPOST: So, I am an American student studying Chinese language at a university in China.  I met a grad student here majoring in English and we really hit it off, right from the day we met.  I am a rather bold, outgoing girl who was raised in the New Jersey/New York area.  He is from a small rural area of China.  However, since he has been studying English language and American culture, we actually have quite a bit in common (like discussing politics, social issues, cultural differences, and Sino-American relations) we instantly connected.  I was actually surprised at how quickly things progressed.  I am only the second girl he\\'s ever kissed, and the first girl to \"go all the way.\"  Overall, we are happy with the no-strings-attached, mutually language-sharing/studying, and close friendship that we\\'ve developed.\\n\\nHere\\'s the problem: he is very self conscious, and tends to over-think during our romantic liaisons.  This can have some flaccid consequences.  I\\'ve tried to be as understanding, helpful, and supportive as possible.  I told him to think with his heart rather than his head when we have our trysts, but he has difficulty putting aside his worries and poor self-image.\\n\\nHas anyone else been in a similar situation when seeing a Chinese boy?    Any advice is appreciated on how to teach him to let loose and enjoy himself without worrying about appearances or his lack of experience. I want him to enjoy himself as much as I do, and I want to make him happy.  Also, he has asked for this help, so my \"teaching\" is not unsolicited.\\nTL;DR: I have fallen hard for this wonderful and sweet Chinese man.  Looking for advice with the pitfalls that are unique to Chinese and their relationships and intimacy.'], ['SUBREDDIT: r/relationship_advice\\nTITLE: [23/f] American girl studying abroad just started a sexual relationship with a [25/m] Chinese boy.  Need advice!\\nPOST: So, I am an American student studying Chinese language at a university in China.  I met a grad student here majoring in English and we really hit it off, right from the day we met.  I am a rather bold, outgoing girl who was raised in the New Jersey/New York area.  He is from a small rural area of China.  However, since he has been studying English language and American culture, we actually have quite a bit in common (like discussing politics, social issues, cultural differences, and Sino-American relations) we instantly connected.  I was actually surprised at how quickly things progressed.  I am only the second girl he\\'s ever kissed, and the first girl to \"go all the way.\"  Overall, we are happy with the no-strings-attached, mutually language-sharing/studying, and close friendship that we\\'ve developed.\\n\\nHere\\'s the problem: he is very self conscious, and tends to over-think during our romantic liaisons.  This can have some flaccid consequences.  I\\'ve tried to be as understanding, helpful, and supportive as possible.  I told him to think with his heart rather than his head when we have our trysts, but he has difficulty putting aside his worries and poor self-image.\\n\\nHas anyone else been in a similar situation when seeing a Chinese boy?    Any advice is appreciated on how to teach him to let loose and enjoy himself without worrying about appearances or his lack of experience. I want him to enjoy himself as much as I do, and I want to make him happy.  Also, he has asked for this help, so my \"teaching\" is not unsolicited.\\nTL;DR: Boyfriend-of-sorts has trouble letting go, even though I always try to push these feelings aside while seeing each other. Looking to gain advice to aid in his improvement.']]\n"
          ]
        },
        {
          "metadata": {
            "tags": null
          },
          "name": "stderr",
          "output_type": "stream",
          "text": [
            "Setting `pad_token_id` to `eos_token_id`:2 for open-end generation.\n",
            "Setting `pad_token_id` to `eos_token_id`:2 for open-end generation.\n",
            "Setting `pad_token_id` to `eos_token_id`:2 for open-end generation.\n",
            "Setting `pad_token_id` to `eos_token_id`:2 for open-end generation.\n"
          ]
        },
        {
          "metadata": {
            "tags": null
          },
          "name": "stdout",
          "output_type": "stream",
          "text": [
            "\n",
            "Outputs for input 23:  [['SUBREDDIT: r/tifu\\nTITLE: TIFU by making fun of my co-workers dead baby.\\nPOST: I won\\'t make this too long but basically at my job we all like to fuck with each other a lot. I have two co workers named Chris and Jeff who have pregnant girlfriends.\\n\\n We were on the conversation of sex and I said to Chris \"Ha you can\\'t fuck your girl cause she\\'s pregnant.\" (yes I know you can still fuck your girlfriend if she\\'s pregnant. It was a joke) \\n\\nThen I saw the other Jeff the same thing only this time Chris was behind me giving the hand-across-the-neck shut the fuck up signal but it was too late. He just looked at me heartbroken and said, \"She lost the baby.\" And then walked away.\\n\\nI didn\\'t know what to say at that point so I just walked the opposite direction. Later on I went up to him and just told him how sorry I was and I had no idea. He assumed that everyone else had told me, but he wasn\\'t too upset with me. It could have went a lot worse I guess.\\nTL;DR: I made fun of my co worker in front of his other workmate for saying something about his girlfriend not being able to get fucked because he told us she was pregnant. Ended up she was having problems and ended up losing her baby.'], ['SUBREDDIT: r/tifu\\nTITLE: TIFU by making fun of my co-workers dead baby.\\nPOST: I won\\'t make this too long but basically at my job we all like to fuck with each other a lot. I have two co workers named Chris and Jeff who have pregnant girlfriends.\\n\\n We were on the conversation of sex and I said to Chris \"Ha you can\\'t fuck your girl cause she\\'s pregnant.\" (yes I know you can still fuck your girlfriend if she\\'s pregnant. It was a joke) \\n\\nThen I saw the other Jeff the same thing only this time Chris was behind me giving the hand-across-the-neck shut the fuck up signal but it was too late. He just looked at me heartbroken and said, \"She lost the baby.\" And then walked away.\\n\\nI didn\\'t know what to say at that point so I just walked the opposite direction. Later on I went up to him and just told him how sorry I was and I had no idea. He assumed that everyone else had told me, but he wasn\\'t too upset with me. It could have went a lot worse I guess.\\nTL;DR: Jokingly made fun of one of my co-workers for not being able to bang his girl because she is pregnant and turns out she never got to have sex again due to miscarriage'], ['SUBREDDIT: r/tifu\\nTITLE: TIFU by making fun of my co-workers dead baby.\\nPOST: I won\\'t make this too long but basically at my job we all like to fuck with each other a lot. I have two co workers named Chris and Jeff who have pregnant girlfriends.\\n\\n We were on the conversation of sex and I said to Chris \"Ha you can\\'t fuck your girl cause she\\'s pregnant.\" (yes I know you can still fuck your girlfriend if she\\'s pregnant. It was a joke) \\n\\nThen I saw the other Jeff the same thing only this time Chris was behind me giving the hand-across-the-neck shut the fuck up signal but it was too late. He just looked at me heartbroken and said, \"She lost the baby.\" And then walked away.\\n\\nI didn\\'t know what to say at that point so I just walked the opposite direction. Later on I went up to him and just told him how sorry I was and I had no idea. He assumed that everyone else had told me, but he wasn\\'t too upset with me. It could have went a lot worse I guess.\\nTL;DR: Made a stupid comment about not being able to fuck my coworker since his \"girlfriend\" is pregnant when actually he had just lost the child.'], ['SUBREDDIT: r/tifu\\nTITLE: TIFU by making fun of my co-workers dead baby.\\nPOST: I won\\'t make this too long but basically at my job we all like to fuck with each other a lot. I have two co workers named Chris and Jeff who have pregnant girlfriends.\\n\\n We were on the conversation of sex and I said to Chris \"Ha you can\\'t fuck your girl cause she\\'s pregnant.\" (yes I know you can still fuck your girlfriend if she\\'s pregnant. It was a joke) \\n\\nThen I saw the other Jeff the same thing only this time Chris was behind me giving the hand-across-the-neck shut the fuck up signal but it was too late. He just looked at me heartbroken and said, \"She lost the baby.\" And then walked away.\\n\\nI didn\\'t know what to say at that point so I just walked the opposite direction. Later on I went up to him and just told him how sorry I was and I had no idea. He assumed that everyone else had told me, but he wasn\\'t too upset with me. It could have went a lot worse I guess.\\nTL;DR: Made a stupid joke about one guy being impotent because his wife is pregnant and he ends up telling me his ex-wife lost her pregnancy.']]\n"
          ]
        },
        {
          "metadata": {
            "tags": null
          },
          "name": "stderr",
          "output_type": "stream",
          "text": [
            "Setting `pad_token_id` to `eos_token_id`:2 for open-end generation.\n",
            "Setting `pad_token_id` to `eos_token_id`:2 for open-end generation.\n",
            "Setting `pad_token_id` to `eos_token_id`:2 for open-end generation.\n",
            "Setting `pad_token_id` to `eos_token_id`:2 for open-end generation.\n"
          ]
        },
        {
          "metadata": {
            "tags": null
          },
          "name": "stdout",
          "output_type": "stream",
          "text": [
            "\n",
            "Outputs for input 24:  [[\"SUBREDDIT: r/relationships\\nTITLE: Is she [21] playing hard to get or uninterested in me?[22/M]\\nPOST: Hey guys first post here. So I'll try to make this quick, I've been out of the dating scene for a few years now and need advice with a girl i currently like. \\n\\nHer and I met in class and have been talking for not too long a month or so. We have tons in common I have gotten her number and we text every now and then (more on that later.) But I have really I've made the most progress in the past week. So everything explained further takes place in a span of a week. \\n\\nI've hung out with her a few times. The times we have hung out have been good we seem to hit it off. She's kinda touchy and takes lots of pictures of us (bff on sc if that means anything.) She said things like I'm special for getting to see her act in her goofy way. She even made and brought me a sandwich for when we were studying together. But ever since then she seems less interested in me and we do not text as often. Which is weird cuz that was to me at least the time we hit it off the most.  Before We had been texting all day but now barely at all and remember this is all in a span of less than a week. \\n\\nMost recently we were supposed to hangout but she said she forgot (which is a big red flag I know) but we did reschedule for another specific day. \\nSo is she uninterested? Playing hard to get? Or other?\\nTL;DR: Met a gal hung out got her number all went well just started talking less all from my perspective and wonder why she changed towards me?\"], [\"SUBREDDIT: r/relationships\\nTITLE: Is she [21] playing hard to get or uninterested in me?[22/M]\\nPOST: Hey guys first post here. So I'll try to make this quick, I've been out of the dating scene for a few years now and need advice with a girl i currently like. \\n\\nHer and I met in class and have been talking for not too long a month or so. We have tons in common I have gotten her number and we text every now and then (more on that later.) But I have really I've made the most progress in the past week. So everything explained further takes place in a span of a week. \\n\\nI've hung out with her a few times. The times we have hung out have been good we seem to hit it off. She's kinda touchy and takes lots of pictures of us (bff on sc if that means anything.) She said things like I'm special for getting to see her act in her goofy way. She even made and brought me a sandwich for when we were studying together. But ever since then she seems less interested in me and we do not text as often. Which is weird cuz that was to me at least the time we hit it off the most.  Before We had been texting all day but now barely at all and remember this is all in a span of less than a week. \\n\\nMost recently we were supposed to hangout but she said she forgot (which is a big red flag I know) but we did reschedule for another specific day. \\nSo is she uninterested? Playing hard to get? Or other?\\nTL;DR: Met a girl, we texted a lot and hit it off. After hanging out the next day and telling her i was looking foward to tomorrow, now she won't take our plans seriously. And has stopped texting\"], [\"SUBREDDIT: r/relationships\\nTITLE: Is she [21] playing hard to get or uninterested in me?[22/M]\\nPOST: Hey guys first post here. So I'll try to make this quick, I've been out of the dating scene for a few years now and need advice with a girl i currently like. \\n\\nHer and I met in class and have been talking for not too long a month or so. We have tons in common I have gotten her number and we text every now and then (more on that later.) But I have really I've made the most progress in the past week. So everything explained further takes place in a span of a week. \\n\\nI've hung out with her a few times. The times we have hung out have been good we seem to hit it off. She's kinda touchy and takes lots of pictures of us (bff on sc if that means anything.) She said things like I'm special for getting to see her act in her goofy way. She even made and brought me a sandwich for when we were studying together. But ever since then she seems less interested in me and we do not text as often. Which is weird cuz that was to me at least the time we hit it off the most.  Before We had been texting all day but now barely at all and remember this is all in a span of less than a week. \\n\\nMost recently we were supposed to hangout but she said she forgot (which is a big red flag I know) but we did reschedule for another specific day. \\nSo is she uninterested? Playing hard to get? Or other?\\nTL;DR: Hit it off with her really well after about a month hanging out but now we aren't texting as much(before we were hardly during)\"], [\"SUBREDDIT: r/relationships\\nTITLE: Is she [21] playing hard to get or uninterested in me?[22/M]\\nPOST: Hey guys first post here. So I'll try to make this quick, I've been out of the dating scene for a few years now and need advice with a girl i currently like. \\n\\nHer and I met in class and have been talking for not too long a month or so. We have tons in common I have gotten her number and we text every now and then (more on that later.) But I have really I've made the most progress in the past week. So everything explained further takes place in a span of a week. \\n\\nI've hung out with her a few times. The times we have hung out have been good we seem to hit it off. She's kinda touchy and takes lots of pictures of us (bff on sc if that means anything.) She said things like I'm special for getting to see her act in her goofy way. She even made and brought me a sandwich for when we were studying together. But ever since then she seems less interested in me and we do not text as often. Which is weird cuz that was to me at least the time we hit it off the most.  Before We had been texting all day but now barely at all and remember this is all in a span of less than a week. \\n\\nMost recently we were supposed to hangout but she said she forgot (which is a big red flag I know) but we did reschedule for another specific day. \\nSo is she uninterested? Playing hard to get? Or other?\\nTL;DR: Things have been going great and suddenly stopped after just a week with plenty of excuses, what does it sound like and how should i respond?\"]]\n"
          ]
        },
        {
          "metadata": {
            "tags": null
          },
          "name": "stderr",
          "output_type": "stream",
          "text": [
            "Setting `pad_token_id` to `eos_token_id`:2 for open-end generation.\n",
            "Setting `pad_token_id` to `eos_token_id`:2 for open-end generation.\n",
            "Setting `pad_token_id` to `eos_token_id`:2 for open-end generation.\n",
            "Setting `pad_token_id` to `eos_token_id`:2 for open-end generation.\n"
          ]
        },
        {
          "metadata": {
            "tags": null
          },
          "name": "stdout",
          "output_type": "stream",
          "text": [
            "\n",
            "Outputs for input 25:  [['SUBREDDIT: r/relationships\\nTITLE: None of my business? Boyfriend of two years has decided to build a house and hasn\\'t asked me for any input. (F27)(M28)\\nPOST: I\\'m feeling really hurt. \\n\\nMy boyfriend (M28) and I (F27) have been in a serious relationship for two years. Everything\\'s been wonderful and I\\'m very happy. However, we\\'re still not living together because he\\'s \"not ready yet.\"\\n\\nThere\\'s really no reason why we can\\'t live together. We both make great money, have little to no debt and our jobs are in the same area. But he says he\\'s not ready.\\n\\nHe informed me last week that he\\'s going to build a house and is going to look at land with a realtor next week. WTF!? He didn\\'t discuss any of this with me or ask for any of my input. There\\'s nothing wrong with the house he\\'s living in right now. I don\\'t understand.\\n\\nAfter two serious years together, don\\'t you think a girlfriend should have some kind of input if you\\'re planning on building a future with her?\\n\\nIs this any of my business?\\nTL;DR: bf told me he\\'s going ot visit a realtor tomorrow to look at land so he can build his dream home. But didnt even tell me when it was happening'], ['SUBREDDIT: r/relationships\\nTITLE: None of my business? Boyfriend of two years has decided to build a house and hasn\\'t asked me for any input. (F27)(M28)\\nPOST: I\\'m feeling really hurt. \\n\\nMy boyfriend (M28) and I (F27) have been in a serious relationship for two years. Everything\\'s been wonderful and I\\'m very happy. However, we\\'re still not living together because he\\'s \"not ready yet.\"\\n\\nThere\\'s really no reason why we can\\'t live together. We both make great money, have little to no debt and our jobs are in the same area. But he says he\\'s not ready.\\n\\nHe informed me last week that he\\'s going to build a house and is going to look at land with a realtor next week. WTF!? He didn\\'t discuss any of this with me or ask for any of my input. There\\'s nothing wrong with the house he\\'s living in right now. I don\\'t understand.\\n\\nAfter two serious years together, don\\'t you think a girlfriend should have some kind of input if you\\'re planning on building a future with her?\\n\\nIs this any of my business?\\nTL;DR: Been dating bf seriously for over two years but he wants to built a house without consulting me even though I\\'ve contributed toward his mortgage and other bills. Any advice'], ['SUBREDDIT: r/relationships\\nTITLE: None of my business? Boyfriend of two years has decided to build a house and hasn\\'t asked me for any input. (F27)(M28)\\nPOST: I\\'m feeling really hurt. \\n\\nMy boyfriend (M28) and I (F27) have been in a serious relationship for two years. Everything\\'s been wonderful and I\\'m very happy. However, we\\'re still not living together because he\\'s \"not ready yet.\"\\n\\nThere\\'s really no reason why we can\\'t live together. We both make great money, have little to no debt and our jobs are in the same area. But he says he\\'s not ready.\\n\\nHe informed me last week that he\\'s going to build a house and is going to look at land with a realtor next week. WTF!? He didn\\'t discuss any of this with me or ask for any of my input. There\\'s nothing wrong with the house he\\'s living in right now. I don\\'t understand.\\n\\nAfter two serious years together, don\\'t you think a girlfriend should have some kind of input if you\\'re planning on building a future with her?\\n\\nIs this any of my business?\\nTL;DR: My boyfriend is about to start looking for property so he can begin building his dream home and never discussed it with me.'], ['SUBREDDIT: r/relationships\\nTITLE: None of my business? Boyfriend of two years has decided to build a house and hasn\\'t asked me for any input. (F27)(M28)\\nPOST: I\\'m feeling really hurt. \\n\\nMy boyfriend (M28) and I (F27) have been in a serious relationship for two years. Everything\\'s been wonderful and I\\'m very happy. However, we\\'re still not living together because he\\'s \"not ready yet.\"\\n\\nThere\\'s really no reason why we can\\'t live together. We both make great money, have little to no debt and our jobs are in the same area. But he says he\\'s not ready.\\n\\nHe informed me last week that he\\'s going to build a house and is going to look at land with a realtor next week. WTF!? He didn\\'t discuss any of this with me or ask for any of my input. There\\'s nothing wrong with the house he\\'s living in right now. I don\\'t understand.\\n\\nAfter two serious years together, don\\'t you think a girlfriend should have some kind of input if you\\'re planning on building a future with her?\\n\\nIs this any of my business?\\nTL;DR: My boyfriend of almost two years is going to build a new house without asking ANY input from his \"girlfriend.\" Is it OK for him to do so or am I justified in being upset?']]\n"
          ]
        },
        {
          "metadata": {
            "tags": null
          },
          "name": "stderr",
          "output_type": "stream",
          "text": [
            "Setting `pad_token_id` to `eos_token_id`:2 for open-end generation.\n",
            "Setting `pad_token_id` to `eos_token_id`:2 for open-end generation.\n",
            "Setting `pad_token_id` to `eos_token_id`:2 for open-end generation.\n",
            "Setting `pad_token_id` to `eos_token_id`:2 for open-end generation.\n"
          ]
        },
        {
          "metadata": {
            "tags": null
          },
          "name": "stdout",
          "output_type": "stream",
          "text": [
            "\n",
            "Outputs for input 26:  [['SUBREDDIT: r/relationships\\nTITLE: I [24M] tried to remain friends with ex-girlfriend [22F]. Her new boyfriend [21M] has insisted she stop talking to me.\\nPOST: Broke up with my girlfriend earlier this year around February because we didn\\'t feel like things were working out (1.5 years together). I was in a bad state and wasn\\'t sure if I wanted to take the relationship any further. That said she is a fantastic person and I wanted to remain friends with her, so we have up until recently.\\n\\nAround 2-3 months ago she stated getting serious with another guy and he hates the idea of her having anything to do with me. He insisted she stop talking to me, she said no at first and we met occasionally for coffee, talked on Facebook etc etc. He got really upset about it though and we agreed to scale things back a bit and only meet occasionally, every 2-3 weeks or so.\\n\\nRecently I get a message from her saying \"She doesn\\'t want to talk to you!\". After meeting with her again it turns out that he has been checking her phone and making her feel guilty about talking to me. He has also hijacked her phone and blocked me on Facebook/Snapchat several times and has done this for another male friend of hers too.\\n\\nI realise that as the ex-boyfriend he may see me as a threat but this whole thing is really bumming me out. She is a great person and a great friend, I can\\'t help but feel like this new guy is trying to control her life a bit too much.\\n\\nI don\\'t know what to do, I want to stay friends with her, but I can\\'t so much as drop her a message without her new boyfriend having a melt down. I offered to talk with him to explain I mean no harm, but he refuses to talk to me.\\nTL;DR: Tried to be friends with ex-girlfriend after a short relationship ended, new boyfriend makes her say she can\\'t stay friends with our mutual friends & me without crying.'], ['SUBREDDIT: r/relationships\\nTITLE: I [24M] tried to remain friends with ex-girlfriend [22F]. Her new boyfriend [21M] has insisted she stop talking to me.\\nPOST: Broke up with my girlfriend earlier this year around February because we didn\\'t feel like things were working out (1.5 years together). I was in a bad state and wasn\\'t sure if I wanted to take the relationship any further. That said she is a fantastic person and I wanted to remain friends with her, so we have up until recently.\\n\\nAround 2-3 months ago she stated getting serious with another guy and he hates the idea of her having anything to do with me. He insisted she stop talking to me, she said no at first and we met occasionally for coffee, talked on Facebook etc etc. He got really upset about it though and we agreed to scale things back a bit and only meet occasionally, every 2-3 weeks or so.\\n\\nRecently I get a message from her saying \"She doesn\\'t want to talk to you!\". After meeting with her again it turns out that he has been checking her phone and making her feel guilty about talking to me. He has also hijacked her phone and blocked me on Facebook/Snapchat several times and has done this for another male friend of hers too.\\n\\nI realise that as the ex-boyfriend he may see me as a threat but this whole thing is really bumming me out. She is a great person and a great friend, I can\\'t help but feel like this new guy is trying to control her life a bit too much.\\n\\nI don\\'t know what to do, I want to stay friends with her, but I can\\'t so much as drop her a message without her new boyfriend having a melt down. I offered to talk with him to explain I mean no harm, but he refuses to talk to me.\\nTL;DR: Ex-girlfriend broke up with me recently started seeing someone who apparently thinks I am some sort of evil threat and will hurt my ex-gf is there are any good solutions to this situation?'], ['SUBREDDIT: r/relationships\\nTITLE: I [24M] tried to remain friends with ex-girlfriend [22F]. Her new boyfriend [21M] has insisted she stop talking to me.\\nPOST: Broke up with my girlfriend earlier this year around February because we didn\\'t feel like things were working out (1.5 years together). I was in a bad state and wasn\\'t sure if I wanted to take the relationship any further. That said she is a fantastic person and I wanted to remain friends with her, so we have up until recently.\\n\\nAround 2-3 months ago she stated getting serious with another guy and he hates the idea of her having anything to do with me. He insisted she stop talking to me, she said no at first and we met occasionally for coffee, talked on Facebook etc etc. He got really upset about it though and we agreed to scale things back a bit and only meet occasionally, every 2-3 weeks or so.\\n\\nRecently I get a message from her saying \"She doesn\\'t want to talk to you!\". After meeting with her again it turns out that he has been checking her phone and making her feel guilty about talking to me. He has also hijacked her phone and blocked me on Facebook/Snapchat several times and has done this for another male friend of hers too.\\n\\nI realise that as the ex-boyfriend he may see me as a threat but this whole thing is really bumming me out. She is a great person and a great friend, I can\\'t help but feel like this new guy is trying to control her life a bit too much.\\n\\nI don\\'t know what to do, I want to stay friends with her, but I can\\'t so much as drop her a message without her new boyfriend having a melt down. I offered to talk with him to explain I mean no harm, but he refuses to talk to me.\\nTL;DR: Ex-Girlfriend\\'s current boyfriend is paranoid she will go back to being friends with me despite our mutual consent not to be close friends after breaking up. What should I do?'], ['SUBREDDIT: r/relationships\\nTITLE: I [24M] tried to remain friends with ex-girlfriend [22F]. Her new boyfriend [21M] has insisted she stop talking to me.\\nPOST: Broke up with my girlfriend earlier this year around February because we didn\\'t feel like things were working out (1.5 years together). I was in a bad state and wasn\\'t sure if I wanted to take the relationship any further. That said she is a fantastic person and I wanted to remain friends with her, so we have up until recently.\\n\\nAround 2-3 months ago she stated getting serious with another guy and he hates the idea of her having anything to do with me. He insisted she stop talking to me, she said no at first and we met occasionally for coffee, talked on Facebook etc etc. He got really upset about it though and we agreed to scale things back a bit and only meet occasionally, every 2-3 weeks or so.\\n\\nRecently I get a message from her saying \"She doesn\\'t want to talk to you!\". After meeting with her again it turns out that he has been checking her phone and making her feel guilty about talking to me. He has also hijacked her phone and blocked me on Facebook/Snapchat several times and has done this for another male friend of hers too.\\n\\nI realise that as the ex-boyfriend he may see me as a threat but this whole thing is really bumming me out. She is a great person and a great friend, I can\\'t help but feel like this new guy is trying to control her life a bit too much.\\n\\nI don\\'t know what to do, I want to stay friends with her, but I can\\'t so much as drop her a message without her new boyfriend having a melt down. I offered to talk with him to explain I mean no harm, but he refuses to talk to me.\\nTL;DR: Ex-girlfriend won\\'t speak to me except irregularly becasue her new boyfriend reads her texts and says she will be unfaithful. What should I?']]\n"
          ]
        },
        {
          "metadata": {
            "tags": null
          },
          "name": "stderr",
          "output_type": "stream",
          "text": [
            "Setting `pad_token_id` to `eos_token_id`:2 for open-end generation.\n",
            "Setting `pad_token_id` to `eos_token_id`:2 for open-end generation.\n",
            "Setting `pad_token_id` to `eos_token_id`:2 for open-end generation.\n",
            "Setting `pad_token_id` to `eos_token_id`:2 for open-end generation.\n"
          ]
        },
        {
          "metadata": {
            "tags": null
          },
          "name": "stdout",
          "output_type": "stream",
          "text": [
            "\n",
            "Outputs for input 27:  [[\"SUBREDDIT: r/relationships\\nTITLE: Parents will probably be against my[25f] relationship with my boyfriend[26M]\\nPOST: My boyfriend and I have been in a relationship for nearly 2 years and last year it turned into a long distance relationship. Meanwhile we have come to the conclusion, that we want to live in the same country and move in together.\\nMy family expects me to get married in order to live with my boyfriend. My boyfriend and I, we are both okay with that. \\n\\nThe problem is, that my parents don't know about him yet. I have never told them because I was pretty sure, that they won't accept him for one specific reason.\\nAnd I am so sure, as I hear how they talk about other couples, that shouldn't be together in their opinion and in general am aware of their point of view on these matters. \\n\\nActually there is a very small chance, that they might be okay with him because only his mother has a different cultural background and at the same time there is still a big chance, that they might be against him.\\n\\nThis means telling them about him will probably cause a conflict. The mood in the house will drop because of me, there will be disussions because of me, very dramatic and emotional discussions, everybody will be devestated because of me... All in all everything will feel dark and cold the following days. This scenario took place once in my lifetime because of a similar topic.\\n\\nFor this reason I am really afraid to tell them. But that is, what I want to do tomorrow or the day after. I really want to speak to them about him. What I am hoping for is to get some advice on how to handle this conversation, some motivational stories with happy endings, speeches about how I will regret not to tell and so on... I really need that right now :(\\n\\nSome side notes:\\nI won't talk about marriage to my parents. That would be too much in the beginning:) I'll just mention, that I have a boyfriend and hope they'll accept it one day. Of course I will remain calm throughout the conversation. That is very important, I think.\\n\\nMy boyfriend knows about these issues and he understands me. I wanted him to know because otherwise it would not be fair to him. Luckily he has always been very patient.\\nTL;DR: Telling parents I have a boyfriend. They most likely will NOT accept him due to our different cultures. How shall I go through the situation?\"], [\"SUBREDDIT: r/relationships\\nTITLE: Parents will probably be against my[25f] relationship with my boyfriend[26M]\\nPOST: My boyfriend and I have been in a relationship for nearly 2 years and last year it turned into a long distance relationship. Meanwhile we have come to the conclusion, that we want to live in the same country and move in together.\\nMy family expects me to get married in order to live with my boyfriend. My boyfriend and I, we are both okay with that. \\n\\nThe problem is, that my parents don't know about him yet. I have never told them because I was pretty sure, that they won't accept him for one specific reason.\\nAnd I am so sure, as I hear how they talk about other couples, that shouldn't be together in their opinion and in general am aware of their point of view on these matters. \\n\\nActually there is a very small chance, that they might be okay with him because only his mother has a different cultural background and at the same time there is still a big chance, that they might be against him.\\n\\nThis means telling them about him will probably cause a conflict. The mood in the house will drop because of me, there will be disussions because of me, very dramatic and emotional discussions, everybody will be devestated because of me... All in all everything will feel dark and cold the following days. This scenario took place once in my lifetime because of a similar topic.\\n\\nFor this reason I am really afraid to tell them. But that is, what I want to do tomorrow or the day after. I really want to speak to them about him. What I am hoping for is to get some advice on how to handle this conversation, some motivational stories with happy endings, speeches about how I will regret not to tell and so on... I really need that right now :(\\n\\nSome side notes:\\nI won't talk about marriage to my parents. That would be too much in the beginning:) I'll just mention, that I have a boyfriend and hope they'll accept it one day. Of course I will remain calm throughout the conversation. That is very important, I think.\\n\\nMy boyfriend knows about these issues and he understands me. I wanted him to know because otherwise it would not be fair to him. Luckily he has always been very patient.\\nTL;DR: Will probably lead to lots of talking and tears, but can't deal with the situation anymore. Need some support.\"], [\"SUBREDDIT: r/relationships\\nTITLE: Parents will probably be against my[25f] relationship with my boyfriend[26M]\\nPOST: My boyfriend and I have been in a relationship for nearly 2 years and last year it turned into a long distance relationship. Meanwhile we have come to the conclusion, that we want to live in the same country and move in together.\\nMy family expects me to get married in order to live with my boyfriend. My boyfriend and I, we are both okay with that. \\n\\nThe problem is, that my parents don't know about him yet. I have never told them because I was pretty sure, that they won't accept him for one specific reason.\\nAnd I am so sure, as I hear how they talk about other couples, that shouldn't be together in their opinion and in general am aware of their point of view on these matters. \\n\\nActually there is a very small chance, that they might be okay with him because only his mother has a different cultural background and at the same time there is still a big chance, that they might be against him.\\n\\nThis means telling them about him will probably cause a conflict. The mood in the house will drop because of me, there will be disussions because of me, very dramatic and emotional discussions, everybody will be devestated because of me... All in all everything will feel dark and cold the following days. This scenario took place once in my lifetime because of a similar topic.\\n\\nFor this reason I am really afraid to tell them. But that is, what I want to do tomorrow or the day after. I really want to speak to them about him. What I am hoping for is to get some advice on how to handle this conversation, some motivational stories with happy endings, speeches about how I will regret not to tell and so on... I really need that right now :(\\n\\nSome side notes:\\nI won't talk about marriage to my parents. That would be too much in the beginning:) I'll just mention, that I have a boyfriend and hope they'll accept it one day. Of course I will remain calm throughout the conversation. That is very important, I think.\\n\\nMy boyfriend knows about these issues and he understands me. I wanted him to know because otherwise it would not be fair to him. Luckily he has always been very patient.\\nTL;DR: My parents expect me to get married before living together and won't accept my bf because they have to deal with a culture shock if not convinced from the begining.\"], [\"SUBREDDIT: r/relationships\\nTITLE: Parents will probably be against my[25f] relationship with my boyfriend[26M]\\nPOST: My boyfriend and I have been in a relationship for nearly 2 years and last year it turned into a long distance relationship. Meanwhile we have come to the conclusion, that we want to live in the same country and move in together.\\nMy family expects me to get married in order to live with my boyfriend. My boyfriend and I, we are both okay with that. \\n\\nThe problem is, that my parents don't know about him yet. I have never told them because I was pretty sure, that they won't accept him for one specific reason.\\nAnd I am so sure, as I hear how they talk about other couples, that shouldn't be together in their opinion and in general am aware of their point of view on these matters. \\n\\nActually there is a very small chance, that they might be okay with him because only his mother has a different cultural background and at the same time there is still a big chance, that they might be against him.\\n\\nThis means telling them about him will probably cause a conflict. The mood in the house will drop because of me, there will be disussions because of me, very dramatic and emotional discussions, everybody will be devestated because of me... All in all everything will feel dark and cold the following days. This scenario took place once in my lifetime because of a similar topic.\\n\\nFor this reason I am really afraid to tell them. But that is, what I want to do tomorrow or the day after. I really want to speak to them about him. What I am hoping for is to get some advice on how to handle this conversation, some motivational stories with happy endings, speeches about how I will regret not to tell and so on... I really need that right now :(\\n\\nSome side notes:\\nI won't talk about marriage to my parents. That would be too much in the beginning:) I'll just mention, that I have a boyfriend and hope they'll accept it one day. Of course I will remain calm throughout the conversation. That is very important, I think.\\n\\nMy boyfriend knows about these issues and he understands me. I wanted him to know because otherwise it would not be fair to him. Luckily he has always been very patient.\\nTL;DR: Family most likely rejects my boyfriend [m26]. Will make us depressed about us (and also them). Afraid to tell them. Need inspiration!\"]]\n"
          ]
        },
        {
          "metadata": {
            "tags": null
          },
          "name": "stderr",
          "output_type": "stream",
          "text": [
            "Setting `pad_token_id` to `eos_token_id`:2 for open-end generation.\n",
            "Setting `pad_token_id` to `eos_token_id`:2 for open-end generation.\n",
            "Setting `pad_token_id` to `eos_token_id`:2 for open-end generation.\n",
            "Setting `pad_token_id` to `eos_token_id`:2 for open-end generation.\n"
          ]
        },
        {
          "metadata": {
            "tags": null
          },
          "name": "stdout",
          "output_type": "stream",
          "text": [
            "\n",
            "Outputs for input 28:  [['SUBREDDIT: r/AskReddit\\nTITLE: Black people. Help me understand you.\\nPOST: Don\\'t read if you think this is a troll or angry statement because it\\'s not, it\\'s a genuine statement.\\n\\nPlease. I have tried many times to understand why black people feel so entitled because of tragic acts that happened hundreds of years ago. (Since when were black people the only slaves?) Every SINGLE black man/woman I\\'ve met, has this particular attitude amongst them: Blacks need to ALWAYS stick together, every other race hates them, every other race is going out of their way to oppress them.  I see white people especially trying to embrace blacks and show them that they are equal, but then it is met by \"Oh you\\'re just doing it to show you\\'re not racist, but you are.\" I turn on TV, blacks are in MANY commercials and ad campaigns that were created by whites. I see blacks in commercials and ad campaigns that were created by blacks, no whites there. When are black people going to be satisfied with our country and it\\'s efforts embrace blacks? If the answer is never, what are you doing to make it a real goal?\\nTL;DR: WHY can\\'t we go more than three days without an article being about some perceived act of racism towards black people?'], ['SUBREDDIT: r/AskReddit\\nTITLE: Black people. Help me understand you.\\nPOST: Don\\'t read if you think this is a troll or angry statement because it\\'s not, it\\'s a genuine statement.\\n\\nPlease. I have tried many times to understand why black people feel so entitled because of tragic acts that happened hundreds of years ago. (Since when were black people the only slaves?) Every SINGLE black man/woman I\\'ve met, has this particular attitude amongst them: Blacks need to ALWAYS stick together, every other race hates them, every other race is going out of their way to oppress them.  I see white people especially trying to embrace blacks and show them that they are equal, but then it is met by \"Oh you\\'re just doing it to show you\\'re not racist, but you are.\" I turn on TV, blacks are in MANY commercials and ad campaigns that were created by whites. I see blacks in commercials and ad campaigns that were created by blacks, no whites there. When are black people going to be satisfied with our country and it\\'s efforts embrace blacks? If the answer is never, what are you doing to make it a real goal?\\nTL;DR: Why can\\'t blacks get over all the crap there ancestors had to go through(which EVERY RACE went though) and strive to succeed like everyone else?'], ['SUBREDDIT: r/AskReddit\\nTITLE: Black people. Help me understand you.\\nPOST: Don\\'t read if you think this is a troll or angry statement because it\\'s not, it\\'s a genuine statement.\\n\\nPlease. I have tried many times to understand why black people feel so entitled because of tragic acts that happened hundreds of years ago. (Since when were black people the only slaves?) Every SINGLE black man/woman I\\'ve met, has this particular attitude amongst them: Blacks need to ALWAYS stick together, every other race hates them, every other race is going out of their way to oppress them.  I see white people especially trying to embrace blacks and show them that they are equal, but then it is met by \"Oh you\\'re just doing it to show you\\'re not racist, but you are.\" I turn on TV, blacks are in MANY commercials and ad campaigns that were created by whites. I see blacks in commercials and ad campaigns that were created by blacks, no whites there. When are black people going to be satisfied with our country and it\\'s efforts embrace blacks? If the answer is never, what are you doing to make it a real goal?\\nTL;DR: There will always be racism, until nobody recognizes ethnicity as a factor for anything ever again which might happen before I die(I highly doubt it).'], ['SUBREDDIT: r/AskReddit\\nTITLE: Black people. Help me understand you.\\nPOST: Don\\'t read if you think this is a troll or angry statement because it\\'s not, it\\'s a genuine statement.\\n\\nPlease. I have tried many times to understand why black people feel so entitled because of tragic acts that happened hundreds of years ago. (Since when were black people the only slaves?) Every SINGLE black man/woman I\\'ve met, has this particular attitude amongst them: Blacks need to ALWAYS stick together, every other race hates them, every other race is going out of their way to oppress them.  I see white people especially trying to embrace blacks and show them that they are equal, but then it is met by \"Oh you\\'re just doing it to show you\\'re not racist, but you are.\" I turn on TV, blacks are in MANY commercials and ad campaigns that were created by whites. I see blacks in commercials and ad campaigns that were created by blacks, no whites there. When are black people going to be satisfied with our country and it\\'s efforts embrace blacks? If the answer is never, what are you doing to make it a real goal?\\nTL;DR: All I am asking for is some light shed upon my questions as to why African Americans can NEVER ever accept help from other races?']]\n"
          ]
        },
        {
          "metadata": {
            "tags": null
          },
          "name": "stderr",
          "output_type": "stream",
          "text": [
            "Setting `pad_token_id` to `eos_token_id`:2 for open-end generation.\n",
            "Setting `pad_token_id` to `eos_token_id`:2 for open-end generation.\n",
            "Setting `pad_token_id` to `eos_token_id`:2 for open-end generation.\n",
            "Setting `pad_token_id` to `eos_token_id`:2 for open-end generation.\n"
          ]
        },
        {
          "metadata": {
            "tags": null
          },
          "name": "stdout",
          "output_type": "stream",
          "text": [
            "\n",
            "Outputs for input 29:  [['SUBREDDIT: r/relationships\\nTITLE: Sometimes I(21F) think my bf(24M) chooses games over me...\\nPOST: ...and it is really starting to upset me. We\\'ve been dating for a while, I knew he was a gamer and that was part of the appeal. But I\\'m finding it more and more annoying when he ignores me to talk to people he\\'s never met. I\\'m right here, in flesh and blood, trying to talk about my day or my problems or wanting some sexy times and he\\'ll ignore me. For example, I just wanted to share a sexy shower but he\\'s \"too busy teaching this new girl how to play.\" We\\'re apart most of the day, always busy. I get that when he gets home he wants to relax, but I\\'m always home 3 hours after him. I feel like asking a few minutes to just \"us\" isn\\'t too much to ask, is it?\\nTL;DR: boyfriend often ignores me to discuss online gaming with strangers- it\\'s hurting our relationship and I don\\'t know what can be done'], ['SUBREDDIT: r/relationships\\nTITLE: Sometimes I(21F) think my bf(24M) chooses games over me...\\nPOST: ...and it is really starting to upset me. We\\'ve been dating for a while, I knew he was a gamer and that was part of the appeal. But I\\'m finding it more and more annoying when he ignores me to talk to people he\\'s never met. I\\'m right here, in flesh and blood, trying to talk about my day or my problems or wanting some sexy times and he\\'ll ignore me. For example, I just wanted to share a sexy shower but he\\'s \"too busy teaching this new girl how to play.\" We\\'re apart most of the day, always busy. I get that when he gets home he wants to relax, but I\\'m always home 3 hours after him. I feel like asking a few minutes to just \"us\" isn\\'t too much to ask, is it?\\nTL;DR: boyfriend ignoring me all the time for friends he\\'s only known for a short period of time; it makes me sad, not feel loved etc'], ['SUBREDDIT: r/relationships\\nTITLE: Sometimes I(21F) think my bf(24M) chooses games over me...\\nPOST: ...and it is really starting to upset me. We\\'ve been dating for a while, I knew he was a gamer and that was part of the appeal. But I\\'m finding it more and more annoying when he ignores me to talk to people he\\'s never met. I\\'m right here, in flesh and blood, trying to talk about my day or my problems or wanting some sexy times and he\\'ll ignore me. For example, I just wanted to share a sexy shower but he\\'s \"too busy teaching this new girl how to play.\" We\\'re apart most of the day, always busy. I get that when he gets home he wants to relax, but I\\'m always home 3 hours after him. I feel like asking a few minutes to just \"us\" isn\\'t too much to ask, is it?\\nTL;DR: Bf spends time with his online friends rather than \"in real life.\" I want quality time, he doesn\\'t offer enough (or any). How reasonable am i?'], ['SUBREDDIT: r/relationships\\nTITLE: Sometimes I(21F) think my bf(24M) chooses games over me...\\nPOST: ...and it is really starting to upset me. We\\'ve been dating for a while, I knew he was a gamer and that was part of the appeal. But I\\'m finding it more and more annoying when he ignores me to talk to people he\\'s never met. I\\'m right here, in flesh and blood, trying to talk about my day or my problems or wanting some sexy times and he\\'ll ignore me. For example, I just wanted to share a sexy shower but he\\'s \"too busy teaching this new girl how to play.\" We\\'re apart most of the day, always busy. I get that when he gets home he wants to relax, but I\\'m always home 3 hours after him. I feel like asking a few minutes to just \"us\" isn\\'t too much to ask, is it?\\nTL;DR: I want him to stop getting so distracted by new people online to put priority on the person he\\'s been with for months....']]\n"
          ]
        },
        {
          "metadata": {
            "tags": null
          },
          "name": "stderr",
          "output_type": "stream",
          "text": [
            "Setting `pad_token_id` to `eos_token_id`:2 for open-end generation.\n",
            "Setting `pad_token_id` to `eos_token_id`:2 for open-end generation.\n",
            "Setting `pad_token_id` to `eos_token_id`:2 for open-end generation.\n",
            "Setting `pad_token_id` to `eos_token_id`:2 for open-end generation.\n"
          ]
        },
        {
          "metadata": {
            "tags": null
          },
          "name": "stdout",
          "output_type": "stream",
          "text": [
            "\n",
            "Outputs for input 30:  [['SUBREDDIT: r/dating_advice\\nTITLE: I though the date went well, she didn\\'t.\\nPOST: I [24M] met a nice girl [22F] on Tinder last week, though I don\\'t hold much stock in Tinder. I got her number and we texted all week, and we seemed to get a long very well. So We decided to meet for drinks on Friday, it just so happened to be my birthday too. I haven\\'t been on a date like this in a while so I was nervous but I do well under pressure. I felt like it went well, but of course, I expect first dates to be a little shaky which is normal I think. I kept things light, I didn\\'t talk about serious personal stuff and kept it short, about 2 hours. We left, walked her to her car, a little \"nice to meet you\" hug, and just your basic talk to you later kind of goodbye.  \\n\\nThis morning, asked her how she though it went and was told it was bad. Apparently it was some things I said. Of course, she didn\\'t tell me what those things were and stopped texting me and unmatched me on Tinder. There\\'s not much point in trying to remember all the things I said, but shit...I would like to know. I guess I\\'m just upset because she just slammed the door on me. \\n\\nAnybody else deal with this? Any ideas? Im not trying to fix anything, I just want to learn from my mistakes.\\nTL;DR: Thought date went well and thought we had great chemistry, turns out its just one big No-no list and she ended things right then and cut me off.'], ['SUBREDDIT: r/dating_advice\\nTITLE: I though the date went well, she didn\\'t.\\nPOST: I [24M] met a nice girl [22F] on Tinder last week, though I don\\'t hold much stock in Tinder. I got her number and we texted all week, and we seemed to get a long very well. So We decided to meet for drinks on Friday, it just so happened to be my birthday too. I haven\\'t been on a date like this in a while so I was nervous but I do well under pressure. I felt like it went well, but of course, I expect first dates to be a little shaky which is normal I think. I kept things light, I didn\\'t talk about serious personal stuff and kept it short, about 2 hours. We left, walked her to her car, a little \"nice to meet you\" hug, and just your basic talk to you later kind of goodbye.  \\n\\nThis morning, asked her how she though it went and was told it was bad. Apparently it was some things I said. Of course, she didn\\'t tell me what those things were and stopped texting me and unmatched me on Tinder. There\\'s not much point in trying to remember all the things I said, but shit...I would like to know. I guess I\\'m just upset because she just slammed the door on me. \\n\\nAnybody else deal with this? Any ideas? Im not trying to fix anything, I just want to learn from my mistakes.\\nTL;DR: She thought our date went bad based on something I had said and isn\\'t willing to say what that thing was or continue after. How can I rectify this without sounding like an ass?'], ['SUBREDDIT: r/dating_advice\\nTITLE: I though the date went well, she didn\\'t.\\nPOST: I [24M] met a nice girl [22F] on Tinder last week, though I don\\'t hold much stock in Tinder. I got her number and we texted all week, and we seemed to get a long very well. So We decided to meet for drinks on Friday, it just so happened to be my birthday too. I haven\\'t been on a date like this in a while so I was nervous but I do well under pressure. I felt like it went well, but of course, I expect first dates to be a little shaky which is normal I think. I kept things light, I didn\\'t talk about serious personal stuff and kept it short, about 2 hours. We left, walked her to her car, a little \"nice to meet you\" hug, and just your basic talk to you later kind of goodbye.  \\n\\nThis morning, asked her how she though it went and was told it was bad. Apparently it was some things I said. Of course, she didn\\'t tell me what those things were and stopped texting me and unmatched me on Tinder. There\\'s not much point in trying to remember all the things I said, but shit...I would like to know. I guess I\\'m just upset because she just slammed the door on me. \\n\\nAnybody else deal with this? Any ideas? Im not trying to fix anything, I just want to learn from my mistakes.\\nTL;DR: I though the first date went really fucking great, turns out the other person didnt and has completely shut down communication.'], ['SUBREDDIT: r/dating_advice\\nTITLE: I though the date went well, she didn\\'t.\\nPOST: I [24M] met a nice girl [22F] on Tinder last week, though I don\\'t hold much stock in Tinder. I got her number and we texted all week, and we seemed to get a long very well. So We decided to meet for drinks on Friday, it just so happened to be my birthday too. I haven\\'t been on a date like this in a while so I was nervous but I do well under pressure. I felt like it went well, but of course, I expect first dates to be a little shaky which is normal I think. I kept things light, I didn\\'t talk about serious personal stuff and kept it short, about 2 hours. We left, walked her to her car, a little \"nice to meet you\" hug, and just your basic talk to you later kind of goodbye.  \\n\\nThis morning, asked her how she though it went and was told it was bad. Apparently it was some things I said. Of course, she didn\\'t tell me what those things were and stopped texting me and unmatched me on Tinder. There\\'s not much point in trying to remember all the things I said, but shit...I would like to know. I guess I\\'m just upset because she just slammed the door on me. \\n\\nAnybody else deal with this? Any ideas? Im not trying to fix anything, I just want to learn from my mistakes.\\nTL;DR: It really hurt when I found out my first date thought it was a horrible date after saying it was wonderful a few hours prior. Just looking for input on how to recover and make more sure I understand what women want.']]\n"
          ]
        },
        {
          "metadata": {
            "tags": null
          },
          "name": "stderr",
          "output_type": "stream",
          "text": [
            "Setting `pad_token_id` to `eos_token_id`:2 for open-end generation.\n",
            "Setting `pad_token_id` to `eos_token_id`:2 for open-end generation.\n",
            "Setting `pad_token_id` to `eos_token_id`:2 for open-end generation.\n",
            "Setting `pad_token_id` to `eos_token_id`:2 for open-end generation.\n"
          ]
        },
        {
          "metadata": {
            "tags": null
          },
          "name": "stdout",
          "output_type": "stream",
          "text": [
            "\n",
            "Outputs for input 31:  [[\"SUBREDDIT: r/AskReddit\\nTITLE: is it possible to get in trouble for telling someone to die in a fire?\\nPOST: long story short some dick sold me a fake Pokemon game on play.com. I emailed him calling him a douche for distributing fakes and said die in a fire. I left a review on his seller profile saying I received a fake game. \\n\\nhe emails me saying I threatened to burn his house down (?????) and that if I did not say sorry and removed my feedback then he would contact the police because I threatened him apparently. \\n\\na few emails of me telling him to leave me alone he threatens to send the police to my house tomorrow (he got the address from mailing me the fake game) and says the same usual shit and tries to blackmail me to remove the review or, again, threatens to get the police involved.\\nTL;DR: told some guy to die in a fire in an email I sent. He says i'm going to face jail time.\"], ['SUBREDDIT: r/AskReddit\\nTITLE: is it possible to get in trouble for telling someone to die in a fire?\\nPOST: long story short some dick sold me a fake Pokemon game on play.com. I emailed him calling him a douche for distributing fakes and said die in a fire. I left a review on his seller profile saying I received a fake game. \\n\\nhe emails me saying I threatened to burn his house down (?????) and that if I did not say sorry and removed my feedback then he would contact the police because I threatened him apparently. \\n\\na few emails of me telling him to leave me alone he threatens to send the police to my house tomorrow (he got the address from mailing me the fake game) and says the same usual shit and tries to blackmail me to remove the review or, again, threatens to get the police involved.\\nTL;DR: asshole sold me a fake Pokemon game - i told him off with insults including to \"die in a fire\"; now i might have legal problems if this doesnt end soon!'], [\"SUBREDDIT: r/AskReddit\\nTITLE: is it possible to get in trouble for telling someone to die in a fire?\\nPOST: long story short some dick sold me a fake Pokemon game on play.com. I emailed him calling him a douche for distributing fakes and said die in a fire. I left a review on his seller profile saying I received a fake game. \\n\\nhe emails me saying I threatened to burn his house down (?????) and that if I did not say sorry and removed my feedback then he would contact the police because I threatened him apparently. \\n\\na few emails of me telling him to leave me alone he threatens to send the police to my house tomorrow (he got the address from mailing me the fake game) and says the same usual shit and tries to blackmail me to remove the review or, again, threatens to get the police involved.\\nTL;DR: a person who distributed games online on Play.com made a fake game and tried to sell me one threatening to go the Police if i didn't remove a negative Review from his Seller Profile\"], ['SUBREDDIT: r/AskReddit\\nTITLE: is it possible to get in trouble for telling someone to die in a fire?\\nPOST: long story short some dick sold me a fake Pokemon game on play.com. I emailed him calling him a douche for distributing fakes and said die in a fire. I left a review on his seller profile saying I received a fake game. \\n\\nhe emails me saying I threatened to burn his house down (?????) and that if I did not say sorry and removed my feedback then he would contact the police because I threatened him apparently. \\n\\na few emails of me telling him to leave me alone he threatens to send the police to my house tomorrow (he got the address from mailing me the fake game) and says the same usual shit and tries to blackmail me to remove the review or, again, threatens to get the police involved.\\nTL;DR: sold counterfeit pokemon games, threatened to sell them illegally over email as payback. i emailed back being rude, now he threatens to send the police tomoro to come at me for being sarcastic and nasty online']]\n"
          ]
        },
        {
          "metadata": {
            "tags": null
          },
          "name": "stderr",
          "output_type": "stream",
          "text": [
            "Setting `pad_token_id` to `eos_token_id`:2 for open-end generation.\n",
            "Setting `pad_token_id` to `eos_token_id`:2 for open-end generation.\n",
            "Setting `pad_token_id` to `eos_token_id`:2 for open-end generation.\n",
            "Setting `pad_token_id` to `eos_token_id`:2 for open-end generation.\n"
          ]
        },
        {
          "metadata": {
            "tags": null
          },
          "name": "stdout",
          "output_type": "stream",
          "text": [
            "\n",
            "Outputs for input 32:  [['SUBREDDIT: r/relationships\\nTITLE: Should I (M19) drop this girl (F20)...?\\nPOST: Hello,\\n\\nThis girl I met has been hitting on me for a while and I\\'m interested. However, today she said something that really bothered me. I told her I can\\'t really cook and have much to learn and she asked me in a b**chy way how am I supposed to impress a woman if I can\\'t cook.... I told her I was joking ( I can cook but have limited knowledge.) but it was just so...direct and rude. She replied a little cold after that and I just ignored her... She\\'s told me she can\\'t do some things well and I never asked \"How do you expect to impress a man?\" Not everyone knows everything, and plus she told me she\\'s a bad cook...(lol)\\n\\nJust a little amazed she could be so rude...but what do you guys think? She\\'s really cool, smart and I can talk to her like a bro but I feel like that attitude she displayed today while texting seems to foreshadow some \"drastic\" situations.\\nTL;DR: Girl hit on me said something rude, gave back attitude even though not her fault, and basically called me on my lack of cooking skills'], ['SUBREDDIT: r/relationships\\nTITLE: Should I (M19) drop this girl (F20)...?\\nPOST: Hello,\\n\\nThis girl I met has been hitting on me for a while and I\\'m interested. However, today she said something that really bothered me. I told her I can\\'t really cook and have much to learn and she asked me in a b**chy way how am I supposed to impress a woman if I can\\'t cook.... I told her I was joking ( I can cook but have limited knowledge.) but it was just so...direct and rude. She replied a little cold after that and I just ignored her... She\\'s told me she can\\'t do some things well and I never asked \"How do you expect to impress a man?\" Not everyone knows everything, and plus she told me she\\'s a bad cook...(lol)\\n\\nJust a little amazed she could be so rude...but what do you guys think? She\\'s really cool, smart and I can talk to her like a bro but I feel like that attitude she displayed today while texting seems to foreshadow some \"drastic\" situations.\\nTL;DR: Girl is hot and smart, showed me an aggressive / mean side of nature that concerns me on whether we could even work together as partners'], ['SUBREDDIT: r/relationships\\nTITLE: Should I (M19) drop this girl (F20)...?\\nPOST: Hello,\\n\\nThis girl I met has been hitting on me for a while and I\\'m interested. However, today she said something that really bothered me. I told her I can\\'t really cook and have much to learn and she asked me in a b**chy way how am I supposed to impress a woman if I can\\'t cook.... I told her I was joking ( I can cook but have limited knowledge.) but it was just so...direct and rude. She replied a little cold after that and I just ignored her... She\\'s told me she can\\'t do some things well and I never asked \"How do you expect to impress a man?\" Not everyone knows everything, and plus she told me she\\'s a bad cook...(lol)\\n\\nJust a little amazed she could be so rude...but what do you guys think? She\\'s really cool, smart and I can talk to her like a bro but I feel like that attitude she displayed today while texting seems to foreshadow some \"drastic\" situations.\\nTL;DR: Girl hits on me, tells me to man up because I don\\'t know how to cook, gives icy reply when confronted, I ignore and get no reply.'], ['SUBREDDIT: r/relationships\\nTITLE: Should I (M19) drop this girl (F20)...?\\nPOST: Hello,\\n\\nThis girl I met has been hitting on me for a while and I\\'m interested. However, today she said something that really bothered me. I told her I can\\'t really cook and have much to learn and she asked me in a b**chy way how am I supposed to impress a woman if I can\\'t cook.... I told her I was joking ( I can cook but have limited knowledge.) but it was just so...direct and rude. She replied a little cold after that and I just ignored her... She\\'s told me she can\\'t do some things well and I never asked \"How do you expect to impress a man?\" Not everyone knows everything, and plus she told me she\\'s a bad cook...(lol)\\n\\nJust a little amazed she could be so rude...but what do you guys think? She\\'s really cool, smart and I can talk to her like a bro but I feel like that attitude she displayed today while texting seems to foreshadow some \"drastic\" situations.\\nTL;DR: This girl I\\'m interested says she hates when guys don\\'t know cooking or how to dance and wants my guy friends to teach them to dance. What should I make of this?']]\n"
          ]
        },
        {
          "metadata": {
            "tags": null
          },
          "name": "stderr",
          "output_type": "stream",
          "text": [
            "Setting `pad_token_id` to `eos_token_id`:2 for open-end generation.\n",
            "Setting `pad_token_id` to `eos_token_id`:2 for open-end generation.\n",
            "Setting `pad_token_id` to `eos_token_id`:2 for open-end generation.\n",
            "Setting `pad_token_id` to `eos_token_id`:2 for open-end generation.\n"
          ]
        },
        {
          "metadata": {
            "tags": null
          },
          "name": "stdout",
          "output_type": "stream",
          "text": [
            "\n",
            "Outputs for input 33:  [[\"SUBREDDIT: r/relationships\\nTITLE: BF [23 M] broke up with me [22 F] after two years together, it was somewhat mutual\\nPOST: This happened yesterday, and we're both still in love with each other. We both love each other so deeply, but are at different stages in life. (he's finishing up college, I graduated in May) \\n\\nWe were in a weird phase where I was commuting to work a shitty job and staying with him for half  the week, and then commuting back home and living home for half the week. He's already decided that long distance would be too hard since he's finishing up his senior year. \\n\\nIdk it's just so hard.. and I could tell it was so hard for him too. Neither of us want to break up, but it's the best thing for right now. He said he doesn't want to close the door on having me in his life, but it seems unfair to string me along like that. I'm just so confused and in need off some advice.\\nTL;DR: I can't help but feel lost, even though I know sometimes things don't work out as planned. Anytime someone gets too far away emotionally from their partner.. that relationship will end badly\"], [\"SUBREDDIT: r/relationships\\nTITLE: BF [23 M] broke up with me [22 F] after two years together, it was somewhat mutual\\nPOST: This happened yesterday, and we're both still in love with each other. We both love each other so deeply, but are at different stages in life. (he's finishing up college, I graduated in May) \\n\\nWe were in a weird phase where I was commuting to work a shitty job and staying with him for half  the week, and then commuting back home and living home for half the week. He's already decided that long distance would be too hard since he's finishing up his senior year. \\n\\nIdk it's just so hard.. and I could tell it was so hard for him too. Neither of us want to break up, but it's the best thing for right now. He said he doesn't want to close the door on having me in his life, but it seems unfair to string me along like that. I'm just so confused and in need off some advice.\\nTL;DR: boyfriend [23M] and I [22F] have broken up because of conflicting schedules between mine and his, and we love love love eachother\"], [\"SUBREDDIT: r/relationships\\nTITLE: BF [23 M] broke up with me [22 F] after two years together, it was somewhat mutual\\nPOST: This happened yesterday, and we're both still in love with each other. We both love each other so deeply, but are at different stages in life. (he's finishing up college, I graduated in May) \\n\\nWe were in a weird phase where I was commuting to work a shitty job and staying with him for half  the week, and then commuting back home and living home for half the week. He's already decided that long distance would be too hard since he's finishing up his senior year. \\n\\nIdk it's just so hard.. and I could tell it was so hard for him too. Neither of us want to break up, but it's the best thing for right now. He said he doesn't want to close the door on having me in his life, but it seems unfair to string me along like that. I'm just so confused and in need off some advice.\\nTL;DR: BF & me in LD break up because its better than being long distance-- neither of us would really be able to handle that kind of stress\"], [\"SUBREDDIT: r/relationships\\nTITLE: BF [23 M] broke up with me [22 F] after two years together, it was somewhat mutual\\nPOST: This happened yesterday, and we're both still in love with each other. We both love each other so deeply, but are at different stages in life. (he's finishing up college, I graduated in May) \\n\\nWe were in a weird phase where I was commuting to work a shitty job and staying with him for half  the week, and then commuting back home and living home for half the week. He's already decided that long distance would be too hard since he's finishing up his senior year. \\n\\nIdk it's just so hard.. and I could tell it was so hard for him too. Neither of us want to break up, but it's the best thing for right now. He said he doesn't want to close the door on having me in his life, but it seems unfair to string me along like that. I'm just so confused and in need off some advice.\\nTL;DR: My super wonderful/amazing boyfriend broke up with me because of circumstances in our lives, do i have any hope? what should i do?\"]]\n"
          ]
        },
        {
          "metadata": {
            "tags": null
          },
          "name": "stderr",
          "output_type": "stream",
          "text": [
            "Setting `pad_token_id` to `eos_token_id`:2 for open-end generation.\n",
            "Setting `pad_token_id` to `eos_token_id`:2 for open-end generation.\n",
            "Setting `pad_token_id` to `eos_token_id`:2 for open-end generation.\n",
            "Setting `pad_token_id` to `eos_token_id`:2 for open-end generation.\n"
          ]
        },
        {
          "metadata": {
            "tags": null
          },
          "name": "stdout",
          "output_type": "stream",
          "text": [
            "\n",
            "Outputs for input 34:  [[\"SUBREDDIT: r/AskReddit\\nTITLE: Hey Reddit, I've got very severe lower back/sciatic nerve pain. Any tips/tricks/help from fellow redditors?\\nPOST: So here's basically what's going on: \\n\\nI hurt my back about 4 weeks ago by carrying around 50 pounds in a messenger bag slung sideways over my shoulder. I am having very severe and crippling pain which has moved almost 90% from my lower back down into my buttocks/hamstrings. I am going to a chiropractor three times per week and doing physical therapy there and I'm also being hooked up to a muscle stimulus machine (electrode device). \\n\\nI am in constant pain and can't move/sleep/stand for more than fifteen minutes at a time. I can't bend down, lay down, bend sideways, anything. Nothing I have done has eased the pain in nearly 4 weeks. I'm driving my girlfriend nuts and I feel quite helpless. I haven't been out of the house but only five times (minus the chiropractor visits) in the past four weeks.I also start back to University on Monday and I have absolutely no clue how thats going to go down. \\n\\nHas anyone else here suffered with this? My mother had sciatica and her episode lasted for nearly three months. There's no way I can endure this for another 8 weeks. \\n\\nHere's what I've done so far: ice, Advil, physical therapy, rest, pillows under legs and back while resting and laying down. tonight I am trying to sleep in a recliner which perhaps seems to be helping a tiny bit.\\nTL;DR: Back hurts, muscles clenched up tighter than hell, looking for help getting along until the day when my muscles won't constantly scream bloody murder whenever you touch them or just *think* about moving.\"], [\"SUBREDDIT: r/AskReddit\\nTITLE: Hey Reddit, I've got very severe lower back/sciatic nerve pain. Any tips/tricks/help from fellow redditors?\\nPOST: So here's basically what's going on: \\n\\nI hurt my back about 4 weeks ago by carrying around 50 pounds in a messenger bag slung sideways over my shoulder. I am having very severe and crippling pain which has moved almost 90% from my lower back down into my buttocks/hamstrings. I am going to a chiropractor three times per week and doing physical therapy there and I'm also being hooked up to a muscle stimulus machine (electrode device). \\n\\nI am in constant pain and can't move/sleep/stand for more than fifteen minutes at a time. I can't bend down, lay down, bend sideways, anything. Nothing I have done has eased the pain in nearly 4 weeks. I'm driving my girlfriend nuts and I feel quite helpless. I haven't been out of the house but only five times (minus the chiropractor visits) in the past four weeks.I also start back to University on Monday and I have absolutely no clue how thats going to go down. \\n\\nHas anyone else here suffered with this? My mother had sciatica and her episode lasted for nearly three months. There's no way I can endure this for another 8 weeks. \\n\\nHere's what I've done so far: ice, Advil, physical therapy, rest, pillows under legs and back while resting and laying down. tonight I am trying to sleep in a recliner which perhaps seems to be helping a tiny bit.\\nTL;DR: Back hurts. Chronic pain. No idea if I should just buck up or what. Please offer any suggestions you might have because this shit is bad and getting worse as time goes on\"], [\"SUBREDDIT: r/AskReddit\\nTITLE: Hey Reddit, I've got very severe lower back/sciatic nerve pain. Any tips/tricks/help from fellow redditors?\\nPOST: So here's basically what's going on: \\n\\nI hurt my back about 4 weeks ago by carrying around 50 pounds in a messenger bag slung sideways over my shoulder. I am having very severe and crippling pain which has moved almost 90% from my lower back down into my buttocks/hamstrings. I am going to a chiropractor three times per week and doing physical therapy there and I'm also being hooked up to a muscle stimulus machine (electrode device). \\n\\nI am in constant pain and can't move/sleep/stand for more than fifteen minutes at a time. I can't bend down, lay down, bend sideways, anything. Nothing I have done has eased the pain in nearly 4 weeks. I'm driving my girlfriend nuts and I feel quite helpless. I haven't been out of the house but only five times (minus the chiropractor visits) in the past four weeks.I also start back to University on Monday and I have absolutely no clue how thats going to go down. \\n\\nHas anyone else here suffered with this? My mother had sciatica and her episode lasted for nearly three months. There's no way I can endure this for another 8 weeks. \\n\\nHere's what I've done so far: ice, Advil, physical therapy, rest, pillows under legs and back while resting and laying down. tonight I am trying to sleep in a recliner which perhaps seems to be helping a tiny bit.\\nTL;DR: Back hurts so much that I can barely function as an adult. What do you suggest I try next before taking my doctor's advice and heading towards invasive measures?\"], [\"SUBREDDIT: r/AskReddit\\nTITLE: Hey Reddit, I've got very severe lower back/sciatic nerve pain. Any tips/tricks/help from fellow redditors?\\nPOST: So here's basically what's going on: \\n\\nI hurt my back about 4 weeks ago by carrying around 50 pounds in a messenger bag slung sideways over my shoulder. I am having very severe and crippling pain which has moved almost 90% from my lower back down into my buttocks/hamstrings. I am going to a chiropractor three times per week and doing physical therapy there and I'm also being hooked up to a muscle stimulus machine (electrode device). \\n\\nI am in constant pain and can't move/sleep/stand for more than fifteen minutes at a time. I can't bend down, lay down, bend sideways, anything. Nothing I have done has eased the pain in nearly 4 weeks. I'm driving my girlfriend nuts and I feel quite helpless. I haven't been out of the house but only five times (minus the chiropractor visits) in the past four weeks.I also start back to University on Monday and I have absolutely no clue how thats going to go down. \\n\\nHas anyone else here suffered with this? My mother had sciatica and her episode lasted for nearly three months. There's no way I can endure this for another 8 weeks. \\n\\nHere's what I've done so far: ice, Advil, physical therapy, rest, pillows under legs and back while resting and laying down. tonight I am trying to sleep in a recliner which perhaps seems to be helping a tiny bit.\\nTL;DR: extreme lower back pain not helped after 4 weeks of physical therapy, taking advil everyday and doctor visit coming soon. Need advice\"]]\n"
          ]
        },
        {
          "metadata": {
            "tags": null
          },
          "name": "stderr",
          "output_type": "stream",
          "text": [
            "Setting `pad_token_id` to `eos_token_id`:2 for open-end generation.\n",
            "Setting `pad_token_id` to `eos_token_id`:2 for open-end generation.\n",
            "Setting `pad_token_id` to `eos_token_id`:2 for open-end generation.\n",
            "Setting `pad_token_id` to `eos_token_id`:2 for open-end generation.\n"
          ]
        },
        {
          "metadata": {
            "tags": null
          },
          "name": "stdout",
          "output_type": "stream",
          "text": [
            "\n",
            "Outputs for input 35:  [[\"SUBREDDIT: r/relationships\\nTITLE: My twin brother (24M) just came out of the closet and I'm worried about my parents (m&f50s)\\nPOST: Sorry if the formatting is weird I am submitting through mobile.\\n\\nAs the title describes my brother is an out bisexual now.\\n\\n A little background: \\n\\nwe come from a Hispanic Catholic family\\nMy parents are very traditional\\nMy twin brother likes men and women\\nHe has a boyfriend of 9ish months. \\n\\nWe have never had problems as a family before. In fact everything has been as smooth as ever before tonight. But we all felt it was time that my parents knew. So my older brother, his wife, my twin and myself sat them down after dinner and told them. It crushed my mom. I haven't seen her this upset since her father passed away. She is scaring me because she has had health problems in the past. And I am not mentally prepared to call an ambulance to come help her if she starts hyperventilating out of control\\n\\nI don't know how to help. I feel pretty useless and my twin seems to be blaming himself. \\n\\nOur older sibling was here when the outing happen but he lives on the other side of town. So after the outing happen and my parents returned to their room my older brother and his wife went home. \\n\\nNow I am sitting on the couch with my mom as she cries her eyes out and I don't know how to help.\\nTL;DR: Just found out my btwins bf. Twin brothers coming out made our mother seriously cry. Am feeling kinda helpless\"], [\"SUBREDDIT: r/relationships\\nTITLE: My twin brother (24M) just came out of the closet and I'm worried about my parents (m&f50s)\\nPOST: Sorry if the formatting is weird I am submitting through mobile.\\n\\nAs the title describes my brother is an out bisexual now.\\n\\n A little background: \\n\\nwe come from a Hispanic Catholic family\\nMy parents are very traditional\\nMy twin brother likes men and women\\nHe has a boyfriend of 9ish months. \\n\\nWe have never had problems as a family before. In fact everything has been as smooth as ever before tonight. But we all felt it was time that my parents knew. So my older brother, his wife, my twin and myself sat them down after dinner and told them. It crushed my mom. I haven't seen her this upset since her father passed away. She is scaring me because she has had health problems in the past. And I am not mentally prepared to call an ambulance to come help her if she starts hyperventilating out of control\\n\\nI don't know how to help. I feel pretty useless and my twin seems to be blaming himself. \\n\\nOur older sibling was here when the outing happen but he lives on the other side of town. So after the outing happen and my parents returned to their room my older brother and his wife went home. \\n\\nNow I am sitting on the couch with my mom as she cries her eyes out and I don't know how to help.\\nTL;DR: I love my dad dearly but he can only handle so much as well. What do I do to get him some fresh air?\"], [\"SUBREDDIT: r/relationships\\nTITLE: My twin brother (24M) just came out of the closet and I'm worried about my parents (m&f50s)\\nPOST: Sorry if the formatting is weird I am submitting through mobile.\\n\\nAs the title describes my brother is an out bisexual now.\\n\\n A little background: \\n\\nwe come from a Hispanic Catholic family\\nMy parents are very traditional\\nMy twin brother likes men and women\\nHe has a boyfriend of 9ish months. \\n\\nWe have never had problems as a family before. In fact everything has been as smooth as ever before tonight. But we all felt it was time that my parents knew. So my older brother, his wife, my twin and myself sat them down after dinner and told them. It crushed my mom. I haven't seen her this upset since her father passed away. She is scaring me because she has had health problems in the past. And I am not mentally prepared to call an ambulance to come help her if she starts hyperventilating out of control\\n\\nI don't know how to help. I feel pretty useless and my twin seems to be blaming himself. \\n\\nOur older sibling was here when the outing happen but he lives on the other side of town. So after the outing happen and my parents returned to their room my older brother and his wife went home. \\n\\nNow I am sitting on the couch with my mom as she cries her eyes out and I don't know how to help.\\nTL;DR: twin just outed himself. Mom freaked out. Dad doesnt seem to care yet.. idk how to get my mom to calm down.\"], [\"SUBREDDIT: r/relationships\\nTITLE: My twin brother (24M) just came out of the closet and I'm worried about my parents (m&f50s)\\nPOST: Sorry if the formatting is weird I am submitting through mobile.\\n\\nAs the title describes my brother is an out bisexual now.\\n\\n A little background: \\n\\nwe come from a Hispanic Catholic family\\nMy parents are very traditional\\nMy twin brother likes men and women\\nHe has a boyfriend of 9ish months. \\n\\nWe have never had problems as a family before. In fact everything has been as smooth as ever before tonight. But we all felt it was time that my parents knew. So my older brother, his wife, my twin and myself sat them down after dinner and told them. It crushed my mom. I haven't seen her this upset since her father passed away. She is scaring me because she has had health problems in the past. And I am not mentally prepared to call an ambulance to come help her if she starts hyperventilating out of control\\n\\nI don't know how to help. I feel pretty useless and my twin seems to be blaming himself. \\n\\nOur older sibling was here when the outing happen but he lives on the other side of town. So after the outing happen and my parents returned to their room my older brother and his wife went home. \\n\\nNow I am sitting on the couch with my mom as she cries her eyes out and I don't know how to help.\\nTL;DR: Twin just came out of the closet. Our mother is freaking out hardcore. I don't know how to help. Please any tips would be wonderful at this point\"]]\n"
          ]
        },
        {
          "metadata": {
            "tags": null
          },
          "name": "stderr",
          "output_type": "stream",
          "text": [
            "Setting `pad_token_id` to `eos_token_id`:2 for open-end generation.\n",
            "Setting `pad_token_id` to `eos_token_id`:2 for open-end generation.\n",
            "Setting `pad_token_id` to `eos_token_id`:2 for open-end generation.\n",
            "Setting `pad_token_id` to `eos_token_id`:2 for open-end generation.\n"
          ]
        },
        {
          "metadata": {
            "tags": null
          },
          "name": "stdout",
          "output_type": "stream",
          "text": [
            "\n",
            "Outputs for input 36:  [[\"SUBREDDIT: r/relationships\\nTITLE: Me [27 M] with my [23 F] on/off gf of 1 year. I need to break up but my head and heart are conflicted.\\nPOST: I'll keep this brief.  There are a lot of issues in the relationship.  Big issues that arent going to resolve anytime soon, and are deal-breakers for me in the long-run.  I realized not long ago that I need to let this relationship go.  \\n\\nThat said, she moved a long way to be with me, and we have a lease together.  She still believes in the relationship.  Supposedly.  I'm not sure how long we can go with almost no-affection either way before she stops believing in it.  \\n\\nI'm the only one paying rent and for most things, so I dont want to just leave her homeless.  I still do love her, and wish well for her, but I know I cant give her what she needs, and she cant give me what I need.\\n\\nAnd I feel like an asshole to be turning my back on our shared experiences together.\\n\\nSo...please help give me the courage to do what I know I need to.\\nTL;DR: I know i need to end it but she has no where to go and is far from home now. Im afraid to abandon her, but I have to.\"], [\"SUBREDDIT: r/relationships\\nTITLE: Me [27 M] with my [23 F] on/off gf of 1 year. I need to break up but my head and heart are conflicted.\\nPOST: I'll keep this brief.  There are a lot of issues in the relationship.  Big issues that arent going to resolve anytime soon, and are deal-breakers for me in the long-run.  I realized not long ago that I need to let this relationship go.  \\n\\nThat said, she moved a long way to be with me, and we have a lease together.  She still believes in the relationship.  Supposedly.  I'm not sure how long we can go with almost no-affection either way before she stops believing in it.  \\n\\nI'm the only one paying rent and for most things, so I dont want to just leave her homeless.  I still do love her, and wish well for her, but I know I cant give her what she needs, and she cant give me what I need.\\n\\nAnd I feel like an asshole to be turning my back on our shared experiences together.\\n\\nSo...please help give me the courage to do what I know I need to.\\nTL;DR: girl lived far away to be with me , now i need to tell her its time.  Im an asshat, help reassure me\"], [\"SUBREDDIT: r/relationships\\nTITLE: Me [27 M] with my [23 F] on/off gf of 1 year. I need to break up but my head and heart are conflicted.\\nPOST: I'll keep this brief.  There are a lot of issues in the relationship.  Big issues that arent going to resolve anytime soon, and are deal-breakers for me in the long-run.  I realized not long ago that I need to let this relationship go.  \\n\\nThat said, she moved a long way to be with me, and we have a lease together.  She still believes in the relationship.  Supposedly.  I'm not sure how long we can go with almost no-affection either way before she stops believing in it.  \\n\\nI'm the only one paying rent and for most things, so I dont want to just leave her homeless.  I still do love her, and wish well for her, but I know I cant give her what she needs, and she cant give me what I need.\\n\\nAnd I feel like an asshole to be turning my back on our shared experiences together.\\n\\nSo...please help give me the courage to do what I know I need to.\\nTL;DR: Lease is expensive in relation to what we earn; I hate seeing someone suffer through an unwanted relationship.  Do I make ends meet, or take the easy way out?\"], [\"SUBREDDIT: r/relationships\\nTITLE: Me [27 M] with my [23 F] on/off gf of 1 year. I need to break up but my head and heart are conflicted.\\nPOST: I'll keep this brief.  There are a lot of issues in the relationship.  Big issues that arent going to resolve anytime soon, and are deal-breakers for me in the long-run.  I realized not long ago that I need to let this relationship go.  \\n\\nThat said, she moved a long way to be with me, and we have a lease together.  She still believes in the relationship.  Supposedly.  I'm not sure how long we can go with almost no-affection either way before she stops believing in it.  \\n\\nI'm the only one paying rent and for most things, so I dont want to just leave her homeless.  I still do love her, and wish well for her, but I know I cant give her what she needs, and she cant give me what I need.\\n\\nAnd I feel like an asshole to be turning my back on our shared experiences together.\\n\\nSo...please help give me the courage to do what I know I need to.\\nTL;DR: I know its over.  But should I wait till May and we both are homeless? Or am I wrong and is that unfair to her?\"]]\n"
          ]
        },
        {
          "metadata": {
            "tags": null
          },
          "name": "stderr",
          "output_type": "stream",
          "text": [
            "Setting `pad_token_id` to `eos_token_id`:2 for open-end generation.\n",
            "Setting `pad_token_id` to `eos_token_id`:2 for open-end generation.\n",
            "Setting `pad_token_id` to `eos_token_id`:2 for open-end generation.\n",
            "Setting `pad_token_id` to `eos_token_id`:2 for open-end generation.\n"
          ]
        },
        {
          "metadata": {
            "tags": null
          },
          "name": "stdout",
          "output_type": "stream",
          "text": [
            "\n",
            "Outputs for input 37:  [['SUBREDDIT: r/AskReddit\\nTITLE: Being forced to be Catholic...what to do?\\nPOST: About two or three months ago, my mom divorced my dad and he moved out.  The relationship had been bad for many years, so no suprise there (sadness, but no suprise).  A coupla weeks later, her boyfriend, who she had been \"just friends\" with when she was still married to my dad, moved in.\\n\\nHe is a devout Catholic, has been going to Mass every day for fortysomething years.  Ever since he moved in, she\\'s been going with him.  Now, I have school, so I can\\'t go every day, but she still insists that I go every weekend and go through all the rituals and shit, including getting a blessing from the priest EVERY SINGLE TIME.  In addition to that, she signs me up for all kinds of Catholic clubs and activities without asking me, to the point I\\'m spending much more time at the parish than desirable.\\n\\nNormally, I\\'m a go-along-to-get-along guy, but this is beginning to get on my nerves.  I\\'m not really sure I\\'m an atheist, but I\\'ve never really bought this whole Christianity thing either, I\\'ve just pretended to believe in it to keep my parents from coming down on my like a shit-ton of bricks.\\n\\nSo reddit, should I tell her I\\'m sick of this shit?  Or should I keep putting up with it until I can move out?\\nTL;DR: Exacted from title: mom started dating new guy, new guy wanted her and her kids to convert over after they moved in together, stuck them in church.'], ['SUBREDDIT: r/AskReddit\\nTITLE: Being forced to be Catholic...what to do?\\nPOST: About two or three months ago, my mom divorced my dad and he moved out.  The relationship had been bad for many years, so no suprise there (sadness, but no suprise).  A coupla weeks later, her boyfriend, who she had been \"just friends\" with when she was still married to my dad, moved in.\\n\\nHe is a devout Catholic, has been going to Mass every day for fortysomething years.  Ever since he moved in, she\\'s been going with him.  Now, I have school, so I can\\'t go every day, but she still insists that I go every weekend and go through all the rituals and shit, including getting a blessing from the priest EVERY SINGLE TIME.  In addition to that, she signs me up for all kinds of Catholic clubs and activities without asking me, to the point I\\'m spending much more time at the parish than desirable.\\n\\nNormally, I\\'m a go-along-to-get-along guy, but this is beginning to get on my nerves.  I\\'m not really sure I\\'m an atheist, but I\\'ve never really bought this whole Christianity thing either, I\\'ve just pretended to believe in it to keep my parents from coming down on my like a shit-ton of bricks.\\n\\nSo reddit, should I tell her I\\'m sick of this shit?  Or should I keep putting up with it until I can move out?\\nTL;DR: Overnight, my mother became religious again after being secular for ten years after having lost their religion after years of abuse from my father.'], ['SUBREDDIT: r/AskReddit\\nTITLE: Being forced to be Catholic...what to do?\\nPOST: About two or three months ago, my mom divorced my dad and he moved out.  The relationship had been bad for many years, so no suprise there (sadness, but no suprise).  A coupla weeks later, her boyfriend, who she had been \"just friends\" with when she was still married to my dad, moved in.\\n\\nHe is a devout Catholic, has been going to Mass every day for fortysomething years.  Ever since he moved in, she\\'s been going with him.  Now, I have school, so I can\\'t go every day, but she still insists that I go every weekend and go through all the rituals and shit, including getting a blessing from the priest EVERY SINGLE TIME.  In addition to that, she signs me up for all kinds of Catholic clubs and activities without asking me, to the point I\\'m spending much more time at the parish than desirable.\\n\\nNormally, I\\'m a go-along-to-get-along guy, but this is beginning to get on my nerves.  I\\'m not really sure I\\'m an atheist, but I\\'ve never really bought this whole Christianity thing either, I\\'ve just pretended to believe in it to keep my parents from coming down on my like a shit-ton of bricks.\\n\\nSo reddit, should I tell her I\\'m sick of this shit?  Or should I keep putting up with it until I can move out?\\nTL;DR: Catholic mother dragging me along to church and getting annoying as fuck about having to go to church every Sunday until you die.'], ['SUBREDDIT: r/AskReddit\\nTITLE: Being forced to be Catholic...what to do?\\nPOST: About two or three months ago, my mom divorced my dad and he moved out.  The relationship had been bad for many years, so no suprise there (sadness, but no suprise).  A coupla weeks later, her boyfriend, who she had been \"just friends\" with when she was still married to my dad, moved in.\\n\\nHe is a devout Catholic, has been going to Mass every day for fortysomething years.  Ever since he moved in, she\\'s been going with him.  Now, I have school, so I can\\'t go every day, but she still insists that I go every weekend and go through all the rituals and shit, including getting a blessing from the priest EVERY SINGLE TIME.  In addition to that, she signs me up for all kinds of Catholic clubs and activities without asking me, to the point I\\'m spending much more time at the parish than desirable.\\n\\nNormally, I\\'m a go-along-to-get-along guy, but this is beginning to get on my nerves.  I\\'m not really sure I\\'m an atheist, but I\\'ve never really bought this whole Christianity thing either, I\\'ve just pretended to believe in it to keep my parents from coming down on my like a shit-ton of bricks.\\n\\nSo reddit, should I tell her I\\'m sick of this shit?  Or should I keep putting up with it until I can move out?\\nTL;DR: My mother became a Catholic fanatic about two months after my father left, which has lead to much unhappiness.']]\n"
          ]
        },
        {
          "metadata": {
            "tags": null
          },
          "name": "stderr",
          "output_type": "stream",
          "text": [
            "Setting `pad_token_id` to `eos_token_id`:2 for open-end generation.\n",
            "Setting `pad_token_id` to `eos_token_id`:2 for open-end generation.\n",
            "Setting `pad_token_id` to `eos_token_id`:2 for open-end generation.\n",
            "Setting `pad_token_id` to `eos_token_id`:2 for open-end generation.\n"
          ]
        },
        {
          "metadata": {
            "tags": null
          },
          "name": "stdout",
          "output_type": "stream",
          "text": [
            "\n",
            "Outputs for input 38:  [[\"SUBREDDIT: r/AskReddit\\nTITLE: Stalker emails me, claims to be local, gives a crazy story, and then dies???\\nPOST: Okay maybe this should be in WTF...  I really just want some input or advice here.  \\n\\nA while ago I got an email from a guy.  Long story short he claimed to be a part of a secret organization and is a master hacker.  He knew my class schedule and would give details about when I traveled where, and where he would watch me from.  He ripped pics from my facebook (which I keep private) and made creepy wallpapers with them.  He was using a fake name which had a few other webpages linked to them.  One of which was a foot fetish blog which he immediately deleted.  \\n\\nHe tells me I am so beautiful and that he loves me and dreams of me all the time. He called me his princess and claimed he loves me more than anyone ever could.  He said I was the only one for him and he would be my slave.    \\n\\nAnyway, I suspect he is a teacher of mine and I straight up tell him so. (I'm pretty naive ok?) He then tells me all this stuff about his identity that is VERY similar to the person I suspect except for a few changed details.  He gives a TON of information about the teacher I suspect that he claims he got from the teachers 'file' by his expert hacking skills.  He gives me a name with the same initials that I cannot connect to anything (another fake name?).  \\n\\nSuddenly he says he is leaving the country and hitching an illegal ride on a ship out of Seattle.  He claimed he could not live life seeing me be in love with someone else and that he hates everything about his life.  I really just wanted this guy to leave me alone so I am like, whatever.  \\n\\nRecently I got an email from a 'friend of his' that supposedly helped him get a ride on a ship.  She claimed that he died of a heart attack (this guy was also supposed to be 30 years old) and left me a note that said he hopes to meet me in heaven.  \\n\\nSo reddit, WTF?\\nTL;DR: A crazy stalker dies shortly after trying to break into a secret organization. What do I do if a teacher at my high school has connections to this story line?\"], [\"SUBREDDIT: r/AskReddit\\nTITLE: Stalker emails me, claims to be local, gives a crazy story, and then dies???\\nPOST: Okay maybe this should be in WTF...  I really just want some input or advice here.  \\n\\nA while ago I got an email from a guy.  Long story short he claimed to be a part of a secret organization and is a master hacker.  He knew my class schedule and would give details about when I traveled where, and where he would watch me from.  He ripped pics from my facebook (which I keep private) and made creepy wallpapers with them.  He was using a fake name which had a few other webpages linked to them.  One of which was a foot fetish blog which he immediately deleted.  \\n\\nHe tells me I am so beautiful and that he loves me and dreams of me all the time. He called me his princess and claimed he loves me more than anyone ever could.  He said I was the only one for him and he would be my slave.    \\n\\nAnyway, I suspect he is a teacher of mine and I straight up tell him so. (I'm pretty naive ok?) He then tells me all this stuff about his identity that is VERY similar to the person I suspect except for a few changed details.  He gives a TON of information about the teacher I suspect that he claims he got from the teachers 'file' by his expert hacking skills.  He gives me a name with the same initials that I cannot connect to anything (another fake name?).  \\n\\nSuddenly he says he is leaving the country and hitching an illegal ride on a ship out of Seattle.  He claimed he could not live life seeing me be in love with someone else and that he hates everything about his life.  I really just wanted this guy to leave me alone so I am like, whatever.  \\n\\nRecently I got an email from a 'friend of his' that supposedly helped him get a ride on a ship.  She claimed that he died of a heart attack (this guy was also supposed to be 30 years old) and left me a note that said he hopes to meet me in heaven.  \\n\\nSo reddit, WTF?\\nTL;DR: creepo sends me thousands of emails stalking me, claims he knows who I see, calls himself a secret government agent, then dies offshore and tells me he wishes we can meet in heaven.\"], [\"SUBREDDIT: r/AskReddit\\nTITLE: Stalker emails me, claims to be local, gives a crazy story, and then dies???\\nPOST: Okay maybe this should be in WTF...  I really just want some input or advice here.  \\n\\nA while ago I got an email from a guy.  Long story short he claimed to be a part of a secret organization and is a master hacker.  He knew my class schedule and would give details about when I traveled where, and where he would watch me from.  He ripped pics from my facebook (which I keep private) and made creepy wallpapers with them.  He was using a fake name which had a few other webpages linked to them.  One of which was a foot fetish blog which he immediately deleted.  \\n\\nHe tells me I am so beautiful and that he loves me and dreams of me all the time. He called me his princess and claimed he loves me more than anyone ever could.  He said I was the only one for him and he would be my slave.    \\n\\nAnyway, I suspect he is a teacher of mine and I straight up tell him so. (I'm pretty naive ok?) He then tells me all this stuff about his identity that is VERY similar to the person I suspect except for a few changed details.  He gives a TON of information about the teacher I suspect that he claims he got from the teachers 'file' by his expert hacking skills.  He gives me a name with the same initials that I cannot connect to anything (another fake name?).  \\n\\nSuddenly he says he is leaving the country and hitching an illegal ride on a ship out of Seattle.  He claimed he could not live life seeing me be in love with someone else and that he hates everything about his life.  I really just wanted this guy to leave me alone so I am like, whatever.  \\n\\nRecently I got an email from a 'friend of his' that supposedly helped him get a ride on a ship.  She claimed that he died of a heart attack (this guy was also supposed to be 30 years old) and left me a note that said he hopes to meet me in heaven.  \\n\\nSo reddit, WTF?\\nTL;DR: Some creepo claims to love me, stalked me through websites, used personal info I never posted publicly that no one knows but my friends.\"], [\"SUBREDDIT: r/AskReddit\\nTITLE: Stalker emails me, claims to be local, gives a crazy story, and then dies???\\nPOST: Okay maybe this should be in WTF...  I really just want some input or advice here.  \\n\\nA while ago I got an email from a guy.  Long story short he claimed to be a part of a secret organization and is a master hacker.  He knew my class schedule and would give details about when I traveled where, and where he would watch me from.  He ripped pics from my facebook (which I keep private) and made creepy wallpapers with them.  He was using a fake name which had a few other webpages linked to them.  One of which was a foot fetish blog which he immediately deleted.  \\n\\nHe tells me I am so beautiful and that he loves me and dreams of me all the time. He called me his princess and claimed he loves me more than anyone ever could.  He said I was the only one for him and he would be my slave.    \\n\\nAnyway, I suspect he is a teacher of mine and I straight up tell him so. (I'm pretty naive ok?) He then tells me all this stuff about his identity that is VERY similar to the person I suspect except for a few changed details.  He gives a TON of information about the teacher I suspect that he claims he got from the teachers 'file' by his expert hacking skills.  He gives me a name with the same initials that I cannot connect to anything (another fake name?).  \\n\\nSuddenly he says he is leaving the country and hitching an illegal ride on a ship out of Seattle.  He claimed he could not live life seeing me be in love with someone else and that he hates everything about his life.  I really just wanted this guy to leave me alone so I am like, whatever.  \\n\\nRecently I got an email from a 'friend of his' that supposedly helped him get a ride on a ship.  She claimed that he died of a heart attack (this guy was also supposed to be 30 years old) and left me a note that said he hopes to meet me in heaven.  \\n\\nSo reddit, WTF?\\nTL;DR: Stalker emailed me, asked for nudes and pictures of my feet...he ended up dying because I suspected something up and then he came back as an even bigger stalker.\"]]\n"
          ]
        },
        {
          "metadata": {
            "tags": null
          },
          "name": "stderr",
          "output_type": "stream",
          "text": [
            "Setting `pad_token_id` to `eos_token_id`:2 for open-end generation.\n",
            "Setting `pad_token_id` to `eos_token_id`:2 for open-end generation.\n",
            "Setting `pad_token_id` to `eos_token_id`:2 for open-end generation.\n",
            "Setting `pad_token_id` to `eos_token_id`:2 for open-end generation.\n"
          ]
        },
        {
          "metadata": {
            "tags": null
          },
          "name": "stdout",
          "output_type": "stream",
          "text": [
            "\n",
            "Outputs for input 39:  [['SUBREDDIT: r/AskReddit\\nTITLE: Have any of had a successful, long-term relationship that began with glances across a room?\\nPOST: Met a potential client for coffee today in a public coffee shop. Passed a [re: gorgeous] guy putting sugar in his coffee, made eye contact, smiled, and continued to the counter to order my coffee. \\n\\nThen I joined my client-to-be and proceeded to discuss business with him for 45 minutes, all the while, hot guy walked to and from his car loading food he\\'d had catered from the chain cafe...making eye contact with me each time he walked behind my guest. And all I could think was \"damn, if only I wasn\\'t in a meeting, I could say hi to him.\"\\n\\nFinally, he pretended to casually \"overhear\" something in our conversation, joined it for about one minute, exchanged cards with both of us, and left. I got a call from him an hour later. (Note: very attractive). We\\'ve been texting back and forth all day.\\n\\nWhat a chance meeting! I just saw him across a room. Have any of you had successful relationships that began this way?\\nTL;DR: My heart leaped into my throat when a gorgeous chap at Starbucks met my eyes across a room, and is now flirting shamelessly by phone.'], ['SUBREDDIT: r/AskReddit\\nTITLE: Have any of had a successful, long-term relationship that began with glances across a room?\\nPOST: Met a potential client for coffee today in a public coffee shop. Passed a [re: gorgeous] guy putting sugar in his coffee, made eye contact, smiled, and continued to the counter to order my coffee. \\n\\nThen I joined my client-to-be and proceeded to discuss business with him for 45 minutes, all the while, hot guy walked to and from his car loading food he\\'d had catered from the chain cafe...making eye contact with me each time he walked behind my guest. And all I could think was \"damn, if only I wasn\\'t in a meeting, I could say hi to him.\"\\n\\nFinally, he pretended to casually \"overhear\" something in our conversation, joined it for about one minute, exchanged cards with both of us, and left. I got a call from him an hour later. (Note: very attractive). We\\'ve been texting back and forth all day.\\n\\nWhat a chance meeting! I just saw him across a room. Have any of you had successful relationships that began this way?\\nTL;DR: I met someone who is attractive across a room and we are now flirting on Facebook. Is it appropriate to suggest going out at some point or should I let him befriend me first?'], ['SUBREDDIT: r/AskReddit\\nTITLE: Have any of had a successful, long-term relationship that began with glances across a room?\\nPOST: Met a potential client for coffee today in a public coffee shop. Passed a [re: gorgeous] guy putting sugar in his coffee, made eye contact, smiled, and continued to the counter to order my coffee. \\n\\nThen I joined my client-to-be and proceeded to discuss business with him for 45 minutes, all the while, hot guy walked to and from his car loading food he\\'d had catered from the chain cafe...making eye contact with me each time he walked behind my guest. And all I could think was \"damn, if only I wasn\\'t in a meeting, I could say hi to him.\"\\n\\nFinally, he pretended to casually \"overhear\" something in our conversation, joined it for about one minute, exchanged cards with both of us, and left. I got a call from him an hour later. (Note: very attractive). We\\'ve been texting back and forth all day.\\n\\nWhat a chance meeting! I just saw him across a room. Have any of you had successful relationships that began this way?\\nTL;DR: Saw a babe while sitting next to my future boss, didn\\'t have a chance to talk to him, but now he called and we\\'re exchanging texts.'], ['SUBREDDIT: r/AskReddit\\nTITLE: Have any of had a successful, long-term relationship that began with glances across a room?\\nPOST: Met a potential client for coffee today in a public coffee shop. Passed a [re: gorgeous] guy putting sugar in his coffee, made eye contact, smiled, and continued to the counter to order my coffee. \\n\\nThen I joined my client-to-be and proceeded to discuss business with him for 45 minutes, all the while, hot guy walked to and from his car loading food he\\'d had catered from the chain cafe...making eye contact with me each time he walked behind my guest. And all I could think was \"damn, if only I wasn\\'t in a meeting, I could say hi to him.\"\\n\\nFinally, he pretended to casually \"overhear\" something in our conversation, joined it for about one minute, exchanged cards with both of us, and left. I got a call from him an hour later. (Note: very attractive). We\\'ve been texting back and forth all day.\\n\\nWhat a chance meeting! I just saw him across a room. Have any of you had successful relationships that began this way?\\nTL;DR: Saw someone across a room. Made eye contact. Exchanged witty banter within earshot. Went home and waited up.']]\n"
          ]
        },
        {
          "metadata": {
            "tags": null
          },
          "name": "stderr",
          "output_type": "stream",
          "text": [
            "Setting `pad_token_id` to `eos_token_id`:2 for open-end generation.\n",
            "Setting `pad_token_id` to `eos_token_id`:2 for open-end generation.\n",
            "Setting `pad_token_id` to `eos_token_id`:2 for open-end generation.\n",
            "Setting `pad_token_id` to `eos_token_id`:2 for open-end generation.\n"
          ]
        },
        {
          "metadata": {
            "tags": null
          },
          "name": "stdout",
          "output_type": "stream",
          "text": [
            "\n",
            "Outputs for input 40:  [['SUBREDDIT: r/AskReddit\\nTITLE: Hey reddit, Have you been the cheater or \"cheated\" in a relationship?\\nPOST: Just over a year ago I found out that my bf had cheated on me. I decided to stay with him (bad idea?) because I really do love him. However, I can\\'t seem to let it go. I don\\'t bring it up in fights or anything, but I do find myself getting upset over it every now and then. I have asked him why he did it, and the response I always get is, \"I don\\'t know what I was thinking.\" I was just wondering, as the cheater how does it make you feel if your SO won\\'t let it go, and as the \"cheated\" do you still find yourself thinking about it or getting upset?\\nTL;DR: My boyfriend has been caught cheating by his girlfriend of 2 years over a year ago and she refuses to leave him, do they stay together?'], ['SUBREDDIT: r/AskReddit\\nTITLE: Hey reddit, Have you been the cheater or \"cheated\" in a relationship?\\nPOST: Just over a year ago I found out that my bf had cheated on me. I decided to stay with him (bad idea?) because I really do love him. However, I can\\'t seem to let it go. I don\\'t bring it up in fights or anything, but I do find myself getting upset over it every now and then. I have asked him why he did it, and the response I always get is, \"I don\\'t know what I was thinking.\" I was just wondering, as the cheater how does it make you feel if your SO won\\'t let it go, and as the \"cheated\" do you still find yourself thinking about it or getting upset?\\nTL;DR: BF cheated a year ago and I cant seem to let it go. As the cheater, how does it make you feel when ur SO wont let it go,  As the \"cheated\" do you ever think about it anymore?'], ['SUBREDDIT: r/AskReddit\\nTITLE: Hey reddit, Have you been the cheater or \"cheated\" in a relationship?\\nPOST: Just over a year ago I found out that my bf had cheated on me. I decided to stay with him (bad idea?) because I really do love him. However, I can\\'t seem to let it go. I don\\'t bring it up in fights or anything, but I do find myself getting upset over it every now and then. I have asked him why he did it, and the response I always get is, \"I don\\'t know what I was thinking.\" I was just wondering, as the cheater how does it make you feel if your SO won\\'t let it go, and as the \"cheated\" do you still find yourself thinking about it or getting upset?\\nTL;DR: My boyfriend cheated on me, and even though I am no longer angry at him (like I used to be), I always find myself coming back to it in my thoughts'], ['SUBREDDIT: r/AskReddit\\nTITLE: Hey reddit, Have you been the cheater or \"cheated\" in a relationship?\\nPOST: Just over a year ago I found out that my bf had cheated on me. I decided to stay with him (bad idea?) because I really do love him. However, I can\\'t seem to let it go. I don\\'t bring it up in fights or anything, but I do find myself getting upset over it every now and then. I have asked him why he did it, and the response I always get is, \"I don\\'t know what I was thinking.\" I was just wondering, as the cheater how does it make you feel if your SO won\\'t let it go, and as the \"cheated\" do you still find yourself thinking about it or getting upset?\\nTL;DR: BF broke off his virginity by cheating on me, we tried working on our relationship but for one thing, he cheated again earlier this week']]\n"
          ]
        },
        {
          "metadata": {
            "tags": null
          },
          "name": "stderr",
          "output_type": "stream",
          "text": [
            "Setting `pad_token_id` to `eos_token_id`:2 for open-end generation.\n",
            "Setting `pad_token_id` to `eos_token_id`:2 for open-end generation.\n",
            "Setting `pad_token_id` to `eos_token_id`:2 for open-end generation.\n",
            "Setting `pad_token_id` to `eos_token_id`:2 for open-end generation.\n"
          ]
        },
        {
          "metadata": {
            "tags": null
          },
          "name": "stdout",
          "output_type": "stream",
          "text": [
            "\n",
            "Outputs for input 41:  [[\"SUBREDDIT: r/relationships\\nTITLE: 16M Having troubles with some insecurities, need some advice\\nPOST: I'm on mobile at the moment so I can't tag, but I possibly can in the morning. \\n\\nI've been cheated on 3 times by 3 separate girlfriends in the past 10 months. Now I am over each one of them specifically, but it's developed some trust issues and I worry a lot now that I am in another relationship. Whenever I see my girlfriend talk to another guy (literally doesn't matter who) it bothers me, and I know there is almost no chance at all that attraction is there. I hate this, I wish it didn't bother me because I talk to other girls and it doesn't bother her. She's a competitive dancer and every once in awhile she goes on 5-6 day dance trips. I sit back in our hometown nervous as shit the entire duration wondering who's hitting on her or if anythings happening and I'll never know. I know these insecurities are stupid and I don't vocalize these things with her. \\n\\nShe has a little experience dating but nothing serious, and I get the good vibes she wants this to be something that lasts and she cares about me, and I feel the same way. But these insecurities are killing me and I'd really like your guys advice on this. I really like her, and really don't want to get cheated on for a fourth time.\\nTL;DR: If you need someone to tell you they miss you after only seeing you every second Sunday then don't expect much commitment or anything past sex from me\"], [\"SUBREDDIT: r/relationships\\nTITLE: 16M Having troubles with some insecurities, need some advice\\nPOST: I'm on mobile at the moment so I can't tag, but I possibly can in the morning. \\n\\nI've been cheated on 3 times by 3 separate girlfriends in the past 10 months. Now I am over each one of them specifically, but it's developed some trust issues and I worry a lot now that I am in another relationship. Whenever I see my girlfriend talk to another guy (literally doesn't matter who) it bothers me, and I know there is almost no chance at all that attraction is there. I hate this, I wish it didn't bother me because I talk to other girls and it doesn't bother her. She's a competitive dancer and every once in awhile she goes on 5-6 day dance trips. I sit back in our hometown nervous as shit the entire duration wondering who's hitting on her or if anythings happening and I'll never know. I know these insecurities are stupid and I don't vocalize these things with her. \\n\\nShe has a little experience dating but nothing serious, and I get the good vibes she wants this to be something that lasts and she cares about me, and I feel the same way. But these insecurities are killing me and I'd really like your guys advice on this. I really like her, and really don't want to get cheated on for a fourth time.\\nTL;DR: Been cheated on three seperate times in span of 10 months, always worried there will be a 4th\"], [\"SUBREDDIT: r/relationships\\nTITLE: 16M Having troubles with some insecurities, need some advice\\nPOST: I'm on mobile at the moment so I can't tag, but I possibly can in the morning. \\n\\nI've been cheated on 3 times by 3 separate girlfriends in the past 10 months. Now I am over each one of them specifically, but it's developed some trust issues and I worry a lot now that I am in another relationship. Whenever I see my girlfriend talk to another guy (literally doesn't matter who) it bothers me, and I know there is almost no chance at all that attraction is there. I hate this, I wish it didn't bother me because I talk to other girls and it doesn't bother her. She's a competitive dancer and every once in awhile she goes on 5-6 day dance trips. I sit back in our hometown nervous as shit the entire duration wondering who's hitting on her or if anythings happening and I'll never know. I know these insecurities are stupid and I don't vocalize these things with her. \\n\\nShe has a little experience dating but nothing serious, and I get the good vibes she wants this to be something that lasts and she cares about me, and I feel the same way. But these insecurities are killing me and I'd really like your guys advice on this. I really like her, and really don't want to get cheated on for a fourth time.\\nTL;DR: Been cheated on 3 times recently, got feelings of insecurity towards others making moves toward gf. Tries not displaying said feelings but still hurts me greatly. Any input appreciated!\"], [\"SUBREDDIT: r/relationships\\nTITLE: 16M Having troubles with some insecurities, need some advice\\nPOST: I'm on mobile at the moment so I can't tag, but I possibly can in the morning. \\n\\nI've been cheated on 3 times by 3 separate girlfriends in the past 10 months. Now I am over each one of them specifically, but it's developed some trust issues and I worry a lot now that I am in another relationship. Whenever I see my girlfriend talk to another guy (literally doesn't matter who) it bothers me, and I know there is almost no chance at all that attraction is there. I hate this, I wish it didn't bother me because I talk to other girls and it doesn't bother her. She's a competitive dancer and every once in awhile she goes on 5-6 day dance trips. I sit back in our hometown nervous as shit the entire duration wondering who's hitting on her or if anythings happening and I'll never know. I know these insecurities are stupid and I don't vocalize these things with her. \\n\\nShe has a little experience dating but nothing serious, and I get the good vibes she wants this to be something that lasts and she cares about me, and I feel the same way. But these insecurities are killing me and I'd really like your guys advice on this. I really like her, and really don't want to get cheated on for a fourth time.\\nTL;DR: have been cheating on twice, once more than recently, I get jealous easily over things and cant help it, how do I manage this?\"]]\n"
          ]
        },
        {
          "metadata": {
            "tags": null
          },
          "name": "stderr",
          "output_type": "stream",
          "text": [
            "Setting `pad_token_id` to `eos_token_id`:2 for open-end generation.\n",
            "Setting `pad_token_id` to `eos_token_id`:2 for open-end generation.\n",
            "Setting `pad_token_id` to `eos_token_id`:2 for open-end generation.\n",
            "Setting `pad_token_id` to `eos_token_id`:2 for open-end generation.\n"
          ]
        },
        {
          "metadata": {
            "tags": null
          },
          "name": "stdout",
          "output_type": "stream",
          "text": [
            "\n",
            "Outputs for input 42:  [[\"SUBREDDIT: r/relationships\\nTITLE: My (20M) disinterest in sex is really hurting my girlfriend (19F) of 3 years\\nPOST: My girlfriend and I started as a long distance relationship when we were in high school. We met three times over the years, each time for about a week, before moving in together during the beginning of this year. Initially, our sex life was pretty great. We had sex all the time and everything was fine. Lately, though, I've been wanting to less and less and it's really hurting her self esteem and making her feel like I'm unattracted to her. \\n\\nThis may get a bit graphic, I just want to let you guys know why I'm not really that into it anymore in the hopes that you'll have some kind of advice as to what I can do. So generally, when we begin having sex, it's awesome. But after about a minute or so, it's like my dick goes numb. It makes it very difficult to stay into it, even though I enjoy pleasuring her. This makes me kind of dread having sex because I know it'll just end up being me trying everything I can do to make her feel good, while I'm just kind of there wishing it'd be over. Lately, we probably only have sex about once or twice a week, which is really messing with her self esteem issues. I feel awful everytime she tries to initiate it, because I just really don't want to and I know it'll end up making her feel awful. \\n\\nI have no idea what to do. I should probably just suck it up and do it for her. I've tried talking to her about it, but she takes it all so personally. Maybe it's just the way I phrase it. Are there any ways I can make myself more interested in having sex?\\nTL;DR: Girlfriend is hurt I don't want to have sex as much. Not sure if it's physiological or psychological. No clue how I would fix it other than push through, which sounds miserable\"], [\"SUBREDDIT: r/relationships\\nTITLE: My (20M) disinterest in sex is really hurting my girlfriend (19F) of 3 years\\nPOST: My girlfriend and I started as a long distance relationship when we were in high school. We met three times over the years, each time for about a week, before moving in together during the beginning of this year. Initially, our sex life was pretty great. We had sex all the time and everything was fine. Lately, though, I've been wanting to less and less and it's really hurting her self esteem and making her feel like I'm unattracted to her. \\n\\nThis may get a bit graphic, I just want to let you guys know why I'm not really that into it anymore in the hopes that you'll have some kind of advice as to what I can do. So generally, when we begin having sex, it's awesome. But after about a minute or so, it's like my dick goes numb. It makes it very difficult to stay into it, even though I enjoy pleasuring her. This makes me kind of dread having sex because I know it'll just end up being me trying everything I can do to make her feel good, while I'm just kind of there wishing it'd be over. Lately, we probably only have sex about once or twice a week, which is really messing with her self esteem issues. I feel awful everytime she tries to initiate it, because I just really don't want to and I know it'll end up making her feel awful. \\n\\nI have no idea what to do. I should probably just suck it up and do it for her. I've tried talking to her about it, but she takes it all so personally. Maybe it's just the way I phrase it. Are there any ways I can make myself more interested in having sex?\\nTL;DR: Numbing of penis makes me dread having sex despite how much I love doing things for Girlfriend. Don't know what else to do.\"], [\"SUBREDDIT: r/relationships\\nTITLE: My (20M) disinterest in sex is really hurting my girlfriend (19F) of 3 years\\nPOST: My girlfriend and I started as a long distance relationship when we were in high school. We met three times over the years, each time for about a week, before moving in together during the beginning of this year. Initially, our sex life was pretty great. We had sex all the time and everything was fine. Lately, though, I've been wanting to less and less and it's really hurting her self esteem and making her feel like I'm unattracted to her. \\n\\nThis may get a bit graphic, I just want to let you guys know why I'm not really that into it anymore in the hopes that you'll have some kind of advice as to what I can do. So generally, when we begin having sex, it's awesome. But after about a minute or so, it's like my dick goes numb. It makes it very difficult to stay into it, even though I enjoy pleasuring her. This makes me kind of dread having sex because I know it'll just end up being me trying everything I can do to make her feel good, while I'm just kind of there wishing it'd be over. Lately, we probably only have sex about once or twice a week, which is really messing with her self esteem issues. I feel awful everytime she tries to initiate it, because I just really don't want to and I know it'll end up making her feel awful. \\n\\nI have no idea what to do. I should probably just suck it up and do it for her. I've tried talking to her about it, but she takes it all so personally. Maybe it's just the way I phrase it. Are there any ways I can make myself more interested in having sex?\\nTL;DR: Dislike having sex now despite enjoying it a lot initially and am wondering if anyone has a better solution than just sucking it up for my gf whom I love dearly\"], [\"SUBREDDIT: r/relationships\\nTITLE: My (20M) disinterest in sex is really hurting my girlfriend (19F) of 3 years\\nPOST: My girlfriend and I started as a long distance relationship when we were in high school. We met three times over the years, each time for about a week, before moving in together during the beginning of this year. Initially, our sex life was pretty great. We had sex all the time and everything was fine. Lately, though, I've been wanting to less and less and it's really hurting her self esteem and making her feel like I'm unattracted to her. \\n\\nThis may get a bit graphic, I just want to let you guys know why I'm not really that into it anymore in the hopes that you'll have some kind of advice as to what I can do. So generally, when we begin having sex, it's awesome. But after about a minute or so, it's like my dick goes numb. It makes it very difficult to stay into it, even though I enjoy pleasuring her. This makes me kind of dread having sex because I know it'll just end up being me trying everything I can do to make her feel good, while I'm just kind of there wishing it'd be over. Lately, we probably only have sex about once or twice a week, which is really messing with her self esteem issues. I feel awful everytime she tries to initiate it, because I just really don't want to and I know it'll end up making her feel awful. \\n\\nI have no idea what to do. I should probably just suck it up and do it for her. I've tried talking to her about it, but she takes it all so personally. Maybe it's just the way I phrase it. Are there any ways I can make myself more interested in having sex?\\nTL;DR: My dick's becoming numb during intercourse. Am losing interest sexually from boredom. Feeling terrible cause gf is getting all depressed now. Any tips?\"]]\n"
          ]
        },
        {
          "metadata": {
            "tags": null
          },
          "name": "stderr",
          "output_type": "stream",
          "text": [
            "Setting `pad_token_id` to `eos_token_id`:2 for open-end generation.\n",
            "Setting `pad_token_id` to `eos_token_id`:2 for open-end generation.\n",
            "Setting `pad_token_id` to `eos_token_id`:2 for open-end generation.\n",
            "Setting `pad_token_id` to `eos_token_id`:2 for open-end generation.\n"
          ]
        },
        {
          "metadata": {
            "tags": null
          },
          "name": "stdout",
          "output_type": "stream",
          "text": [
            "\n",
            "Outputs for input 43:  [['SUBREDDIT: r/legaladvice\\nTITLE: Child Labor Laws: No break and 8-hour shifts.\\nPOST: 16 year old, working at a fast food joint, around 21 hours a week for around the last 2 weeks. I live in Wyoming.\\n\\nNot once, whether it be a 5 or 8 hour shift, have gotten a break. Several (3) people have told me this is highly illegal.\\n\\n1. At my former job, a certain Taco supplier, was strict on getting a 30 minute break in (even if it was 15 minutes in my shift). My boss told me the state would charge 1,000$ to the restaurant if I did not receive a break.  In fact she used to work under the same boss a few years back, while pregnant. She claimed it was the exact same way. I always got a break at my former job.\\n\\n2. My girlfriend\\'s father, a former owner of 5-12 (certain fried chicken restaurants) also advised that it was illegal. I would assume he knows what he\\'s saying, but he was running business in a separate state (Colorado)\\n\\n3. Lastly, my government teacher told me it was illegal as well. He runs concession stands for high-school events. The topic came up when I said the 6 hours I spent today working in the stand was nothing compared to my normal conditions. \\n\\nIf my boss is claiming to officials that I have received breaks when I have not, ever... how do I go about taking action against this. \\n\\nWhile I do want to quit, I also am curious if there is anything I could do in lieu of letting it continue. This isn\\'t new for this business, they tend to have trouble keeping people. \\n\\nAlso she printed off 2 copies of my SS card for \"just in case the printer can\\'t read ,\" it was in full color. I have no doubt she is malicious. Hoping she is too old and sweet to sell my identity.\\nTL;DR: Boss gives no breaks. Said other companies would get fined for it. Not sure about anything else since I never had this problem before!'], ['SUBREDDIT: r/legaladvice\\nTITLE: Child Labor Laws: No break and 8-hour shifts.\\nPOST: 16 year old, working at a fast food joint, around 21 hours a week for around the last 2 weeks. I live in Wyoming.\\n\\nNot once, whether it be a 5 or 8 hour shift, have gotten a break. Several (3) people have told me this is highly illegal.\\n\\n1. At my former job, a certain Taco supplier, was strict on getting a 30 minute break in (even if it was 15 minutes in my shift). My boss told me the state would charge 1,000$ to the restaurant if I did not receive a break.  In fact she used to work under the same boss a few years back, while pregnant. She claimed it was the exact same way. I always got a break at my former job.\\n\\n2. My girlfriend\\'s father, a former owner of 5-12 (certain fried chicken restaurants) also advised that it was illegal. I would assume he knows what he\\'s saying, but he was running business in a separate state (Colorado)\\n\\n3. Lastly, my government teacher told me it was illegal as well. He runs concession stands for high-school events. The topic came up when I said the 6 hours I spent today working in the stand was nothing compared to my normal conditions. \\n\\nIf my boss is claiming to officials that I have received breaks when I have not, ever... how do I go about taking action against this. \\n\\nWhile I do want to quit, I also am curious if there is anything I could do in lieu of letting it continue. This isn\\'t new for this business, they tend to have trouble keeping people. \\n\\nAlso she printed off 2 copies of my SS card for \"just in case the printer can\\'t read ,\" it was in full color. I have no doubt she is malicious. Hoping she is too old and sweet to sell my identity.\\nTL;DR: If you don\\'t get a 30 minute break by a 4 hour mark, is it legal? Or just bad ethics on my employers part to deny breaks even if she claims I got one....'], ['SUBREDDIT: r/legaladvice\\nTITLE: Child Labor Laws: No break and 8-hour shifts.\\nPOST: 16 year old, working at a fast food joint, around 21 hours a week for around the last 2 weeks. I live in Wyoming.\\n\\nNot once, whether it be a 5 or 8 hour shift, have gotten a break. Several (3) people have told me this is highly illegal.\\n\\n1. At my former job, a certain Taco supplier, was strict on getting a 30 minute break in (even if it was 15 minutes in my shift). My boss told me the state would charge 1,000$ to the restaurant if I did not receive a break.  In fact she used to work under the same boss a few years back, while pregnant. She claimed it was the exact same way. I always got a break at my former job.\\n\\n2. My girlfriend\\'s father, a former owner of 5-12 (certain fried chicken restaurants) also advised that it was illegal. I would assume he knows what he\\'s saying, but he was running business in a separate state (Colorado)\\n\\n3. Lastly, my government teacher told me it was illegal as well. He runs concession stands for high-school events. The topic came up when I said the 6 hours I spent today working in the stand was nothing compared to my normal conditions. \\n\\nIf my boss is claiming to officials that I have received breaks when I have not, ever... how do I go about taking action against this. \\n\\nWhile I do want to quit, I also am curious if there is anything I could do in lieu of letting it continue. This isn\\'t new for this business, they tend to have trouble keeping people. \\n\\nAlso she printed off 2 copies of my SS card for \"just in case the printer can\\'t read ,\" it was in full color. I have no doubt she is malicious. Hoping she is too old and sweet to sell my identity.\\nTL;DR: My boss has been skipping giving me lunch breaks. Could cause an overtime issue due to my long shifts with it happening weekly'], ['SUBREDDIT: r/legaladvice\\nTITLE: Child Labor Laws: No break and 8-hour shifts.\\nPOST: 16 year old, working at a fast food joint, around 21 hours a week for around the last 2 weeks. I live in Wyoming.\\n\\nNot once, whether it be a 5 or 8 hour shift, have gotten a break. Several (3) people have told me this is highly illegal.\\n\\n1. At my former job, a certain Taco supplier, was strict on getting a 30 minute break in (even if it was 15 minutes in my shift). My boss told me the state would charge 1,000$ to the restaurant if I did not receive a break.  In fact she used to work under the same boss a few years back, while pregnant. She claimed it was the exact same way. I always got a break at my former job.\\n\\n2. My girlfriend\\'s father, a former owner of 5-12 (certain fried chicken restaurants) also advised that it was illegal. I would assume he knows what he\\'s saying, but he was running business in a separate state (Colorado)\\n\\n3. Lastly, my government teacher told me it was illegal as well. He runs concession stands for high-school events. The topic came up when I said the 6 hours I spent today working in the stand was nothing compared to my normal conditions. \\n\\nIf my boss is claiming to officials that I have received breaks when I have not, ever... how do I go about taking action against this. \\n\\nWhile I do want to quit, I also am curious if there is anything I could do in lieu of letting it continue. This isn\\'t new for this business, they tend to have trouble keeping people. \\n\\nAlso she printed off 2 copies of my SS card for \"just in case the printer can\\'t read ,\" it was in full color. I have no doubt she is malicious. Hoping she is too old and sweet to sell my identity.\\nTL;DR: no legal breaks for over 21 hours a week during two weeks after only being hired 2-weeks ago (after several other teenage positions within the store), do I have any recourse?']]\n"
          ]
        },
        {
          "metadata": {
            "tags": null
          },
          "name": "stderr",
          "output_type": "stream",
          "text": [
            "Setting `pad_token_id` to `eos_token_id`:2 for open-end generation.\n",
            "Setting `pad_token_id` to `eos_token_id`:2 for open-end generation.\n",
            "Setting `pad_token_id` to `eos_token_id`:2 for open-end generation.\n",
            "Setting `pad_token_id` to `eos_token_id`:2 for open-end generation.\n"
          ]
        },
        {
          "metadata": {
            "tags": null
          },
          "name": "stdout",
          "output_type": "stream",
          "text": [
            "\n",
            "Outputs for input 44:  [[\"SUBREDDIT: r/relationships\\nTITLE: I [F/21] feel like I really don't care about most people and I want to change that\\nPOST: I care about people in general, but when it comes down to individuals, I get so bored and annoyed with other people's lives. Most people don't genuinely care about how their cashier's day is going when they ask, but I feel like that about everybody, including my best friends. \\n\\nWhen my friends tell me stuff about their lives, it's all I can do to concentrate enough that I can respond appropriately. This makes me feel really narcissistic and just like a terrible friend in general, but I just can't bring myself to actually care about why somebody broke up with their SO or where they're going for spring break.\\n\\nSince sharing stuff like that is a big part of friendship, I feel like I'm not actually friends with any of my friends. I've been sharing less and less with them too, as I wonder if my friends are thinking the same thing when I talk. The only person who I think I genuinely care about is my boyfriend. And now I'm worried that that care will fade and our relationship will end because of my apparent narcissism.\\n\\nAnybody ever felt like this?\\nTL;DR: All my relationships have become one-sided because I don't give an adequate fuck about the things others give a genuine fuck about.\"], [\"SUBREDDIT: r/relationships\\nTITLE: I [F/21] feel like I really don't care about most people and I want to change that\\nPOST: I care about people in general, but when it comes down to individuals, I get so bored and annoyed with other people's lives. Most people don't genuinely care about how their cashier's day is going when they ask, but I feel like that about everybody, including my best friends. \\n\\nWhen my friends tell me stuff about their lives, it's all I can do to concentrate enough that I can respond appropriately. This makes me feel really narcissistic and just like a terrible friend in general, but I just can't bring myself to actually care about why somebody broke up with their SO or where they're going for spring break.\\n\\nSince sharing stuff like that is a big part of friendship, I feel like I'm not actually friends with any of my friends. I've been sharing less and less with them too, as I wonder if my friends are thinking the same thing when I talk. The only person who I think I genuinely care about is my boyfriend. And now I'm worried that that care will fade and our relationship will end because of my apparent narcissism.\\n\\nAnybody ever felt like this?\\nTL;DR: Does anybody else wish they could actually have meaningful conversations with everyone around them? I wish they existed, at least. Don't worry about having enough to say or talking to much\"], [\"SUBREDDIT: r/relationships\\nTITLE: I [F/21] feel like I really don't care about most people and I want to change that\\nPOST: I care about people in general, but when it comes down to individuals, I get so bored and annoyed with other people's lives. Most people don't genuinely care about how their cashier's day is going when they ask, but I feel like that about everybody, including my best friends. \\n\\nWhen my friends tell me stuff about their lives, it's all I can do to concentrate enough that I can respond appropriately. This makes me feel really narcissistic and just like a terrible friend in general, but I just can't bring myself to actually care about why somebody broke up with their SO or where they're going for spring break.\\n\\nSince sharing stuff like that is a big part of friendship, I feel like I'm not actually friends with any of my friends. I've been sharing less and less with them too, as I wonder if my friends are thinking the same thing when I talk. The only person who I think I genuinely care about is my boyfriend. And now I'm worried that that care will fade and our relationship will end because of my apparent narcissism.\\n\\nAnybody ever felt like this?\\nTL;DR: I am probably the worst shitty friend ever as I cannot muster more than small talk with anybody. Need advice on overcoming these feelings!\"], [\"SUBREDDIT: r/relationships\\nTITLE: I [F/21] feel like I really don't care about most people and I want to change that\\nPOST: I care about people in general, but when it comes down to individuals, I get so bored and annoyed with other people's lives. Most people don't genuinely care about how their cashier's day is going when they ask, but I feel like that about everybody, including my best friends. \\n\\nWhen my friends tell me stuff about their lives, it's all I can do to concentrate enough that I can respond appropriately. This makes me feel really narcissistic and just like a terrible friend in general, but I just can't bring myself to actually care about why somebody broke up with their SO or where they're going for spring break.\\n\\nSince sharing stuff like that is a big part of friendship, I feel like I'm not actually friends with any of my friends. I've been sharing less and less with them too, as I wonder if my friends are thinking the same thing when I talk. The only person who I think I genuinely care about is my boyfriend. And now I'm worried that that care will fade and our relationship will end because of my apparent narcissism.\\n\\nAnybody ever felt like this?\\nTL;DR: Feel extremely removed from everyday topics, even if they involve close friends and significant other; concerned it'll lead to broken relationships\"]]\n"
          ]
        },
        {
          "metadata": {
            "tags": null
          },
          "name": "stderr",
          "output_type": "stream",
          "text": [
            "Setting `pad_token_id` to `eos_token_id`:2 for open-end generation.\n",
            "Setting `pad_token_id` to `eos_token_id`:2 for open-end generation.\n",
            "Setting `pad_token_id` to `eos_token_id`:2 for open-end generation.\n",
            "Setting `pad_token_id` to `eos_token_id`:2 for open-end generation.\n"
          ]
        },
        {
          "metadata": {
            "tags": null
          },
          "name": "stdout",
          "output_type": "stream",
          "text": [
            "\n",
            "Outputs for input 45:  [[\"SUBREDDIT: r/AskReddit\\nTITLE: Reddit, do you think you're able to confront yourself and admit your insecurities?\\nPOST: Recently my cousin came to me with a proposition. He told me that I was living a facade because I was afraid of judgement. He told me I was hiding. Then he challenged me to a year of accountability with myself. Step one? Publicly admitting the things about myself that I've been running from. Facing them head on and letting the world know so the people in my life can help me grow. So I told those close to me and then I posted it publicly on Facebook. Surprisingly I received an alarming number of people who then did the same in return, they shared everything with me. So I thought I would ask the amazing people of reddit if they would like to join me on this journey of accountability. Do you want to face yourself and admit those things about yourself that scare you? I'll post mine in the comments as well.\\nTL;DR:  My cousin dared me to share my biggest faults so people could hold me publically accountable for whatever I am hiding inside. Would you be willing to do the same?\"], [\"SUBREDDIT: r/AskReddit\\nTITLE: Reddit, do you think you're able to confront yourself and admit your insecurities?\\nPOST: Recently my cousin came to me with a proposition. He told me that I was living a facade because I was afraid of judgement. He told me I was hiding. Then he challenged me to a year of accountability with myself. Step one? Publicly admitting the things about myself that I've been running from. Facing them head on and letting the world know so the people in my life can help me grow. So I told those close to me and then I posted it publicly on Facebook. Surprisingly I received an alarming number of people who then did the same in return, they shared everything with me. So I thought I would ask the amazing people of reddit if they would like to join me on this journey of accountability. Do you want to face yourself and admit those things about yourself that scare you? I'll post mine in the comments as well.\\nTL;DR: Ready to share my own fears and vulnerabilities with those around me in hopes of overcoming them, is there anyone else out there ready to do the same?\"], [\"SUBREDDIT: r/AskReddit\\nTITLE: Reddit, do you think you're able to confront yourself and admit your insecurities?\\nPOST: Recently my cousin came to me with a proposition. He told me that I was living a facade because I was afraid of judgement. He told me I was hiding. Then he challenged me to a year of accountability with myself. Step one? Publicly admitting the things about myself that I've been running from. Facing them head on and letting the world know so the people in my life can help me grow. So I told those close to me and then I posted it publicly on Facebook. Surprisingly I received an alarming number of people who then did the same in return, they shared everything with me. So I thought I would ask the amazing people of reddit if they would like to join me on this journey of accountability. Do you want to face yourself and admit those things about yourself that scare you? I'll post mine in the comments as well.\\nTL;DR: My cousin proposed we be each others accountability partner. We post our problems on Facebook, then work together so we may overcome our own demons and become better humans\"], [\"SUBREDDIT: r/AskReddit\\nTITLE: Reddit, do you think you're able to confront yourself and admit your insecurities?\\nPOST: Recently my cousin came to me with a proposition. He told me that I was living a facade because I was afraid of judgement. He told me I was hiding. Then he challenged me to a year of accountability with myself. Step one? Publicly admitting the things about myself that I've been running from. Facing them head on and letting the world know so the people in my life can help me grow. So I told those close to me and then I posted it publicly on Facebook. Surprisingly I received an alarming number of people who then did the same in return, they shared everything with me. So I thought I would ask the amazing people of reddit if they would like to join me on this journey of accountability. Do you want to face yourself and admit those things about yourself that scare you? I'll post mine in the comments as well.\\nTL;DR: Cousin bet I could stand naked with my insecurities for a whole year, I accepted, now I bring us all along for the ride too\"]]\n"
          ]
        },
        {
          "metadata": {
            "tags": null
          },
          "name": "stderr",
          "output_type": "stream",
          "text": [
            "Setting `pad_token_id` to `eos_token_id`:2 for open-end generation.\n",
            "Setting `pad_token_id` to `eos_token_id`:2 for open-end generation.\n",
            "Setting `pad_token_id` to `eos_token_id`:2 for open-end generation.\n",
            "Setting `pad_token_id` to `eos_token_id`:2 for open-end generation.\n"
          ]
        },
        {
          "metadata": {
            "tags": null
          },
          "name": "stdout",
          "output_type": "stream",
          "text": [
            "\n",
            "Outputs for input 46:  [[\"SUBREDDIT: r/relationships\\nTITLE: I'll (24/M) will probably lose touch with my father (45/M) if we ever decide to move to separate places.\\nPOST: So my relationship with my father is a strained one with a long history of arguments, hurt feelings, neglect and guilt.\\n\\nGrowing up lets just say he was a less than attentive father and I came to terms with it fairly quickly in life. My mother and father have been separated since I can remember and both were very young when they had me.\\n\\nWithout going in depth with my entire childhood we'll just say I never felt welcome and always felt like a huge burden in every sense to both of my parents. Living with my father it was especially hard when he chose his new wife and her daughters over me. Parties were attended, family photos were captured and trips to who-knows-where happened without me. Through this I learned independence and self-sufficiency where I kind of just accepted it and figured it wasn't worth my time to yearn for attention. However, Recently we've found a lull in or out bursts and have been really calm. Lately we've been trying to have conversations about whatever nonsense comes up and small talk here and there. For god sakes we teamed up the other day to change all four rotors on my car so that I could be done before nightfall. It's been an interesting last 10 months...\\n\\nI'm completely able to be on my own and financially stable, but I just haven't decided to up and desert the man yet. Maybe its my ENTJ nature where I cut losses and move on but I can feel that my father and I will not have a strong enough bond after we move on to pretend to be related. \\n\\nI think I've accepted this already and it's a shame. Knowing that for years I'll probably forget about him and even worse is that maybe when I have grandkids that they'll probably never meet grandpa.\\nTL;DR: If I move on from my fathers constant failures as a father I believe his son and him may never speak again once we live more then an hour away.\"], [\"SUBREDDIT: r/relationships\\nTITLE: I'll (24/M) will probably lose touch with my father (45/M) if we ever decide to move to separate places.\\nPOST: So my relationship with my father is a strained one with a long history of arguments, hurt feelings, neglect and guilt.\\n\\nGrowing up lets just say he was a less than attentive father and I came to terms with it fairly quickly in life. My mother and father have been separated since I can remember and both were very young when they had me.\\n\\nWithout going in depth with my entire childhood we'll just say I never felt welcome and always felt like a huge burden in every sense to both of my parents. Living with my father it was especially hard when he chose his new wife and her daughters over me. Parties were attended, family photos were captured and trips to who-knows-where happened without me. Through this I learned independence and self-sufficiency where I kind of just accepted it and figured it wasn't worth my time to yearn for attention. However, Recently we've found a lull in or out bursts and have been really calm. Lately we've been trying to have conversations about whatever nonsense comes up and small talk here and there. For god sakes we teamed up the other day to change all four rotors on my car so that I could be done before nightfall. It's been an interesting last 10 months...\\n\\nI'm completely able to be on my own and financially stable, but I just haven't decided to up and desert the man yet. Maybe its my ENTJ nature where I cut losses and move on but I can feel that my father and I will not have a strong enough bond after we move on to pretend to be related. \\n\\nI think I've accepted this already and it's a shame. Knowing that for years I'll probably forget about him and even worse is that maybe when I have grandkids that they'll probably never meet grandpa.\\nTL;DR: My Dad and I grew apart during out teen years but are working their way back into a relationship only to leave each other shortly afterwards as a family unit. \"], ['SUBREDDIT: r/relationships\\nTITLE: I\\'ll (24/M) will probably lose touch with my father (45/M) if we ever decide to move to separate places.\\nPOST: So my relationship with my father is a strained one with a long history of arguments, hurt feelings, neglect and guilt.\\n\\nGrowing up lets just say he was a less than attentive father and I came to terms with it fairly quickly in life. My mother and father have been separated since I can remember and both were very young when they had me.\\n\\nWithout going in depth with my entire childhood we\\'ll just say I never felt welcome and always felt like a huge burden in every sense to both of my parents. Living with my father it was especially hard when he chose his new wife and her daughters over me. Parties were attended, family photos were captured and trips to who-knows-where happened without me. Through this I learned independence and self-sufficiency where I kind of just accepted it and figured it wasn\\'t worth my time to yearn for attention. However, Recently we\\'ve found a lull in or out bursts and have been really calm. Lately we\\'ve been trying to have conversations about whatever nonsense comes up and small talk here and there. For god sakes we teamed up the other day to change all four rotors on my car so that I could be done before nightfall. It\\'s been an interesting last 10 months...\\n\\nI\\'m completely able to be on my own and financially stable, but I just haven\\'t decided to up and desert the man yet. Maybe its my ENTJ nature where I cut losses and move on but I can feel that my father and I will not have a strong enough bond after we move on to pretend to be related. \\n\\nI think I\\'ve accepted this already and it\\'s a shame. Knowing that for years I\\'ll probably forget about him and even worse is that maybe when I have grandkids that they\\'ll probably never meet grandpa.\\nTL;DR: Father doesn\\'t show love or affection, only shows support as needed because \"that\\'s what fathers do.\" We might eventually move too far away to keep pretending we give a shit anymore'], [\"SUBREDDIT: r/relationships\\nTITLE: I'll (24/M) will probably lose touch with my father (45/M) if we ever decide to move to separate places.\\nPOST: So my relationship with my father is a strained one with a long history of arguments, hurt feelings, neglect and guilt.\\n\\nGrowing up lets just say he was a less than attentive father and I came to terms with it fairly quickly in life. My mother and father have been separated since I can remember and both were very young when they had me.\\n\\nWithout going in depth with my entire childhood we'll just say I never felt welcome and always felt like a huge burden in every sense to both of my parents. Living with my father it was especially hard when he chose his new wife and her daughters over me. Parties were attended, family photos were captured and trips to who-knows-where happened without me. Through this I learned independence and self-sufficiency where I kind of just accepted it and figured it wasn't worth my time to yearn for attention. However, Recently we've found a lull in or out bursts and have been really calm. Lately we've been trying to have conversations about whatever nonsense comes up and small talk here and there. For god sakes we teamed up the other day to change all four rotors on my car so that I could be done before nightfall. It's been an interesting last 10 months...\\n\\nI'm completely able to be on my own and financially stable, but I just haven't decided to up and desert the man yet. Maybe its my ENTJ nature where I cut losses and move on but I can feel that my father and I will not have a strong enough bond after we move on to pretend to be related. \\n\\nI think I've accepted this already and it's a shame. Knowing that for years I'll probably forget about him and even worse is that maybe when I have grandkids that they'll probably never meet grandpa.\\nTL;DR: What does one do when they come to accept that their parents won't always be around? Or that you may possibly loose your father? How do make some type of peace with this knowledge?\"]]\n"
          ]
        },
        {
          "metadata": {
            "tags": null
          },
          "name": "stderr",
          "output_type": "stream",
          "text": [
            "Setting `pad_token_id` to `eos_token_id`:2 for open-end generation.\n",
            "Setting `pad_token_id` to `eos_token_id`:2 for open-end generation.\n",
            "Setting `pad_token_id` to `eos_token_id`:2 for open-end generation.\n",
            "Setting `pad_token_id` to `eos_token_id`:2 for open-end generation.\n"
          ]
        },
        {
          "output_type": "stream",
          "name": "stdout",
          "text": [
            "\n",
            "Outputs for input 47:  [['SUBREDDIT: r/relationships\\nTITLE: I [27 M] have \"almost arguments\" with my wife [28 F] about cleanliness of things and related topics. Reddit, am I just a slob, or is she being unreasonable or (medically) OCD? Looking for opinions.\\nPOST: So we\\'ve been married for quite a while, and get along famously on nearly everything. Except for one category, and that\\'s the general sanitation level of things.\\n\\nWe both like to keep an orderly house, but specifically I mean things like sitting on a bed after having worn pants outside and sat down places. One time she acted like I was crazy for putting some jeans I had worn a few times (just out and about) back into a dresser drawer that I use for gym shorts and mostly clean things.\\n\\nIt\\'s this among other things, with more examples I can give if necessary. The reason this bugs me from a relationships point of view is that while so far I\\'ve tried to just be glad that she\\'s clean and tidy instead of falling to the other side of things and picking my battles elsewhere, this wears on me when through shock and surprise she kind of makes me feel like I was raised in a barn.\\n\\nI am truly not sure whether I am in the wrong or is she on some of these things though. I don\\'t possess the exact biological knowledge to say whether there\\'s is reason or rhyme to this type of thing, but in general I just don\\'t stress over the bottom of a piece of luggage that truly makes me wrong for putting it on the bed. I don\\'t know. Or if it\\'s normal to feel the need to run a bleach only cycle to \"clean out\" the washing machine after a load of soiled laundry went through previously.\\nTL;DR: Wife gets upset for many seemingly odd situations and makes me wonder what I might consider strange. Should I really take offense to her doing the same?'], ['SUBREDDIT: r/relationships\\nTITLE: I [27 M] have \"almost arguments\" with my wife [28 F] about cleanliness of things and related topics. Reddit, am I just a slob, or is she being unreasonable or (medically) OCD? Looking for opinions.\\nPOST: So we\\'ve been married for quite a while, and get along famously on nearly everything. Except for one category, and that\\'s the general sanitation level of things.\\n\\nWe both like to keep an orderly house, but specifically I mean things like sitting on a bed after having worn pants outside and sat down places. One time she acted like I was crazy for putting some jeans I had worn a few times (just out and about) back into a dresser drawer that I use for gym shorts and mostly clean things.\\n\\nIt\\'s this among other things, with more examples I can give if necessary. The reason this bugs me from a relationships point of view is that while so far I\\'ve tried to just be glad that she\\'s clean and tidy instead of falling to the other side of things and picking my battles elsewhere, this wears on me when through shock and surprise she kind of makes me feel like I was raised in a barn.\\n\\nI am truly not sure whether I am in the wrong or is she on some of these things though. I don\\'t possess the exact biological knowledge to say whether there\\'s is reason or rhyme to this type of thing, but in general I just don\\'t stress over the bottom of a piece of luggage that truly makes me wrong for putting it on the bed. I don\\'t know. Or if it\\'s normal to feel the need to run a bleach only cycle to \"clean out\" the washing machine after a load of soiled laundry went through previously.\\nTL;DR: If you are able to, please critique both or either party or even yourself if you relate here when I describe being \"freaked out at something as dumb as sitting on our couch.\"'], ['SUBREDDIT: r/relationships\\nTITLE: I [27 M] have \"almost arguments\" with my wife [28 F] about cleanliness of things and related topics. Reddit, am I just a slob, or is she being unreasonable or (medically) OCD? Looking for opinions.\\nPOST: So we\\'ve been married for quite a while, and get along famously on nearly everything. Except for one category, and that\\'s the general sanitation level of things.\\n\\nWe both like to keep an orderly house, but specifically I mean things like sitting on a bed after having worn pants outside and sat down places. One time she acted like I was crazy for putting some jeans I had worn a few times (just out and about) back into a dresser drawer that I use for gym shorts and mostly clean things.\\n\\nIt\\'s this among other things, with more examples I can give if necessary. The reason this bugs me from a relationships point of view is that while so far I\\'ve tried to just be glad that she\\'s clean and tidy instead of falling to the other side of things and picking my battles elsewhere, this wears on me when through shock and surprise she kind of makes me feel like I was raised in a barn.\\n\\nI am truly not sure whether I am in the wrong or is she on some of these things though. I don\\'t possess the exact biological knowledge to say whether there\\'s is reason or rhyme to this type of thing, but in general I just don\\'t stress over the bottom of a piece of luggage that truly makes me wrong for putting it on the bed. I don\\'t know. Or if it\\'s normal to feel the need to run a bleach only cycle to \"clean out\" the washing machine after a load of soiled laundry went through previously.\\nTL;DR: My wife acts like I\\'m being messy when something might be beyond my comprehension level concerning bacteria levels and such, am I really just a lazy pig? Please help'], ['SUBREDDIT: r/relationships\\nTITLE: I [27 M] have \"almost arguments\" with my wife [28 F] about cleanliness of things and related topics. Reddit, am I just a slob, or is she being unreasonable or (medically) OCD? Looking for opinions.\\nPOST: So we\\'ve been married for quite a while, and get along famously on nearly everything. Except for one category, and that\\'s the general sanitation level of things.\\n\\nWe both like to keep an orderly house, but specifically I mean things like sitting on a bed after having worn pants outside and sat down places. One time she acted like I was crazy for putting some jeans I had worn a few times (just out and about) back into a dresser drawer that I use for gym shorts and mostly clean things.\\n\\nIt\\'s this among other things, with more examples I can give if necessary. The reason this bugs me from a relationships point of view is that while so far I\\'ve tried to just be glad that she\\'s clean and tidy instead of falling to the other side of things and picking my battles elsewhere, this wears on me when through shock and surprise she kind of makes me feel like I was raised in a barn.\\n\\nI am truly not sure whether I am in the wrong or is she on some of these things though. I don\\'t possess the exact biological knowledge to say whether there\\'s is reason or rhyme to this type of thing, but in general I just don\\'t stress over the bottom of a piece of luggage that truly makes me wrong for putting it on the bed. I don\\'t know. Or if it\\'s normal to feel the need to run a bleach only cycle to \"clean out\" the washing machine after a load of soiled laundry went through previously.\\nTL;DR: Wife is super clean, maybe bordering OCD about certain cleaning/sanitary issues, I am not sure what the medical basis may be behind them and therefore not 100% convinced they are reasonable nor do I want her to assume control over all aspects of our home, need input']]\n"
          ]
        },
        {
          "output_type": "stream",
          "name": "stderr",
          "text": [
            "Setting `pad_token_id` to `eos_token_id`:2 for open-end generation.\n",
            "Setting `pad_token_id` to `eos_token_id`:2 for open-end generation.\n",
            "Setting `pad_token_id` to `eos_token_id`:2 for open-end generation.\n",
            "Setting `pad_token_id` to `eos_token_id`:2 for open-end generation.\n"
          ]
        },
        {
          "output_type": "stream",
          "name": "stdout",
          "text": [
            "\n",
            "Outputs for input 48:  [['SUBREDDIT: r/dating_advice\\nTITLE: Me [21F] with [22M]. Can\\'t tell if he\\'s messing with me or just really weird/shy?\\nPOST: I\\'ve had a crush on this guy from my gym for the past 2 years. Long story short, I found out he was interested in me back in May and we started texting.  \\n\\nWe always planned to meet at the gym at the same time. He actually seemed pretty shy because he would never say hi to me at the gym first. I\\'d always have to approach him first, but we\\'d have decent conversation, and he\\'d always hug me goodbye. We went on our first date after 2 weeks of texting & meeting up at the gym, and the date went really well, but he just stopped talking to me for no reason after this. He just ignored me at the gym and stopped responding to texts.    \\n\\nTwo weeks ago, we match on Tinder and I message him on there. He tells me to text him and we talk for like two days, then he disappears again.  \\n\\nTwo days ago, he randomly texted me and said \"I wanted to talk to you at the gym, but you\\'re always talking to other people.\" I asked him to just come up and talk to me, and he goes \"Idk why I do or don\\'t do things. I\\'m weird and just really shy.\" Then he send me a shirtless pic of himself.   \\n\\nI saw him at the gym yesterday, we talked, and he gave me a hug before I left. I texted him today and he responded, but when I invited him to go out with me and my friends tonight, he just never replied. I don\\'t get if he\\'s just fucking with me or what.\\nTL;DR: guy seems interested, does random things that make it hard for me to figure out whether he wants anything to happen between us...'], ['SUBREDDIT: r/dating_advice\\nTITLE: Me [21F] with [22M]. Can\\'t tell if he\\'s messing with me or just really weird/shy?\\nPOST: I\\'ve had a crush on this guy from my gym for the past 2 years. Long story short, I found out he was interested in me back in May and we started texting.  \\n\\nWe always planned to meet at the gym at the same time. He actually seemed pretty shy because he would never say hi to me at the gym first. I\\'d always have to approach him first, but we\\'d have decent conversation, and he\\'d always hug me goodbye. We went on our first date after 2 weeks of texting & meeting up at the gym, and the date went really well, but he just stopped talking to me for no reason after this. He just ignored me at the gym and stopped responding to texts.    \\n\\nTwo weeks ago, we match on Tinder and I message him on there. He tells me to text him and we talk for like two days, then he disappears again.  \\n\\nTwo days ago, he randomly texted me and said \"I wanted to talk to you at the gym, but you\\'re always talking to other people.\" I asked him to just come up and talk to me, and he goes \"Idk why I do or don\\'t do things. I\\'m weird and just really shy.\" Then he send me a shirtless pic of himself.   \\n\\nI saw him at the gym yesterday, we talked, and he gave me a hug before I left. I texted him today and he responded, but when I invited him to go out with me and my friends tonight, he just never replied. I don\\'t get if he\\'s just fucking with me or what.\\nTL;DR: Crush has disappeared on me twice now but also gets very touchy feely with me during face-to-face interactions.'], ['SUBREDDIT: r/dating_advice\\nTITLE: Me [21F] with [22M]. Can\\'t tell if he\\'s messing with me or just really weird/shy?\\nPOST: I\\'ve had a crush on this guy from my gym for the past 2 years. Long story short, I found out he was interested in me back in May and we started texting.  \\n\\nWe always planned to meet at the gym at the same time. He actually seemed pretty shy because he would never say hi to me at the gym first. I\\'d always have to approach him first, but we\\'d have decent conversation, and he\\'d always hug me goodbye. We went on our first date after 2 weeks of texting & meeting up at the gym, and the date went really well, but he just stopped talking to me for no reason after this. He just ignored me at the gym and stopped responding to texts.    \\n\\nTwo weeks ago, we match on Tinder and I message him on there. He tells me to text him and we talk for like two days, then he disappears again.  \\n\\nTwo days ago, he randomly texted me and said \"I wanted to talk to you at the gym, but you\\'re always talking to other people.\" I asked him to just come up and talk to me, and he goes \"Idk why I do or don\\'t do things. I\\'m weird and just really shy.\" Then he send me a shirtless pic of himself.   \\n\\nI saw him at the gym yesterday, we talked, and he gave me a hug before I left. I texted him today and he responded, but when I invited him to go out with me and my friends tonight, he just never replied. I don\\'t get if he\\'s just fucking with me or what.\\nTL;DR: A very shy guy who doesn\\'t seem to know how to flirt wants me to invite him hang out instead of doing it himself'], ['SUBREDDIT: r/dating_advice\\nTITLE: Me [21F] with [22M]. Can\\'t tell if he\\'s messing with me or just really weird/shy?\\nPOST: I\\'ve had a crush on this guy from my gym for the past 2 years. Long story short, I found out he was interested in me back in May and we started texting.  \\n\\nWe always planned to meet at the gym at the same time. He actually seemed pretty shy because he would never say hi to me at the gym first. I\\'d always have to approach him first, but we\\'d have decent conversation, and he\\'d always hug me goodbye. We went on our first date after 2 weeks of texting & meeting up at the gym, and the date went really well, but he just stopped talking to me for no reason after this. He just ignored me at the gym and stopped responding to texts.    \\n\\nTwo weeks ago, we match on Tinder and I message him on there. He tells me to text him and we talk for like two days, then he disappears again.  \\n\\nTwo days ago, he randomly texted me and said \"I wanted to talk to you at the gym, but you\\'re always talking to other people.\" I asked him to just come up and talk to me, and he goes \"Idk why I do or don\\'t do things. I\\'m weird and just really shy.\" Then he send me a shirtless pic of himself.   \\n\\nI saw him at the gym yesterday, we talked, and he gave me a hug before I left. I texted him today and he responded, but when I invited him to go out with me and my friends tonight, he just never replied. I don\\'t get if he\\'s just fucking with me or what.\\nTL;DR: Have a huge crush on someone who is either playing games with me or just incredibly passive aggressive. Help! Am I crazy?!']]\n"
          ]
        },
        {
          "output_type": "stream",
          "name": "stderr",
          "text": [
            "Setting `pad_token_id` to `eos_token_id`:2 for open-end generation.\n",
            "Setting `pad_token_id` to `eos_token_id`:2 for open-end generation.\n",
            "Setting `pad_token_id` to `eos_token_id`:2 for open-end generation.\n",
            "Setting `pad_token_id` to `eos_token_id`:2 for open-end generation.\n"
          ]
        },
        {
          "output_type": "stream",
          "name": "stdout",
          "text": [
            "\n",
            "Outputs for input 49:  [[\"SUBREDDIT: r/relationships\\nTITLE: I [26 M] am uncomfortable with my girlfriend's [25F] Facebook pictures that include her ex. Is it fair ask her to take them down?\\nPOST: To provide more color, I find it uncomfortable when I randomly click on my girlfriend's Facebook pictures, because her ex is in about half of them. What makes it extra weird is that I knew the guy/was kind of friends with him at one point in time while the two of them were dating. Additionally, the two of them were together for 5 years.\\n\\nAdmittedly, I am a pretty insecure dude, and when I see the pictures I imagine how they were together, and if she said the same things to him she said to me, if they did the same things together that we do, how their sex was, if their sex was better than ours, etc. So I suppose the pictures just trigger all of that. \\n\\nWe don't have any recent pictures of each other on Facebook either. I am fine with this, and that doesn't need to change. However, the most recent pictures she has is of this person with whom she was with for 5 years. So with both of those things in conjunction with one another, it makes me feel weird and kind of sad. \\n\\nFor the record, I always untag myself from pictures with any of my exes. I treat these pictures as my memories, my history, and in the past. Keeping the pictures on Facebook keeps the memories in the present.\\nTL;DR: My personal preference and feelings aside, do you think it would be unfair to ask her to get rid of this one picture?\"], [\"SUBREDDIT: r/relationships\\nTITLE: I [26 M] am uncomfortable with my girlfriend's [25F] Facebook pictures that include her ex. Is it fair ask her to take them down?\\nPOST: To provide more color, I find it uncomfortable when I randomly click on my girlfriend's Facebook pictures, because her ex is in about half of them. What makes it extra weird is that I knew the guy/was kind of friends with him at one point in time while the two of them were dating. Additionally, the two of them were together for 5 years.\\n\\nAdmittedly, I am a pretty insecure dude, and when I see the pictures I imagine how they were together, and if she said the same things to him she said to me, if they did the same things together that we do, how their sex was, if their sex was better than ours, etc. So I suppose the pictures just trigger all of that. \\n\\nWe don't have any recent pictures of each other on Facebook either. I am fine with this, and that doesn't need to change. However, the most recent pictures she has is of this person with whom she was with for 5 years. So with both of those things in conjunction with one another, it makes me feel weird and kind of sad. \\n\\nFor the record, I always untag myself from pictures with any of my exes. I treat these pictures as my memories, my history, and in the past. Keeping the pictures on Facebook keeps the memories in the present.\\nTL;DR: My GF has pictures on Facebook with her very long-term ex. It bothers me, but I try to be secure about my feelings around her by not making too much about it. But should I voice my opinion?\"], [\"SUBREDDIT: r/relationships\\nTITLE: I [26 M] am uncomfortable with my girlfriend's [25F] Facebook pictures that include her ex. Is it fair ask her to take them down?\\nPOST: To provide more color, I find it uncomfortable when I randomly click on my girlfriend's Facebook pictures, because her ex is in about half of them. What makes it extra weird is that I knew the guy/was kind of friends with him at one point in time while the two of them were dating. Additionally, the two of them were together for 5 years.\\n\\nAdmittedly, I am a pretty insecure dude, and when I see the pictures I imagine how they were together, and if she said the same things to him she said to me, if they did the same things together that we do, how their sex was, if their sex was better than ours, etc. So I suppose the pictures just trigger all of that. \\n\\nWe don't have any recent pictures of each other on Facebook either. I am fine with this, and that doesn't need to change. However, the most recent pictures she has is of this person with whom she was with for 5 years. So with both of those things in conjunction with one another, it makes me feel weird and kind of sad. \\n\\nFor the record, I always untag myself from pictures with any of my exes. I treat these pictures as my memories, my history, and in the past. Keeping the pictures on Facebook keeps the memories in the present.\\nTL;DR: My girlfriend still has many pictures up with her ex boyfriend. Do you mind when your significant other leaves old pics of an ex up?\"], [\"SUBREDDIT: r/relationships\\nTITLE: I [26 M] am uncomfortable with my girlfriend's [25F] Facebook pictures that include her ex. Is it fair ask her to take them down?\\nPOST: To provide more color, I find it uncomfortable when I randomly click on my girlfriend's Facebook pictures, because her ex is in about half of them. What makes it extra weird is that I knew the guy/was kind of friends with him at one point in time while the two of them were dating. Additionally, the two of them were together for 5 years.\\n\\nAdmittedly, I am a pretty insecure dude, and when I see the pictures I imagine how they were together, and if she said the same things to him she said to me, if they did the same things together that we do, how their sex was, if their sex was better than ours, etc. So I suppose the pictures just trigger all of that. \\n\\nWe don't have any recent pictures of each other on Facebook either. I am fine with this, and that doesn't need to change. However, the most recent pictures she has is of this person with whom she was with for 5 years. So with both of those things in conjunction with one another, it makes me feel weird and kind of sad. \\n\\nFor the record, I always untag myself from pictures with any of my exes. I treat these pictures as my memories, my history, and in the past. Keeping the pictures on Facebook keeps the memories in the present.\\nTL;DR: I think its unfair that many of my gf's Facebook pics are of her long-term bf. I would like to be removed out of courtesy since she hasn't been doing so w/her new gf.\"]]\n"
          ]
        },
        {
          "output_type": "stream",
          "name": "stderr",
          "text": [
            "Setting `pad_token_id` to `eos_token_id`:2 for open-end generation.\n",
            "Setting `pad_token_id` to `eos_token_id`:2 for open-end generation.\n",
            "Setting `pad_token_id` to `eos_token_id`:2 for open-end generation.\n",
            "Setting `pad_token_id` to `eos_token_id`:2 for open-end generation.\n"
          ]
        },
        {
          "output_type": "stream",
          "name": "stdout",
          "text": [
            "\n",
            "Outputs for input 50:  [['SUBREDDIT: r/relationships\\nTITLE: I(21f) feel like I\\'m unreasonably upset about something my (m21) did last night.\\nPOST: Last night I left the bar early with my friends because I was tired and bored. My boyfriend was there and had planned on leaving too and watching a movie with me. But he forgot about this when his friends told him they were coming to the bar we were at. He said he would stay only about 15 minutes then leave. \\n\\nWell he ended up staying more than an hour and a half. A little after two My bf texts me \"I should just come over and crash at your place\". Guys can\\'t sleep over in my sorority house and he knows this. So I decide I\\'ll just meet up with him and we can get a bus to his place. I call and call and he doesnt answer so I just head over, I sleep at his place 99% of the time anyway. By the time I get outside his place I\\'m worried because he hasnt responded in over half an hour and we were in the middle of making plans. So I get there and hes in his bedroom alone with a girl friend, that he knows I don\\'t like. I don\\'t like her because the first time he introduced me to her she just brushed me off and barely said hi before turning and walking away. And she just gives off this vibe that she thinks shes hot shit and she is always drunk. \\n\\nMy bf apologized for not telling me she was coming to his place. He said that she just wanted to hang out longer, she doesn\\'t go here so they rarely see each other. And he also explained his phone was charging when I\\'d been calling. I now know they didnt do anything and I\\'m mad over nothing but I still feel upset and don\\'t know how to get over it.\\nTL;DR: bf hung out with female friend later than intended after saying he would be home soon. I got there and they both acted weird.'], ['SUBREDDIT: r/relationships\\nTITLE: I(21f) feel like I\\'m unreasonably upset about something my (m21) did last night.\\nPOST: Last night I left the bar early with my friends because I was tired and bored. My boyfriend was there and had planned on leaving too and watching a movie with me. But he forgot about this when his friends told him they were coming to the bar we were at. He said he would stay only about 15 minutes then leave. \\n\\nWell he ended up staying more than an hour and a half. A little after two My bf texts me \"I should just come over and crash at your place\". Guys can\\'t sleep over in my sorority house and he knows this. So I decide I\\'ll just meet up with him and we can get a bus to his place. I call and call and he doesnt answer so I just head over, I sleep at his place 99% of the time anyway. By the time I get outside his place I\\'m worried because he hasnt responded in over half an hour and we were in the middle of making plans. So I get there and hes in his bedroom alone with a girl friend, that he knows I don\\'t like. I don\\'t like her because the first time he introduced me to her she just brushed me off and barely said hi before turning and walking away. And she just gives off this vibe that she thinks shes hot shit and she is always drunk. \\n\\nMy bf apologized for not telling me she was coming to his place. He said that she just wanted to hang out longer, she doesn\\'t go here so they rarely see each other. And he also explained his phone was charging when I\\'d been calling. I now know they didnt do anything and I\\'m mad over nothing but I still feel upset and don\\'t know how to get over it.\\nTL;DR: bf said he was going to give me a ride home from the bar and made me worry by sleeping over instead of his house.'], ['SUBREDDIT: r/relationships\\nTITLE: I(21f) feel like I\\'m unreasonably upset about something my (m21) did last night.\\nPOST: Last night I left the bar early with my friends because I was tired and bored. My boyfriend was there and had planned on leaving too and watching a movie with me. But he forgot about this when his friends told him they were coming to the bar we were at. He said he would stay only about 15 minutes then leave. \\n\\nWell he ended up staying more than an hour and a half. A little after two My bf texts me \"I should just come over and crash at your place\". Guys can\\'t sleep over in my sorority house and he knows this. So I decide I\\'ll just meet up with him and we can get a bus to his place. I call and call and he doesnt answer so I just head over, I sleep at his place 99% of the time anyway. By the time I get outside his place I\\'m worried because he hasnt responded in over half an hour and we were in the middle of making plans. So I get there and hes in his bedroom alone with a girl friend, that he knows I don\\'t like. I don\\'t like her because the first time he introduced me to her she just brushed me off and barely said hi before turning and walking away. And she just gives off this vibe that she thinks shes hot shit and she is always drunk. \\n\\nMy bf apologized for not telling me she was coming to his place. He said that she just wanted to hang out longer, she doesn\\'t go here so they rarely see each other. And he also explained his phone was charging when I\\'d been calling. I now know they didnt do anything and I\\'m mad over nothing but I still feel upset and don\\'t know how to get over it.\\nTL;DR: Felt like I got stood up and my bf could have avoided 90% of it just by communicating better with me.'], ['SUBREDDIT: r/relationships\\nTITLE: I(21f) feel like I\\'m unreasonably upset about something my (m21) did last night.\\nPOST: Last night I left the bar early with my friends because I was tired and bored. My boyfriend was there and had planned on leaving too and watching a movie with me. But he forgot about this when his friends told him they were coming to the bar we were at. He said he would stay only about 15 minutes then leave. \\n\\nWell he ended up staying more than an hour and a half. A little after two My bf texts me \"I should just come over and crash at your place\". Guys can\\'t sleep over in my sorority house and he knows this. So I decide I\\'ll just meet up with him and we can get a bus to his place. I call and call and he doesnt answer so I just head over, I sleep at his place 99% of the time anyway. By the time I get outside his place I\\'m worried because he hasnt responded in over half an hour and we were in the middle of making plans. So I get there and hes in his bedroom alone with a girl friend, that he knows I don\\'t like. I don\\'t like her because the first time he introduced me to her she just brushed me off and barely said hi before turning and walking away. And she just gives off this vibe that she thinks shes hot shit and she is always drunk. \\n\\nMy bf apologized for not telling me she was coming to his place. He said that she just wanted to hang out longer, she doesn\\'t go here so they rarely see each other. And he also explained his phone was charging when I\\'d been calling. I now know they didnt do anything and I\\'m mad over nothing but I still feel upset and don\\'t know how to get over it.\\nTL;DR: BF hung around way longer than he originally intended leaving me at a bar for hours to wait for him so we could watch a movie together. Then when we met up he brought some girl to his place to join our movies nights plans']]\n"
          ]
        },
        {
          "output_type": "stream",
          "name": "stderr",
          "text": [
            "Setting `pad_token_id` to `eos_token_id`:2 for open-end generation.\n",
            "Setting `pad_token_id` to `eos_token_id`:2 for open-end generation.\n",
            "Setting `pad_token_id` to `eos_token_id`:2 for open-end generation.\n",
            "Setting `pad_token_id` to `eos_token_id`:2 for open-end generation.\n"
          ]
        },
        {
          "output_type": "stream",
          "name": "stdout",
          "text": [
            "\n",
            "Outputs for input 51:  [[\"SUBREDDIT: r/Pets\\nTITLE: My sister's dog was picked up by animal control, $150 to get him out and she can't afford it.  He'll be euthanized in 2 days if she doesn't pay up.\\nPOST: My sister has had this dog for the longest time, he's been shuffled around our family from time to time when she couldn't keep him due to being a renter.  I had him for a year and had to give him back to her because I moved into a smaller place.  I told her to keep him until the end of this year and I would take him back but he managed to get out of his yard today and got locked up by animal control it's going to cost her $150 to get him out or he'll be put to sleep!  He's about 11 years old, the sweetest beagle in the world! He doesn't bark he's great with kids and he's just a bug ol teddy bear! I don't know what to do!! I can't let him be put to sleep but I can't afford to help her! :-( \\n\\n[Brody] That's him.\\nTL;DR: Sister has old dog that slipped out of his fence got picked up on animal control if we dont Pay the $150 off to get him by Tue then he wont make Wed :( :'(\"], [\"SUBREDDIT: r/Pets\\nTITLE: My sister's dog was picked up by animal control, $150 to get him out and she can't afford it.  He'll be euthanized in 2 days if she doesn't pay up.\\nPOST: My sister has had this dog for the longest time, he's been shuffled around our family from time to time when she couldn't keep him due to being a renter.  I had him for a year and had to give him back to her because I moved into a smaller place.  I told her to keep him until the end of this year and I would take him back but he managed to get out of his yard today and got locked up by animal control it's going to cost her $150 to get him out or he'll be put to sleep!  He's about 11 years old, the sweetest beagle in the world! He doesn't bark he's great with kids and he's just a bug ol teddy bear! I don't know what to do!! I can't let him be put to sleep but I can't afford to help her! :-( \\n\\n[Brody] That's him.\\nTL;DR: Sister's dog is heading to heaven if she doesn't cough up $150 in two days! Help me out Redditors\"], [\"SUBREDDIT: r/Pets\\nTITLE: My sister's dog was picked up by animal control, $150 to get him out and she can't afford it.  He'll be euthanized in 2 days if she doesn't pay up.\\nPOST: My sister has had this dog for the longest time, he's been shuffled around our family from time to time when she couldn't keep him due to being a renter.  I had him for a year and had to give him back to her because I moved into a smaller place.  I told her to keep him until the end of this year and I would take him back but he managed to get out of his yard today and got locked up by animal control it's going to cost her $150 to get him out or he'll be put to sleep!  He's about 11 years old, the sweetest beagle in the world! He doesn't bark he's great with kids and he's just a bug ol teddy bear! I don't know what to do!! I can't let him be put to sleep but I can't afford to help her! :-( \\n\\n[Brody] That's him.\\nTL;DR: my sister can't pay animal control $150 otherwise they will do something bad to Brody, an adorable purebred Beagle, who is only looking for attention...\"], [\"SUBREDDIT: r/Pets\\nTITLE: My sister's dog was picked up by animal control, $150 to get him out and she can't afford it.  He'll be euthanized in 2 days if she doesn't pay up.\\nPOST: My sister has had this dog for the longest time, he's been shuffled around our family from time to time when she couldn't keep him due to being a renter.  I had him for a year and had to give him back to her because I moved into a smaller place.  I told her to keep him until the end of this year and I would take him back but he managed to get out of his yard today and got locked up by animal control it's going to cost her $150 to get him out or he'll be put to sleep!  He's about 11 years old, the sweetest beagle in the world! He doesn't bark he's great with kids and he's just a bug ol teddy bear! I don't know what to do!! I can't let him be put to sleep but I can't afford to help her! :-( \\n\\n[Brody] That's him.\\nTL;DR: Brody is my sister's best friend that needs your support to get him through life, please tell me how we can raise funds to get my brother some more time with his buddy Brody!!\"]]\n"
          ]
        },
        {
          "output_type": "stream",
          "name": "stderr",
          "text": [
            "Setting `pad_token_id` to `eos_token_id`:2 for open-end generation.\n",
            "Setting `pad_token_id` to `eos_token_id`:2 for open-end generation.\n",
            "Setting `pad_token_id` to `eos_token_id`:2 for open-end generation.\n",
            "Setting `pad_token_id` to `eos_token_id`:2 for open-end generation.\n"
          ]
        },
        {
          "output_type": "stream",
          "name": "stdout",
          "text": [
            "\n",
            "Outputs for input 52:  [[\"SUBREDDIT: r/relationship_advice\\nTITLE: [18/m] My friend's (18/f) boyfired (21/m) mite be 'covert emotional manipulating her' what do I do?\\nPOST: Okay so My friend lets call her Stacey. Stacey's boyfriend doesn't like her hanging out with her friends cause he gets jealous, and won't talk her to days if she does this. She missed important events like her sisters 21 birthday cause he didn't want her to go and get dressed up. They talk constantly together, and if she answers late then he will get mad and ignore her. Yet he will ignore her for long periods of time, and not answer right away and get mad if she confronts him about it. She's depressed and she told me, that he has so much power over her that if he is mad at her then Stacey feels like shit. She normally doesn't cry much, but now she crys all the time has anxiety, etc. And now he doesn't want her to go to this 'thing' that is super important to her, and she doesn't know what to do.\\n\\nI don't know what I should do about this, should I tell her that I think he is emotionally manipulating her? I'm kinda awkward and I never know how to handle these situation...Especially when it involves relationships (never had one). I tried telling her the other day, but it just came out awkward...and I don't think she got what I mean... I normally have the philosophy 'live and let live', so I don't do anything about it cause it's their life.....but....Stacey is important to me, and I don't like her being in so much pain....she even bought tickets to travel to him (long distance relationship)\\nTL;DR: What should I say to my friend with an abusive Boyfried? Should I confront and tell her we have been best friends since 4th grade, or is there some thing I can do to help instead?\"], [\"SUBREDDIT: r/relationship_advice\\nTITLE: [18/m] My friend's (18/f) boyfired (21/m) mite be 'covert emotional manipulating her' what do I do?\\nPOST: Okay so My friend lets call her Stacey. Stacey's boyfriend doesn't like her hanging out with her friends cause he gets jealous, and won't talk her to days if she does this. She missed important events like her sisters 21 birthday cause he didn't want her to go and get dressed up. They talk constantly together, and if she answers late then he will get mad and ignore her. Yet he will ignore her for long periods of time, and not answer right away and get mad if she confronts him about it. She's depressed and she told me, that he has so much power over her that if he is mad at her then Stacey feels like shit. She normally doesn't cry much, but now she crys all the time has anxiety, etc. And now he doesn't want her to go to this 'thing' that is super important to her, and she doesn't know what to do.\\n\\nI don't know what I should do about this, should I tell her that I think he is emotionally manipulating her? I'm kinda awkward and I never know how to handle these situation...Especially when it involves relationships (never had one). I tried telling her the other day, but it just came out awkward...and I don't think she got what I mean... I normally have the philosophy 'live and let live', so I don't do anything about it cause it's their life.....but....Stacey is important to me, and I don't like her being in so much pain....she even bought tickets to travel to him (long distance relationship)\\nTL;DR: best friends SO might be controlling and emotionally abusing her. And I'm asking reddit for help on if I can approach the subject again or no?, and/or how too?! Thanks\"], [\"SUBREDDIT: r/relationship_advice\\nTITLE: [18/m] My friend's (18/f) boyfired (21/m) mite be 'covert emotional manipulating her' what do I do?\\nPOST: Okay so My friend lets call her Stacey. Stacey's boyfriend doesn't like her hanging out with her friends cause he gets jealous, and won't talk her to days if she does this. She missed important events like her sisters 21 birthday cause he didn't want her to go and get dressed up. They talk constantly together, and if she answers late then he will get mad and ignore her. Yet he will ignore her for long periods of time, and not answer right away and get mad if she confronts him about it. She's depressed and she told me, that he has so much power over her that if he is mad at her then Stacey feels like shit. She normally doesn't cry much, but now she crys all the time has anxiety, etc. And now he doesn't want her to go to this 'thing' that is super important to her, and she doesn't know what to do.\\n\\nI don't know what I should do about this, should I tell her that I think he is emotionally manipulating her? I'm kinda awkward and I never know how to handle these situation...Especially when it involves relationships (never had one). I tried telling her the other day, but it just came out awkward...and I don't think she got what I mean... I normally have the philosophy 'live and let live', so I don't do anything about it cause it's their life.....but....Stacey is important to me, and I don't like her being in so much pain....she even bought tickets to travel to him (long distance relationship)\\nTL;DR: Friend seems to be emotionally abusing his girlfriend by not talking to her, leaving her feeling useless & worthless and guilt tripping her, what should I do?\"], [\"SUBREDDIT: r/relationship_advice\\nTITLE: [18/m] My friend's (18/f) boyfired (21/m) mite be 'covert emotional manipulating her' what do I do?\\nPOST: Okay so My friend lets call her Stacey. Stacey's boyfriend doesn't like her hanging out with her friends cause he gets jealous, and won't talk her to days if she does this. She missed important events like her sisters 21 birthday cause he didn't want her to go and get dressed up. They talk constantly together, and if she answers late then he will get mad and ignore her. Yet he will ignore her for long periods of time, and not answer right away and get mad if she confronts him about it. She's depressed and she told me, that he has so much power over her that if he is mad at her then Stacey feels like shit. She normally doesn't cry much, but now she crys all the time has anxiety, etc. And now he doesn't want her to go to this 'thing' that is super important to her, and she doesn't know what to do.\\n\\nI don't know what I should do about this, should I tell her that I think he is emotionally manipulating her? I'm kinda awkward and I never know how to handle these situation...Especially when it involves relationships (never had one). I tried telling her the other day, but it just came out awkward...and I don't think she got what I mean... I normally have the philosophy 'live and let live', so I don't do anything about it cause it's their life.....but....Stacey is important to me, and I don't like her being in so much pain....she even bought tickets to travel to him (long distance relationship)\\nTL;DR: Boyfriend I think isn't as caring as he seems, might be using a way or emotional abuse. Don't know if I should help save my friend, or stay out of it\"]]\n"
          ]
        },
        {
          "output_type": "stream",
          "name": "stderr",
          "text": [
            "Setting `pad_token_id` to `eos_token_id`:2 for open-end generation.\n",
            "Setting `pad_token_id` to `eos_token_id`:2 for open-end generation.\n",
            "Setting `pad_token_id` to `eos_token_id`:2 for open-end generation.\n",
            "Setting `pad_token_id` to `eos_token_id`:2 for open-end generation.\n"
          ]
        },
        {
          "output_type": "stream",
          "name": "stdout",
          "text": [
            "\n",
            "Outputs for input 53:  [['SUBREDDIT: r/dating_advice\\nTITLE: Went on a date with a girl, felt like we hit it off. Now she tells me she\\'s seeing someone.\\nPOST: I met a girl at my old job and I felt like we connected right away. She went on vacation and I transferred to another office in town. When she came back from her vacation she added me on Facebook and started messaging me. We started talking back and forth for a bit to the point where I felt comfortable asking her out. \\n\\nShe said yes so we went out for a couple beers and ended up talking for almost 5 hours. I had an amazing time talking with this person, I felt like we really hit it off and picked up right where we left off at work. When we were done I payed the tab and drove her home. \\n\\nThe next day I texted her saying I had a great time and wanted to know if we could go out again the following weekend. I didn\\'t hear from her for almost a week (which is understandable, life happens) but when I did hear from her she said she, \"...had a great time too but I am already seeing someone.\"\\n\\nI\\'m a bit confused, but I suppose it\\'s my fault for assuming she was single in the first place.\\n\\nBasically, I would like some advice on how to respond. I do like this person, but I don\\'t want to create an awkward situation. *I\\'ve never really been in this situation before and would like to respond respectfully and move on.\\nTL;DR: Think girl wants to get together, go on a date, turns out she\\'s already seeing somebody but we still get along.'], ['SUBREDDIT: r/dating_advice\\nTITLE: Went on a date with a girl, felt like we hit it off. Now she tells me she\\'s seeing someone.\\nPOST: I met a girl at my old job and I felt like we connected right away. She went on vacation and I transferred to another office in town. When she came back from her vacation she added me on Facebook and started messaging me. We started talking back and forth for a bit to the point where I felt comfortable asking her out. \\n\\nShe said yes so we went out for a couple beers and ended up talking for almost 5 hours. I had an amazing time talking with this person, I felt like we really hit it off and picked up right where we left off at work. When we were done I payed the tab and drove her home. \\n\\nThe next day I texted her saying I had a great time and wanted to know if we could go out again the following weekend. I didn\\'t hear from her for almost a week (which is understandable, life happens) but when I did hear from her she said she, \"...had a great time too but I am already seeing someone.\"\\n\\nI\\'m a bit confused, but I suppose it\\'s my fault for assuming she was single in the first place.\\n\\nBasically, I would like some advice on how to respond. I do like this person, but I don\\'t want to create an awkward situation. *I\\'ve never really been in this situation before and would like to respond respectfully and move on.\\nTL;DR: Had a good date, then found out that girl is already dating someone else even though she knew I was interested. How should I approach this?'], ['SUBREDDIT: r/dating_advice\\nTITLE: Went on a date with a girl, felt like we hit it off. Now she tells me she\\'s seeing someone.\\nPOST: I met a girl at my old job and I felt like we connected right away. She went on vacation and I transferred to another office in town. When she came back from her vacation she added me on Facebook and started messaging me. We started talking back and forth for a bit to the point where I felt comfortable asking her out. \\n\\nShe said yes so we went out for a couple beers and ended up talking for almost 5 hours. I had an amazing time talking with this person, I felt like we really hit it off and picked up right where we left off at work. When we were done I payed the tab and drove her home. \\n\\nThe next day I texted her saying I had a great time and wanted to know if we could go out again the following weekend. I didn\\'t hear from her for almost a week (which is understandable, life happens) but when I did hear from her she said she, \"...had a great time too but I am already seeing someone.\"\\n\\nI\\'m a bit confused, but I suppose it\\'s my fault for assuming she was single in the first place.\\n\\nBasically, I would like some advice on how to respond. I do like this person, but I don\\'t want to create an awkward situation. *I\\'ve never really been in this situation before and would like to respond respectfully and move on.\\nTL;DR: Met girl on the job, went on one date, told me I was cool and that she\\'s \"seeing\" someone else despite not telling anyone of our relationship beforehand'], ['SUBREDDIT: r/dating_advice\\nTITLE: Went on a date with a girl, felt like we hit it off. Now she tells me she\\'s seeing someone.\\nPOST: I met a girl at my old job and I felt like we connected right away. She went on vacation and I transferred to another office in town. When she came back from her vacation she added me on Facebook and started messaging me. We started talking back and forth for a bit to the point where I felt comfortable asking her out. \\n\\nShe said yes so we went out for a couple beers and ended up talking for almost 5 hours. I had an amazing time talking with this person, I felt like we really hit it off and picked up right where we left off at work. When we were done I payed the tab and drove her home. \\n\\nThe next day I texted her saying I had a great time and wanted to know if we could go out again the following weekend. I didn\\'t hear from her for almost a week (which is understandable, life happens) but when I did hear from her she said she, \"...had a great time too but I am already seeing someone.\"\\n\\nI\\'m a bit confused, but I suppose it\\'s my fault for assuming she was single in the first place.\\n\\nBasically, I would like some advice on how to respond. I do like this person, but I don\\'t want to create an awkward situation. *I\\'ve never really been in this situation before and would like to respond respectfully and move on.\\nTL;DR: Hit it off great on a first date with a woman who turned out to be dating someone else. How should I respond? What are my possible moves going forward (if any)?']]\n"
          ]
        },
        {
          "output_type": "stream",
          "name": "stderr",
          "text": [
            "Setting `pad_token_id` to `eos_token_id`:2 for open-end generation.\n",
            "Setting `pad_token_id` to `eos_token_id`:2 for open-end generation.\n",
            "Setting `pad_token_id` to `eos_token_id`:2 for open-end generation.\n",
            "Setting `pad_token_id` to `eos_token_id`:2 for open-end generation.\n"
          ]
        },
        {
          "output_type": "stream",
          "name": "stdout",
          "text": [
            "\n",
            "Outputs for input 54:  [['SUBREDDIT: r/relationships\\nTITLE: I am covering for my friend\\'s affair and hate it\\nPOST: I (28/f) have been friends with...let\\'s call her Heidi (32/f)...for about a year. She is from Germany but has been married to an American man for about 5 years. She\\'s absolutely miserable in her marriage but relies on her husband financially and also to stay here in the US. He\\'s a strange guy but I like him and don\\'t want to see him hurt. Heidi recently met a man who she is smitten with and has started up an affair with him. She has been using me as a \"cover up\" and tells her husband she is out with me when she is really out with the new guy. Her husband doesn\\'t think twice because I\\'m a nice girl and he really trusts me. I can certainly see both sides of the story here since I\\'ve been in miserable relationships, though I prefer being honest with your partner. I know she can\\'t really leave her husband easily because of her circumstances, but I hate being the person to cover for her. She seems incredibly happy, almost like a different person. I feel that she will be found out and I will end up being a bad guy in all this. She doesn\\'t have a lot of other friends to cover for her either if she carries on with this. Does anyone have any advice for me?\\nTL;DR: I am involved in covering up a friend\\'s extramarital affair and she is blissfully unaware....I don\\'t feel good about myself at all'], ['SUBREDDIT: r/relationships\\nTITLE: I am covering for my friend\\'s affair and hate it\\nPOST: I (28/f) have been friends with...let\\'s call her Heidi (32/f)...for about a year. She is from Germany but has been married to an American man for about 5 years. She\\'s absolutely miserable in her marriage but relies on her husband financially and also to stay here in the US. He\\'s a strange guy but I like him and don\\'t want to see him hurt. Heidi recently met a man who she is smitten with and has started up an affair with him. She has been using me as a \"cover up\" and tells her husband she is out with me when she is really out with the new guy. Her husband doesn\\'t think twice because I\\'m a nice girl and he really trusts me. I can certainly see both sides of the story here since I\\'ve been in miserable relationships, though I prefer being honest with your partner. I know she can\\'t really leave her husband easily because of her circumstances, but I hate being the person to cover for her. She seems incredibly happy, almost like a different person. I feel that she will be found out and I will end up being a bad guy in all this. She doesn\\'t have a lot of other friends to cover for her either if she carries on with this. Does anyone have any advice for me?\\nTL;DR: My friend who is stuck in a relationship is carrying on an affair and wants me (a single gal) to help cover for them.'], ['SUBREDDIT: r/relationships\\nTITLE: I am covering for my friend\\'s affair and hate it\\nPOST: I (28/f) have been friends with...let\\'s call her Heidi (32/f)...for about a year. She is from Germany but has been married to an American man for about 5 years. She\\'s absolutely miserable in her marriage but relies on her husband financially and also to stay here in the US. He\\'s a strange guy but I like him and don\\'t want to see him hurt. Heidi recently met a man who she is smitten with and has started up an affair with him. She has been using me as a \"cover up\" and tells her husband she is out with me when she is really out with the new guy. Her husband doesn\\'t think twice because I\\'m a nice girl and he really trusts me. I can certainly see both sides of the story here since I\\'ve been in miserable relationships, though I prefer being honest with your partner. I know she can\\'t really leave her husband easily because of her circumstances, but I hate being the person to cover for her. She seems incredibly happy, almost like a different person. I feel that she will be found out and I will end up being a bad guy in all this. She doesn\\'t have a lot of other friends to cover for her either if she carries on with this. Does anyone have any advice for me?\\nTL;DR: Friend is having an affair and using me as a cover for her actions. Feel pretty uncomfortable by the whole situation but do not want to say anything'], ['SUBREDDIT: r/relationships\\nTITLE: I am covering for my friend\\'s affair and hate it\\nPOST: I (28/f) have been friends with...let\\'s call her Heidi (32/f)...for about a year. She is from Germany but has been married to an American man for about 5 years. She\\'s absolutely miserable in her marriage but relies on her husband financially and also to stay here in the US. He\\'s a strange guy but I like him and don\\'t want to see him hurt. Heidi recently met a man who she is smitten with and has started up an affair with him. She has been using me as a \"cover up\" and tells her husband she is out with me when she is really out with the new guy. Her husband doesn\\'t think twice because I\\'m a nice girl and he really trusts me. I can certainly see both sides of the story here since I\\'ve been in miserable relationships, though I prefer being honest with your partner. I know she can\\'t really leave her husband easily because of her circumstances, but I hate being the person to cover for her. She seems incredibly happy, almost like a different person. I feel that she will be found out and I will end up being a bad guy in all this. She doesn\\'t have a lot of other friends to cover for her either if she carries on with this. Does anyone have any advice for me?\\nTL;DR: My friend is having an affair and tells her husband she\\'s hanging out with me so she isn\\'t caught, yet it makes me really uncomfortable to play along']]\n"
          ]
        },
        {
          "output_type": "stream",
          "name": "stderr",
          "text": [
            "Setting `pad_token_id` to `eos_token_id`:2 for open-end generation.\n",
            "Setting `pad_token_id` to `eos_token_id`:2 for open-end generation.\n",
            "Setting `pad_token_id` to `eos_token_id`:2 for open-end generation.\n",
            "Setting `pad_token_id` to `eos_token_id`:2 for open-end generation.\n"
          ]
        },
        {
          "output_type": "stream",
          "name": "stdout",
          "text": [
            "\n",
            "Outputs for input 55:  [['SUBREDDIT: r/relationships\\nTITLE: Neighbor (12M) asked husband (33M) if he was gay during \"Take Your Son To Work Day\". Help me (30F) delicately approach this...\\nPOST: My husband and I (33M and 30F) have an awesome relationship with our downstairs neighbors. Two awesome boys in a single-mom household. Mom is great. My husband and I are sort\\'ve \"the cool neighbors\" that offer advice, help with homework, celebrate good grades with pizzas, etc. I pay our neighbor (12M) to take care of my dog before and after school. I travel quite a bit for work, and this arrangement helps us out quite a bit. In short - we have helped build a nice community.\\n\\nToday, my husband took our neighbor (I\\'ll call him J) as his \"son\" to \"Take Your Son to Work Day.\" While he introduced J to his group of work associates, J said something like, \"I\\'m no homo.\" The group laughed, but husband was a little taken aback. It kind\\'ve embarrassed him.\\n\\nLater in the afternoon, J asked my husband if he was gay. My husband told him no. My husband came home pretty irritated at J because he asked him this question. \\n\\nI think that J was just trying to be \"cool\" in front of a group of grown-ups, but I don\\'t know where the \"are you gay\"? question comes in. I feel comfortable talking to J about what happened today, but I was wondering how to bring it up. Husband is planning on taking J with him to a rugby tournament, and I don\\'t want this sort\\'ve \"cool putdown\" behavior to continue. I know that this would be better \"man talk\" between J and husband, but I think that J may feel less self-conscious if I talked to him.\\n\\nI am open to any advice - Thanks!\\nTL;DR: neighbor (12M) made comment about being a homosexual towards husband (33M) as they met with my husband\\'s co-workers on his \"take your son\" day at work. We\\'re confused about why he felt the need to make these comments....'], ['SUBREDDIT: r/relationships\\nTITLE: Neighbor (12M) asked husband (33M) if he was gay during \"Take Your Son To Work Day\". Help me (30F) delicately approach this...\\nPOST: My husband and I (33M and 30F) have an awesome relationship with our downstairs neighbors. Two awesome boys in a single-mom household. Mom is great. My husband and I are sort\\'ve \"the cool neighbors\" that offer advice, help with homework, celebrate good grades with pizzas, etc. I pay our neighbor (12M) to take care of my dog before and after school. I travel quite a bit for work, and this arrangement helps us out quite a bit. In short - we have helped build a nice community.\\n\\nToday, my husband took our neighbor (I\\'ll call him J) as his \"son\" to \"Take Your Son to Work Day.\" While he introduced J to his group of work associates, J said something like, \"I\\'m no homo.\" The group laughed, but husband was a little taken aback. It kind\\'ve embarrassed him.\\n\\nLater in the afternoon, J asked my husband if he was gay. My husband told him no. My husband came home pretty irritated at J because he asked him this question. \\n\\nI think that J was just trying to be \"cool\" in front of a group of grown-ups, but I don\\'t know where the \"are you gay\"? question comes in. I feel comfortable talking to J about what happened today, but I was wondering how to bring it up. Husband is planning on taking J with him to a rugby tournament, and I don\\'t want this sort\\'ve \"cool putdown\" behavior to continue. I know that this would be better \"man talk\" between J and husband, but I think that J may feel less self-conscious if I talked to him.\\n\\nI am open to any advice - Thanks!\\nTL;DR: neighbor called me and my husband \"homos\" and later asked my husband if *he* was gay. Please tell me how to address to this maturely with both our neighbor, and with my husband :)'], ['SUBREDDIT: r/relationships\\nTITLE: Neighbor (12M) asked husband (33M) if he was gay during \"Take Your Son To Work Day\". Help me (30F) delicately approach this...\\nPOST: My husband and I (33M and 30F) have an awesome relationship with our downstairs neighbors. Two awesome boys in a single-mom household. Mom is great. My husband and I are sort\\'ve \"the cool neighbors\" that offer advice, help with homework, celebrate good grades with pizzas, etc. I pay our neighbor (12M) to take care of my dog before and after school. I travel quite a bit for work, and this arrangement helps us out quite a bit. In short - we have helped build a nice community.\\n\\nToday, my husband took our neighbor (I\\'ll call him J) as his \"son\" to \"Take Your Son to Work Day.\" While he introduced J to his group of work associates, J said something like, \"I\\'m no homo.\" The group laughed, but husband was a little taken aback. It kind\\'ve embarrassed him.\\n\\nLater in the afternoon, J asked my husband if he was gay. My husband told him no. My husband came home pretty irritated at J because he asked him this question. \\n\\nI think that J was just trying to be \"cool\" in front of a group of grown-ups, but I don\\'t know where the \"are you gay\"? question comes in. I feel comfortable talking to J about what happened today, but I was wondering how to bring it up. Husband is planning on taking J with him to a rugby tournament, and I don\\'t want this sort\\'ve \"cool putdown\" behavior to continue. I know that this would be better \"man talk\" between J and husband, but I think that J may feel less self-conscious if I talked to him.\\n\\nI am open to any advice - Thanks!\\nTL;DR: Husband was embarrassed by son when he referred to someone being homosexual as a negative thing while introducing our kid next door at the office today. What can my husband say or do? Should wife get involved somehow?'], ['SUBREDDIT: r/relationships\\nTITLE: Neighbor (12M) asked husband (33M) if he was gay during \"Take Your Son To Work Day\". Help me (30F) delicately approach this...\\nPOST: My husband and I (33M and 30F) have an awesome relationship with our downstairs neighbors. Two awesome boys in a single-mom household. Mom is great. My husband and I are sort\\'ve \"the cool neighbors\" that offer advice, help with homework, celebrate good grades with pizzas, etc. I pay our neighbor (12M) to take care of my dog before and after school. I travel quite a bit for work, and this arrangement helps us out quite a bit. In short - we have helped build a nice community.\\n\\nToday, my husband took our neighbor (I\\'ll call him J) as his \"son\" to \"Take Your Son to Work Day.\" While he introduced J to his group of work associates, J said something like, \"I\\'m no homo.\" The group laughed, but husband was a little taken aback. It kind\\'ve embarrassed him.\\n\\nLater in the afternoon, J asked my husband if he was gay. My husband told him no. My husband came home pretty irritated at J because he asked him this question. \\n\\nI think that J was just trying to be \"cool\" in front of a group of grown-ups, but I don\\'t know where the \"are you gay\"? question comes in. I feel comfortable talking to J about what happened today, but I was wondering how to bring it up. Husband is planning on taking J with him to a rugby tournament, and I don\\'t want this sort\\'ve \"cool putdown\" behavior to continue. I know that this would be better \"man talk\" between J and husband, but I think that J may feel less self-conscious if I talked to him.\\n\\nI am open to any advice - Thanks!\\nTL;DR: Our neighbor asked my husband if he was gay at Take your son to work day. I don\\'t know where to start from here.']]\n"
          ]
        },
        {
          "output_type": "stream",
          "name": "stderr",
          "text": [
            "Setting `pad_token_id` to `eos_token_id`:2 for open-end generation.\n",
            "Setting `pad_token_id` to `eos_token_id`:2 for open-end generation.\n",
            "Setting `pad_token_id` to `eos_token_id`:2 for open-end generation.\n",
            "Setting `pad_token_id` to `eos_token_id`:2 for open-end generation.\n"
          ]
        },
        {
          "output_type": "stream",
          "name": "stdout",
          "text": [
            "\n",
            "Outputs for input 56:  [['SUBREDDIT: r/relationship_advice\\nTITLE: How do I explain my innocent situation that doesn\\'t look innocent\\nPOST: hello I have found myself in a bit of a pickle. A couple months ago I found myself talking to a girl who is a camwhore on a website. she tells me she\\'s never done it and wants to give me a free show. I respectfully decline cause I have a girlfriend but i continue talking to this camwhore cause I\\'m honestly curious what her life is like in that buisness. I am nothing but proffesional with her. one day I end up letting her text me. But since then all she does is text me asking me to come watch her. I\\'ve bitched her out for this a few times. two nights ago she texted me and started a normal convo then said \"so...you wanna have some fun? ;)\" and I said no thanks. then yesterday I find out that My girlfriend went through my texts and saw that last exchange and wants to talk to me when she gets off of work in 3 hours. I have no idea what to tell her cause I highly doubt she will buy this. what should I say???\\nTL;DR: My gf wants to know why a cam whore, who was going to send explicit photos, decided not too after she asked the same thing twice (even tho I didn\\'t respond).'], ['SUBREDDIT: r/relationship_advice\\nTITLE: How do I explain my innocent situation that doesn\\'t look innocent\\nPOST: hello I have found myself in a bit of a pickle. A couple months ago I found myself talking to a girl who is a camwhore on a website. she tells me she\\'s never done it and wants to give me a free show. I respectfully decline cause I have a girlfriend but i continue talking to this camwhore cause I\\'m honestly curious what her life is like in that buisness. I am nothing but proffesional with her. one day I end up letting her text me. But since then all she does is text me asking me to come watch her. I\\'ve bitched her out for this a few times. two nights ago she texted me and started a normal convo then said \"so...you wanna have some fun? ;)\" and I said no thanks. then yesterday I find out that My girlfriend went through my texts and saw that last exchange and wants to talk to me when she gets off of work in 3 hours. I have no idea what to tell her cause I highly doubt she will buy this. what should I say???\\nTL;DR: I got into a convo with a paid webcam girl. didn\\'t go throuogh whith it, didnt think about the messages going on to an ex gf.. idk how ti deal'], ['SUBREDDIT: r/relationship_advice\\nTITLE: How do I explain my innocent situation that doesn\\'t look innocent\\nPOST: hello I have found myself in a bit of a pickle. A couple months ago I found myself talking to a girl who is a camwhore on a website. she tells me she\\'s never done it and wants to give me a free show. I respectfully decline cause I have a girlfriend but i continue talking to this camwhore cause I\\'m honestly curious what her life is like in that buisness. I am nothing but proffesional with her. one day I end up letting her text me. But since then all she does is text me asking me to come watch her. I\\'ve bitched her out for this a few times. two nights ago she texted me and started a normal convo then said \"so...you wanna have some fun? ;)\" and I said no thanks. then yesterday I find out that My girlfriend went through my texts and saw that last exchange and wants to talk to me when she gets off of work in 3 hours. I have no idea what to tell her cause I highly doubt she will buy this. what should I say???\\nTL;DR: Talked to giffo while with bf overtime, got caught, idk how to fix.'], ['SUBREDDIT: r/relationship_advice\\nTITLE: How do I explain my innocent situation that doesn\\'t look innocent\\nPOST: hello I have found myself in a bit of a pickle. A couple months ago I found myself talking to a girl who is a camwhore on a website. she tells me she\\'s never done it and wants to give me a free show. I respectfully decline cause I have a girlfriend but i continue talking to this camwhore cause I\\'m honestly curious what her life is like in that buisness. I am nothing but proffesional with her. one day I end up letting her text me. But since then all she does is text me asking me to come watch her. I\\'ve bitched her out for this a few times. two nights ago she texted me and started a normal convo then said \"so...you wanna have some fun? ;)\" and I said no thanks. then yesterday I find out that My girlfriend went through my texts and saw that last exchange and wants to talk to me when she gets off of work in 3 hours. I have no idea what to tell her cause I highly doubt she will buy this. what should I say???\\nTL;DR: GF went thru my phone, found an innocent convo w a camwhore where they were being flirtatious. Have zero idea how to defend myself']]\n"
          ]
        },
        {
          "output_type": "stream",
          "name": "stderr",
          "text": [
            "Setting `pad_token_id` to `eos_token_id`:2 for open-end generation.\n",
            "Setting `pad_token_id` to `eos_token_id`:2 for open-end generation.\n",
            "Setting `pad_token_id` to `eos_token_id`:2 for open-end generation.\n",
            "Setting `pad_token_id` to `eos_token_id`:2 for open-end generation.\n"
          ]
        },
        {
          "output_type": "stream",
          "name": "stdout",
          "text": [
            "\n",
            "Outputs for input 57:  [[\"SUBREDDIT: r/dating_advice\\nTITLE: I was looking through my phone contacts when I rediscovered a girl's phone number whom I started to hit it off with. What should I do? (More info inside)\\nPOST: Okay so I was looking through my phone contacts when I came across this girl's phone number (let's call her Abby for the sake of logic) and I haven't talked to her in a few years. We go to the same school and I haven't really talked to her since 7th grade (both of us are now juniors in high school) and she also gave me her number in 7th grade. Fast forward to today when I'm at the dentists office, I finally see Abby and we started to hit it off a bit. I left with a warm feeling inside me because she told me how cool and nice I am (I don't get completed by girls a lot, especially popular ones {forgot to add, Abby is popular and I'm not}) and we tended to like each other. I had to leave and like a doofus I forgot to ask for her number and then while looking through my contacts I found Abby's number. Now I don't know what to do, should I text her and explain my case, should I wait until I see her again when her friends aren't around (I don't want to go up to a popular girl and make an ass of myself in front of her friends), what should I do?\\nTL;DR: went through phone contacts, found old phone number from past contact that was the source of recent flirting, forgot to exchange numbers, now trying to determine how to handle the situation\"], [\"SUBREDDIT: r/dating_advice\\nTITLE: I was looking through my phone contacts when I rediscovered a girl's phone number whom I started to hit it off with. What should I do? (More info inside)\\nPOST: Okay so I was looking through my phone contacts when I came across this girl's phone number (let's call her Abby for the sake of logic) and I haven't talked to her in a few years. We go to the same school and I haven't really talked to her since 7th grade (both of us are now juniors in high school) and she also gave me her number in 7th grade. Fast forward to today when I'm at the dentists office, I finally see Abby and we started to hit it off a bit. I left with a warm feeling inside me because she told me how cool and nice I am (I don't get completed by girls a lot, especially popular ones {forgot to add, Abby is popular and I'm not}) and we tended to like each other. I had to leave and like a doofus I forgot to ask for her number and then while looking through my contacts I found Abby's number. Now I don't know what to do, should I text her and explain my case, should I wait until I see her again when her friends aren't around (I don't want to go up to a popular girl and make an ass of myself in front of her friends), what should I do?\\nTL;DR: Met new girl from old contacts and both like each other, need help on which course of action to choose to let things move smoothly.\"], [\"SUBREDDIT: r/dating_advice\\nTITLE: I was looking through my phone contacts when I rediscovered a girl's phone number whom I started to hit it off with. What should I do? (More info inside)\\nPOST: Okay so I was looking through my phone contacts when I came across this girl's phone number (let's call her Abby for the sake of logic) and I haven't talked to her in a few years. We go to the same school and I haven't really talked to her since 7th grade (both of us are now juniors in high school) and she also gave me her number in 7th grade. Fast forward to today when I'm at the dentists office, I finally see Abby and we started to hit it off a bit. I left with a warm feeling inside me because she told me how cool and nice I am (I don't get completed by girls a lot, especially popular ones {forgot to add, Abby is popular and I'm not}) and we tended to like each other. I had to leave and like a doofus I forgot to ask for her number and then while looking through my contacts I found Abby's number. Now I don't know what to do, should I text her and explain my case, should I wait until I see her again when her friends aren't around (I don't want to go up to a popular girl and make an ass of myself in front of her friends), what should I do?\\nTL;DR: I have a girl's number who just recently showed interest in dating if I asked and I want to text her but there could be miscommunication when saying something\"], [\"SUBREDDIT: r/dating_advice\\nTITLE: I was looking through my phone contacts when I rediscovered a girl's phone number whom I started to hit it off with. What should I do? (More info inside)\\nPOST: Okay so I was looking through my phone contacts when I came across this girl's phone number (let's call her Abby for the sake of logic) and I haven't talked to her in a few years. We go to the same school and I haven't really talked to her since 7th grade (both of us are now juniors in high school) and she also gave me her number in 7th grade. Fast forward to today when I'm at the dentists office, I finally see Abby and we started to hit it off a bit. I left with a warm feeling inside me because she told me how cool and nice I am (I don't get completed by girls a lot, especially popular ones {forgot to add, Abby is popular and I'm not}) and we tended to like each other. I had to leave and like a doofus I forgot to ask for her number and then while looking through my contacts I found Abby's number. Now I don't know what to do, should I text her and explain my case, should I wait until I see her again when her friends aren't around (I don't want to go up to a popular girl and make an ass of myself in front of her friends), what should I do?\\nTL;DR: Re-found a long misplaced phone number from an old crush and unsure on weather or not to pursue the situation\"]]\n"
          ]
        },
        {
          "output_type": "stream",
          "name": "stderr",
          "text": [
            "Setting `pad_token_id` to `eos_token_id`:2 for open-end generation.\n",
            "Setting `pad_token_id` to `eos_token_id`:2 for open-end generation.\n",
            "Setting `pad_token_id` to `eos_token_id`:2 for open-end generation.\n",
            "Setting `pad_token_id` to `eos_token_id`:2 for open-end generation.\n"
          ]
        },
        {
          "output_type": "stream",
          "name": "stdout",
          "text": [
            "\n",
            "Outputs for input 58:  [['SUBREDDIT: r/tifu\\nTITLE: TIFU by not taking my glasses to my friends wedding.\\nPOST: So this happened yesterday. A friend of mine got married. I was supposed to be a groomsman in the wedding. \\n\\nOne of the bridesmaids got sick and couldn\\'t be in the wedding. The photographer didn\\'t show up either.\\n\\nPerfect, Jon can take pictures.\\n\\nPerfect! I didn\\'t want to be in the wedding anyway.\\n\\nI hadn\\'t worn my glasses at all that day. Things get fairly blurry when I\\'m not wearing my glasses but I\\'m pretty use to it.\\n\\nI didn\\'t even think about it. I took all the pictures during the wedding and a bunch during the  reception.\\n\\nAll of them were blurry as shit.\\n\\nMy friend and his wife weren\\'t really upset. My friend said \"Jon, you can\\'t tell who the groom is and who the bride is\",laughs.\\nTL;DR: Didn\\'t wear my glasses to a friends wedding and ended up taking all the bad photos of everyone getting slapping drunk and dancing their asses off.'], ['SUBREDDIT: r/tifu\\nTITLE: TIFU by not taking my glasses to my friends wedding.\\nPOST: So this happened yesterday. A friend of mine got married. I was supposed to be a groomsman in the wedding. \\n\\nOne of the bridesmaids got sick and couldn\\'t be in the wedding. The photographer didn\\'t show up either.\\n\\nPerfect, Jon can take pictures.\\n\\nPerfect! I didn\\'t want to be in the wedding anyway.\\n\\nI hadn\\'t worn my glasses at all that day. Things get fairly blurry when I\\'m not wearing my glasses but I\\'m pretty use to it.\\n\\nI didn\\'t even think about it. I took all the pictures during the wedding and a bunch during the  reception.\\n\\nAll of them were blurry as shit.\\n\\nMy friend and his wife weren\\'t really upset. My friend said \"Jon, you can\\'t tell who the groom is and who the bride is\",laughs.\\nTL;DR: The only good part of being best man was doing what someone else should have been doing. Unfortunately, it turns out that I suck at being other people'], ['SUBREDDIT: r/tifu\\nTITLE: TIFU by not taking my glasses to my friends wedding.\\nPOST: So this happened yesterday. A friend of mine got married. I was supposed to be a groomsman in the wedding. \\n\\nOne of the bridesmaids got sick and couldn\\'t be in the wedding. The photographer didn\\'t show up either.\\n\\nPerfect, Jon can take pictures.\\n\\nPerfect! I didn\\'t want to be in the wedding anyway.\\n\\nI hadn\\'t worn my glasses at all that day. Things get fairly blurry when I\\'m not wearing my glasses but I\\'m pretty use to it.\\n\\nI didn\\'t even think about it. I took all the pictures during the wedding and a bunch during the  reception.\\n\\nAll of them were blurry as shit.\\n\\nMy friend and his wife weren\\'t really upset. My friend said \"Jon, you can\\'t tell who the groom is and who the bride is\",laughs.\\nTL;DR: Was in good shape and felt confident before the wedding, turns out to be otherwise. Everyone saw redneck.'], ['SUBREDDIT: r/tifu\\nTITLE: TIFU by not taking my glasses to my friends wedding.\\nPOST: So this happened yesterday. A friend of mine got married. I was supposed to be a groomsman in the wedding. \\n\\nOne of the bridesmaids got sick and couldn\\'t be in the wedding. The photographer didn\\'t show up either.\\n\\nPerfect, Jon can take pictures.\\n\\nPerfect! I didn\\'t want to be in the wedding anyway.\\n\\nI hadn\\'t worn my glasses at all that day. Things get fairly blurry when I\\'m not wearing my glasses but I\\'m pretty use to it.\\n\\nI didn\\'t even think about it. I took all the pictures during the wedding and a bunch during the  reception.\\n\\nAll of them were blurry as shit.\\n\\nMy friend and his wife weren\\'t really upset. My friend said \"Jon, you can\\'t tell who the groom is and who the bride is\",laughs.\\nTL;DR: I forgot to put on my glasses while trying to be a wedding photographer and none of the photos turned out. I am now looking forward to getting the professional photos back. Which will probably be great because they had two backup photographers, one for every single other camera angle.']]\n"
          ]
        },
        {
          "output_type": "stream",
          "name": "stderr",
          "text": [
            "Setting `pad_token_id` to `eos_token_id`:2 for open-end generation.\n",
            "Setting `pad_token_id` to `eos_token_id`:2 for open-end generation.\n",
            "Setting `pad_token_id` to `eos_token_id`:2 for open-end generation.\n",
            "Setting `pad_token_id` to `eos_token_id`:2 for open-end generation.\n"
          ]
        },
        {
          "output_type": "stream",
          "name": "stdout",
          "text": [
            "\n",
            "Outputs for input 59:  [[\"SUBREDDIT: r/tifu\\nTITLE: TIFU by owing money.\\nPOST: Okay, so this wasn't today, this was yesterday, so I had lost my eftpos card right on the day owed my dad twelve bucks, as you can imagine I was actively avoiding paying my dues, so I gave the car a half hearted look and didn't find it, so I went back inside to play some video games, unfortunately my dad had a better look through the car and found it, so he dragged me along to the cash machine, which wouldn't you know it wasn't working, so we went to the bank proper, which was closed, (at this point you may be asking why I didn't just use the card and the reason was that my dad had blcoked off my savings account when he set it up for me years ago and since I'm 18 in a week, it's just out of my reach) so we went to my mother's house to get some more money and we found just enough for my Dad to get his ciggerttes, headed to the dairy and bought then, and on the way out my dad crashed into someone else's brand new car.\\nTL;DR: My dad stole my eftpos card from me after stealing my savings money with the excuse that I don't need them anyway, then smashed our car driving away to buy himself some cigarettes.\"], [\"SUBREDDIT: r/tifu\\nTITLE: TIFU by owing money.\\nPOST: Okay, so this wasn't today, this was yesterday, so I had lost my eftpos card right on the day owed my dad twelve bucks, as you can imagine I was actively avoiding paying my dues, so I gave the car a half hearted look and didn't find it, so I went back inside to play some video games, unfortunately my dad had a better look through the car and found it, so he dragged me along to the cash machine, which wouldn't you know it wasn't working, so we went to the bank proper, which was closed, (at this point you may be asking why I didn't just use the card and the reason was that my dad had blcoked off my savings account when he set it up for me years ago and since I'm 18 in a week, it's just out of my reach) so we went to my mother's house to get some more money and we found just enough for my Dad to get his ciggerttes, headed to the dairy and bought then, and on the way out my dad crashed into someone else's brand new car.\\nTL;DR: Dropped my card at home while trying to avoid giving Dad his money only to go around the whole town while having absolutely no cash with us until he could finally buy cigarettes whilst crashing into someone else,\"], [\"SUBREDDIT: r/tifu\\nTITLE: TIFU by owing money.\\nPOST: Okay, so this wasn't today, this was yesterday, so I had lost my eftpos card right on the day owed my dad twelve bucks, as you can imagine I was actively avoiding paying my dues, so I gave the car a half hearted look and didn't find it, so I went back inside to play some video games, unfortunately my dad had a better look through the car and found it, so he dragged me along to the cash machine, which wouldn't you know it wasn't working, so we went to the bank proper, which was closed, (at this point you may be asking why I didn't just use the card and the reason was that my dad had blcoked off my savings account when he set it up for me years ago and since I'm 18 in a week, it's just out of my reach) so we went to my mother's house to get some more money and we found just enough for my Dad to get his ciggerttes, headed to the dairy and bought then, and on the way out my dad crashed into someone else's brand new car.\\nTL;DR: couldn't pay back twelve dollars to my dad, made him drive miles into town looking for cash machines and nearly killing another man in the process.......\"], [\"SUBREDDIT: r/tifu\\nTITLE: TIFU by owing money.\\nPOST: Okay, so this wasn't today, this was yesterday, so I had lost my eftpos card right on the day owed my dad twelve bucks, as you can imagine I was actively avoiding paying my dues, so I gave the car a half hearted look and didn't find it, so I went back inside to play some video games, unfortunately my dad had a better look through the car and found it, so he dragged me along to the cash machine, which wouldn't you know it wasn't working, so we went to the bank proper, which was closed, (at this point you may be asking why I didn't just use the card and the reason was that my dad had blcoked off my savings account when he set it up for me years ago and since I'm 18 in a week, it's just out of my reach) so we went to my mother's house to get some more money and we found just enough for my Dad to get his ciggerttes, headed to the dairy and bought then, and on the way out my dad crashed into someone else's brand new car.\\nTL;DR: Got a smashed car all because my father tried to steal ciggaretes, even though he knew there would likely be no money there, at least according to him.\"]]\n"
          ]
        },
        {
          "output_type": "stream",
          "name": "stderr",
          "text": [
            "Setting `pad_token_id` to `eos_token_id`:2 for open-end generation.\n",
            "Setting `pad_token_id` to `eos_token_id`:2 for open-end generation.\n",
            "Setting `pad_token_id` to `eos_token_id`:2 for open-end generation.\n",
            "Setting `pad_token_id` to `eos_token_id`:2 for open-end generation.\n"
          ]
        },
        {
          "output_type": "stream",
          "name": "stdout",
          "text": [
            "\n",
            "Outputs for input 60:  [['SUBREDDIT: r/relationship_advice\\nTITLE: I [20s/f] ended a friendship. Now I\\'m going to have to be around my ex-friend [20s/m] and I don\\'t know how to handle it.\\nPOST: We were friends for a long time, and the friendship wasn\\'t working for a lot of reasons. We were both at fault. I haven\\'t seen him in quite a while, and now for reasons out of our control we\\'re going to end up spending a fair amount of time together, probably for the foreseeable future. \\n\\nI\\'m worried that being polite and friendly might lead to us trying to be friends again, which I don\\'t think would be a good idea for either of us. On the other hand, being obviously not friendly would cause a lot of drama (others would notice and ask questions, in addition to the general drama of being not-friendly to someone), and I don\\'t think either of us wants that. \\n\\nOur friendship was really rocky and caused me a lot of emotional pain, and I\\'ve been very happy without that to worry about. Now I see myself being sucked back into that (for example, I\\'d like to not be posting this right now) and I don\\'t want that to happen. \\n\\nI\\'d like to strike a balance between \"I want to be your friend again\" and \"I hate you\" and I suspect that that is going to be very difficult, especially since my feelings are still very mixed and he has been unwilling to communicate his feelings on the subject. Any suggestions, or am I just screwed?\\nTL;DR: How do I make an asshole feel like an asshole during the required-awkwardness-but-not-necessarily-hostile social interactions that will be forced upon us?'], ['SUBREDDIT: r/relationship_advice\\nTITLE: I [20s/f] ended a friendship. Now I\\'m going to have to be around my ex-friend [20s/m] and I don\\'t know how to handle it.\\nPOST: We were friends for a long time, and the friendship wasn\\'t working for a lot of reasons. We were both at fault. I haven\\'t seen him in quite a while, and now for reasons out of our control we\\'re going to end up spending a fair amount of time together, probably for the foreseeable future. \\n\\nI\\'m worried that being polite and friendly might lead to us trying to be friends again, which I don\\'t think would be a good idea for either of us. On the other hand, being obviously not friendly would cause a lot of drama (others would notice and ask questions, in addition to the general drama of being not-friendly to someone), and I don\\'t think either of us wants that. \\n\\nOur friendship was really rocky and caused me a lot of emotional pain, and I\\'ve been very happy without that to worry about. Now I see myself being sucked back into that (for example, I\\'d like to not be posting this right now) and I don\\'t want that to happen. \\n\\nI\\'d like to strike a balance between \"I want to be your friend again\" and \"I hate you\" and I suspect that that is going to be very difficult, especially since my feelings are still very mixed and he has been unwilling to communicate his feelings on the subject. Any suggestions, or am I just screwed?\\nTL;DR: Need to maintain distance from an awkward situation with no contact on one side, despite shared social circles and possibly required close interactions.'], ['SUBREDDIT: r/relationship_advice\\nTITLE: I [20s/f] ended a friendship. Now I\\'m going to have to be around my ex-friend [20s/m] and I don\\'t know how to handle it.\\nPOST: We were friends for a long time, and the friendship wasn\\'t working for a lot of reasons. We were both at fault. I haven\\'t seen him in quite a while, and now for reasons out of our control we\\'re going to end up spending a fair amount of time together, probably for the foreseeable future. \\n\\nI\\'m worried that being polite and friendly might lead to us trying to be friends again, which I don\\'t think would be a good idea for either of us. On the other hand, being obviously not friendly would cause a lot of drama (others would notice and ask questions, in addition to the general drama of being not-friendly to someone), and I don\\'t think either of us wants that. \\n\\nOur friendship was really rocky and caused me a lot of emotional pain, and I\\'ve been very happy without that to worry about. Now I see myself being sucked back into that (for example, I\\'d like to not be posting this right now) and I don\\'t want that to happen. \\n\\nI\\'d like to strike a balance between \"I want to be your friend again\" and \"I hate you\" and I suspect that that is going to be very difficult, especially since my feelings are still very mixed and he has been unwilling to communicate his feelings on the subject. Any suggestions, or am I just screwed?\\nTL;DR: Being around an emotionally abusive person whose friendship isn\\'t helping anybody. Would rather kill ourselves than talk to each other. What can we do?'], ['SUBREDDIT: r/relationship_advice\\nTITLE: I [20s/f] ended a friendship. Now I\\'m going to have to be around my ex-friend [20s/m] and I don\\'t know how to handle it.\\nPOST: We were friends for a long time, and the friendship wasn\\'t working for a lot of reasons. We were both at fault. I haven\\'t seen him in quite a while, and now for reasons out of our control we\\'re going to end up spending a fair amount of time together, probably for the foreseeable future. \\n\\nI\\'m worried that being polite and friendly might lead to us trying to be friends again, which I don\\'t think would be a good idea for either of us. On the other hand, being obviously not friendly would cause a lot of drama (others would notice and ask questions, in addition to the general drama of being not-friendly to someone), and I don\\'t think either of us wants that. \\n\\nOur friendship was really rocky and caused me a lot of emotional pain, and I\\'ve been very happy without that to worry about. Now I see myself being sucked back into that (for example, I\\'d like to not be posting this right now) and I don\\'t want that to happen. \\n\\nI\\'d like to strike a balance between \"I want to be your friend again\" and \"I hate you\" and I suspect that that is going to be very difficult, especially since my feelings are still very mixed and he has been unwilling to communicate his feelings on the subject. Any suggestions, or am I just screwed?\\nTL;DR: Ended a bad friendship now feel stuck with the person with no way to express how much better things will be for everyone if one of us dies and the other moves far away. How do I deal with this???']]\n"
          ]
        },
        {
          "output_type": "stream",
          "name": "stderr",
          "text": [
            "Setting `pad_token_id` to `eos_token_id`:2 for open-end generation.\n",
            "Setting `pad_token_id` to `eos_token_id`:2 for open-end generation.\n",
            "Setting `pad_token_id` to `eos_token_id`:2 for open-end generation.\n",
            "Setting `pad_token_id` to `eos_token_id`:2 for open-end generation.\n"
          ]
        },
        {
          "output_type": "stream",
          "name": "stdout",
          "text": [
            "\n",
            "Outputs for input 61:  [[\"SUBREDDIT: r/AskReddit\\nTITLE: Have a job offer, but not sure if I should take it... Suggestions....?\\nPOST: So, I've been unemployed for 3 months now.  I realize that this isn't that long, considering how long others have been out of work, but it's still a long time for me.\\n\\nI quit my job 3 months ago, and because of it, I was denied unemployment.  I left voluntarily because I was told by the president of the wee little start-up that the company was folding.  I had a pending job offer for another company in another state, so I figured I was safe.\\n\\nThe job offer fell through, and what little savings we had left was used to get me back home to my family.\\n\\nTime passed, and nothing has happened.  I'm submitting my resume everywhere, and even talking to temp agencies to get me working any job at all, even if it's a 50% paycut from what I was previously making.\\n\\nAbout 2 weeks ago, I submitted an application for an ad before realizing that it was also out of state.  The ad was pretty much tailor made for my skillset, which was why I got all excited and didn't look at the location until after my resume was sent.\\n\\nWell, today I got an offer for the job.  It'll be a slight paycut, but good money and possible growth potential.\\n\\nHere's where I'm waffling.\\n\\nOne of the things I've also been working on is finding a new place to live.  The house we're renting now is utterly fabulous, but completely out of our budget range with me having absolutely no income whatsoever.  If I take this job, it's going to be out of state - with the pay, we MIGHT be able to make it, but my family will still have to find a cheaper place here in Oregon.  I have no money to get out there, the employer is not paying relocation.\\n\\nI want this job - I need A job, and I don't want to turn a perfectly good offer down, considering it's the closest I've come and - as we all know - jobs are scarce and hard to find.\\n\\nBut....  I'm really not sure how I'll pull it off...\\nTL;DR: Received job offer from out of state (relationships aren't important enough to discuss). But also have trouble getting us financially relocated due to extremely tight money situation.\"], [\"SUBREDDIT: r/AskReddit\\nTITLE: Have a job offer, but not sure if I should take it... Suggestions....?\\nPOST: So, I've been unemployed for 3 months now.  I realize that this isn't that long, considering how long others have been out of work, but it's still a long time for me.\\n\\nI quit my job 3 months ago, and because of it, I was denied unemployment.  I left voluntarily because I was told by the president of the wee little start-up that the company was folding.  I had a pending job offer for another company in another state, so I figured I was safe.\\n\\nThe job offer fell through, and what little savings we had left was used to get me back home to my family.\\n\\nTime passed, and nothing has happened.  I'm submitting my resume everywhere, and even talking to temp agencies to get me working any job at all, even if it's a 50% paycut from what I was previously making.\\n\\nAbout 2 weeks ago, I submitted an application for an ad before realizing that it was also out of state.  The ad was pretty much tailor made for my skillset, which was why I got all excited and didn't look at the location until after my resume was sent.\\n\\nWell, today I got an offer for the job.  It'll be a slight paycut, but good money and possible growth potential.\\n\\nHere's where I'm waffling.\\n\\nOne of the things I've also been working on is finding a new place to live.  The house we're renting now is utterly fabulous, but completely out of our budget range with me having absolutely no income whatsoever.  If I take this job, it's going to be out of state - with the pay, we MIGHT be able to make it, but my family will still have to find a cheaper place here in Oregon.  I have no money to get out there, the employer is not paying relocation.\\n\\nI want this job - I need A job, and I don't want to turn a perfectly good offer down, considering it's the closest I've come and - as we all know - jobs are scarce and hard to find.\\n\\nBut....  I'm really not sure how I'll pull it off...\\nTL;DR: No luck getting a job yet (though there's something, just out of state) - I may soon become homeless, should I jump at the chance or hold our until something better comes along.....??\"], [\"SUBREDDIT: r/AskReddit\\nTITLE: Have a job offer, but not sure if I should take it... Suggestions....?\\nPOST: So, I've been unemployed for 3 months now.  I realize that this isn't that long, considering how long others have been out of work, but it's still a long time for me.\\n\\nI quit my job 3 months ago, and because of it, I was denied unemployment.  I left voluntarily because I was told by the president of the wee little start-up that the company was folding.  I had a pending job offer for another company in another state, so I figured I was safe.\\n\\nThe job offer fell through, and what little savings we had left was used to get me back home to my family.\\n\\nTime passed, and nothing has happened.  I'm submitting my resume everywhere, and even talking to temp agencies to get me working any job at all, even if it's a 50% paycut from what I was previously making.\\n\\nAbout 2 weeks ago, I submitted an application for an ad before realizing that it was also out of state.  The ad was pretty much tailor made for my skillset, which was why I got all excited and didn't look at the location until after my resume was sent.\\n\\nWell, today I got an offer for the job.  It'll be a slight paycut, but good money and possible growth potential.\\n\\nHere's where I'm waffling.\\n\\nOne of the things I've also been working on is finding a new place to live.  The house we're renting now is utterly fabulous, but completely out of our budget range with me having absolutely no income whatsoever.  If I take this job, it's going to be out of state - with the pay, we MIGHT be able to make it, but my family will still have to find a cheaper place here in Oregon.  I have no money to get out there, the employer is not paying relocation.\\n\\nI want this job - I need A job, and I don't want to turn a perfectly good offer down, considering it's the closest I've come and - as we all know - jobs are scarce and hard to find.\\n\\nBut....  I'm really not sure how I'll pull it off...\\nTL;DR: Just got a job offer, but can't afford to move - help me do some calculations so I can give an informed response and save myself more embarrassment that's already happened!!\"], [\"SUBREDDIT: r/AskReddit\\nTITLE: Have a job offer, but not sure if I should take it... Suggestions....?\\nPOST: So, I've been unemployed for 3 months now.  I realize that this isn't that long, considering how long others have been out of work, but it's still a long time for me.\\n\\nI quit my job 3 months ago, and because of it, I was denied unemployment.  I left voluntarily because I was told by the president of the wee little start-up that the company was folding.  I had a pending job offer for another company in another state, so I figured I was safe.\\n\\nThe job offer fell through, and what little savings we had left was used to get me back home to my family.\\n\\nTime passed, and nothing has happened.  I'm submitting my resume everywhere, and even talking to temp agencies to get me working any job at all, even if it's a 50% paycut from what I was previously making.\\n\\nAbout 2 weeks ago, I submitted an application for an ad before realizing that it was also out of state.  The ad was pretty much tailor made for my skillset, which was why I got all excited and didn't look at the location until after my resume was sent.\\n\\nWell, today I got an offer for the job.  It'll be a slight paycut, but good money and possible growth potential.\\n\\nHere's where I'm waffling.\\n\\nOne of the things I've also been working on is finding a new place to live.  The house we're renting now is utterly fabulous, but completely out of our budget range with me having absolutely no income whatsoever.  If I take this job, it's going to be out of state - with the pay, we MIGHT be able to make it, but my family will still have to find a cheaper place here in Oregon.  I have no money to get out there, the employer is not paying relocation.\\n\\nI want this job - I need A job, and I don't want to turn a perfectly good offer down, considering it's the closest I've come and - as we all know - jobs are scarce and hard to find.\\n\\nBut....  I'm really not sure how I'll pull it off...\\nTL;DR: My family needs moving in order to survive, while also moving out of state means losing their current home (a place they both love).\"]]\n"
          ]
        },
        {
          "output_type": "stream",
          "name": "stderr",
          "text": [
            "Setting `pad_token_id` to `eos_token_id`:2 for open-end generation.\n",
            "Setting `pad_token_id` to `eos_token_id`:2 for open-end generation.\n",
            "Setting `pad_token_id` to `eos_token_id`:2 for open-end generation.\n",
            "Setting `pad_token_id` to `eos_token_id`:2 for open-end generation.\n"
          ]
        },
        {
          "output_type": "stream",
          "name": "stdout",
          "text": [
            "\n",
            "Outputs for input 62:  [[\"SUBREDDIT: r/relationships\\nTITLE: My [33 M] fiancee's [31 F] depression and weight gain are straining our relationship\\nPOST: My fiancee has struggled in the past with episodes of depression accompanied by weight gain but has always managed to pull through, never really losing the weight but never gaining more than 2 to 5kg and always being focused on fitness and healthy living. \\n\\nI proposed to her a little over a year ago and in the period between our engagement and now, she has had extended periods of depression and gained I would estimate more than 25kg. That is to say that in the 4 years we've been together, she has gone from athletic to heavily built to what would now be clinical obesity. We are supposed to be married in less than 6 months. \\n\\nHow do I communicate that her weight gain and extended depressive episodes are affecting everything from my attraction to her to my confidence in her ability to be a reliable mother and life partner? If she can't control her weight now with no stresses in life, what will happen when we have children?\\nTL;DR: Girlfriend suffering depressed bouts for 6+ moths and putting on at least 50 lbs - not getting better as we approach wedding. Is it time to end our relationship or give up?\"], [\"SUBREDDIT: r/relationships\\nTITLE: My [33 M] fiancee's [31 F] depression and weight gain are straining our relationship\\nPOST: My fiancee has struggled in the past with episodes of depression accompanied by weight gain but has always managed to pull through, never really losing the weight but never gaining more than 2 to 5kg and always being focused on fitness and healthy living. \\n\\nI proposed to her a little over a year ago and in the period between our engagement and now, she has had extended periods of depression and gained I would estimate more than 25kg. That is to say that in the 4 years we've been together, she has gone from athletic to heavily built to what would now be clinical obesity. We are supposed to be married in less than 6 months. \\n\\nHow do I communicate that her weight gain and extended depressive episodes are affecting everything from my attraction to her to my confidence in her ability to be a reliable mother and life partner? If she can't control her weight now with no stresses in life, what will happen when we have children?\\nTL;DR: My soon-to-be wife has suddenly started suffering from extreme depression resulting in significant weight gain which seems likely to continue even after pregnancy\"], [\"SUBREDDIT: r/relationships\\nTITLE: My [33 M] fiancee's [31 F] depression and weight gain are straining our relationship\\nPOST: My fiancee has struggled in the past with episodes of depression accompanied by weight gain but has always managed to pull through, never really losing the weight but never gaining more than 2 to 5kg and always being focused on fitness and healthy living. \\n\\nI proposed to her a little over a year ago and in the period between our engagement and now, she has had extended periods of depression and gained I would estimate more than 25kg. That is to say that in the 4 years we've been together, she has gone from athletic to heavily built to what would now be clinical obesity. We are supposed to be married in less than 6 months. \\n\\nHow do I communicate that her weight gain and extended depressive episodes are affecting everything from my attraction to her to my confidence in her ability to be a reliable mother and life partner? If she can't control her weight now with no stresses in life, what will happen when we have children?\\nTL;DR: Engaged for almost a year. Fiancee suffered through depression and gained significant amount of weight since getting engaged. Looking for advice about how to support her as well as expressing concern at changes\"], [\"SUBREDDIT: r/relationships\\nTITLE: My [33 M] fiancee's [31 F] depression and weight gain are straining our relationship\\nPOST: My fiancee has struggled in the past with episodes of depression accompanied by weight gain but has always managed to pull through, never really losing the weight but never gaining more than 2 to 5kg and always being focused on fitness and healthy living. \\n\\nI proposed to her a little over a year ago and in the period between our engagement and now, she has had extended periods of depression and gained I would estimate more than 25kg. That is to say that in the 4 years we've been together, she has gone from athletic to heavily built to what would now be clinical obesity. We are supposed to be married in less than 6 months. \\n\\nHow do I communicate that her weight gain and extended depressive episodes are affecting everything from my attraction to her to my confidence in her ability to be a reliable mother and life partner? If she can't control her weight now with no stresses in life, what will happen when we have children?\\nTL;DR: fiancée has gone from fit to fat and it is impacting pretty much every aspect of our lives as well as bringing doubt as to whether or not her struggles with illness and eating issues will impede us having a successful family\"]]\n"
          ]
        },
        {
          "output_type": "stream",
          "name": "stderr",
          "text": [
            "Setting `pad_token_id` to `eos_token_id`:2 for open-end generation.\n",
            "Setting `pad_token_id` to `eos_token_id`:2 for open-end generation.\n",
            "Setting `pad_token_id` to `eos_token_id`:2 for open-end generation.\n",
            "Setting `pad_token_id` to `eos_token_id`:2 for open-end generation.\n"
          ]
        },
        {
          "output_type": "stream",
          "name": "stdout",
          "text": [
            "\n",
            "Outputs for input 63:  [[\"SUBREDDIT: r/AskReddit\\nTITLE: How do I get/help my wife to femme it up a little?\\nPOST: I love her and this is not, **repeat not**, a deal-breaker but I'd like her to be more feminine. She grew up basically feral, has no female relatives any less feral, and is too embarrassed to talk to her friends.\\nFeral's kind of a strong word, but I think I'll stick with it. The weird thing is that we have a young daughter who is princess/frilly dress/heels/hair/makeup obsessed - and who has a better sense of style than her mom. Weird.\\n\\nShe takes little care of her hair - getting her to actually have some has been an issue. I'm thinking about brushing her hair every day both to show her its possible for it to look nice (it is really thick and lustrous) and because it seems a nice, intimate contact thing to do.\\n\\nI'm also going to buy her some perfume that I like. She couldn't care less but is open to it.\\nTL;DR: My feral hot wife could use another person in the relationship who cares about their appearance, what are ways I can help make myself be that person?\"], [\"SUBREDDIT: r/AskReddit\\nTITLE: How do I get/help my wife to femme it up a little?\\nPOST: I love her and this is not, **repeat not**, a deal-breaker but I'd like her to be more feminine. She grew up basically feral, has no female relatives any less feral, and is too embarrassed to talk to her friends.\\nFeral's kind of a strong word, but I think I'll stick with it. The weird thing is that we have a young daughter who is princess/frilly dress/heels/hair/makeup obsessed - and who has a better sense of style than her mom. Weird.\\n\\nShe takes little care of her hair - getting her to actually have some has been an issue. I'm thinking about brushing her hair every day both to show her its possible for it to look nice (it is really thick and lustrous) and because it seems a nice, intimate contact thing to do.\\n\\nI'm also going to buy her some perfume that I like. She couldn't care less but is open to it.\\nTL;DR: Wife has zero idea how she looks as far as appearance - what should I do to make my wife femme it up some?\"], [\"SUBREDDIT: r/AskReddit\\nTITLE: How do I get/help my wife to femme it up a little?\\nPOST: I love her and this is not, **repeat not**, a deal-breaker but I'd like her to be more feminine. She grew up basically feral, has no female relatives any less feral, and is too embarrassed to talk to her friends.\\nFeral's kind of a strong word, but I think I'll stick with it. The weird thing is that we have a young daughter who is princess/frilly dress/heels/hair/makeup obsessed - and who has a better sense of style than her mom. Weird.\\n\\nShe takes little care of her hair - getting her to actually have some has been an issue. I'm thinking about brushing her hair every day both to show her its possible for it to look nice (it is really thick and lustrous) and because it seems a nice, intimate contact thing to do.\\n\\nI'm also going to buy her some perfume that I like. She couldn't care less but is open to it.\\nTL;DR: Wife was raised by wolves. Not as a deal breaker but would like her to learn about these things so our family won't be completely shunned at society functions.**\"], [\"SUBREDDIT: r/AskReddit\\nTITLE: How do I get/help my wife to femme it up a little?\\nPOST: I love her and this is not, **repeat not**, a deal-breaker but I'd like her to be more feminine. She grew up basically feral, has no female relatives any less feral, and is too embarrassed to talk to her friends.\\nFeral's kind of a strong word, but I think I'll stick with it. The weird thing is that we have a young daughter who is princess/frilly dress/heels/hair/makeup obsessed - and who has a better sense of style than her mom. Weird.\\n\\nShe takes little care of her hair - getting her to actually have some has been an issue. I'm thinking about brushing her hair every day both to show her its possible for it to look nice (it is really thick and lustrous) and because it seems a nice, intimate contact thing to do.\\n\\nI'm also going to buy her some perfume that I like. She couldn't care less but is open to it.\\nTL;DR: wife has zero interest in looking good, wants to just wear old man clothes. She would rather sleep on the couch instead of try to fix her bad eye-twitching back problem.\"]]\n"
          ]
        },
        {
          "output_type": "stream",
          "name": "stderr",
          "text": [
            "Setting `pad_token_id` to `eos_token_id`:2 for open-end generation.\n",
            "Setting `pad_token_id` to `eos_token_id`:2 for open-end generation.\n",
            "Setting `pad_token_id` to `eos_token_id`:2 for open-end generation.\n",
            "Setting `pad_token_id` to `eos_token_id`:2 for open-end generation.\n"
          ]
        },
        {
          "output_type": "stream",
          "name": "stdout",
          "text": [
            "\n",
            "Outputs for input 64:  [['SUBREDDIT: r/relationships\\nTITLE: I [23 MtF] am totally crushing on my [26 M] friend; My life is officially a soap opera\\nPOST: Hello!\\n\\nI\\'m a transgender woman and I\\'m kinda sorta smitten with my bisexual friend. He knows about my \"condition\", but what I don\\'t know is how he feels about the whole \"lady with non-standard genital configuration\" thing, in regards to dating. I can\\'t just ask him, either. Saying \"Hey, how do you feel about dating trans women?\" is so blatently obvious that I\\'d rather be eaten by a lion than say it.\\n\\nWe\\'ve been friends for a little over five months and I\\'ve been crushing on him for about three of those months. He was the first person I came out to, outside my family. He always treats me like a lady, and even corrects people when we\\'re out in public and I get \\'sir\\'ed. Basically, he\\'s gentlemanliness incarnate.\\n\\nI want to be closer to him, but I\\'m so afraid that telling him about my feelings will make everything super weird if he\\'s not interested. I\\'ve never even dated anyone before this, and now I\\'ve gone from basic addition to quantum physics! I just want his arms around me, his lips on mine...\\n\\n**ahem*\\\\*\\n\\nSo yeah, complicated...\\n\\nAlso, he\\'s kind of sleeping on my couch since he lost his place.\\nTL;DR: I want something more physical than a friendship with one of my closet people (who sleeps on my floor.) Do relationships ever work?'], ['SUBREDDIT: r/relationships\\nTITLE: I [23 MtF] am totally crushing on my [26 M] friend; My life is officially a soap opera\\nPOST: Hello!\\n\\nI\\'m a transgender woman and I\\'m kinda sorta smitten with my bisexual friend. He knows about my \"condition\", but what I don\\'t know is how he feels about the whole \"lady with non-standard genital configuration\" thing, in regards to dating. I can\\'t just ask him, either. Saying \"Hey, how do you feel about dating trans women?\" is so blatently obvious that I\\'d rather be eaten by a lion than say it.\\n\\nWe\\'ve been friends for a little over five months and I\\'ve been crushing on him for about three of those months. He was the first person I came out to, outside my family. He always treats me like a lady, and even corrects people when we\\'re out in public and I get \\'sir\\'ed. Basically, he\\'s gentlemanliness incarnate.\\n\\nI want to be closer to him, but I\\'m so afraid that telling him about my feelings will make everything super weird if he\\'s not interested. I\\'ve never even dated anyone before this, and now I\\'ve gone from basic addition to quantum physics! I just want his arms around me, his lips on mine...\\n\\n**ahem*\\\\*\\n\\nSo yeah, complicated...\\n\\nAlso, he\\'s kind of sleeping on my couch since he lost his place.\\nTL;DR: FTFY: How much does being close friends with someone mean on a romantic scale? Also, he sleeps on said couch, do bedtimes count??'], ['SUBREDDIT: r/relationships\\nTITLE: I [23 MtF] am totally crushing on my [26 M] friend; My life is officially a soap opera\\nPOST: Hello!\\n\\nI\\'m a transgender woman and I\\'m kinda sorta smitten with my bisexual friend. He knows about my \"condition\", but what I don\\'t know is how he feels about the whole \"lady with non-standard genital configuration\" thing, in regards to dating. I can\\'t just ask him, either. Saying \"Hey, how do you feel about dating trans women?\" is so blatently obvious that I\\'d rather be eaten by a lion than say it.\\n\\nWe\\'ve been friends for a little over five months and I\\'ve been crushing on him for about three of those months. He was the first person I came out to, outside my family. He always treats me like a lady, and even corrects people when we\\'re out in public and I get \\'sir\\'ed. Basically, he\\'s gentlemanliness incarnate.\\n\\nI want to be closer to him, but I\\'m so afraid that telling him about my feelings will make everything super weird if he\\'s not interested. I\\'ve never even dated anyone before this, and now I\\'ve gone from basic addition to quantum physics! I just want his arms around me, his lips on mine...\\n\\n**ahem*\\\\*\\n\\nSo yeah, complicated...\\n\\nAlso, he\\'s kind of sleeping on my couch since he lost his place.\\nTL;DR: Am trans lesbian crushyfeels for bicurious bro friend who doesn\\'t know I have a big crush in my pants; Don\\'t wanna lose him as a friend; Am awkward human being'], ['SUBREDDIT: r/relationships\\nTITLE: I [23 MtF] am totally crushing on my [26 M] friend; My life is officially a soap opera\\nPOST: Hello!\\n\\nI\\'m a transgender woman and I\\'m kinda sorta smitten with my bisexual friend. He knows about my \"condition\", but what I don\\'t know is how he feels about the whole \"lady with non-standard genital configuration\" thing, in regards to dating. I can\\'t just ask him, either. Saying \"Hey, how do you feel about dating trans women?\" is so blatently obvious that I\\'d rather be eaten by a lion than say it.\\n\\nWe\\'ve been friends for a little over five months and I\\'ve been crushing on him for about three of those months. He was the first person I came out to, outside my family. He always treats me like a lady, and even corrects people when we\\'re out in public and I get \\'sir\\'ed. Basically, he\\'s gentlemanliness incarnate.\\n\\nI want to be closer to him, but I\\'m so afraid that telling him about my feelings will make everything super weird if he\\'s not interested. I\\'ve never even dated anyone before this, and now I\\'ve gone from basic addition to quantum physics! I just want his arms around me, his lips on mine...\\n\\n**ahem*\\\\*\\n\\nSo yeah, complicated...\\n\\nAlso, he\\'s kind of sleeping on my couch since he lost his place.\\nTL;DR: Love for man of interest is making my face flush and chest sweat profusely, unsure as to if and how I should take this any further']]\n"
          ]
        },
        {
          "output_type": "stream",
          "name": "stderr",
          "text": [
            "Setting `pad_token_id` to `eos_token_id`:2 for open-end generation.\n",
            "Setting `pad_token_id` to `eos_token_id`:2 for open-end generation.\n",
            "Setting `pad_token_id` to `eos_token_id`:2 for open-end generation.\n",
            "Setting `pad_token_id` to `eos_token_id`:2 for open-end generation.\n"
          ]
        },
        {
          "output_type": "stream",
          "name": "stdout",
          "text": [
            "\n",
            "Outputs for input 65:  [[\"SUBREDDIT: r/AskReddit\\nTITLE: Can you die from complications after a plasma donation?\\nPOST: I live in a city that has a plasma donation center about a fifteen minute walk from where I live. I was donating twice a week for about three months. (twice a week is the max they allow) How it works is they draw your blood, run it through a centrifuge, take out the plasma, and return your blood cells to you mixed with an anticoagulant solution. On my 24th donation, I had two energy drinks beforehand, which was normal for me. Everything was going fine until when the machine was returning my blood to me, I very suddenly got very light headed, feeling as though I would pass out at any second. This had happened to me before, but it's still nerve racking. I called someone over, they slowed the machine down, i was fine after a minute. But then when the machine started to draw my blood again, I got very light headed again, which had not happened to me before. At this point I began to panic, I told them to take the needle out, and I lost almost a pint of blood. I felt light headed for a couple hours after. Then next day, I was totally fine, but the day after I got light headed just sitting on the bus. This freaked me out, so I went to the er. They took a blood sample, told me I was slightly anemic, and to take some iron. A week later, I think I'm getting light headed again, have a panic attack (a terrifying experience) went back to the er, checked out a couple hours later. \\nI now have post traumatic stress disorder, three months after the incident. I constantly have the fear that I could pass out at any moment and never wake up. I think that the plasma donation did something to my circulatory system that could kill me at any moment. So, are my fears completely irrational, or do I have reason to be concerned?\\nTL;DR: donated lots if plasma, blacked out during withdrawal, got PTSD out of fear of dying afterwards. Should I stop being so paranoid??\"], [\"SUBREDDIT: r/AskReddit\\nTITLE: Can you die from complications after a plasma donation?\\nPOST: I live in a city that has a plasma donation center about a fifteen minute walk from where I live. I was donating twice a week for about three months. (twice a week is the max they allow) How it works is they draw your blood, run it through a centrifuge, take out the plasma, and return your blood cells to you mixed with an anticoagulant solution. On my 24th donation, I had two energy drinks beforehand, which was normal for me. Everything was going fine until when the machine was returning my blood to me, I very suddenly got very light headed, feeling as though I would pass out at any second. This had happened to me before, but it's still nerve racking. I called someone over, they slowed the machine down, i was fine after a minute. But then when the machine started to draw my blood again, I got very light headed again, which had not happened to me before. At this point I began to panic, I told them to take the needle out, and I lost almost a pint of blood. I felt light headed for a couple hours after. Then next day, I was totally fine, but the day after I got light headed just sitting on the bus. This freaked me out, so I went to the er. They took a blood sample, told me I was slightly anemic, and to take some iron. A week later, I think I'm getting light headed again, have a panic attack (a terrifying experience) went back to the er, checked out a couple hours later. \\nI now have post traumatic stress disorder, three months after the incident. I constantly have the fear that I could pass out at any moment and never wake up. I think that the plasma donation did something to my circulatory system that could kill me at any moment. So, are my fears completely irrational, or do I have reason to be concerned?\\nTL;DR: I got lightheaded while donating plasma, lost a pint of blood and have been deathly afraid since, should i really worry about dying from that?\"], [\"SUBREDDIT: r/AskReddit\\nTITLE: Can you die from complications after a plasma donation?\\nPOST: I live in a city that has a plasma donation center about a fifteen minute walk from where I live. I was donating twice a week for about three months. (twice a week is the max they allow) How it works is they draw your blood, run it through a centrifuge, take out the plasma, and return your blood cells to you mixed with an anticoagulant solution. On my 24th donation, I had two energy drinks beforehand, which was normal for me. Everything was going fine until when the machine was returning my blood to me, I very suddenly got very light headed, feeling as though I would pass out at any second. This had happened to me before, but it's still nerve racking. I called someone over, they slowed the machine down, i was fine after a minute. But then when the machine started to draw my blood again, I got very light headed again, which had not happened to me before. At this point I began to panic, I told them to take the needle out, and I lost almost a pint of blood. I felt light headed for a couple hours after. Then next day, I was totally fine, but the day after I got light headed just sitting on the bus. This freaked me out, so I went to the er. They took a blood sample, told me I was slightly anemic, and to take some iron. A week later, I think I'm getting light headed again, have a panic attack (a terrifying experience) went back to the er, checked out a couple hours later. \\nI now have post traumatic stress disorder, three months after the incident. I constantly have the fear that I could pass out at any moment and never wake up. I think that the plasma donation did something to my circulatory system that could kill me at any moment. So, are my fears completely irrational, or do I have reason to be concerned?\\nTL;DR: Got lightheaded while giving plasma donating once, felt fine all other times, panicked, passed out after taking the needle, possible damage done to my nervous/circulatory systems in the process?\"], [\"SUBREDDIT: r/AskReddit\\nTITLE: Can you die from complications after a plasma donation?\\nPOST: I live in a city that has a plasma donation center about a fifteen minute walk from where I live. I was donating twice a week for about three months. (twice a week is the max they allow) How it works is they draw your blood, run it through a centrifuge, take out the plasma, and return your blood cells to you mixed with an anticoagulant solution. On my 24th donation, I had two energy drinks beforehand, which was normal for me. Everything was going fine until when the machine was returning my blood to me, I very suddenly got very light headed, feeling as though I would pass out at any second. This had happened to me before, but it's still nerve racking. I called someone over, they slowed the machine down, i was fine after a minute. But then when the machine started to draw my blood again, I got very light headed again, which had not happened to me before. At this point I began to panic, I told them to take the needle out, and I lost almost a pint of blood. I felt light headed for a couple hours after. Then next day, I was totally fine, but the day after I got light headed just sitting on the bus. This freaked me out, so I went to the er. They took a blood sample, told me I was slightly anemic, and to take some iron. A week later, I think I'm getting light headed again, have a panic attack (a terrifying experience) went back to the er, checked out a couple hours later. \\nI now have post traumatic stress disorder, three months after the incident. I constantly have the fear that I could pass out at any moment and never wake up. I think that the plasma donation did something to my circulatory system that could kill me at any moment. So, are my fears completely irrational, or do I have reason to be concerned?\\nTL;DR: I feel like the lightheadedness I occasionally experience after getting one unit of plasma blood donated might be related to passing out from blood loss (and possibly death if the reaction worsens),\"]]\n"
          ]
        },
        {
          "output_type": "stream",
          "name": "stderr",
          "text": [
            "Setting `pad_token_id` to `eos_token_id`:2 for open-end generation.\n",
            "Setting `pad_token_id` to `eos_token_id`:2 for open-end generation.\n",
            "Setting `pad_token_id` to `eos_token_id`:2 for open-end generation.\n",
            "Setting `pad_token_id` to `eos_token_id`:2 for open-end generation.\n"
          ]
        },
        {
          "output_type": "stream",
          "name": "stdout",
          "text": [
            "\n",
            "Outputs for input 66:  [['SUBREDDIT: r/relationship_advice\\nTITLE: Help! I think I really messed up\\nPOST: I am going to begin with sorry for grammical errors and spelling. I am a 19 year old female and was currently in this 2 year relationship with 20 year old male. We really had the best relationship in the beginning and it was so much fun, then I started having really big issues with family. Right after I turned 18 years old my parents stopped doing everything, so this kid knowing me maybe 3months really started helping me a lot with rides to work, school, ect. But after 2 months got really annoyed with it even if I offered money he still thought of me as a nusense. So finally I just quit my job, well my parents got pissed about that too. So I would say maybe about four months and they kicked me out of the house, so my boyfriend\\'s family took me in. I got a job and worked about 70 hours a week and my boyfriend would get upset that he wouldn\\'t see me. So I would try and make time for him anyway I could and ask him to go on dates. The issue there is he would get embarrised because he had no money, he didn\\'t work and I would accidentally bring it up. He started to really hate me for this. Finally he kicked me out so I lived with my sister in another state, he started to miss me and would drive up to see me. So I finally moved back, then around 3 months same issue came up and I came home to find all my stuff packed up. So I moved back with my parents but still saw him every week. Then we came into some issues with one of his friends (this kid always needs attention and does anything to get it). He was saying a lot of stuff about me, which got back to me and I assumed my boyfriend said it. I lost it and wrote a mean Facebook status (I know ,childish). The status said \" I can\\'t wait to have a boyfriend who doesn\\'t constantly treat me like shit with a job\". This really hurt the kids feelings and now won\\'t even talk to me, even though I\\'m very sorry about it. I just don\\'t know what to do, I need some advice.\\nTL;DR: BF gets annoyed by me when it comes to finances and I guess I blew up at a friend(ex-bf)'], ['SUBREDDIT: r/relationship_advice\\nTITLE: Help! I think I really messed up\\nPOST: I am going to begin with sorry for grammical errors and spelling. I am a 19 year old female and was currently in this 2 year relationship with 20 year old male. We really had the best relationship in the beginning and it was so much fun, then I started having really big issues with family. Right after I turned 18 years old my parents stopped doing everything, so this kid knowing me maybe 3months really started helping me a lot with rides to work, school, ect. But after 2 months got really annoyed with it even if I offered money he still thought of me as a nusense. So finally I just quit my job, well my parents got pissed about that too. So I would say maybe about four months and they kicked me out of the house, so my boyfriend\\'s family took me in. I got a job and worked about 70 hours a week and my boyfriend would get upset that he wouldn\\'t see me. So I would try and make time for him anyway I could and ask him to go on dates. The issue there is he would get embarrised because he had no money, he didn\\'t work and I would accidentally bring it up. He started to really hate me for this. Finally he kicked me out so I lived with my sister in another state, he started to miss me and would drive up to see me. So I finally moved back, then around 3 months same issue came up and I came home to find all my stuff packed up. So I moved back with my parents but still saw him every week. Then we came into some issues with one of his friends (this kid always needs attention and does anything to get it). He was saying a lot of stuff about me, which got back to me and I assumed my boyfriend said it. I lost it and wrote a mean Facebook status (I know ,childish). The status said \" I can\\'t wait to have a boyfriend who doesn\\'t constantly treat me like shit with a job\". This really hurt the kids feelings and now won\\'t even talk to me, even though I\\'m very sorry about it. I just don\\'t know what to do, I need some advice.\\nTL;DR: my bf kicked me out multiple times and told one of his guy friend alot of things that weren\\'t true. My Facebook status hurt the guys feelings who I really never meant any harm toward. What should I do?'], ['SUBREDDIT: r/relationship_advice\\nTITLE: Help! I think I really messed up\\nPOST: I am going to begin with sorry for grammical errors and spelling. I am a 19 year old female and was currently in this 2 year relationship with 20 year old male. We really had the best relationship in the beginning and it was so much fun, then I started having really big issues with family. Right after I turned 18 years old my parents stopped doing everything, so this kid knowing me maybe 3months really started helping me a lot with rides to work, school, ect. But after 2 months got really annoyed with it even if I offered money he still thought of me as a nusense. So finally I just quit my job, well my parents got pissed about that too. So I would say maybe about four months and they kicked me out of the house, so my boyfriend\\'s family took me in. I got a job and worked about 70 hours a week and my boyfriend would get upset that he wouldn\\'t see me. So I would try and make time for him anyway I could and ask him to go on dates. The issue there is he would get embarrised because he had no money, he didn\\'t work and I would accidentally bring it up. He started to really hate me for this. Finally he kicked me out so I lived with my sister in another state, he started to miss me and would drive up to see me. So I finally moved back, then around 3 months same issue came up and I came home to find all my stuff packed up. So I moved back with my parents but still saw him every week. Then we came into some issues with one of his friends (this kid always needs attention and does anything to get it). He was saying a lot of stuff about me, which got back to me and I assumed my boyfriend said it. I lost it and wrote a mean Facebook status (I know ,childish). The status said \" I can\\'t wait to have a boyfriend who doesn\\'t constantly treat me like shit with a job\". This really hurt the kids feelings and now won\\'t even talk to me, even though I\\'m very sorry about it. I just don\\'t know what to do, I need some advice.\\nTL;DR: I think I made everything worse when someone who has been nothing more than helpful got mad and I had an angry break down online'], ['SUBREDDIT: r/relationship_advice\\nTITLE: Help! I think I really messed up\\nPOST: I am going to begin with sorry for grammical errors and spelling. I am a 19 year old female and was currently in this 2 year relationship with 20 year old male. We really had the best relationship in the beginning and it was so much fun, then I started having really big issues with family. Right after I turned 18 years old my parents stopped doing everything, so this kid knowing me maybe 3months really started helping me a lot with rides to work, school, ect. But after 2 months got really annoyed with it even if I offered money he still thought of me as a nusense. So finally I just quit my job, well my parents got pissed about that too. So I would say maybe about four months and they kicked me out of the house, so my boyfriend\\'s family took me in. I got a job and worked about 70 hours a week and my boyfriend would get upset that he wouldn\\'t see me. So I would try and make time for him anyway I could and ask him to go on dates. The issue there is he would get embarrised because he had no money, he didn\\'t work and I would accidentally bring it up. He started to really hate me for this. Finally he kicked me out so I lived with my sister in another state, he started to miss me and would drive up to see me. So I finally moved back, then around 3 months same issue came up and I came home to find all my stuff packed up. So I moved back with my parents but still saw him every week. Then we came into some issues with one of his friends (this kid always needs attention and does anything to get it). He was saying a lot of stuff about me, which got back to me and I assumed my boyfriend said it. I lost it and wrote a mean Facebook status (I know ,childish). The status said \" I can\\'t wait to have a boyfriend who doesn\\'t constantly treat me like shit with a job\". This really hurt the kids feelings and now won\\'t even talk to me, even though I\\'m very sorry about it. I just don\\'t know what to do, I need some advice.\\nTL;DR: Boyfriend gave friend bad reputation, friend told everyone, and now will not speak to me. Also made mistakes along the way that caused me losing relationships with my parents']]\n"
          ]
        },
        {
          "output_type": "stream",
          "name": "stderr",
          "text": [
            "Setting `pad_token_id` to `eos_token_id`:2 for open-end generation.\n",
            "Setting `pad_token_id` to `eos_token_id`:2 for open-end generation.\n",
            "Setting `pad_token_id` to `eos_token_id`:2 for open-end generation.\n",
            "Setting `pad_token_id` to `eos_token_id`:2 for open-end generation.\n"
          ]
        },
        {
          "output_type": "stream",
          "name": "stdout",
          "text": [
            "\n",
            "Outputs for input 67:  [[\"SUBREDDIT: r/relationships\\nTITLE: Need some advice from people in LTRs. I[30/m] have been with my wife [31/f] for 10 years, how do you know if it's time to leave?\\nPOST: Ok, a little background.  My wife and I started dating in college, I was a late bloomer and she's my first real relationship.  Things have been good, we of course have had our ups and downs but overall it's been good.  We married a little over 3 years ago after dating for 7.\\n\\nNothing in particular has changed in our relationship but for the past year or so I can't seem to stop thinking about starting over, having a new life on my own terms.  I don't feel like I'm unhappy with my wife, I still love her, we still spend most of our time together and have fun, but I can't shake this feeling.  I try and push it away but I have these flashes of burning down my current life and starting from scratch.  The idea of going it alone used to terrify me, but lately it's starting to sound, well still scary, but in a good way.\\n\\nIt makes me feel really bad about myself.  I have a wife that loves me, who I love, and we have a good life together.  I wish I could figure out what it means.  Sometimes I think the fact that it would hurt a person I love dearly is the only reason I haven't done it.\\n\\nSo people who have been in long relationships, is this a phase that people go through or is this a symptom of something bigger I just can't see the shape of yet?\\nTL;DR: Been married nearly three years, great life with Wife, but I keep wanting to start new.  Don't know whether its phase or sign to get out.\"], [\"SUBREDDIT: r/relationships\\nTITLE: Need some advice from people in LTRs. I[30/m] have been with my wife [31/f] for 10 years, how do you know if it's time to leave?\\nPOST: Ok, a little background.  My wife and I started dating in college, I was a late bloomer and she's my first real relationship.  Things have been good, we of course have had our ups and downs but overall it's been good.  We married a little over 3 years ago after dating for 7.\\n\\nNothing in particular has changed in our relationship but for the past year or so I can't seem to stop thinking about starting over, having a new life on my own terms.  I don't feel like I'm unhappy with my wife, I still love her, we still spend most of our time together and have fun, but I can't shake this feeling.  I try and push it away but I have these flashes of burning down my current life and starting from scratch.  The idea of going it alone used to terrify me, but lately it's starting to sound, well still scary, but in a good way.\\n\\nIt makes me feel really bad about myself.  I have a wife that loves me, who I love, and we have a good life together.  I wish I could figure out what it means.  Sometimes I think the fact that it would hurt a person I love dearly is the only reason I haven't done it.\\n\\nSo people who have been in long relationships, is this a phase that people go through or is this a symptom of something bigger I just can't see the shape of yet?\\nTL;DR: happy but unsatisfied in general while in a long term relationship with spouse of many years.  Is there hope for a resolution without breaking things up?\"], [\"SUBREDDIT: r/relationships\\nTITLE: Need some advice from people in LTRs. I[30/m] have been with my wife [31/f] for 10 years, how do you know if it's time to leave?\\nPOST: Ok, a little background.  My wife and I started dating in college, I was a late bloomer and she's my first real relationship.  Things have been good, we of course have had our ups and downs but overall it's been good.  We married a little over 3 years ago after dating for 7.\\n\\nNothing in particular has changed in our relationship but for the past year or so I can't seem to stop thinking about starting over, having a new life on my own terms.  I don't feel like I'm unhappy with my wife, I still love her, we still spend most of our time together and have fun, but I can't shake this feeling.  I try and push it away but I have these flashes of burning down my current life and starting from scratch.  The idea of going it alone used to terrify me, but lately it's starting to sound, well still scary, but in a good way.\\n\\nIt makes me feel really bad about myself.  I have a wife that loves me, who I love, and we have a good life together.  I wish I could figure out what it means.  Sometimes I think the fact that it would hurt a person I love dearly is the only reason I haven't done it.\\n\\nSo people who have been in long relationships, is this a phase that people go through or is this a symptom of something bigger I just can't see the shape of yet?\\nTL;DR: Been happily married 4 years, I find myself being drawn to the thought of leaving, not sure why am wondering how others handled it?\"], [\"SUBREDDIT: r/relationships\\nTITLE: Need some advice from people in LTRs. I[30/m] have been with my wife [31/f] for 10 years, how do you know if it's time to leave?\\nPOST: Ok, a little background.  My wife and I started dating in college, I was a late bloomer and she's my first real relationship.  Things have been good, we of course have had our ups and downs but overall it's been good.  We married a little over 3 years ago after dating for 7.\\n\\nNothing in particular has changed in our relationship but for the past year or so I can't seem to stop thinking about starting over, having a new life on my own terms.  I don't feel like I'm unhappy with my wife, I still love her, we still spend most of our time together and have fun, but I can't shake this feeling.  I try and push it away but I have these flashes of burning down my current life and starting from scratch.  The idea of going it alone used to terrify me, but lately it's starting to sound, well still scary, but in a good way.\\n\\nIt makes me feel really bad about myself.  I have a wife that loves me, who I love, and we have a good life together.  I wish I could figure out what it means.  Sometimes I think the fact that it would hurt a person I love dearly is the only reason I haven't done it.\\n\\nSo people who have been in long relationships, is this a phase that people go through or is this a symptom of something bigger I just can't see the shape of yet?\\nTL;DR: Married, feel like i want a fresh start even though things are OKish, am I being crazy looking at possibly hurting someone I love all because I don't feel anything that special anymore.\"]]\n"
          ]
        },
        {
          "output_type": "stream",
          "name": "stderr",
          "text": [
            "Setting `pad_token_id` to `eos_token_id`:2 for open-end generation.\n",
            "Setting `pad_token_id` to `eos_token_id`:2 for open-end generation.\n",
            "Setting `pad_token_id` to `eos_token_id`:2 for open-end generation.\n",
            "Setting `pad_token_id` to `eos_token_id`:2 for open-end generation.\n"
          ]
        },
        {
          "output_type": "stream",
          "name": "stdout",
          "text": [
            "\n",
            "Outputs for input 68:  [['SUBREDDIT: r/AskReddit\\nTITLE: What should I do after spending an intimate night with a girl?\\nPOST: I met a wonderful girl, who for the sake of anonymity I shall call Sarah, at a ball (2 days ago.) We walked back to her place with her friend,let\\'s call her Jane, before we left and on the way there it was made fairly clear that Sarah wanted a relationship, which is fine by me. \\n\\nOnce we got back to Sarah\\'s place, Jane took Sarah\\'s single bed. And we were left with a fold out couch in a communal area. Sarah was worried that as she had only been there a few weeks that one of her 5 house-mates would wake-up and see us there in the morning. I proposed that I leave before any of them wake-up, and she agreed. And asked me to wake her before I leave.\\n\\nWe spent that night together, extremely intimate (without actually having sex [use your imagination]), she fell asleep in my arms.  I didn\\'t get any sleep at all, but was thrilled at the intimacy. My alarm on my phone went off, I got dressed, we had a long kiss and I told her that I\\'d call (her response was \"You better\" with a grin on her face.) And went on my merry way.\\nTL;DR: Went home with someone, had a great night and want nothing more than to hear from her again despite being pretty clueless about next steps.'], ['SUBREDDIT: r/AskReddit\\nTITLE: What should I do after spending an intimate night with a girl?\\nPOST: I met a wonderful girl, who for the sake of anonymity I shall call Sarah, at a ball (2 days ago.) We walked back to her place with her friend,let\\'s call her Jane, before we left and on the way there it was made fairly clear that Sarah wanted a relationship, which is fine by me. \\n\\nOnce we got back to Sarah\\'s place, Jane took Sarah\\'s single bed. And we were left with a fold out couch in a communal area. Sarah was worried that as she had only been there a few weeks that one of her 5 house-mates would wake-up and see us there in the morning. I proposed that I leave before any of them wake-up, and she agreed. And asked me to wake her before I leave.\\n\\nWe spent that night together, extremely intimate (without actually having sex [use your imagination]), she fell asleep in my arms.  I didn\\'t get any sleep at all, but was thrilled at the intimacy. My alarm on my phone went off, I got dressed, we had a long kiss and I told her that I\\'d call (her response was \"You better\" with a grin on her face.) And went on my merry way.\\nTL;DR: Spent the night holding each other naked until sunrise, am wondering if i did the right thing leaving her before anyone else woke up or if I should have stayed till someone else woke.'], ['SUBREDDIT: r/AskReddit\\nTITLE: What should I do after spending an intimate night with a girl?\\nPOST: I met a wonderful girl, who for the sake of anonymity I shall call Sarah, at a ball (2 days ago.) We walked back to her place with her friend,let\\'s call her Jane, before we left and on the way there it was made fairly clear that Sarah wanted a relationship, which is fine by me. \\n\\nOnce we got back to Sarah\\'s place, Jane took Sarah\\'s single bed. And we were left with a fold out couch in a communal area. Sarah was worried that as she had only been there a few weeks that one of her 5 house-mates would wake-up and see us there in the morning. I proposed that I leave before any of them wake-up, and she agreed. And asked me to wake her before I leave.\\n\\nWe spent that night together, extremely intimate (without actually having sex [use your imagination]), she fell asleep in my arms.  I didn\\'t get any sleep at all, but was thrilled at the intimacy. My alarm on my phone went off, I got dressed, we had a long kiss and I told her that I\\'d call (her response was \"You better\" with a grin on her face.) And went on my merry way.\\nTL;DR: Got intimate and stayed over at girls place, got home without her knowing or noticing. Should i continue with this relationship, or tell her how I feel about her, when I meet her again in public next week?'], ['SUBREDDIT: r/AskReddit\\nTITLE: What should I do after spending an intimate night with a girl?\\nPOST: I met a wonderful girl, who for the sake of anonymity I shall call Sarah, at a ball (2 days ago.) We walked back to her place with her friend,let\\'s call her Jane, before we left and on the way there it was made fairly clear that Sarah wanted a relationship, which is fine by me. \\n\\nOnce we got back to Sarah\\'s place, Jane took Sarah\\'s single bed. And we were left with a fold out couch in a communal area. Sarah was worried that as she had only been there a few weeks that one of her 5 house-mates would wake-up and see us there in the morning. I proposed that I leave before any of them wake-up, and she agreed. And asked me to wake her before I leave.\\n\\nWe spent that night together, extremely intimate (without actually having sex [use your imagination]), she fell asleep in my arms.  I didn\\'t get any sleep at all, but was thrilled at the intimacy. My alarm on my phone went off, I got dressed, we had a long kiss and I told her that I\\'d call (her response was \"You better\" with a grin on her face.) And went on my merry way.\\nTL;DR: Spent a wonderful night with a great person, she wanted more time than me. I left before she woke up. How can I impress her now?']]\n"
          ]
        },
        {
          "output_type": "stream",
          "name": "stderr",
          "text": [
            "Setting `pad_token_id` to `eos_token_id`:2 for open-end generation.\n",
            "Setting `pad_token_id` to `eos_token_id`:2 for open-end generation.\n",
            "Setting `pad_token_id` to `eos_token_id`:2 for open-end generation.\n",
            "Setting `pad_token_id` to `eos_token_id`:2 for open-end generation.\n"
          ]
        },
        {
          "output_type": "stream",
          "name": "stdout",
          "text": [
            "\n",
            "Outputs for input 69:  [[\"SUBREDDIT: r/tifu\\nTITLE: TIFU by baking while drunk.\\nPOST: On Christmas Eve, I was baking cookies like I do every year. I had mixed up some snickerdoodle dough and rolled it into balls, and my daughter wanted to help. I let her roll the dough balls in cinnamon sugar while I took some of my cookies to my neighbor's house. My neighbor let me in and I dropped the cookies on his kitchen counter. We sat down in the living room and did a few shots together. I'm a lightweight so about three shots in I was already pretty drunk. I did one more shot then went home and popped a batch of cookies in the oven. When I went to take them out, I burned my hand on one of the oven racks. Now, I'm used to burning myself while baking because I'm clumsy AF even sober, but they're usually small, superficial burns. I really got myself this time I had an inch and a half long blister across the back of my hand. I used a straight pin to poke a hole in the blister and drain it, leaving the skin on so the nerves underneath wouldn't be exposed while the burn was healing. I always do this to blisters. Well, this time, the skin over the blister started turning a nasty yellowish color and came off on its own, and then the burn got infected. There's a nice red circle around it now and it hurts worse than any burn I've ever had before, like an 8 on a scale of 1-10. I'm never baking drunk again. I'll post a pic of the burn if anyone wants to see it.\\nTL;DR: Got roaring drunk, burnt myself on a stupid cookie sheet oven rack, accidentally baked with bad dough made from flour treated with chemical flame retardant, burned my hand real good, it hurt really bad, didn't realize infection for two days, fuck!\"], [\"SUBREDDIT: r/tifu\\nTITLE: TIFU by baking while drunk.\\nPOST: On Christmas Eve, I was baking cookies like I do every year. I had mixed up some snickerdoodle dough and rolled it into balls, and my daughter wanted to help. I let her roll the dough balls in cinnamon sugar while I took some of my cookies to my neighbor's house. My neighbor let me in and I dropped the cookies on his kitchen counter. We sat down in the living room and did a few shots together. I'm a lightweight so about three shots in I was already pretty drunk. I did one more shot then went home and popped a batch of cookies in the oven. When I went to take them out, I burned my hand on one of the oven racks. Now, I'm used to burning myself while baking because I'm clumsy AF even sober, but they're usually small, superficial burns. I really got myself this time I had an inch and a half long blister across the back of my hand. I used a straight pin to poke a hole in the blister and drain it, leaving the skin on so the nerves underneath wouldn't be exposed while the burn was healing. I always do this to blisters. Well, this time, the skin over the blister started turning a nasty yellowish color and came off on its own, and then the burn got infected. There's a nice red circle around it now and it hurts worse than any burn I've ever had before, like an 8 on a scale of 1-10. I'm never baking drunk again. I'll post a pic of the burn if anyone wants to see it.\\nTL;DR: Made snickerdoodles with daughter, spiked punch then baked when drunk, burned the shit out of my hand and had to let puss drain from it.\"], [\"SUBREDDIT: r/tifu\\nTITLE: TIFU by baking while drunk.\\nPOST: On Christmas Eve, I was baking cookies like I do every year. I had mixed up some snickerdoodle dough and rolled it into balls, and my daughter wanted to help. I let her roll the dough balls in cinnamon sugar while I took some of my cookies to my neighbor's house. My neighbor let me in and I dropped the cookies on his kitchen counter. We sat down in the living room and did a few shots together. I'm a lightweight so about three shots in I was already pretty drunk. I did one more shot then went home and popped a batch of cookies in the oven. When I went to take them out, I burned my hand on one of the oven racks. Now, I'm used to burning myself while baking because I'm clumsy AF even sober, but they're usually small, superficial burns. I really got myself this time I had an inch and a half long blister across the back of my hand. I used a straight pin to poke a hole in the blister and drain it, leaving the skin on so the nerves underneath wouldn't be exposed while the burn was healing. I always do this to blisters. Well, this time, the skin over the blister started turning a nasty yellowish color and came off on its own, and then the burn got infected. There's a nice red circle around it now and it hurts worse than any burn I've ever had before, like an 8 on a scale of 1-10. I'm never baking drunk again. I'll post a pic of the burn if anyone wants to see it.\\nTL;DR: I rolled cookie dough with my daughter on Christmas Eve which led to more alcohol than usual which caused my to burn myself and eventually get a bad infection.\"], [\"SUBREDDIT: r/tifu\\nTITLE: TIFU by baking while drunk.\\nPOST: On Christmas Eve, I was baking cookies like I do every year. I had mixed up some snickerdoodle dough and rolled it into balls, and my daughter wanted to help. I let her roll the dough balls in cinnamon sugar while I took some of my cookies to my neighbor's house. My neighbor let me in and I dropped the cookies on his kitchen counter. We sat down in the living room and did a few shots together. I'm a lightweight so about three shots in I was already pretty drunk. I did one more shot then went home and popped a batch of cookies in the oven. When I went to take them out, I burned my hand on one of the oven racks. Now, I'm used to burning myself while baking because I'm clumsy AF even sober, but they're usually small, superficial burns. I really got myself this time I had an inch and a half long blister across the back of my hand. I used a straight pin to poke a hole in the blister and drain it, leaving the skin on so the nerves underneath wouldn't be exposed while the burn was healing. I always do this to blisters. Well, this time, the skin over the blister started turning a nasty yellowish color and came off on its own, and then the burn got infected. There's a nice red circle around it now and it hurts worse than any burn I've ever had before, like an 8 on a scale of 1-10. I'm never baking drunk again. I'll post a pic of the burn if anyone wants to see it.\\nTL;DR: I baked cookies for Christmas while drunk, gave myself a severe burn that made a bunch of blisters which turned yellow, fell off after draining and got infected\"]]\n"
          ]
        },
        {
          "output_type": "stream",
          "name": "stderr",
          "text": [
            "Setting `pad_token_id` to `eos_token_id`:2 for open-end generation.\n",
            "Setting `pad_token_id` to `eos_token_id`:2 for open-end generation.\n",
            "Setting `pad_token_id` to `eos_token_id`:2 for open-end generation.\n",
            "Setting `pad_token_id` to `eos_token_id`:2 for open-end generation.\n"
          ]
        },
        {
          "output_type": "stream",
          "name": "stdout",
          "text": [
            "\n",
            "Outputs for input 70:  [[\"SUBREDDIT: r/BreakUps\\nTITLE: 25m,24f, terrible breakup.\\nPOST: I feel like i'm going to stop breathing. I'm so down-right depressed I feel like my lungs are going to collapse. Girl of 5 years dumped me. Over a stupid thing. 4 times this month. We got back together... 3 times. and the last time she left me. we had a highschool reunion... and my cell went out. for about 3 and a half hours. She knew i was going to go there, I told her, I also told her im going to be sober. But she went berserk when my cell woke up and told me I cheated on her and got drunk and cheated on her (i drank water the whole evening and went home first of everybody... i didn't smell of alcohol or anything. But she still said she doesn't believe me...). And a week ago she humiliated me in front of everybody, but she broke down in tears then... So i immediately forgave her... She was apparently sorry. Or not...\\n\\nShe is now regretting that she ever met me. She told me things that I could never say to her. She told me that i don't care about her. While i sobbed looking at the phone. She told me that I pulled the worst out of her.\\n\\nThe craziest thing is I can't imagine my life without her. The whole thing is making me crazy. I'm in so much pain that I've never been in my whole life, ever. I have no fucking idea what to do. I keep looking at the damn phone. I just want to stop... and rest. she blames me for everything. That I took 5 years of her life away. That I destroyed her and broke her heart. I have nothing but love for her. I adore her. I'm devastated.\\n\\nWe've been living together for 5 years.\\nTL;DR: GF ended our relationship because she thinks I cheated. In fact I even bought her flowers for Valentine's day.\"], [\"SUBREDDIT: r/BreakUps\\nTITLE: 25m,24f, terrible breakup.\\nPOST: I feel like i'm going to stop breathing. I'm so down-right depressed I feel like my lungs are going to collapse. Girl of 5 years dumped me. Over a stupid thing. 4 times this month. We got back together... 3 times. and the last time she left me. we had a highschool reunion... and my cell went out. for about 3 and a half hours. She knew i was going to go there, I told her, I also told her im going to be sober. But she went berserk when my cell woke up and told me I cheated on her and got drunk and cheated on her (i drank water the whole evening and went home first of everybody... i didn't smell of alcohol or anything. But she still said she doesn't believe me...). And a week ago she humiliated me in front of everybody, but she broke down in tears then... So i immediately forgave her... She was apparently sorry. Or not...\\n\\nShe is now regretting that she ever met me. She told me things that I could never say to her. She told me that i don't care about her. While i sobbed looking at the phone. She told me that I pulled the worst out of her.\\n\\nThe craziest thing is I can't imagine my life without her. The whole thing is making me crazy. I'm in so much pain that I've never been in my whole life, ever. I have no fucking idea what to do. I keep looking at the damn phone. I just want to stop... and rest. she blames me for everything. That I took 5 years of her life away. That I destroyed her and broke her heart. I have nothing but love for her. I adore her. I'm devastated.\\n\\nWe've been living together for 5 years.\\nTL;DR: GF humiliated(?) me in front of all our friends... I don't know how to approach this issue. Please help..\"], [\"SUBREDDIT: r/BreakUps\\nTITLE: 25m,24f, terrible breakup.\\nPOST: I feel like i'm going to stop breathing. I'm so down-right depressed I feel like my lungs are going to collapse. Girl of 5 years dumped me. Over a stupid thing. 4 times this month. We got back together... 3 times. and the last time she left me. we had a highschool reunion... and my cell went out. for about 3 and a half hours. She knew i was going to go there, I told her, I also told her im going to be sober. But she went berserk when my cell woke up and told me I cheated on her and got drunk and cheated on her (i drank water the whole evening and went home first of everybody... i didn't smell of alcohol or anything. But she still said she doesn't believe me...). And a week ago she humiliated me in front of everybody, but she broke down in tears then... So i immediately forgave her... She was apparently sorry. Or not...\\n\\nShe is now regretting that she ever met me. She told me things that I could never say to her. She told me that i don't care about her. While i sobbed looking at the phone. She told me that I pulled the worst out of her.\\n\\nThe craziest thing is I can't imagine my life without her. The whole thing is making me crazy. I'm in so much pain that I've never been in my whole life, ever. I have no fucking idea what to do. I keep looking at the damn phone. I just want to stop... and rest. she blames me for everything. That I took 5 years of her life away. That I destroyed her and broke her heart. I have nothing but love for her. I adore her. I'm devastated.\\n\\nWe've been living together for 5 years.\\nTL;DR: Girlfriend cheats on me after almost breaking it off three times. Keeps telling me how disappointed her parents would be if they found out we were dating. I'll never trust someone ever again... What should I do?\"], [\"SUBREDDIT: r/BreakUps\\nTITLE: 25m,24f, terrible breakup.\\nPOST: I feel like i'm going to stop breathing. I'm so down-right depressed I feel like my lungs are going to collapse. Girl of 5 years dumped me. Over a stupid thing. 4 times this month. We got back together... 3 times. and the last time she left me. we had a highschool reunion... and my cell went out. for about 3 and a half hours. She knew i was going to go there, I told her, I also told her im going to be sober. But she went berserk when my cell woke up and told me I cheated on her and got drunk and cheated on her (i drank water the whole evening and went home first of everybody... i didn't smell of alcohol or anything. But she still said she doesn't believe me...). And a week ago she humiliated me in front of everybody, but she broke down in tears then... So i immediately forgave her... She was apparently sorry. Or not...\\n\\nShe is now regretting that she ever met me. She told me things that I could never say to her. She told me that i don't care about her. While i sobbed looking at the phone. She told me that I pulled the worst out of her.\\n\\nThe craziest thing is I can't imagine my life without her. The whole thing is making me crazy. I'm in so much pain that I've never been in my whole life, ever. I have no fucking idea what to do. I keep looking at the damn phone. I just want to stop... and rest. she blames me for everything. That I took 5 years of her life away. That I destroyed her and broke her heart. I have nothing but love for her. I adore her. I'm devastated.\\n\\nWe've been living together for 5 years.\\nTL;DR: Girlfriend of five years left me. Told me that i took five years out of her life by drinking. Even though it takes over 10 years before you hit rock bottom with alcohol.\"]]\n"
          ]
        },
        {
          "output_type": "stream",
          "name": "stderr",
          "text": [
            "Setting `pad_token_id` to `eos_token_id`:2 for open-end generation.\n",
            "Setting `pad_token_id` to `eos_token_id`:2 for open-end generation.\n",
            "Setting `pad_token_id` to `eos_token_id`:2 for open-end generation.\n",
            "Setting `pad_token_id` to `eos_token_id`:2 for open-end generation.\n"
          ]
        },
        {
          "output_type": "stream",
          "name": "stdout",
          "text": [
            "\n",
            "Outputs for input 71:  [[\"SUBREDDIT: r/relationships\\nTITLE: Me [21F] with my boyfriend [22M] of almost four years abroad in London and don't know what I want\\nPOST: I've been dating my boyfriend for almost four years since we were 17. I've never slept with anyone else or had a real relationship besides this one. Everything between us was great the first three years. I knew how much I loved him, and we planned our life together. We spent every day together in high school, and we talked everyday throughout college, and basically lived together this summer in LA working internships. \\n\\nHowever, this summer before I was abroad, I was full of doubts and still am. The thought of spending my entire life with him without experiencing other things scares me to death. However, a life without him in it is equally scary to me. \\n\\nI communicated these feelings to him last month, and obviously he was very sad, but he hugged me and tried to comfort me--because he knew these feelings were tearing me apart. Now that I'm in London, I've been thinking more of what I want and I'm torn. I'm young and want to do different things, but I love him at the same time.\\n\\n I tried to talk to him last night about taking a break, but he was completely against the idea. It's all or nothing with him. I don't think I could commit to never seeing or talking to him again, but I want to do my own thing here. \\n\\nI don't really know what I want, but some perspective/opinions/personal anecdotes would be greatly appreciated.\\nTL;DR: Relationship is falling apart because I'm afraid to let a great opportunity pass by (studying abroad) because I might not find another similar one in the future despite how much I love my BF of over 4 years.\"], [\"SUBREDDIT: r/relationships\\nTITLE: Me [21F] with my boyfriend [22M] of almost four years abroad in London and don't know what I want\\nPOST: I've been dating my boyfriend for almost four years since we were 17. I've never slept with anyone else or had a real relationship besides this one. Everything between us was great the first three years. I knew how much I loved him, and we planned our life together. We spent every day together in high school, and we talked everyday throughout college, and basically lived together this summer in LA working internships. \\n\\nHowever, this summer before I was abroad, I was full of doubts and still am. The thought of spending my entire life with him without experiencing other things scares me to death. However, a life without him in it is equally scary to me. \\n\\nI communicated these feelings to him last month, and obviously he was very sad, but he hugged me and tried to comfort me--because he knew these feelings were tearing me apart. Now that I'm in London, I've been thinking more of what I want and I'm torn. I'm young and want to do different things, but I love him at the same time.\\n\\n I tried to talk to him last night about taking a break, but he was completely against the idea. It's all or nothing with him. I don't think I could commit to never seeing or talking to him again, but I want to do my own thing here. \\n\\nI don't really know what I want, but some perspective/opinions/personal anecdotes would be greatly appreciated.\\nTL;DR: Not sure if I want a long distance relationship overseas at this point of life; however, love boyfriend immensely.\"], [\"SUBREDDIT: r/relationships\\nTITLE: Me [21F] with my boyfriend [22M] of almost four years abroad in London and don't know what I want\\nPOST: I've been dating my boyfriend for almost four years since we were 17. I've never slept with anyone else or had a real relationship besides this one. Everything between us was great the first three years. I knew how much I loved him, and we planned our life together. We spent every day together in high school, and we talked everyday throughout college, and basically lived together this summer in LA working internships. \\n\\nHowever, this summer before I was abroad, I was full of doubts and still am. The thought of spending my entire life with him without experiencing other things scares me to death. However, a life without him in it is equally scary to me. \\n\\nI communicated these feelings to him last month, and obviously he was very sad, but he hugged me and tried to comfort me--because he knew these feelings were tearing me apart. Now that I'm in London, I've been thinking more of what I want and I'm torn. I'm young and want to do different things, but I love him at the same time.\\n\\n I tried to talk to him last night about taking a break, but he was completely against the idea. It's all or nothing with him. I don't think I could commit to never seeing or talking to him again, but I want to do my own thing here. \\n\\nI don't really know what I want, but some perspective/opinions/personal anecdotes would be greatly appreciated.\\nTL;DR: Having anxiety over moving half way across the world from my SO and worried it will ruin our future relationship because I haven't felt like myself in so long-- need advice/perspective!\"], [\"SUBREDDIT: r/relationships\\nTITLE: Me [21F] with my boyfriend [22M] of almost four years abroad in London and don't know what I want\\nPOST: I've been dating my boyfriend for almost four years since we were 17. I've never slept with anyone else or had a real relationship besides this one. Everything between us was great the first three years. I knew how much I loved him, and we planned our life together. We spent every day together in high school, and we talked everyday throughout college, and basically lived together this summer in LA working internships. \\n\\nHowever, this summer before I was abroad, I was full of doubts and still am. The thought of spending my entire life with him without experiencing other things scares me to death. However, a life without him in it is equally scary to me. \\n\\nI communicated these feelings to him last month, and obviously he was very sad, but he hugged me and tried to comfort me--because he knew these feelings were tearing me apart. Now that I'm in London, I've been thinking more of what I want and I'm torn. I'm young and want to do different things, but I love him at the same time.\\n\\n I tried to talk to him last night about taking a break, but he was completely against the idea. It's all or nothing with him. I don't think I could commit to never seeing or talking to him again, but I want to do my own thing here. \\n\\nI don't really know what I want, but some perspective/opinions/personal anecdotes would be greatly appreciated.\\nTL;DR: On break between classes studying abroad. Don't know if i should try to make relationships work or not when young. Seeking opinions from others who have made similar choices\"]]\n"
          ]
        },
        {
          "output_type": "stream",
          "name": "stderr",
          "text": [
            "Setting `pad_token_id` to `eos_token_id`:2 for open-end generation.\n",
            "Setting `pad_token_id` to `eos_token_id`:2 for open-end generation.\n",
            "Setting `pad_token_id` to `eos_token_id`:2 for open-end generation.\n",
            "Setting `pad_token_id` to `eos_token_id`:2 for open-end generation.\n"
          ]
        },
        {
          "output_type": "stream",
          "name": "stdout",
          "text": [
            "\n",
            "Outputs for input 72:  [[\"SUBREDDIT: r/AskReddit\\nTITLE: Any doctors or med students lurking? What is the process to become a doctor like?\\nPOST: I would like to become an anesthesiologist one day. I have thought about this a lot and would like to hear what it's like from some insiders. I am really not the type who can sit behind a desk all day. I'm prepared to sit at desks for studying, but I can't do it for 30+ years. I don't want to wear a suit and tie. I like to be up running around. Nothing else really interests me aside from extreme sports. I want to put my work in now and come out making a high salary. I don't want to climb the rungs of a corporate ladder. I've had friends with dads in construction, working 80+ hours a week. My dad as an engineer and programmer worked 80+ hours a week for years and his salary still isn't as high as an anesthesiologists (it's great for an engineer). I really just want to become an anesthesiologist.\\nTL;DR: I got into school but can someone on Reddit explain more clearly how medical schools work? Can you tell if they care if you take easy classes? Do students ever take summer off from classes (like going home)?\"], [\"SUBREDDIT: r/AskReddit\\nTITLE: Any doctors or med students lurking? What is the process to become a doctor like?\\nPOST: I would like to become an anesthesiologist one day. I have thought about this a lot and would like to hear what it's like from some insiders. I am really not the type who can sit behind a desk all day. I'm prepared to sit at desks for studying, but I can't do it for 30+ years. I don't want to wear a suit and tie. I like to be up running around. Nothing else really interests me aside from extreme sports. I want to put my work in now and come out making a high salary. I don't want to climb the rungs of a corporate ladder. I've had friends with dads in construction, working 80+ hours a week. My dad as an engineer and programmer worked 80+ hours a week for years and his salary still isn't as high as an anesthesiologists (it's great for an engineer). I really just want to become an anesthesiologist.\\nTL;DR: I don't plan on getting married or having children until after completing grad school. I have been reading that you need $50k minimum saved if you ever plan on starting your own family. True?  \"], [\"SUBREDDIT: r/AskReddit\\nTITLE: Any doctors or med students lurking? What is the process to become a doctor like?\\nPOST: I would like to become an anesthesiologist one day. I have thought about this a lot and would like to hear what it's like from some insiders. I am really not the type who can sit behind a desk all day. I'm prepared to sit at desks for studying, but I can't do it for 30+ years. I don't want to wear a suit and tie. I like to be up running around. Nothing else really interests me aside from extreme sports. I want to put my work in now and come out making a high salary. I don't want to climb the rungs of a corporate ladder. I've had friends with dads in construction, working 80+ hours a week. My dad as an engineer and programmer worked 80+ hours a week for years and his salary still isn't as high as an anesthesiologists (it's great for an engineer). I really just want to become an anesthesiologist.\\nTL;DR: I just want information about when you decide you are going to become something and then how much money you make after you graduate medical school\"], [\"SUBREDDIT: r/AskReddit\\nTITLE: Any doctors or med students lurking? What is the process to become a doctor like?\\nPOST: I would like to become an anesthesiologist one day. I have thought about this a lot and would like to hear what it's like from some insiders. I am really not the type who can sit behind a desk all day. I'm prepared to sit at desks for studying, but I can't do it for 30+ years. I don't want to wear a suit and tie. I like to be up running around. Nothing else really interests me aside from extreme sports. I want to put my work in now and come out making a high salary. I don't want to climb the rungs of a corporate ladder. I've had friends with dads in construction, working 80+ hours a week. My dad as an engineer and programmer worked 80+ hours a week for years and his salary still isn't as high as an anesthesiologists (it's great for an engineer). I really just want to become an anesthesiologist.\\nTL;DR: how hard is med school compared to other courses that I know are difficult, the time commitment involved, the pay off involved with the amount of time put into a life path you choose etc\"]]\n"
          ]
        },
        {
          "output_type": "stream",
          "name": "stderr",
          "text": [
            "Setting `pad_token_id` to `eos_token_id`:2 for open-end generation.\n",
            "Setting `pad_token_id` to `eos_token_id`:2 for open-end generation.\n",
            "Setting `pad_token_id` to `eos_token_id`:2 for open-end generation.\n",
            "Setting `pad_token_id` to `eos_token_id`:2 for open-end generation.\n"
          ]
        },
        {
          "output_type": "stream",
          "name": "stdout",
          "text": [
            "\n",
            "Outputs for input 73:  [[\"SUBREDDIT: r/askwomenadvice\\nTITLE: Need help on telling if a girl likes me.\\nPOST: I'm 21 and at University at the moment, a couple of weeks ago I met a girl in a club, we walked home and had a good chat. She invited me back to her flat, but I declined. The next couple of days we did some light texting. I then about a week later decided to text her and ask her out for a drink, to this she didn't reply. I did however here from her a few days later, where she apologized for not texting back.\\n\\nNow in the last couple of weeks I have text her to which she ignored, then I get a text telling me to meet her. To top it off last night I was texted her (while drunk i may add) we then met, had a chat, she got some food and then on the way to our accommodation (we live in the same building on different floors) she said she was going up to eat, to which I said I was going to go back to my room and freshen up, she said she would text me but that text never came. \\n\\nI should also add my flatmates have said it seemed she wanted me to go back to her room the night I met her, but I'm really bad at reading the signals people give.\\n\\nPretty much, am I thinking too much about it and should I just put down as a bad experience?\\nTL;DR: Girl invites me into her room, tells her she doesn't want sex or anything sexual like that happens in her room when she has friends over, goes back to my room alone, and I feel it is possible her flatmates don't approve of me visiting hers alone.\"], [\"SUBREDDIT: r/askwomenadvice\\nTITLE: Need help on telling if a girl likes me.\\nPOST: I'm 21 and at University at the moment, a couple of weeks ago I met a girl in a club, we walked home and had a good chat. She invited me back to her flat, but I declined. The next couple of days we did some light texting. I then about a week later decided to text her and ask her out for a drink, to this she didn't reply. I did however here from her a few days later, where she apologized for not texting back.\\n\\nNow in the last couple of weeks I have text her to which she ignored, then I get a text telling me to meet her. To top it off last night I was texted her (while drunk i may add) we then met, had a chat, she got some food and then on the way to our accommodation (we live in the same building on different floors) she said she was going up to eat, to which I said I was going to go back to my room and freshen up, she said she would text me but that text never came. \\n\\nI should also add my flatmates have said it seemed she wanted me to go back to her room the night I met her, but I'm really bad at reading the signals people give.\\n\\nPretty much, am I thinking too much about it and should I just put down as a bad experience?\\nTL;DR: Met a girl at Uni partys, hooked up with her over a text once told never to ring her after that. Should I just push forward or stay well out of the picture?\"], [\"SUBREDDIT: r/askwomenadvice\\nTITLE: Need help on telling if a girl likes me.\\nPOST: I'm 21 and at University at the moment, a couple of weeks ago I met a girl in a club, we walked home and had a good chat. She invited me back to her flat, but I declined. The next couple of days we did some light texting. I then about a week later decided to text her and ask her out for a drink, to this she didn't reply. I did however here from her a few days later, where she apologized for not texting back.\\n\\nNow in the last couple of weeks I have text her to which she ignored, then I get a text telling me to meet her. To top it off last night I was texted her (while drunk i may add) we then met, had a chat, she got some food and then on the way to our accommodation (we live in the same building on different floors) she said she was going up to eat, to which I said I was going to go back to my room and freshen up, she said she would text me but that text never came. \\n\\nI should also add my flatmates have said it seemed she wanted me to go back to her room the night I met her, but I'm really bad at reading the signals people give.\\n\\nPretty much, am I thinking too much about it and should I just put down as a bad experience?\\nTL;DR: Met girl. Invited Me home for sex. I passed up chance as being new here I want proper relationship. Now seems unsure what I should do, need advice\"], [\"SUBREDDIT: r/askwomenadvice\\nTITLE: Need help on telling if a girl likes me.\\nPOST: I'm 21 and at University at the moment, a couple of weeks ago I met a girl in a club, we walked home and had a good chat. She invited me back to her flat, but I declined. The next couple of days we did some light texting. I then about a week later decided to text her and ask her out for a drink, to this she didn't reply. I did however here from her a few days later, where she apologized for not texting back.\\n\\nNow in the last couple of weeks I have text her to which she ignored, then I get a text telling me to meet her. To top it off last night I was texted her (while drunk i may add) we then met, had a chat, she got some food and then on the way to our accommodation (we live in the same building on different floors) she said she was going up to eat, to which I said I was going to go back to my room and freshen up, she said she would text me but that text never came. \\n\\nI should also add my flatmates have said it seemed she wanted me to go back to her room the night I met her, but I'm really bad at reading the signals people give.\\n\\nPretty much, am I thinking too much about it and should I just put down as a bad experience?\\nTL;DR: Met girl after not replying to my texts, think she wants to meet, but I don't know if I want to pursue it\"]]\n"
          ]
        },
        {
          "output_type": "stream",
          "name": "stderr",
          "text": [
            "Setting `pad_token_id` to `eos_token_id`:2 for open-end generation.\n",
            "Setting `pad_token_id` to `eos_token_id`:2 for open-end generation.\n",
            "Setting `pad_token_id` to `eos_token_id`:2 for open-end generation.\n",
            "Setting `pad_token_id` to `eos_token_id`:2 for open-end generation.\n"
          ]
        },
        {
          "output_type": "stream",
          "name": "stdout",
          "text": [
            "\n",
            "Outputs for input 74:  [[\"SUBREDDIT: r/relationships\\nTITLE: I (23M) can't tell if I really like my boyfriend (24M) or am just in the relationship for the attention/or afraid to be alone.\\nPOST: So, I've been dating this guy for about 4 months now, the entire relationship has been long distance since the beginning due to different paths having us across the country. He's extremely gungho in the relationship, sends me care packages and texts me daily. I do things for him as well when I'm able to when time permits. We see each other about once a month but are never alone, he's either visiting friends and also visit me. Or work doesn't permit me to see him by myself. \\n\\nWe've never had sex either, mostly just foreplay in very odd situations. The other day I finally asked for us to open the relationship, it's something I wanted from the beginning but decided to do a monogamous, long distance relationship. He told me that he expects me to be 100% in or I'm not in at all but that he is okay with the idea of an open relationship. I don't know how to respond to that ultimatum. I like him but I don't know if I really like him enough to continue a relationship with him. This is my first relationship and his second.\\nTL;DR: Dating long distance but rarely one on one, unsure if I want to remain in this relationship and need guidance on navigating this situation.\"], [\"SUBREDDIT: r/relationships\\nTITLE: I (23M) can't tell if I really like my boyfriend (24M) or am just in the relationship for the attention/or afraid to be alone.\\nPOST: So, I've been dating this guy for about 4 months now, the entire relationship has been long distance since the beginning due to different paths having us across the country. He's extremely gungho in the relationship, sends me care packages and texts me daily. I do things for him as well when I'm able to when time permits. We see each other about once a month but are never alone, he's either visiting friends and also visit me. Or work doesn't permit me to see him by myself. \\n\\nWe've never had sex either, mostly just foreplay in very odd situations. The other day I finally asked for us to open the relationship, it's something I wanted from the beginning but decided to do a monogamous, long distance relationship. He told me that he expects me to be 100% in or I'm not in at all but that he is okay with the idea of an open relationship. I don't know how to respond to that ultimatum. I like him but I don't know if I really like him enough to continue a relationship with him. This is my first relationship and his second.\\nTL;DR: Am I with boyfriend because of comfort/attention he provides or is there more? How do I determine which and what should I do?\"], [\"SUBREDDIT: r/relationships\\nTITLE: I (23M) can't tell if I really like my boyfriend (24M) or am just in the relationship for the attention/or afraid to be alone.\\nPOST: So, I've been dating this guy for about 4 months now, the entire relationship has been long distance since the beginning due to different paths having us across the country. He's extremely gungho in the relationship, sends me care packages and texts me daily. I do things for him as well when I'm able to when time permits. We see each other about once a month but are never alone, he's either visiting friends and also visit me. Or work doesn't permit me to see him by myself. \\n\\nWe've never had sex either, mostly just foreplay in very odd situations. The other day I finally asked for us to open the relationship, it's something I wanted from the beginning but decided to do a monogamous, long distance relationship. He told me that he expects me to be 100% in or I'm not in at all but that he is okay with the idea of an open relationship. I don't know how to respond to that ultimatum. I like him but I don't know if I really like him enough to continue a relationship with him. This is my first relationship and his second.\\nTL;DR: Should I end a pretty good (for the most part) relationship over doubt? If so what should I say or how should I deal with?\"], ['SUBREDDIT: r/relationships\\nTITLE: I (23M) can\\'t tell if I really like my boyfriend (24M) or am just in the relationship for the attention/or afraid to be alone.\\nPOST: So, I\\'ve been dating this guy for about 4 months now, the entire relationship has been long distance since the beginning due to different paths having us across the country. He\\'s extremely gungho in the relationship, sends me care packages and texts me daily. I do things for him as well when I\\'m able to when time permits. We see each other about once a month but are never alone, he\\'s either visiting friends and also visit me. Or work doesn\\'t permit me to see him by myself. \\n\\nWe\\'ve never had sex either, mostly just foreplay in very odd situations. The other day I finally asked for us to open the relationship, it\\'s something I wanted from the beginning but decided to do a monogamous, long distance relationship. He told me that he expects me to be 100% in or I\\'m not in at all but that he is okay with the idea of an open relationship. I don\\'t know how to respond to that ultimatum. I like him but I don\\'t know if I really like him enough to continue a relationship with him. This is my first relationship and his second.\\nTL;DR: My boyfriend wants me to make up my mind about whether I want commitment because \"If you have no desire, why waste my (and your) time?\"']]\n"
          ]
        },
        {
          "output_type": "stream",
          "name": "stderr",
          "text": [
            "Setting `pad_token_id` to `eos_token_id`:2 for open-end generation.\n",
            "Setting `pad_token_id` to `eos_token_id`:2 for open-end generation.\n",
            "Setting `pad_token_id` to `eos_token_id`:2 for open-end generation.\n",
            "Setting `pad_token_id` to `eos_token_id`:2 for open-end generation.\n"
          ]
        },
        {
          "output_type": "stream",
          "name": "stdout",
          "text": [
            "\n",
            "Outputs for input 75:  [[\"SUBREDDIT: r/self\\nTITLE: fell down. ruined what I've been working toward all this year.\\nPOST: I took a minor fall but because of how I landed I broke a couple of bones.  That normally wouldn't be a major upset, just one of those things that happens and you get past it.  But this happened two weeks to the day before the beginning of what I have been training, working, saving, and sometimes fighting for since the beginning of this year.  \\nI had gone through a 5 year period of loss and depression in which I had become numb, overweight, lonely, and hopeless.  Then I had an epiphany moment.  I thought of a thing I wanted to do and I took steps toward doing it.  I stood up for myself and started putting my needs on the priority list too.  I started moving my body.  I gave up wheat, lost my cravings for sugary, baked foods.  I tracked my progress.  And I kicked a**!  I lost 50 pounds since January.  I went from not leaving my house, mostly my bedroom, to doing daily bike rides, as long as 60 miles in a day.  I gathered enough money to get everything I need together to take a bike trip that I haven't gone on in  ten years.  \\nThe only way I can think of that I could still ride is on a recumbent bicycle or three-wheeled bike.  I don't know of anyone that has one and buying or even renting one is out of the question.  I spent everything getting my old bike ready and getting equipped.\\nI will still go, I paid a lot and it is too late to find someone to fill my place now.  But the physical challenge of the ride was the main event for me.  I'm very introverted and the festival atmosphere and crowds of people are challenging at best.  I see there has been benefit in what I have been doing.  But I really needed the week on my bike cut off from my regular life.  Or I thought I did.  The proverbial carrot being snatched away feels pretty cruel and twisted.\\nTL;DR: The bike trip I trained half a decade for and planned every detail of and saved for every penny possible got wrecked by a fall that broke a few small bones.\"], [\"SUBREDDIT: r/self\\nTITLE: fell down. ruined what I've been working toward all this year.\\nPOST: I took a minor fall but because of how I landed I broke a couple of bones.  That normally wouldn't be a major upset, just one of those things that happens and you get past it.  But this happened two weeks to the day before the beginning of what I have been training, working, saving, and sometimes fighting for since the beginning of this year.  \\nI had gone through a 5 year period of loss and depression in which I had become numb, overweight, lonely, and hopeless.  Then I had an epiphany moment.  I thought of a thing I wanted to do and I took steps toward doing it.  I stood up for myself and started putting my needs on the priority list too.  I started moving my body.  I gave up wheat, lost my cravings for sugary, baked foods.  I tracked my progress.  And I kicked a**!  I lost 50 pounds since January.  I went from not leaving my house, mostly my bedroom, to doing daily bike rides, as long as 60 miles in a day.  I gathered enough money to get everything I need together to take a bike trip that I haven't gone on in  ten years.  \\nThe only way I can think of that I could still ride is on a recumbent bicycle or three-wheeled bike.  I don't know of anyone that has one and buying or even renting one is out of the question.  I spent everything getting my old bike ready and getting equipped.\\nI will still go, I paid a lot and it is too late to find someone to fill my place now.  But the physical challenge of the ride was the main event for me.  I'm very introverted and the festival atmosphere and crowds of people are challenging at best.  I see there has been benefit in what I have been doing.  But I really needed the week on my bike cut off from my regular life.  Or I thought I did.  The proverbial carrot being snatched away feels pretty cruel and twisted.\\nTL;DR: Took care and pushed myself to accomplish something I worked for, got hit by bad luck right before starting, wish to make lemonade/dont feel sorry for yourself,\"], [\"SUBREDDIT: r/self\\nTITLE: fell down. ruined what I've been working toward all this year.\\nPOST: I took a minor fall but because of how I landed I broke a couple of bones.  That normally wouldn't be a major upset, just one of those things that happens and you get past it.  But this happened two weeks to the day before the beginning of what I have been training, working, saving, and sometimes fighting for since the beginning of this year.  \\nI had gone through a 5 year period of loss and depression in which I had become numb, overweight, lonely, and hopeless.  Then I had an epiphany moment.  I thought of a thing I wanted to do and I took steps toward doing it.  I stood up for myself and started putting my needs on the priority list too.  I started moving my body.  I gave up wheat, lost my cravings for sugary, baked foods.  I tracked my progress.  And I kicked a**!  I lost 50 pounds since January.  I went from not leaving my house, mostly my bedroom, to doing daily bike rides, as long as 60 miles in a day.  I gathered enough money to get everything I need together to take a bike trip that I haven't gone on in  ten years.  \\nThe only way I can think of that I could still ride is on a recumbent bicycle or three-wheeled bike.  I don't know of anyone that has one and buying or even renting one is out of the question.  I spent everything getting my old bike ready and getting equipped.\\nI will still go, I paid a lot and it is too late to find someone to fill my place now.  But the physical challenge of the ride was the main event for me.  I'm very introverted and the festival atmosphere and crowds of people are challenging at best.  I see there has been benefit in what I have been doing.  But I really needed the week on my bike cut off from my regular life.  Or I thought I did.  The proverbial carrot being snatched away feels pretty cruel and twisted.\\nTL;DR: Finally got my life back from four year of hell, then right before starting big adventure I broke my wrist and some ribs.\"], [\"SUBREDDIT: r/self\\nTITLE: fell down. ruined what I've been working toward all this year.\\nPOST: I took a minor fall but because of how I landed I broke a couple of bones.  That normally wouldn't be a major upset, just one of those things that happens and you get past it.  But this happened two weeks to the day before the beginning of what I have been training, working, saving, and sometimes fighting for since the beginning of this year.  \\nI had gone through a 5 year period of loss and depression in which I had become numb, overweight, lonely, and hopeless.  Then I had an epiphany moment.  I thought of a thing I wanted to do and I took steps toward doing it.  I stood up for myself and started putting my needs on the priority list too.  I started moving my body.  I gave up wheat, lost my cravings for sugary, baked foods.  I tracked my progress.  And I kicked a**!  I lost 50 pounds since January.  I went from not leaving my house, mostly my bedroom, to doing daily bike rides, as long as 60 miles in a day.  I gathered enough money to get everything I need together to take a bike trip that I haven't gone on in  ten years.  \\nThe only way I can think of that I could still ride is on a recumbent bicycle or three-wheeled bike.  I don't know of anyone that has one and buying or even renting one is out of the question.  I spent everything getting my old bike ready and getting equipped.\\nI will still go, I paid a lot and it is too late to find someone to fill my place now.  But the physical challenge of the ride was the main event for me.  I'm very introverted and the festival atmosphere and crowds of people are challenging at best.  I see there has been benefit in what I have been doing.  But I really needed the week on my bike cut off from my regular life.  Or I thought I did.  The proverbial carrot being snatched away feels pretty cruel and twisted.\\nTL;DR: My accident screwed me big time with bad timing, but I am grateful anyway that through it all I feel like there is light coming into some deep shadowy areas.\"]]\n"
          ]
        },
        {
          "output_type": "stream",
          "name": "stderr",
          "text": [
            "Setting `pad_token_id` to `eos_token_id`:2 for open-end generation.\n",
            "Setting `pad_token_id` to `eos_token_id`:2 for open-end generation.\n",
            "Setting `pad_token_id` to `eos_token_id`:2 for open-end generation.\n",
            "Setting `pad_token_id` to `eos_token_id`:2 for open-end generation.\n"
          ]
        },
        {
          "output_type": "stream",
          "name": "stdout",
          "text": [
            "\n",
            "Outputs for input 76:  [[\"SUBREDDIT: r/relationships\\nTITLE: My new neighbor (50's(?)/F) can hear everything I (20's/F) do in my apartment, and it's disrupting her sleep. What do?\\nPOST: My neighbor moved into the apartment adjacent to me a few days ago. Whilst she's a very nice lady, she seems to be very annoyed by my sound levels, as she can apparently hear every word I say through her walls. I'm not a particularly loud person- the noise I produce consists of chatting on Skype and playing soft music to help me sleep. However, no matter how softly I speak, she still hears me. The thing that makes this particularly problematic is my own sleep patterns; I happen to be most active at night, presumably when she's trying to fall asleep. I'm at an impasse because, while I want to continue living in a way that is comfortable to me, I don't want my neighbor to suffer for it. I'm in an LDR, so the Skype chats are dear to me, otherwise I'd cut them out. Has anyone been in a similar situation or have any advice to give?\\nTL;DR: LDR prevents quiet sleep patterns; loud roommate moves in next door after 3 quiet months with previous roommates- what do I do?\"], [\"SUBREDDIT: r/relationships\\nTITLE: My new neighbor (50's(?)/F) can hear everything I (20's/F) do in my apartment, and it's disrupting her sleep. What do?\\nPOST: My neighbor moved into the apartment adjacent to me a few days ago. Whilst she's a very nice lady, she seems to be very annoyed by my sound levels, as she can apparently hear every word I say through her walls. I'm not a particularly loud person- the noise I produce consists of chatting on Skype and playing soft music to help me sleep. However, no matter how softly I speak, she still hears me. The thing that makes this particularly problematic is my own sleep patterns; I happen to be most active at night, presumably when she's trying to fall asleep. I'm at an impasse because, while I want to continue living in a way that is comfortable to me, I don't want my neighbor to suffer for it. I'm in an LDR, so the Skype chats are dear to me, otherwise I'd cut them out. Has anyone been in a similar situation or have any advice to give?\\nTL;DR: Neighbor can hear literally ***everything*** in my apartment through her wall; what steps should I take to make us both happy in the long term?\"], [\"SUBREDDIT: r/relationships\\nTITLE: My new neighbor (50's(?)/F) can hear everything I (20's/F) do in my apartment, and it's disrupting her sleep. What do?\\nPOST: My neighbor moved into the apartment adjacent to me a few days ago. Whilst she's a very nice lady, she seems to be very annoyed by my sound levels, as she can apparently hear every word I say through her walls. I'm not a particularly loud person- the noise I produce consists of chatting on Skype and playing soft music to help me sleep. However, no matter how softly I speak, she still hears me. The thing that makes this particularly problematic is my own sleep patterns; I happen to be most active at night, presumably when she's trying to fall asleep. I'm at an impasse because, while I want to continue living in a way that is comfortable to me, I don't want my neighbor to suffer for it. I'm in an LDR, so the Skype chats are dear to me, otherwise I'd cut them out. Has anyone been in a similar situation or have any advice to give?\\nTL;DR: New neighbor (I think 50's?) complains I'm too noisy, but she can hear even the whispers between me and myself. Help?\"], ['SUBREDDIT: r/relationships\\nTITLE: My new neighbor (50\\'s(?)/F) can hear everything I (20\\'s/F) do in my apartment, and it\\'s disrupting her sleep. What do?\\nPOST: My neighbor moved into the apartment adjacent to me a few days ago. Whilst she\\'s a very nice lady, she seems to be very annoyed by my sound levels, as she can apparently hear every word I say through her walls. I\\'m not a particularly loud person- the noise I produce consists of chatting on Skype and playing soft music to help me sleep. However, no matter how softly I speak, she still hears me. The thing that makes this particularly problematic is my own sleep patterns; I happen to be most active at night, presumably when she\\'s trying to fall asleep. I\\'m at an impasse because, while I want to continue living in a way that is comfortable to me, I don\\'t want my neighbor to suffer for it. I\\'m in an LDR, so the Skype chats are dear to me, otherwise I\\'d cut them out. Has anyone been in a similar situation or have any advice to give?\\nTL;DR: New neighbor disrupted by Skyping and other daytime noises I make at night even though my volume level is \"reasonable.\"']]\n"
          ]
        },
        {
          "output_type": "stream",
          "name": "stderr",
          "text": [
            "Setting `pad_token_id` to `eos_token_id`:2 for open-end generation.\n",
            "Setting `pad_token_id` to `eos_token_id`:2 for open-end generation.\n",
            "Setting `pad_token_id` to `eos_token_id`:2 for open-end generation.\n",
            "Setting `pad_token_id` to `eos_token_id`:2 for open-end generation.\n"
          ]
        },
        {
          "output_type": "stream",
          "name": "stdout",
          "text": [
            "\n",
            "Outputs for input 77:  [[\"SUBREDDIT: r/relationships\\nTITLE: Me [29 M/F] with my 32 M] husband and 2 year son; secretly trying to get his Mom (my MIL) to get a job here and live with us.\\nPOST: Still kind of in shock over this. \\n I just happened to pick up the ipad and see that my husband has been sending emails to his mother telling her that he is going to try his hardest to get her a job at his company, and that they can move into our house. He hasn't told me anything about this.  She and his Dad live 2.5 hours away right now, which is, IMO- a perfect distance.\\n\\nWe've been going to therapy for other reasons - mainly because he's reneged on our initial after-marriage plans.  When we got married, we were planning on moving halfway between both in-laws, but now he dosen't want to.  My family lives 6 hours away and I rarely see them and only talk to them once a week, but he told the therapist that I'm too close to them.\\n\\nBut now he's secretly trying to get his mom to move down here? Please. It hurts my brain. Also, the cost of living here is really high, so if she DID get the job-- she'd probably be living with us for quite some time, which I am NOT mentally prepared for. And when she did  move out, I don't think I can deal with anymore 'drop in' visits to see my son (who is 2.) They already do it enough and they live 2 hours away now. \\n\\n</b>\\nTL;DR: Husband seems to want his mother to come live near him now by getting her to switch jobs/move here without saying a word to me.\"], [\"SUBREDDIT: r/relationships\\nTITLE: Me [29 M/F] with my 32 M] husband and 2 year son; secretly trying to get his Mom (my MIL) to get a job here and live with us.\\nPOST: Still kind of in shock over this. \\n I just happened to pick up the ipad and see that my husband has been sending emails to his mother telling her that he is going to try his hardest to get her a job at his company, and that they can move into our house. He hasn't told me anything about this.  She and his Dad live 2.5 hours away right now, which is, IMO- a perfect distance.\\n\\nWe've been going to therapy for other reasons - mainly because he's reneged on our initial after-marriage plans.  When we got married, we were planning on moving halfway between both in-laws, but now he dosen't want to.  My family lives 6 hours away and I rarely see them and only talk to them once a week, but he told the therapist that I'm too close to them.\\n\\nBut now he's secretly trying to get his mom to move down here? Please. It hurts my brain. Also, the cost of living here is really high, so if she DID get the job-- she'd probably be living with us for quite some time, which I am NOT mentally prepared for. And when she did  move out, I don't think I can deal with anymore 'drop in' visits to see my son (who is 2.) They already do it enough and they live 2 hours away now. \\n\\n</b>\\nTL;DR: <b>My husband wants to have my MIL get a job here and lives with us since she lives far way, but I won't have all that added stress to my life.\"], [\"SUBREDDIT: r/relationships\\nTITLE: Me [29 M/F] with my 32 M] husband and 2 year son; secretly trying to get his Mom (my MIL) to get a job here and live with us.\\nPOST: Still kind of in shock over this. \\n I just happened to pick up the ipad and see that my husband has been sending emails to his mother telling her that he is going to try his hardest to get her a job at his company, and that they can move into our house. He hasn't told me anything about this.  She and his Dad live 2.5 hours away right now, which is, IMO- a perfect distance.\\n\\nWe've been going to therapy for other reasons - mainly because he's reneged on our initial after-marriage plans.  When we got married, we were planning on moving halfway between both in-laws, but now he dosen't want to.  My family lives 6 hours away and I rarely see them and only talk to them once a week, but he told the therapist that I'm too close to them.\\n\\nBut now he's secretly trying to get his mom to move down here? Please. It hurts my brain. Also, the cost of living here is really high, so if she DID get the job-- she'd probably be living with us for quite some time, which I am NOT mentally prepared for. And when she did  move out, I don't think I can deal with anymore 'drop in' visits to see my son (who is 2.) They already do it enough and they live 2 hours away now. \\n\\n</b>\\nTL;DR: Husband wants MIL to quit full-time work and start freelancing and have her own office, with her kids coming over every day to watch him.\"], [\"SUBREDDIT: r/relationships\\nTITLE: Me [29 M/F] with my 32 M] husband and 2 year son; secretly trying to get his Mom (my MIL) to get a job here and live with us.\\nPOST: Still kind of in shock over this. \\n I just happened to pick up the ipad and see that my husband has been sending emails to his mother telling her that he is going to try his hardest to get her a job at his company, and that they can move into our house. He hasn't told me anything about this.  She and his Dad live 2.5 hours away right now, which is, IMO- a perfect distance.\\n\\nWe've been going to therapy for other reasons - mainly because he's reneged on our initial after-marriage plans.  When we got married, we were planning on moving halfway between both in-laws, but now he dosen't want to.  My family lives 6 hours away and I rarely see them and only talk to them once a week, but he told the therapist that I'm too close to them.\\n\\nBut now he's secretly trying to get his mom to move down here? Please. It hurts my brain. Also, the cost of living here is really high, so if she DID get the job-- she'd probably be living with us for quite some time, which I am NOT mentally prepared for. And when she did  move out, I don't think I can deal with anymore 'drop in' visits to see my son (who is 2.) They already do it enough and they live 2 hours away now. \\n\\n</b>\\nTL;DR: My narcissistic, emotionally abusive, controlling mother-in-law thinks she should have the same access to my child as a biological parent. If my M-I-L moves in under these conditions -- I think I'll go crazy.\"]]\n"
          ]
        },
        {
          "output_type": "stream",
          "name": "stderr",
          "text": [
            "Setting `pad_token_id` to `eos_token_id`:2 for open-end generation.\n",
            "Setting `pad_token_id` to `eos_token_id`:2 for open-end generation.\n",
            "Setting `pad_token_id` to `eos_token_id`:2 for open-end generation.\n",
            "Setting `pad_token_id` to `eos_token_id`:2 for open-end generation.\n"
          ]
        },
        {
          "output_type": "stream",
          "name": "stdout",
          "text": [
            "\n",
            "Outputs for input 78:  [['SUBREDDIT: r/relationships\\nTITLE: Me [24F] not knowing how to handle my BF [24M] confessing\\nPOST: I have been with him for 3 years now. A few days ago he told me over the phone, just before bed that he is developing feelings for this other girl [22F], let\\'s call her T. He says he still wants to be with me.\\n\\nA bit about T. He got to know T through a group assignment at uni last term and although the assignment is over, they\\'ve kept in contact with each other over Facebook, texts and weekly study sessions. Initially the messages were strictly about uni/study but they started exchanging pictures of their pets, a few selfies, liking his profile picture...it grew *friendlier* if you like. When I started getting suspicious and voiced it to him, he made me feel like I was being irrational/paranoid.\\n\\nEventually it started intruding on my time with my BF. We were out on our anniversary date and he would be messaging her. We would have dinner together and he would send her pictures of his food. Somehow he failed to mention that he had a GF in the entire time they\\'ve known each other but I am quite sure neither T nor my BF have done anything physical.\\n\\nAfter he told me, we agreed that he would stop seeing her and cut down on messaging as well. Meeting him in the last few days was hard because as much as I want to forgive him, I am constantly reminded of what he had done...and I don\\'t think he understands how I am struggling because he continues to make jokes about \\'her pussy\\' (she has a cat). He called it his coping mechanism but I couldn\\'t handle feeling the stress of trying to love somebody who has hurt me. So...I told him that we should take a one week break. Don\\'t contact either T or me.\\n\\nHowever this morning he messaged me saying he was going to meet up with her tomorrow. He says this is his way of getting over her...but it just causes me more pain and I don\\'t know if I can trust him.\\nTL;DR: boyfriend developed feelings for another girl while seeing me, confessed, I asked them to stay away, found out he wants to \"date\" her to get over his feelings for her - need guidance'], [\"SUBREDDIT: r/relationships\\nTITLE: Me [24F] not knowing how to handle my BF [24M] confessing\\nPOST: I have been with him for 3 years now. A few days ago he told me over the phone, just before bed that he is developing feelings for this other girl [22F], let's call her T. He says he still wants to be with me.\\n\\nA bit about T. He got to know T through a group assignment at uni last term and although the assignment is over, they've kept in contact with each other over Facebook, texts and weekly study sessions. Initially the messages were strictly about uni/study but they started exchanging pictures of their pets, a few selfies, liking his profile picture...it grew *friendlier* if you like. When I started getting suspicious and voiced it to him, he made me feel like I was being irrational/paranoid.\\n\\nEventually it started intruding on my time with my BF. We were out on our anniversary date and he would be messaging her. We would have dinner together and he would send her pictures of his food. Somehow he failed to mention that he had a GF in the entire time they've known each other but I am quite sure neither T nor my BF have done anything physical.\\n\\nAfter he told me, we agreed that he would stop seeing her and cut down on messaging as well. Meeting him in the last few days was hard because as much as I want to forgive him, I am constantly reminded of what he had done...and I don't think he understands how I am struggling because he continues to make jokes about 'her pussy' (she has a cat). He called it his coping mechanism but I couldn't handle feeling the stress of trying to love somebody who has hurt me. So...I told him that we should take a one week break. Don't contact either T or me.\\n\\nHowever this morning he messaged me saying he was going to meet up with her tomorrow. He says this is his way of getting over her...but it just causes me more pain and I don't know if I can trust him.\\nTL;DR: My BF confessed his new found feelings for another girl who goes to uni, despite having a girlfriend me. Not sure how to proceed from here?\"], [\"SUBREDDIT: r/relationships\\nTITLE: Me [24F] not knowing how to handle my BF [24M] confessing\\nPOST: I have been with him for 3 years now. A few days ago he told me over the phone, just before bed that he is developing feelings for this other girl [22F], let's call her T. He says he still wants to be with me.\\n\\nA bit about T. He got to know T through a group assignment at uni last term and although the assignment is over, they've kept in contact with each other over Facebook, texts and weekly study sessions. Initially the messages were strictly about uni/study but they started exchanging pictures of their pets, a few selfies, liking his profile picture...it grew *friendlier* if you like. When I started getting suspicious and voiced it to him, he made me feel like I was being irrational/paranoid.\\n\\nEventually it started intruding on my time with my BF. We were out on our anniversary date and he would be messaging her. We would have dinner together and he would send her pictures of his food. Somehow he failed to mention that he had a GF in the entire time they've known each other but I am quite sure neither T nor my BF have done anything physical.\\n\\nAfter he told me, we agreed that he would stop seeing her and cut down on messaging as well. Meeting him in the last few days was hard because as much as I want to forgive him, I am constantly reminded of what he had done...and I don't think he understands how I am struggling because he continues to make jokes about 'her pussy' (she has a cat). He called it his coping mechanism but I couldn't handle feeling the stress of trying to love somebody who has hurt me. So...I told him that we should take a one week break. Don't contact either T or me.\\n\\nHowever this morning he messaged me saying he was going to meet up with her tomorrow. He says this is his way of getting over her...but it just causes me more pain and I don't know if I can trust him.\\nTL;DR: BF confessed some feelings for a girl and said he won't contact them after I asked him for a break with her. Found out today he wanted to meet her tomorrow...\"], [\"SUBREDDIT: r/relationships\\nTITLE: Me [24F] not knowing how to handle my BF [24M] confessing\\nPOST: I have been with him for 3 years now. A few days ago he told me over the phone, just before bed that he is developing feelings for this other girl [22F], let's call her T. He says he still wants to be with me.\\n\\nA bit about T. He got to know T through a group assignment at uni last term and although the assignment is over, they've kept in contact with each other over Facebook, texts and weekly study sessions. Initially the messages were strictly about uni/study but they started exchanging pictures of their pets, a few selfies, liking his profile picture...it grew *friendlier* if you like. When I started getting suspicious and voiced it to him, he made me feel like I was being irrational/paranoid.\\n\\nEventually it started intruding on my time with my BF. We were out on our anniversary date and he would be messaging her. We would have dinner together and he would send her pictures of his food. Somehow he failed to mention that he had a GF in the entire time they've known each other but I am quite sure neither T nor my BF have done anything physical.\\n\\nAfter he told me, we agreed that he would stop seeing her and cut down on messaging as well. Meeting him in the last few days was hard because as much as I want to forgive him, I am constantly reminded of what he had done...and I don't think he understands how I am struggling because he continues to make jokes about 'her pussy' (she has a cat). He called it his coping mechanism but I couldn't handle feeling the stress of trying to love somebody who has hurt me. So...I told him that we should take a one week break. Don't contact either T or me.\\n\\nHowever this morning he messaged me saying he was going to meet up with her tomorrow. He says this is his way of getting over her...but it just causes me more pain and I don't know if I can trust him.\\nTL;DR: Boyfriend confessed secretly messaging another girl leading to mutual break for a while..what else can I do right now to cope?\"]]\n"
          ]
        },
        {
          "output_type": "stream",
          "name": "stderr",
          "text": [
            "Setting `pad_token_id` to `eos_token_id`:2 for open-end generation.\n",
            "Setting `pad_token_id` to `eos_token_id`:2 for open-end generation.\n",
            "Setting `pad_token_id` to `eos_token_id`:2 for open-end generation.\n",
            "Setting `pad_token_id` to `eos_token_id`:2 for open-end generation.\n"
          ]
        },
        {
          "output_type": "stream",
          "name": "stdout",
          "text": [
            "\n",
            "Outputs for input 79:  [['SUBREDDIT: r/relationships\\nTITLE: Me [25 F] with my boyfriend [24 M] of 4.5 years, have not seen or spoken to each other (besides a few texts here and there) for 2 months.(Story in comments)\\nPOST: Been dating the same guy for 4.5 years. He lives a little over an hour away. We were really close in the beginning. Over the past two years, there has been a decline. I have addressed this multiple times and he refuses to work on the relationship and sometimes just ignores me. \\n\\nEventually, it became that every time we saw each other he would mainly play video games. Later, he joined a band. I went to see the band once. No one in the band knew that he had a girlfriend and felt uncomfortable that I was around. I later had to tell them I was the girlfriend to which they replied ,\"Sorry, we didn\\'t know he had a girlfriend.\" We always had each other\\'s facebook passwords as a form trust. He changed his facebook password and had me walk to the otherside of the room as he typed his info in. I tried to ask him about this and just changed the subject.\\n\\nOver the past two months, he has made no effort to see me. He has never called me. He did not acknowledge Valentine\\'s day or my birthday. There have been a few texts here and there ,but nothing of real substance. About a week ago he sent he a picture of a glass he bought. I said \"cool\" and that was the end of the conversation.\\n\\nThe question is; should I try to mend things or just break-up? If I do break-up, how should I do it?\\nTL;DR: Boyfriend will not work on the relationship nor make any attempts to fix it. Should I try mending things with our break up?'], ['SUBREDDIT: r/relationships\\nTITLE: Me [25 F] with my boyfriend [24 M] of 4.5 years, have not seen or spoken to each other (besides a few texts here and there) for 2 months.(Story in comments)\\nPOST: Been dating the same guy for 4.5 years. He lives a little over an hour away. We were really close in the beginning. Over the past two years, there has been a decline. I have addressed this multiple times and he refuses to work on the relationship and sometimes just ignores me. \\n\\nEventually, it became that every time we saw each other he would mainly play video games. Later, he joined a band. I went to see the band once. No one in the band knew that he had a girlfriend and felt uncomfortable that I was around. I later had to tell them I was the girlfriend to which they replied ,\"Sorry, we didn\\'t know he had a girlfriend.\" We always had each other\\'s facebook passwords as a form trust. He changed his facebook password and had me walk to the otherside of the room as he typed his info in. I tried to ask him about this and just changed the subject.\\n\\nOver the past two months, he has made no effort to see me. He has never called me. He did not acknowledge Valentine\\'s day or my birthday. There have been a few texts here and there ,but nothing of real substance. About a week ago he sent he a picture of a glass he bought. I said \"cool\" and that was the end of the conversation.\\n\\nThe question is; should I try to mend things or just break-up? If I do break-up, how should I do it?\\nTL;DR: My boyfriend of four years has become distant but still talks to me a tad.. Do I fight for our old relationship and try to make things right?'], ['SUBREDDIT: r/relationships\\nTITLE: Me [25 F] with my boyfriend [24 M] of 4.5 years, have not seen or spoken to each other (besides a few texts here and there) for 2 months.(Story in comments)\\nPOST: Been dating the same guy for 4.5 years. He lives a little over an hour away. We were really close in the beginning. Over the past two years, there has been a decline. I have addressed this multiple times and he refuses to work on the relationship and sometimes just ignores me. \\n\\nEventually, it became that every time we saw each other he would mainly play video games. Later, he joined a band. I went to see the band once. No one in the band knew that he had a girlfriend and felt uncomfortable that I was around. I later had to tell them I was the girlfriend to which they replied ,\"Sorry, we didn\\'t know he had a girlfriend.\" We always had each other\\'s facebook passwords as a form trust. He changed his facebook password and had me walk to the otherside of the room as he typed his info in. I tried to ask him about this and just changed the subject.\\n\\nOver the past two months, he has made no effort to see me. He has never called me. He did not acknowledge Valentine\\'s day or my birthday. There have been a few texts here and there ,but nothing of real substance. About a week ago he sent he a picture of a glass he bought. I said \"cool\" and that was the end of the conversation.\\n\\nThe question is; should I try to mend things or just break-up? If I do break-up, how should I do it?\\nTL;DR: See eachother only sometimes, haven\\'t heard from boyfriend since December or talked to him in person two months. How should I break up or mend things?'], ['SUBREDDIT: r/relationships\\nTITLE: Me [25 F] with my boyfriend [24 M] of 4.5 years, have not seen or spoken to each other (besides a few texts here and there) for 2 months.(Story in comments)\\nPOST: Been dating the same guy for 4.5 years. He lives a little over an hour away. We were really close in the beginning. Over the past two years, there has been a decline. I have addressed this multiple times and he refuses to work on the relationship and sometimes just ignores me. \\n\\nEventually, it became that every time we saw each other he would mainly play video games. Later, he joined a band. I went to see the band once. No one in the band knew that he had a girlfriend and felt uncomfortable that I was around. I later had to tell them I was the girlfriend to which they replied ,\"Sorry, we didn\\'t know he had a girlfriend.\" We always had each other\\'s facebook passwords as a form trust. He changed his facebook password and had me walk to the otherside of the room as he typed his info in. I tried to ask him about this and just changed the subject.\\n\\nOver the past two months, he has made no effort to see me. He has never called me. He did not acknowledge Valentine\\'s day or my birthday. There have been a few texts here and there ,but nothing of real substance. About a week ago he sent he a picture of a glass he bought. I said \"cool\" and that was the end of the conversation.\\n\\nThe question is; should I try to mend things or just break-up? If I do break-up, how should I do it?\\nTL;DR: Boyfriend of four years stopped talking or seeing me two months ago over no good reason. Should I give up on the relationship or hope that maybe he will come back?']]\n"
          ]
        },
        {
          "output_type": "stream",
          "name": "stderr",
          "text": [
            "Setting `pad_token_id` to `eos_token_id`:2 for open-end generation.\n",
            "Setting `pad_token_id` to `eos_token_id`:2 for open-end generation.\n",
            "Setting `pad_token_id` to `eos_token_id`:2 for open-end generation.\n",
            "Setting `pad_token_id` to `eos_token_id`:2 for open-end generation.\n"
          ]
        },
        {
          "output_type": "stream",
          "name": "stdout",
          "text": [
            "\n",
            "Outputs for input 80:  [[\"SUBREDDIT: r/relationships\\nTITLE: I [f23] don't want to go on a second date with [m24]. He is angry and thinks I'm shallow\\nPOST: A month ago I met a 24M on Okcupid. We liked each others pictures and hit it off, and so went on the date.\\n\\nThe date was... Cringeworthy. First off he was 5'5 at most instead of 5'9 like he said he was. I'm a 5'7 female, not a freakishly tall woman ny any means, but I do look for a man who is at least my hight or taller. I don't think that's unreasonable. I mean, I'm slightly overweight and I don't expect great abs or CQ model looks. But I won't date shorter than me.\\n\\nThe guy, lets call him Josh, made me uncomfortable throughout the entire date. He made sexual comments, asked me about my sexual past etc. He played a cheesy song, wrote a crappy poem for me at the restaurant and said he loved me...\\n\\nI was really annoyed with him. When the bill came I planned on splitting it, but he had forgotten his wallet and I ended up paying. He asked me for another date but I told him we weren't compatible and thanked him for the evening. He seemed okay, but then he started texting me, asking if it was because of his height. I told him it wasn't. He sent me an angry message about how I am only a a 6\\\\10 and that women only want 6'5 guys and that he had to lie on dating sites.\\n\\nHonestly yes, his height is a turn off but his behavior is more so. He now texts me about once a day and tries to convince me to 'be friends'. I don't want anything to do with him. What can I do?\\nTL;DR: Went out with a short man who talked weird throughout our first date (think awkward movie scenes where everyone is silent). Now he sends me messages about being shallow because of my height requirement\"], [\"SUBREDDIT: r/relationships\\nTITLE: I [f23] don't want to go on a second date with [m24]. He is angry and thinks I'm shallow\\nPOST: A month ago I met a 24M on Okcupid. We liked each others pictures and hit it off, and so went on the date.\\n\\nThe date was... Cringeworthy. First off he was 5'5 at most instead of 5'9 like he said he was. I'm a 5'7 female, not a freakishly tall woman ny any means, but I do look for a man who is at least my hight or taller. I don't think that's unreasonable. I mean, I'm slightly overweight and I don't expect great abs or CQ model looks. But I won't date shorter than me.\\n\\nThe guy, lets call him Josh, made me uncomfortable throughout the entire date. He made sexual comments, asked me about my sexual past etc. He played a cheesy song, wrote a crappy poem for me at the restaurant and said he loved me...\\n\\nI was really annoyed with him. When the bill came I planned on splitting it, but he had forgotten his wallet and I ended up paying. He asked me for another date but I told him we weren't compatible and thanked him for the evening. He seemed okay, but then he started texting me, asking if it was because of his height. I told him it wasn't. He sent me an angry message about how I am only a a 6\\\\10 and that women only want 6'5 guys and that he had to lie on dating sites.\\n\\nHonestly yes, his height is a turn off but his behavior is more so. He now texts me about once a day and tries to convince me to 'be friends'. I don't want anything to do with him. What can I do?\\nTL;DR: Man is shorter than his profile says. Behaves inapproprially. Wants a relationship despite not fitting what I look for in a guy\"], [\"SUBREDDIT: r/relationships\\nTITLE: I [f23] don't want to go on a second date with [m24]. He is angry and thinks I'm shallow\\nPOST: A month ago I met a 24M on Okcupid. We liked each others pictures and hit it off, and so went on the date.\\n\\nThe date was... Cringeworthy. First off he was 5'5 at most instead of 5'9 like he said he was. I'm a 5'7 female, not a freakishly tall woman ny any means, but I do look for a man who is at least my hight or taller. I don't think that's unreasonable. I mean, I'm slightly overweight and I don't expect great abs or CQ model looks. But I won't date shorter than me.\\n\\nThe guy, lets call him Josh, made me uncomfortable throughout the entire date. He made sexual comments, asked me about my sexual past etc. He played a cheesy song, wrote a crappy poem for me at the restaurant and said he loved me...\\n\\nI was really annoyed with him. When the bill came I planned on splitting it, but he had forgotten his wallet and I ended up paying. He asked me for another date but I told him we weren't compatible and thanked him for the evening. He seemed okay, but then he started texting me, asking if it was because of his height. I told him it wasn't. He sent me an angry message about how I am only a a 6\\\\10 and that women only want 6'5 guys and that he had to lie on dating sites.\\n\\nHonestly yes, his height is a turn off but his behavior is more so. He now texts me about once a day and tries to convince me to 'be friends'. I don't want anything to do with him. What can I do?\\nTL;DR: Went on bad date with shorter guy. Turned him down nicely but now he seems mad and keeps persisting to be my friend\"], [\"SUBREDDIT: r/relationships\\nTITLE: I [f23] don't want to go on a second date with [m24]. He is angry and thinks I'm shallow\\nPOST: A month ago I met a 24M on Okcupid. We liked each others pictures and hit it off, and so went on the date.\\n\\nThe date was... Cringeworthy. First off he was 5'5 at most instead of 5'9 like he said he was. I'm a 5'7 female, not a freakishly tall woman ny any means, but I do look for a man who is at least my hight or taller. I don't think that's unreasonable. I mean, I'm slightly overweight and I don't expect great abs or CQ model looks. But I won't date shorter than me.\\n\\nThe guy, lets call him Josh, made me uncomfortable throughout the entire date. He made sexual comments, asked me about my sexual past etc. He played a cheesy song, wrote a crappy poem for me at the restaurant and said he loved me...\\n\\nI was really annoyed with him. When the bill came I planned on splitting it, but he had forgotten his wallet and I ended up paying. He asked me for another date but I told him we weren't compatible and thanked him for the evening. He seemed okay, but then he started texting me, asking if it was because of his height. I told him it wasn't. He sent me an angry message about how I am only a a 6\\\\10 and that women only want 6'5 guys and that he had to lie on dating sites.\\n\\nHonestly yes, his height is a turn off but his behavior is more so. He now texts me about once a day and tries to convince me to 'be friends'. I don't want anything to do with him. What can I do?\\nTL;DR: Okcupid creeper didn't lie about his height, but lied about what attracted him to OKC users (he thought they were more likely to be interested in men who lied about their height)\"]]\n"
          ]
        },
        {
          "output_type": "stream",
          "name": "stderr",
          "text": [
            "Setting `pad_token_id` to `eos_token_id`:2 for open-end generation.\n",
            "Setting `pad_token_id` to `eos_token_id`:2 for open-end generation.\n",
            "Setting `pad_token_id` to `eos_token_id`:2 for open-end generation.\n",
            "Setting `pad_token_id` to `eos_token_id`:2 for open-end generation.\n"
          ]
        },
        {
          "output_type": "stream",
          "name": "stdout",
          "text": [
            "\n",
            "Outputs for input 81:  [['SUBREDDIT: r/relationships\\nTITLE: We\\'ve said I love you...but I feel like we should say it more?\\nPOST: My boyfriend and I are both 18 and have been dating for almost 9 months. He said \"I love you\" first after about 7 months and I said it back (I had known I love him for a few months but didn\\'t want my saying it to pressure him since this is his first relationship). Since then I\\'ve said it like \"goodnight I love you\" and he says it back but I noticed he doesn\\'t say it first. He\\'s probably only said it like 4 times since the first time. I\\'m not sure how to talk to him about it because I don\\'t want to seem weird like \"hey I think we should say \\'I love you\\' more\" but I also get really self conscious always saying it first in order to hear it back. I guess the only plus is that its really special when I hear it since its not very often but I also feel really sad when I want to say it but feel like he\\'ll just say it back because I said it. Pleaseee help! Or tell me how often other people in relationships say \\'I love you\\'\\nTL;DR: My bf says \"I love you\" less than me. Want to ask if its weird or if hes not into our relationship.'], ['SUBREDDIT: r/relationships\\nTITLE: We\\'ve said I love you...but I feel like we should say it more?\\nPOST: My boyfriend and I are both 18 and have been dating for almost 9 months. He said \"I love you\" first after about 7 months and I said it back (I had known I love him for a few months but didn\\'t want my saying it to pressure him since this is his first relationship). Since then I\\'ve said it like \"goodnight I love you\" and he says it back but I noticed he doesn\\'t say it first. He\\'s probably only said it like 4 times since the first time. I\\'m not sure how to talk to him about it because I don\\'t want to seem weird like \"hey I think we should say \\'I love you\\' more\" but I also get really self conscious always saying it first in order to hear it back. I guess the only plus is that its really special when I hear it since its not very often but I also feel really sad when I want to say it but feel like he\\'ll just say it back because I said it. Pleaseee help! Or tell me how often other people in relationships say \\'I love you\\'\\nTL;DR: Boyfriend hardly ever says I love you, yet I do all the time. How can i approach topic respectfully without pressuring or making him uncomfortable/feel bad'], ['SUBREDDIT: r/relationships\\nTITLE: We\\'ve said I love you...but I feel like we should say it more?\\nPOST: My boyfriend and I are both 18 and have been dating for almost 9 months. He said \"I love you\" first after about 7 months and I said it back (I had known I love him for a few months but didn\\'t want my saying it to pressure him since this is his first relationship). Since then I\\'ve said it like \"goodnight I love you\" and he says it back but I noticed he doesn\\'t say it first. He\\'s probably only said it like 4 times since the first time. I\\'m not sure how to talk to him about it because I don\\'t want to seem weird like \"hey I think we should say \\'I love you\\' more\" but I also get really self conscious always saying it first in order to hear it back. I guess the only plus is that its really special when I hear it since its not very often but I also feel really sad when I want to say it but feel like he\\'ll just say it back because I said it. Pleaseee help! Or tell me how often other people in relationships say \\'I love you\\'\\nTL;DR: He says I love you ~4 times since our 7 month mark where we agreed on it with a kiss, but I usually end up saying it. Should I confront him or...??'], ['SUBREDDIT: r/relationships\\nTITLE: We\\'ve said I love you...but I feel like we should say it more?\\nPOST: My boyfriend and I are both 18 and have been dating for almost 9 months. He said \"I love you\" first after about 7 months and I said it back (I had known I love him for a few months but didn\\'t want my saying it to pressure him since this is his first relationship). Since then I\\'ve said it like \"goodnight I love you\" and he says it back but I noticed he doesn\\'t say it first. He\\'s probably only said it like 4 times since the first time. I\\'m not sure how to talk to him about it because I don\\'t want to seem weird like \"hey I think we should say \\'I love you\\' more\" but I also get really self conscious always saying it first in order to hear it back. I guess the only plus is that its really special when I hear it since its not very often but I also feel really sad when I want to say it but feel like he\\'ll just say it back because I said it. Pleaseee help! Or tell me how often other people in relationships say \\'I love you\\'\\nTL;DR: I love you was said once 2 months into relationship and since then rarely said. How much is normal in showing this emotion between us as young lovers who already know we love eachother?']]\n"
          ]
        },
        {
          "output_type": "stream",
          "name": "stderr",
          "text": [
            "Setting `pad_token_id` to `eos_token_id`:2 for open-end generation.\n",
            "Setting `pad_token_id` to `eos_token_id`:2 for open-end generation.\n",
            "Setting `pad_token_id` to `eos_token_id`:2 for open-end generation.\n",
            "Setting `pad_token_id` to `eos_token_id`:2 for open-end generation.\n"
          ]
        },
        {
          "output_type": "stream",
          "name": "stdout",
          "text": [
            "\n",
            "Outputs for input 82:  [[\"SUBREDDIT: r/AskReddit\\nTITLE: Is windows 8 as a primary os sort of ready yet?\\nPOST: So As of late I've had a large stroke of bad luck and today my windows decided to go nuts. Upon starting up my laptop this morning I got a few errors, looking them  up and trying to fix them I got rid of them. 10 minutes later I got a windows update so I restarted my laptop, windows 7 bootscreen comes up then a blue screen of death decides to show up. Thinking the BSOD was a fluke I restarted again and I got the loginscreen, logged in, desktop was starting up as slow as hell and then again a BSOD...\\n\\nSo after a hard long search for my Windows 7 disk, I find out that it was thrown away a long while ago with the key... As I am against pirating, I'm probably going to buy windows 7 again but I remembered that the consumer version of Windows 8 is already here...\\nTL;DR: Will Windows 8 run fine on a computer from early 2011 or should I have gotten more than 16 gigs of RAM instead...\"], [\"SUBREDDIT: r/AskReddit\\nTITLE: Is windows 8 as a primary os sort of ready yet?\\nPOST: So As of late I've had a large stroke of bad luck and today my windows decided to go nuts. Upon starting up my laptop this morning I got a few errors, looking them  up and trying to fix them I got rid of them. 10 minutes later I got a windows update so I restarted my laptop, windows 7 bootscreen comes up then a blue screen of death decides to show up. Thinking the BSOD was a fluke I restarted again and I got the loginscreen, logged in, desktop was starting up as slow as hell and then again a BSOD...\\n\\nSo after a hard long search for my Windows 7 disk, I find out that it was thrown away a long while ago with the key... As I am against pirating, I'm probably going to buy windows 7 again but I remembered that the consumer version of Windows 8 is already here...\\nTL;DR: Got myself blue screens for no reason twice and now I think 8 might not be all that bad as I thought earlier\"], [\"SUBREDDIT: r/AskReddit\\nTITLE: Is windows 8 as a primary os sort of ready yet?\\nPOST: So As of late I've had a large stroke of bad luck and today my windows decided to go nuts. Upon starting up my laptop this morning I got a few errors, looking them  up and trying to fix them I got rid of them. 10 minutes later I got a windows update so I restarted my laptop, windows 7 bootscreen comes up then a blue screen of death decides to show up. Thinking the BSOD was a fluke I restarted again and I got the loginscreen, logged in, desktop was starting up as slow as hell and then again a BSOD...\\n\\nSo after a hard long search for my Windows 7 disk, I find out that it was thrown away a long while ago with the key... As I am against pirating, I'm probably going to buy windows 7 again but I remembered that the consumer version of Windows 8 is already here...\\nTL;DR: My laptop won't run Win 7 anymore. Should i bother buying Win 7 or just get win 8 from the store when it comes out.\"], [\"SUBREDDIT: r/AskReddit\\nTITLE: Is windows 8 as a primary os sort of ready yet?\\nPOST: So As of late I've had a large stroke of bad luck and today my windows decided to go nuts. Upon starting up my laptop this morning I got a few errors, looking them  up and trying to fix them I got rid of them. 10 minutes later I got a windows update so I restarted my laptop, windows 7 bootscreen comes up then a blue screen of death decides to show up. Thinking the BSOD was a fluke I restarted again and I got the loginscreen, logged in, desktop was starting up as slow as hell and then again a BSOD...\\n\\nSo after a hard long search for my Windows 7 disk, I find out that it was thrown away a long while ago with the key... As I am against pirating, I'm probably going to buy windows 7 again but I remembered that the consumer version of Windows 8 is already here...\\nTL;DR: If money wasn't an issue(Its not a high end rig to be honest) would you get windows 8 or stick with windows 7 and make sure that the key doesn't disappear off your laptop some day?\"]]\n"
          ]
        },
        {
          "output_type": "stream",
          "name": "stderr",
          "text": [
            "Setting `pad_token_id` to `eos_token_id`:2 for open-end generation.\n",
            "Setting `pad_token_id` to `eos_token_id`:2 for open-end generation.\n",
            "Setting `pad_token_id` to `eos_token_id`:2 for open-end generation.\n",
            "Setting `pad_token_id` to `eos_token_id`:2 for open-end generation.\n"
          ]
        },
        {
          "output_type": "stream",
          "name": "stdout",
          "text": [
            "\n",
            "Outputs for input 83:  [[\"SUBREDDIT: r/relationships\\nTITLE: Me [26 F] with my ?? [27/28 M] 5mo, I like him more and it sucks.\\nPOST: I think I need a kick in the pants.\\n\\nA few months ago I started having sex with a (not close at all) friend and everything was good. We were both recently out of relationships and it was fun. I caught the feels and things started going downhill from there. At that point we discussed it and concluded there were feelings on both ends but unsure about starting an actual relationship (he didn't want to, I didn't know). \\n\\nBut now it's obvious I like him more and it sucks. When we're together it's good but when we're not it's not good at all. We used to hang out a lot but lately not much at all, due to him. When he doesn't want to, I get upset. Often I hide it but occasionally it bubbles out and I ask him to just tell it like it is if he doesn't like me anymore. It makes me feel insane but I can't seem to help it. After a while, I calm down, but as soon as I think I'm okay, I get sucked right back in.\\n\\nIronically I've been casually dating another guy about the same amount of time and we're in opposing positions - he likes me more and I'm on the fence. It makes me feel guilty when I'm upset about the first guy and don't have the energy to give the second any attention. \\n\\nJust in case of questions, neither knows about the other, but both know we're not exclusive.\\n\\nI'm not sure what I want out of this or either of them. I wish things were back to earlier in the summer when everything was just for fun, or that I could take a step back emotionally.\\nTL;DR: The friend I used to fuck turned into something deeper and now isn't working out how it used to. Advice/tips?\"], [\"SUBREDDIT: r/relationships\\nTITLE: Me [26 F] with my ?? [27/28 M] 5mo, I like him more and it sucks.\\nPOST: I think I need a kick in the pants.\\n\\nA few months ago I started having sex with a (not close at all) friend and everything was good. We were both recently out of relationships and it was fun. I caught the feels and things started going downhill from there. At that point we discussed it and concluded there were feelings on both ends but unsure about starting an actual relationship (he didn't want to, I didn't know). \\n\\nBut now it's obvious I like him more and it sucks. When we're together it's good but when we're not it's not good at all. We used to hang out a lot but lately not much at all, due to him. When he doesn't want to, I get upset. Often I hide it but occasionally it bubbles out and I ask him to just tell it like it is if he doesn't like me anymore. It makes me feel insane but I can't seem to help it. After a while, I calm down, but as soon as I think I'm okay, I get sucked right back in.\\n\\nIronically I've been casually dating another guy about the same amount of time and we're in opposing positions - he likes me more and I'm on the fence. It makes me feel guilty when I'm upset about the first guy and don't have the energy to give the second any attention. \\n\\nJust in case of questions, neither knows about the other, but both know we're not exclusive.\\n\\nI'm not sure what I want out of this or either of them. I wish things were back to earlier in the summer when everything was just for fun, or that I could take a step back emotionally.\\nTL;DR: One guy likes me more than the other who might be into me, except lately I like him so much more I may end up giving them to each other eventually...\"], [\"SUBREDDIT: r/relationships\\nTITLE: Me [26 F] with my ?? [27/28 M] 5mo, I like him more and it sucks.\\nPOST: I think I need a kick in the pants.\\n\\nA few months ago I started having sex with a (not close at all) friend and everything was good. We were both recently out of relationships and it was fun. I caught the feels and things started going downhill from there. At that point we discussed it and concluded there were feelings on both ends but unsure about starting an actual relationship (he didn't want to, I didn't know). \\n\\nBut now it's obvious I like him more and it sucks. When we're together it's good but when we're not it's not good at all. We used to hang out a lot but lately not much at all, due to him. When he doesn't want to, I get upset. Often I hide it but occasionally it bubbles out and I ask him to just tell it like it is if he doesn't like me anymore. It makes me feel insane but I can't seem to help it. After a while, I calm down, but as soon as I think I'm okay, I get sucked right back in.\\n\\nIronically I've been casually dating another guy about the same amount of time and we're in opposing positions - he likes me more and I'm on the fence. It makes me feel guilty when I'm upset about the first guy and don't have the energy to give the second any attention. \\n\\nJust in case of questions, neither knows about the other, but both know we're not exclusive.\\n\\nI'm not sure what I want out of this or either of them. I wish things were back to earlier in the summer when everything was just for fun, or that I could take a step back emotionally.\\nTL;DR: Not sure how to handle two guys who are both attracted but aren't ready to start dating yet. Feeling insane.\"], [\"SUBREDDIT: r/relationships\\nTITLE: Me [26 F] with my ?? [27/28 M] 5mo, I like him more and it sucks.\\nPOST: I think I need a kick in the pants.\\n\\nA few months ago I started having sex with a (not close at all) friend and everything was good. We were both recently out of relationships and it was fun. I caught the feels and things started going downhill from there. At that point we discussed it and concluded there were feelings on both ends but unsure about starting an actual relationship (he didn't want to, I didn't know). \\n\\nBut now it's obvious I like him more and it sucks. When we're together it's good but when we're not it's not good at all. We used to hang out a lot but lately not much at all, due to him. When he doesn't want to, I get upset. Often I hide it but occasionally it bubbles out and I ask him to just tell it like it is if he doesn't like me anymore. It makes me feel insane but I can't seem to help it. After a while, I calm down, but as soon as I think I'm okay, I get sucked right back in.\\n\\nIronically I've been casually dating another guy about the same amount of time and we're in opposing positions - he likes me more and I'm on the fence. It makes me feel guilty when I'm upset about the first guy and don't have the energy to give the second any attention. \\n\\nJust in case of questions, neither knows about the other, but both know we're not exclusive.\\n\\nI'm not sure what I want out of this or either of them. I wish things were back to earlier in the summer when everything was just for fun, or that I could take a step back emotionally.\\nTL;DR: Likes dude more than vice versa, making myself crazy and ruining both situations. How do I stop?\"]]\n"
          ]
        },
        {
          "output_type": "stream",
          "name": "stderr",
          "text": [
            "Setting `pad_token_id` to `eos_token_id`:2 for open-end generation.\n",
            "Setting `pad_token_id` to `eos_token_id`:2 for open-end generation.\n",
            "Setting `pad_token_id` to `eos_token_id`:2 for open-end generation.\n",
            "Setting `pad_token_id` to `eos_token_id`:2 for open-end generation.\n"
          ]
        },
        {
          "output_type": "stream",
          "name": "stdout",
          "text": [
            "\n",
            "Outputs for input 84:  [[\"SUBREDDIT: r/AskReddit\\nTITLE: What's the best/most memorable wedding you've ever been to, and why?\\nPOST: I'm helping my best friend plan her wedding. Never planned anything like a wedding before. I was hoping there would be a /r/weddingporn subreddit like /r/foodporn and /r/roomporn, but I can't find anything like that. So I thought I'd ask the hive mind: what was the most memorable wedding you've ever been to, and why? \\n\\nI'm looking for inspiration and hoping your stories give me ideas. My friend isn't religious, but she's into the idea of incorporating cool wedding customs from other cultures/religions/etc., if we can make them meaningful to her.\\n\\nObviously she's on a budget and not hiring a real wedding planner, but I would still love to hear stories about crazy, outrageous, big weddings because we might be able to figure out ways to do smaller versions of bigger ideas.\\nTL;DR: planning a small indie/hipster/eco-friendly wedding for a really creative friend; hoping that sharing our stories will help us come up with interesting ideas :)\"], ['SUBREDDIT: r/AskReddit\\nTITLE: What\\'s the best/most memorable wedding you\\'ve ever been to, and why?\\nPOST: I\\'m helping my best friend plan her wedding. Never planned anything like a wedding before. I was hoping there would be a /r/weddingporn subreddit like /r/foodporn and /r/roomporn, but I can\\'t find anything like that. So I thought I\\'d ask the hive mind: what was the most memorable wedding you\\'ve ever been to, and why? \\n\\nI\\'m looking for inspiration and hoping your stories give me ideas. My friend isn\\'t religious, but she\\'s into the idea of incorporating cool wedding customs from other cultures/religions/etc., if we can make them meaningful to her.\\n\\nObviously she\\'s on a budget and not hiring a real wedding planner, but I would still love to hear stories about crazy, outrageous, big weddings because we might be able to figure out ways to do smaller versions of bigger ideas.\\nTL;DR: what makes one wedding better than another in terms of \"memorability,\" and has any event or ceremony stuck with you, even years later?'], [\"SUBREDDIT: r/AskReddit\\nTITLE: What's the best/most memorable wedding you've ever been to, and why?\\nPOST: I'm helping my best friend plan her wedding. Never planned anything like a wedding before. I was hoping there would be a /r/weddingporn subreddit like /r/foodporn and /r/roomporn, but I can't find anything like that. So I thought I'd ask the hive mind: what was the most memorable wedding you've ever been to, and why? \\n\\nI'm looking for inspiration and hoping your stories give me ideas. My friend isn't religious, but she's into the idea of incorporating cool wedding customs from other cultures/religions/etc., if we can make them meaningful to her.\\n\\nObviously she's on a budget and not hiring a real wedding planner, but I would still love to hear stories about crazy, outrageous, big weddings because we might be able to figure out ways to do smaller versions of bigger ideas.\\nTL;DR: please share your best weddit pictures and/or tell stories about memorable weddings you went to (the story of how you got engaged would also work)\"], [\"SUBREDDIT: r/AskReddit\\nTITLE: What's the best/most memorable wedding you've ever been to, and why?\\nPOST: I'm helping my best friend plan her wedding. Never planned anything like a wedding before. I was hoping there would be a /r/weddingporn subreddit like /r/foodporn and /r/roomporn, but I can't find anything like that. So I thought I'd ask the hive mind: what was the most memorable wedding you've ever been to, and why? \\n\\nI'm looking for inspiration and hoping your stories give me ideas. My friend isn't religious, but she's into the idea of incorporating cool wedding customs from other cultures/religions/etc., if we can make them meaningful to her.\\n\\nObviously she's on a budget and not hiring a real wedding planner, but I would still love to hear stories about crazy, outrageous, big weddings because we might be able to figure out ways to do smaller versions of bigger ideas.\\nTL;DR: Share your wedding memories with Reddit. Best-of Weddingporn style thread instead of having one dedicated place.\"]]\n"
          ]
        },
        {
          "output_type": "stream",
          "name": "stderr",
          "text": [
            "Setting `pad_token_id` to `eos_token_id`:2 for open-end generation.\n",
            "Setting `pad_token_id` to `eos_token_id`:2 for open-end generation.\n",
            "Setting `pad_token_id` to `eos_token_id`:2 for open-end generation.\n",
            "Setting `pad_token_id` to `eos_token_id`:2 for open-end generation.\n"
          ]
        },
        {
          "output_type": "stream",
          "name": "stdout",
          "text": [
            "\n",
            "Outputs for input 85:  [['SUBREDDIT: r/relationships\\nTITLE: Me [22F] with my bf[23m] been together just over a year, broken up and I cannot help but feel so guilty.\\nPOST: So me and my now ex met online July 2013. From the start I knew he was a really disciplined individual because of his eating habits ( very strict; non GMO, only free range meats etc..), his education and his martial arts career. \\n\\nThings were great up until 4 months ago, we would argue all the time about everything. We would have super intense arguments over the stupidest things like me wearing make up (he thought I looked hideous and super fake) or like me talking about something stressful in my life without warning him first that I was going to do that. He restricted my ability to talk about my stress in life to the weekends because he \"couldn\\'t handle my emotions all the time\" and when it came down to discussing my stress or an argument, he would dissect every emotion to action to reaction to emotion. I just couldn\\'t do that anymore, even after letting him know all I wanted him to do is just to listen, not to analyze in explicit detail everything I was feeling and my actions because of those feelings. \\n\\nI even went to counseling for the last 3 weeks because he said my communication is poor and I don\\'t understand the English Language ( even though it is my first language). I was just going to counseling by myself. He never offered to come along with me. \\n\\nSo I broke up with him yesterday, and it wasn\\'t until I said \" I realized through the counseling that I am just done trying to make us work\" was he then willing to commit and go to counseling and \"Do whatever it takes to keep you here with me\" I didn\\'t give in to that because I feel like if he really did want to make us work, he would have been that committed since the beginning of our problems. \\n\\nBut now I feel really guilty. I feel like I should have given him that opportunity. I don\\'t know if it\\'s just a post break up feeling or if I genuinely made a huge mistake.\\nTL;DR: Broke up with my bf of 1 year , now I\\'m thinking I might regret breaking up with his commitment to counseling .'], ['SUBREDDIT: r/relationships\\nTITLE: Me [22F] with my bf[23m] been together just over a year, broken up and I cannot help but feel so guilty.\\nPOST: So me and my now ex met online July 2013. From the start I knew he was a really disciplined individual because of his eating habits ( very strict; non GMO, only free range meats etc..), his education and his martial arts career. \\n\\nThings were great up until 4 months ago, we would argue all the time about everything. We would have super intense arguments over the stupidest things like me wearing make up (he thought I looked hideous and super fake) or like me talking about something stressful in my life without warning him first that I was going to do that. He restricted my ability to talk about my stress in life to the weekends because he \"couldn\\'t handle my emotions all the time\" and when it came down to discussing my stress or an argument, he would dissect every emotion to action to reaction to emotion. I just couldn\\'t do that anymore, even after letting him know all I wanted him to do is just to listen, not to analyze in explicit detail everything I was feeling and my actions because of those feelings. \\n\\nI even went to counseling for the last 3 weeks because he said my communication is poor and I don\\'t understand the English Language ( even though it is my first language). I was just going to counseling by myself. He never offered to come along with me. \\n\\nSo I broke up with him yesterday, and it wasn\\'t until I said \" I realized through the counseling that I am just done trying to make us work\" was he then willing to commit and go to counseling and \"Do whatever it takes to keep you here with me\" I didn\\'t give in to that because I feel like if he really did want to make us work, he would have been that committed since the beginning of our problems. \\n\\nBut now I feel really guilty. I feel like I should have given him that opportunity. I don\\'t know if it\\'s just a post break up feeling or if I genuinely made a huge mistake.\\nTL;DR: Broke up with boyfriend because after four months of arguments I decided I can\\'t keep doing this and now feel extremely guilty not giving my bf another chance after giving him a ultimatum'], ['SUBREDDIT: r/relationships\\nTITLE: Me [22F] with my bf[23m] been together just over a year, broken up and I cannot help but feel so guilty.\\nPOST: So me and my now ex met online July 2013. From the start I knew he was a really disciplined individual because of his eating habits ( very strict; non GMO, only free range meats etc..), his education and his martial arts career. \\n\\nThings were great up until 4 months ago, we would argue all the time about everything. We would have super intense arguments over the stupidest things like me wearing make up (he thought I looked hideous and super fake) or like me talking about something stressful in my life without warning him first that I was going to do that. He restricted my ability to talk about my stress in life to the weekends because he \"couldn\\'t handle my emotions all the time\" and when it came down to discussing my stress or an argument, he would dissect every emotion to action to reaction to emotion. I just couldn\\'t do that anymore, even after letting him know all I wanted him to do is just to listen, not to analyze in explicit detail everything I was feeling and my actions because of those feelings. \\n\\nI even went to counseling for the last 3 weeks because he said my communication is poor and I don\\'t understand the English Language ( even though it is my first language). I was just going to counseling by myself. He never offered to come along with me. \\n\\nSo I broke up with him yesterday, and it wasn\\'t until I said \" I realized through the counseling that I am just done trying to make us work\" was he then willing to commit and go to counseling and \"Do whatever it takes to keep you here with me\" I didn\\'t give in to that because I feel like if he really did want to make us work, he would have been that committed since the beginning of our problems. \\n\\nBut now I feel really guilty. I feel like I should have given him that opportunity. I don\\'t know if it\\'s just a post break up feeling or if I genuinely made a huge mistake.\\nTL;DR: Boyfriend of almost a year got too controlling and we argued about basic things constantly. Brought me to counseling and broke up with him on Sunday, despite him offering to see someone beforehand, I still don\\'t think it might be the right thing to go back'], ['SUBREDDIT: r/relationships\\nTITLE: Me [22F] with my bf[23m] been together just over a year, broken up and I cannot help but feel so guilty.\\nPOST: So me and my now ex met online July 2013. From the start I knew he was a really disciplined individual because of his eating habits ( very strict; non GMO, only free range meats etc..), his education and his martial arts career. \\n\\nThings were great up until 4 months ago, we would argue all the time about everything. We would have super intense arguments over the stupidest things like me wearing make up (he thought I looked hideous and super fake) or like me talking about something stressful in my life without warning him first that I was going to do that. He restricted my ability to talk about my stress in life to the weekends because he \"couldn\\'t handle my emotions all the time\" and when it came down to discussing my stress or an argument, he would dissect every emotion to action to reaction to emotion. I just couldn\\'t do that anymore, even after letting him know all I wanted him to do is just to listen, not to analyze in explicit detail everything I was feeling and my actions because of those feelings. \\n\\nI even went to counseling for the last 3 weeks because he said my communication is poor and I don\\'t understand the English Language ( even though it is my first language). I was just going to counseling by myself. He never offered to come along with me. \\n\\nSo I broke up with him yesterday, and it wasn\\'t until I said \" I realized through the counseling that I am just done trying to make us work\" was he then willing to commit and go to counseling and \"Do whatever it takes to keep you here with me\" I didn\\'t give in to that because I feel like if he really did want to make us work, he would have been that committed since the beginning of our problems. \\n\\nBut now I feel really guilty. I feel like I should have given him that opportunity. I don\\'t know if it\\'s just a post break up feeling or if I genuinely made a huge mistake.\\nTL;DR: relationship ended due to too much arguing. I told him this but was unwilling to change anything while we talked through disagreements and now I think I may be regretting it']]\n"
          ]
        },
        {
          "output_type": "stream",
          "name": "stderr",
          "text": [
            "Setting `pad_token_id` to `eos_token_id`:2 for open-end generation.\n",
            "Setting `pad_token_id` to `eos_token_id`:2 for open-end generation.\n",
            "Setting `pad_token_id` to `eos_token_id`:2 for open-end generation.\n",
            "Setting `pad_token_id` to `eos_token_id`:2 for open-end generation.\n"
          ]
        },
        {
          "output_type": "stream",
          "name": "stdout",
          "text": [
            "\n",
            "Outputs for input 86:  [['SUBREDDIT: r/BreakUps\\nTITLE: Me [18m] and my gf [15f] just broke up a few days ago after 2.5 years.. Where do I go now?\\nPOST: I apologize because I\\'m sure people on this thread have read a ton of \"How do I get over her/him\" posts, but this was my first serious relationship, and I am not sure where to begin with continuing my life.\\n\\nBasics: Me and her were dating for 2 and a half years, and we just broke up a few days ago. It wasn\\'t a bad break and we weren\\'t fighting, we had a civil discussion which basicly concluded to the fact that neither of us was truly happy and we needed to move on.\\n\\nMe and this girl have done everything together for the last two years, she comes on family camping trips and vacations with me, she spends a week or more sometimes living at my house, and now I feel kind of lost.\\n\\nI\\'m happy with the break, I know that it\\'s the right thing for me, but I don\\'t want to lose all of the good things that we had in our relationship, and I\\'m not sure if it\\'s healthy to continue hanging out and enjoying the things we enjoy together as friends instead of as a couple.\\n\\nSo my question is, where do I go next? What is my next step? I have an entire summer vacation ahead of me before I start my first year of college, and I don\\'t want to spend it all trying to get over this girl. She was such a huge part of my life, that without her I feel like I\\'m missing part of myself.\\n\\nI\\'m trying to view this, and college starting, as an entire new beginning. I\\'m reconnecting with some old friends, I cut my hair, I\\'ve started yoga and doing some activities I haven\\'t done in a long time.\\nTL;DR: GF and I ended a great relationship 3 days ago, and I need help getting back into the game by learning how to be single again'], ['SUBREDDIT: r/BreakUps\\nTITLE: Me [18m] and my gf [15f] just broke up a few days ago after 2.5 years.. Where do I go now?\\nPOST: I apologize because I\\'m sure people on this thread have read a ton of \"How do I get over her/him\" posts, but this was my first serious relationship, and I am not sure where to begin with continuing my life.\\n\\nBasics: Me and her were dating for 2 and a half years, and we just broke up a few days ago. It wasn\\'t a bad break and we weren\\'t fighting, we had a civil discussion which basicly concluded to the fact that neither of us was truly happy and we needed to move on.\\n\\nMe and this girl have done everything together for the last two years, she comes on family camping trips and vacations with me, she spends a week or more sometimes living at my house, and now I feel kind of lost.\\n\\nI\\'m happy with the break, I know that it\\'s the right thing for me, but I don\\'t want to lose all of the good things that we had in our relationship, and I\\'m not sure if it\\'s healthy to continue hanging out and enjoying the things we enjoy together as friends instead of as a couple.\\n\\nSo my question is, where do I go next? What is my next step? I have an entire summer vacation ahead of me before I start my first year of college, and I don\\'t want to spend it all trying to get over this girl. She was such a huge part of my life, that without her I feel like I\\'m missing part of myself.\\n\\nI\\'m trying to view this, and college starting, as an entire new beginning. I\\'m reconnecting with some old friends, I cut my hair, I\\'ve started yoga and doing some activities I haven\\'t done in a long time.\\nTL;DR: Me and my girlfriend of two and a half years broke up (kinda civilly) and I need help deciding how to continue with my life'], ['SUBREDDIT: r/BreakUps\\nTITLE: Me [18m] and my gf [15f] just broke up a few days ago after 2.5 years.. Where do I go now?\\nPOST: I apologize because I\\'m sure people on this thread have read a ton of \"How do I get over her/him\" posts, but this was my first serious relationship, and I am not sure where to begin with continuing my life.\\n\\nBasics: Me and her were dating for 2 and a half years, and we just broke up a few days ago. It wasn\\'t a bad break and we weren\\'t fighting, we had a civil discussion which basicly concluded to the fact that neither of us was truly happy and we needed to move on.\\n\\nMe and this girl have done everything together for the last two years, she comes on family camping trips and vacations with me, she spends a week or more sometimes living at my house, and now I feel kind of lost.\\n\\nI\\'m happy with the break, I know that it\\'s the right thing for me, but I don\\'t want to lose all of the good things that we had in our relationship, and I\\'m not sure if it\\'s healthy to continue hanging out and enjoying the things we enjoy together as friends instead of as a couple.\\n\\nSo my question is, where do I go next? What is my next step? I have an entire summer vacation ahead of me before I start my first year of college, and I don\\'t want to spend it all trying to get over this girl. She was such a huge part of my life, that without her I feel like I\\'m missing part of myself.\\n\\nI\\'m trying to view this, and college starting, as an entire new beginning. I\\'m reconnecting with some old friends, I cut my hair, I\\'ve started yoga and doing some activities I haven\\'t done in a long time.\\nTL;DR: I need advice on how to stop letting this girl rule every aspect of my life while still maintaining a friendship and keeping all of our shared memories/activities alive.'], ['SUBREDDIT: r/BreakUps\\nTITLE: Me [18m] and my gf [15f] just broke up a few days ago after 2.5 years.. Where do I go now?\\nPOST: I apologize because I\\'m sure people on this thread have read a ton of \"How do I get over her/him\" posts, but this was my first serious relationship, and I am not sure where to begin with continuing my life.\\n\\nBasics: Me and her were dating for 2 and a half years, and we just broke up a few days ago. It wasn\\'t a bad break and we weren\\'t fighting, we had a civil discussion which basicly concluded to the fact that neither of us was truly happy and we needed to move on.\\n\\nMe and this girl have done everything together for the last two years, she comes on family camping trips and vacations with me, she spends a week or more sometimes living at my house, and now I feel kind of lost.\\n\\nI\\'m happy with the break, I know that it\\'s the right thing for me, but I don\\'t want to lose all of the good things that we had in our relationship, and I\\'m not sure if it\\'s healthy to continue hanging out and enjoying the things we enjoy together as friends instead of as a couple.\\n\\nSo my question is, where do I go next? What is my next step? I have an entire summer vacation ahead of me before I start my first year of college, and I don\\'t want to spend it all trying to get over this girl. She was such a huge part of my life, that without her I feel like I\\'m missing part of myself.\\n\\nI\\'m trying to view this, and college starting, as an entire new beginning. I\\'m reconnecting with some old friends, I cut my hair, I\\'ve started yoga and doing some activities I haven\\'t done in a long time.\\nTL;DR: how do I move on from an amazing 2.5 year relationship when its still so hard to not miss the good things about having someone you love around']]\n"
          ]
        },
        {
          "output_type": "stream",
          "name": "stderr",
          "text": [
            "Setting `pad_token_id` to `eos_token_id`:2 for open-end generation.\n",
            "Setting `pad_token_id` to `eos_token_id`:2 for open-end generation.\n",
            "Setting `pad_token_id` to `eos_token_id`:2 for open-end generation.\n",
            "Setting `pad_token_id` to `eos_token_id`:2 for open-end generation.\n"
          ]
        },
        {
          "output_type": "stream",
          "name": "stdout",
          "text": [
            "\n",
            "Outputs for input 87:  [[\"SUBREDDIT: r/relationships\\nTITLE: Gf troubles I (m18)recently found out something about my (18F) gf that is really bothering me\\nPOST: My gf and I have been dating for about a year and 4 months. We have had a good relationship with only a few hiccups, she is my first gf and I am her first bf. Lately I have been hitting the gym with my friend and I have grown close to him and is now my best friend. In recent time we have been talking about masturbation, she has been comfortable about talking about it with me. She was very upset that I watched porn but she would let me, that same day I found out through another friend that she masturbated to the thought of my best friend which in result really angered me and hurt in a way. I thought I was over reacting but I can't seem to get over it. When I asked if it was true she said it was true and  I cussed at her through text and told her to leave me alone, because I just was really upset because he is my best friend. After this I texted her and we were back to normal but then we started to sext and the thought of what happened haunts me and now I can't bare the thought of her. So I told her that I needed space to think and to leave alone for a while, I said this politely and she understood. Now she called me and left a voicemail because I was busy and she said that she was bad at giving me space and was hoping to hear my voice, but that she will leave me alone until I text or call her. So my question is that was my behavior bad? Over reaction? Also what should I do from here?\\nTL;DR: !:gf wanted sex for a long time and when i got over it she did what I didn imagine doing but she agreed to stop doing so\"], [\"SUBREDDIT: r/relationships\\nTITLE: Gf troubles I (m18)recently found out something about my (18F) gf that is really bothering me\\nPOST: My gf and I have been dating for about a year and 4 months. We have had a good relationship with only a few hiccups, she is my first gf and I am her first bf. Lately I have been hitting the gym with my friend and I have grown close to him and is now my best friend. In recent time we have been talking about masturbation, she has been comfortable about talking about it with me. She was very upset that I watched porn but she would let me, that same day I found out through another friend that she masturbated to the thought of my best friend which in result really angered me and hurt in a way. I thought I was over reacting but I can't seem to get over it. When I asked if it was true she said it was true and  I cussed at her through text and told her to leave me alone, because I just was really upset because he is my best friend. After this I texted her and we were back to normal but then we started to sext and the thought of what happened haunts me and now I can't bare the thought of her. So I told her that I needed space to think and to leave alone for a while, I said this politely and she understood. Now she called me and left a voicemail because I was busy and she said that she was bad at giving me space and was hoping to hear my voice, but that she will leave me alone until I text or call her. So my question is that was my behavior bad? Over reaction? Also what should I do from here?\\nTL;DR: talked about my gf(17F) and mutual best friend (M19) and how they sext. And how now I seem uninterested even though I am trying not too..\"], [\"SUBREDDIT: r/relationships\\nTITLE: Gf troubles I (m18)recently found out something about my (18F) gf that is really bothering me\\nPOST: My gf and I have been dating for about a year and 4 months. We have had a good relationship with only a few hiccups, she is my first gf and I am her first bf. Lately I have been hitting the gym with my friend and I have grown close to him and is now my best friend. In recent time we have been talking about masturbation, she has been comfortable about talking about it with me. She was very upset that I watched porn but she would let me, that same day I found out through another friend that she masturbated to the thought of my best friend which in result really angered me and hurt in a way. I thought I was over reacting but I can't seem to get over it. When I asked if it was true she said it was true and  I cussed at her through text and told her to leave me alone, because I just was really upset because he is my best friend. After this I texted her and we were back to normal but then we started to sext and the thought of what happened haunts me and now I can't bare the thought of her. So I told her that I needed space to think and to leave alone for a while, I said this politely and she understood. Now she called me and left a voicemail because I was busy and she said that she was bad at giving me space and was hoping to hear my voice, but that she will leave me alone until I text or call her. So my question is that was my behavior bad? Over reaction? Also what should I do from here?\\nTL;DR: I hit a snag in my one-year relationship with my GF after finding our that she masturbated to thught of my best friend. What should I do next\"], [\"SUBREDDIT: r/relationships\\nTITLE: Gf troubles I (m18)recently found out something about my (18F) gf that is really bothering me\\nPOST: My gf and I have been dating for about a year and 4 months. We have had a good relationship with only a few hiccups, she is my first gf and I am her first bf. Lately I have been hitting the gym with my friend and I have grown close to him and is now my best friend. In recent time we have been talking about masturbation, she has been comfortable about talking about it with me. She was very upset that I watched porn but she would let me, that same day I found out through another friend that she masturbated to the thought of my best friend which in result really angered me and hurt in a way. I thought I was over reacting but I can't seem to get over it. When I asked if it was true she said it was true and  I cussed at her through text and told her to leave me alone, because I just was really upset because he is my best friend. After this I texted her and we were back to normal but then we started to sext and the thought of what happened haunts me and now I can't bare the thought of her. So I told her that I needed space to think and to leave alone for a while, I said this politely and she understood. Now she called me and left a voicemail because I was busy and she said that she was bad at giving me space and was hoping to hear my voice, but that she will leave me alone until I text or call her. So my question is that was my behavior bad? Over reaction? Also what should I do from here?\\nTL;DR: my so wanted to talk dirty but i couldn't bear the thought of someone i loved doing a fantasy scenario of one of my closest friends.\"]]\n"
          ]
        },
        {
          "output_type": "stream",
          "name": "stderr",
          "text": [
            "Setting `pad_token_id` to `eos_token_id`:2 for open-end generation.\n",
            "Setting `pad_token_id` to `eos_token_id`:2 for open-end generation.\n",
            "Setting `pad_token_id` to `eos_token_id`:2 for open-end generation.\n",
            "Setting `pad_token_id` to `eos_token_id`:2 for open-end generation.\n"
          ]
        },
        {
          "output_type": "stream",
          "name": "stdout",
          "text": [
            "\n",
            "Outputs for input 88:  [[\"SUBREDDIT: r/relationships\\nTITLE: I'm [24M] in a long distance relationship with my gf [22F]. I'm not sure how to advance this\\nPOST: We have been together for a year but we live on different continents. She's about to graduate and I've already been working for quite some time. I come visit her every chance I get and I feel like we're really compatible. How would I take this to the next level?\\nI get thoughts of wanting to propose to her, but that would require her to leave her entire life, friends, career future and family away to move in with me. I feel like that's a lot to ask for, but is it? I'm not sure.. \\n\\nI've already brushed indirectly about the subject, asking if she'd want to stay where she is. She said she definitely would want to leave her country, but again, I feel like I'd feel better if I got to know that she's willing to do it because she thinks is right rather than do it because I asked her out of love.\\nTL;DR: LDR GF wants to leave her home, not entirely sure why. Wanting to ask her to marry me before anything can really progress towards marriage\"], [\"SUBREDDIT: r/relationships\\nTITLE: I'm [24M] in a long distance relationship with my gf [22F]. I'm not sure how to advance this\\nPOST: We have been together for a year but we live on different continents. She's about to graduate and I've already been working for quite some time. I come visit her every chance I get and I feel like we're really compatible. How would I take this to the next level?\\nI get thoughts of wanting to propose to her, but that would require her to leave her entire life, friends, career future and family away to move in with me. I feel like that's a lot to ask for, but is it? I'm not sure.. \\n\\nI've already brushed indirectly about the subject, asking if she'd want to stay where she is. She said she definitely would want to leave her country, but again, I feel like I'd feel better if I got to know that she's willing to do it because she thinks is right rather than do it because I asked her out of love.\\nTL;DR: Would you propose or marry your loved one from a far distance just knowing they care enough to think of taking such huge risks to be by there side despite being so far apart\"], [\"SUBREDDIT: r/relationships\\nTITLE: I'm [24M] in a long distance relationship with my gf [22F]. I'm not sure how to advance this\\nPOST: We have been together for a year but we live on different continents. She's about to graduate and I've already been working for quite some time. I come visit her every chance I get and I feel like we're really compatible. How would I take this to the next level?\\nI get thoughts of wanting to propose to her, but that would require her to leave her entire life, friends, career future and family away to move in with me. I feel like that's a lot to ask for, but is it? I'm not sure.. \\n\\nI've already brushed indirectly about the subject, asking if she'd want to stay where she is. She said she definitely would want to leave her country, but again, I feel like I'd feel better if I got to know that she's willing to do it because she thinks is right rather than do it because I asked her out of love.\\nTL;DR: I'm thinking about proposing gf. She wants to be with me (so far). Is it stupid I think of doing this knowing full well what it will cost her?\"], [\"SUBREDDIT: r/relationships\\nTITLE: I'm [24M] in a long distance relationship with my gf [22F]. I'm not sure how to advance this\\nPOST: We have been together for a year but we live on different continents. She's about to graduate and I've already been working for quite some time. I come visit her every chance I get and I feel like we're really compatible. How would I take this to the next level?\\nI get thoughts of wanting to propose to her, but that would require her to leave her entire life, friends, career future and family away to move in with me. I feel like that's a lot to ask for, but is it? I'm not sure.. \\n\\nI've already brushed indirectly about the subject, asking if she'd want to stay where she is. She said she definitely would want to leave her country, but again, I feel like I'd feel better if I got to know that she's willing to do it because she thinks is right rather than do it because I asked her out of love.\\nTL;DR: I love my long distance partner completely and want to spend the rest of my life with her. But before it gets any further, wondering what are your experiences, opinions and advice to take this to another step?\"]]\n"
          ]
        },
        {
          "output_type": "stream",
          "name": "stderr",
          "text": [
            "Setting `pad_token_id` to `eos_token_id`:2 for open-end generation.\n",
            "Setting `pad_token_id` to `eos_token_id`:2 for open-end generation.\n",
            "Setting `pad_token_id` to `eos_token_id`:2 for open-end generation.\n",
            "Setting `pad_token_id` to `eos_token_id`:2 for open-end generation.\n"
          ]
        },
        {
          "output_type": "stream",
          "name": "stdout",
          "text": [
            "\n",
            "Outputs for input 89:  [['SUBREDDIT: r/relationships\\nTITLE: Me [35F] with my boyfriend [38M] 2.5 years, I think I just gave him an ultimatum? **UPDATE**\\nPOST: [Original post.\\n](\\n  \\nWe had breakfast a week later and talked about everything, the house and whatnot, and he said he is working on it and he feels awful about it and doesn\\'t want to lose me and he missed me a lot this week. He said his goal is to be in there by the end of the month and I reiterated that I am willing to help in any way I can, and gave some specific examples of how I would be willing to help.\\n\\nAs of Friday, he is living in his house full-time.\\n\\nHe made a good point about how my eagerness to \"start our life together\" made him feel like I didn\\'t like or appreciate what we have now, which I understand in a way. I had to explain that it wasn\\'t that, it was that I love what we have now so much that I want MORE. i want to transition to more. I think he got that.\\n\\nWe continued it into dinner and he kept mentioning THE PLAN (\"the plan\" being a plan for our future/to propose) again and i was like WHAT IS THE PLAN and he said he couldn\\'t tell me, so I asked for a timeframe at least, and he said he plans to propose by the end of the year (!!!!).\\n\\nI asked him to please tell my PARENTS the plan so they will stop asking me or saying OH MAYBE HE\\'LL PROPOSE on any holiday or special occasion and making me anxious. \\n\\nThen we had really, really good sex.\\nTL;DR: boyfriend is officially moving into his house full-time this week (after 7 weeks of not living in the house), and he wants to get engaged by years end!'], ['SUBREDDIT: r/relationships\\nTITLE: Me [35F] with my boyfriend [38M] 2.5 years, I think I just gave him an ultimatum? **UPDATE**\\nPOST: [Original post.\\n](\\n  \\nWe had breakfast a week later and talked about everything, the house and whatnot, and he said he is working on it and he feels awful about it and doesn\\'t want to lose me and he missed me a lot this week. He said his goal is to be in there by the end of the month and I reiterated that I am willing to help in any way I can, and gave some specific examples of how I would be willing to help.\\n\\nAs of Friday, he is living in his house full-time.\\n\\nHe made a good point about how my eagerness to \"start our life together\" made him feel like I didn\\'t like or appreciate what we have now, which I understand in a way. I had to explain that it wasn\\'t that, it was that I love what we have now so much that I want MORE. i want to transition to more. I think he got that.\\n\\nWe continued it into dinner and he kept mentioning THE PLAN (\"the plan\" being a plan for our future/to propose) again and i was like WHAT IS THE PLAN and he said he couldn\\'t tell me, so I asked for a timeframe at least, and he said he plans to propose by the end of the year (!!!!).\\n\\nI asked him to please tell my PARENTS the plan so they will stop asking me or saying OH MAYBE HE\\'LL PROPOSE on any holiday or special occasion and making me anxious. \\n\\nThen we had really, really good sex.\\nTL;DR: I don\\'t know if boyfriend thought I was giving him an ultimatum but I definitely said what needed to be said after two weeks without hearing from him, then I left him alone to come back a week later - and he immediately lived under one roof full-time.'], ['SUBREDDIT: r/relationships\\nTITLE: Me [35F] with my boyfriend [38M] 2.5 years, I think I just gave him an ultimatum? **UPDATE**\\nPOST: [Original post.\\n](\\n  \\nWe had breakfast a week later and talked about everything, the house and whatnot, and he said he is working on it and he feels awful about it and doesn\\'t want to lose me and he missed me a lot this week. He said his goal is to be in there by the end of the month and I reiterated that I am willing to help in any way I can, and gave some specific examples of how I would be willing to help.\\n\\nAs of Friday, he is living in his house full-time.\\n\\nHe made a good point about how my eagerness to \"start our life together\" made him feel like I didn\\'t like or appreciate what we have now, which I understand in a way. I had to explain that it wasn\\'t that, it was that I love what we have now so much that I want MORE. i want to transition to more. I think he got that.\\n\\nWe continued it into dinner and he kept mentioning THE PLAN (\"the plan\" being a plan for our future/to propose) again and i was like WHAT IS THE PLAN and he said he couldn\\'t tell me, so I asked for a timeframe at least, and he said he plans to propose by the end of the year (!!!!).\\n\\nI asked him to please tell my PARENTS the plan so they will stop asking me or saying OH MAYBE HE\\'LL PROPOSE on any holiday or special occasion and making me anxious. \\n\\nThen we had really, really good sex.\\nTL;DR: Gave him an ULTIMATUM and he moved back home, but was also able to talk things out more calmly than originally planned, and I now know when he will propose, so HOLY SHIT WE ARE SERIOUS NOW'], ['SUBREDDIT: r/relationships\\nTITLE: Me [35F] with my boyfriend [38M] 2.5 years, I think I just gave him an ultimatum? **UPDATE**\\nPOST: [Original post.\\n](\\n  \\nWe had breakfast a week later and talked about everything, the house and whatnot, and he said he is working on it and he feels awful about it and doesn\\'t want to lose me and he missed me a lot this week. He said his goal is to be in there by the end of the month and I reiterated that I am willing to help in any way I can, and gave some specific examples of how I would be willing to help.\\n\\nAs of Friday, he is living in his house full-time.\\n\\nHe made a good point about how my eagerness to \"start our life together\" made him feel like I didn\\'t like or appreciate what we have now, which I understand in a way. I had to explain that it wasn\\'t that, it was that I love what we have now so much that I want MORE. i want to transition to more. I think he got that.\\n\\nWe continued it into dinner and he kept mentioning THE PLAN (\"the plan\" being a plan for our future/to propose) again and i was like WHAT IS THE PLAN and he said he couldn\\'t tell me, so I asked for a timeframe at least, and he said he plans to propose by the end of the year (!!!!).\\n\\nI asked him to please tell my PARENTS the plan so they will stop asking me or saying OH MAYBE HE\\'LL PROPOSE on any holiday or special occasion and making me anxious. \\n\\nThen we had really, really good sex.\\nTL;DR: After giving boyf an ultimatum, BF agreed to move in and has moved in! Boyfriend also wants to plan marriage.']]\n"
          ]
        },
        {
          "output_type": "stream",
          "name": "stderr",
          "text": [
            "Setting `pad_token_id` to `eos_token_id`:2 for open-end generation.\n",
            "Setting `pad_token_id` to `eos_token_id`:2 for open-end generation.\n",
            "Setting `pad_token_id` to `eos_token_id`:2 for open-end generation.\n",
            "Setting `pad_token_id` to `eos_token_id`:2 for open-end generation.\n"
          ]
        },
        {
          "output_type": "stream",
          "name": "stdout",
          "text": [
            "\n",
            "Outputs for input 90:  [[\"SUBREDDIT: r/askwomenadvice\\nTITLE: How do I safely lower my libido?\\nPOST: I'm a 20 year old female and I get that this is only normal considering my age but I can't handle myself anymore. I have never had sex and don't plan on it right now due to body issues etc. I masturbate everyday and sometimes more than once. I stopped watching porn because its unfulfilling and instead sext/phone sex with a guy friend of mine. I've been regularly going to the gym. Eating mostly healthy and sleeping the right amount. But regardless of all this, I feel horny almost all the time, especially with this guy friend. I've come to the point where I feel I need sex and having had a bad experience before and where I am with my self image right now, I can't get myself to participate in sexual intercourse. Please let me know of any ways I can help lower my libido. Thank you\\nTL;DR: Feeling extremely horny most of the time. Would like tips on how to lower my own libido. Thanks so much.\"], [\"SUBREDDIT: r/askwomenadvice\\nTITLE: How do I safely lower my libido?\\nPOST: I'm a 20 year old female and I get that this is only normal considering my age but I can't handle myself anymore. I have never had sex and don't plan on it right now due to body issues etc. I masturbate everyday and sometimes more than once. I stopped watching porn because its unfulfilling and instead sext/phone sex with a guy friend of mine. I've been regularly going to the gym. Eating mostly healthy and sleeping the right amount. But regardless of all this, I feel horny almost all the time, especially with this guy friend. I've come to the point where I feel I need sex and having had a bad experience before and where I am with my self image right now, I can't get myself to participate in sexual intercourse. Please let me know of any ways I can help lower my libido. Thank you\\nTL;DR: Wanna lower libido without quitting masturbating or phone sex, no birth control either due to health insurance (USA) being terrible\"], [\"SUBREDDIT: r/askwomenadvice\\nTITLE: How do I safely lower my libido?\\nPOST: I'm a 20 year old female and I get that this is only normal considering my age but I can't handle myself anymore. I have never had sex and don't plan on it right now due to body issues etc. I masturbate everyday and sometimes more than once. I stopped watching porn because its unfulfilling and instead sext/phone sex with a guy friend of mine. I've been regularly going to the gym. Eating mostly healthy and sleeping the right amount. But regardless of all this, I feel horny almost all the time, especially with this guy friend. I've come to the point where I feel I need sex and having had a bad experience before and where I am with my self image right now, I can't get myself to participate in sexual intercourse. Please let me know of any ways I can help lower my libido. Thank you\\nTL;DR: Horny all the time due to lack of sex. Want tips to bring libido down as I dont plan on having sex anytime soon.\"], [\"SUBREDDIT: r/askwomenadvice\\nTITLE: How do I safely lower my libido?\\nPOST: I'm a 20 year old female and I get that this is only normal considering my age but I can't handle myself anymore. I have never had sex and don't plan on it right now due to body issues etc. I masturbate everyday and sometimes more than once. I stopped watching porn because its unfulfilling and instead sext/phone sex with a guy friend of mine. I've been regularly going to the gym. Eating mostly healthy and sleeping the right amount. But regardless of all this, I feel horny almost all the time, especially with this guy friend. I've come to the point where I feel I need sex and having had a bad experience before and where I am with my self image right now, I can't get myself to participate in sexual intercourse. Please let me know of any ways I can help lower my libido. Thank you\\nTL;DR: Masturbation habit which is turning into daily routine plus the fact that i can't stop thinking about one friend constantly causing unwanted hormonal responses\"]]\n"
          ]
        },
        {
          "output_type": "stream",
          "name": "stderr",
          "text": [
            "Setting `pad_token_id` to `eos_token_id`:2 for open-end generation.\n",
            "Setting `pad_token_id` to `eos_token_id`:2 for open-end generation.\n",
            "Setting `pad_token_id` to `eos_token_id`:2 for open-end generation.\n",
            "Setting `pad_token_id` to `eos_token_id`:2 for open-end generation.\n"
          ]
        },
        {
          "output_type": "stream",
          "name": "stdout",
          "text": [
            "\n",
            "Outputs for input 91:  [[\"SUBREDDIT: r/relationships\\nTITLE: 25M professional artist/animator/illustrator dating hobbyist artists. How to deal?\\nPOST: Not sure how useful it is to post this here but here goes.\\n\\nI am usually pretty critical about art in general. I'm excited when people are into it but it's really difficult when someone says they do art, you date them then they link you to their deviantart and it's all really really amateur sketches of anime characters. What do I do at this point when I am really critical about this particular stereotype regarding 'hobbyist artists' who turn out to.....not be any good?\\n\\nI can't just go on lying saying their art is good when my standards are pretty high at this point. Been doing this stuff over 10 years.  Visual art is something 'anyone' can do, so the quality of it varies a lot. \\n\\nAm I being an asshole or can someone actually give me good advice on how to overcome this? Am I supposed to say 'yeah it's good' then turn around to my other art friends and defend how good it is later? It's not like I'm dating a med student and telling her I'm a doctor in my spare time...\\nTL;DR: Dating hobbyists whose artistic work doesn't make sense because of what they show off to the world (like me). Can anyone help with some advice for this scenario or otherwise just tell me if i'm being an asshole.\"], [\"SUBREDDIT: r/relationships\\nTITLE: 25M professional artist/animator/illustrator dating hobbyist artists. How to deal?\\nPOST: Not sure how useful it is to post this here but here goes.\\n\\nI am usually pretty critical about art in general. I'm excited when people are into it but it's really difficult when someone says they do art, you date them then they link you to their deviantart and it's all really really amateur sketches of anime characters. What do I do at this point when I am really critical about this particular stereotype regarding 'hobbyist artists' who turn out to.....not be any good?\\n\\nI can't just go on lying saying their art is good when my standards are pretty high at this point. Been doing this stuff over 10 years.  Visual art is something 'anyone' can do, so the quality of it varies a lot. \\n\\nAm I being an asshole or can someone actually give me good advice on how to overcome this? Am I supposed to say 'yeah it's good' then turn around to my other art friends and defend how good it is later? It's not like I'm dating a med student and telling her I'm a doctor in my spare time...\\nTL;DR: Dating someone that loves art, they bring up their art and show it to me, tell me its real funky art (usually a little too exaggerated)\"], [\"SUBREDDIT: r/relationships\\nTITLE: 25M professional artist/animator/illustrator dating hobbyist artists. How to deal?\\nPOST: Not sure how useful it is to post this here but here goes.\\n\\nI am usually pretty critical about art in general. I'm excited when people are into it but it's really difficult when someone says they do art, you date them then they link you to their deviantart and it's all really really amateur sketches of anime characters. What do I do at this point when I am really critical about this particular stereotype regarding 'hobbyist artists' who turn out to.....not be any good?\\n\\nI can't just go on lying saying their art is good when my standards are pretty high at this point. Been doing this stuff over 10 years.  Visual art is something 'anyone' can do, so the quality of it varies a lot. \\n\\nAm I being an asshole or can someone actually give me good advice on how to overcome this? Am I supposed to say 'yeah it's good' then turn around to my other art friends and defend how good it is later? It's not like I'm dating a med student and telling her I'm a doctor in my spare time...\\nTL;DR: My girlfriend likes to draw pictures every once and a while as a hobby that look straight out of elementary school. And she wants me to see it. Do I have to lie and tell her they are 'good'.\"], [\"SUBREDDIT: r/relationships\\nTITLE: 25M professional artist/animator/illustrator dating hobbyist artists. How to deal?\\nPOST: Not sure how useful it is to post this here but here goes.\\n\\nI am usually pretty critical about art in general. I'm excited when people are into it but it's really difficult when someone says they do art, you date them then they link you to their deviantart and it's all really really amateur sketches of anime characters. What do I do at this point when I am really critical about this particular stereotype regarding 'hobbyist artists' who turn out to.....not be any good?\\n\\nI can't just go on lying saying their art is good when my standards are pretty high at this point. Been doing this stuff over 10 years.  Visual art is something 'anyone' can do, so the quality of it varies a lot. \\n\\nAm I being an asshole or can someone actually give me good advice on how to overcome this? Am I supposed to say 'yeah it's good' then turn around to my other art friends and defend how good it is later? It's not like I'm dating a med student and telling her I'm a doctor in my spare time...\\nTL;DR: Dating someone into a hobby that I'm also into, but to different standards. Do I have options except to lie constantly or cut her loose?\"]]\n"
          ]
        },
        {
          "output_type": "stream",
          "name": "stderr",
          "text": [
            "Setting `pad_token_id` to `eos_token_id`:2 for open-end generation.\n",
            "Setting `pad_token_id` to `eos_token_id`:2 for open-end generation.\n",
            "Setting `pad_token_id` to `eos_token_id`:2 for open-end generation.\n",
            "Setting `pad_token_id` to `eos_token_id`:2 for open-end generation.\n"
          ]
        },
        {
          "output_type": "stream",
          "name": "stdout",
          "text": [
            "\n",
            "Outputs for input 92:  [[\"SUBREDDIT: r/relationships\\nTITLE: Girlfriends[32] ex still hangs out with her daughter.\\nPOST: Hello,\\n\\nRecently things have gotten more serious with my gf who is 32 and has a daughter and myself who is 29 and has no kids.  She broke up with her ex somewhat recently, maybe 6 months ago or so.  Her ex constantly calls to talk to her daughter (nearly nightly) and watches her probably one or two nights a week, and hangs out with her for probably every other weekend (for the whole weekend).  When we first started hanging out I didn't really care, but now that she wants to be more serious it's starting to seem very strange to say the least.  I brought it up a tiny bit by saying I understand that you dated him for like 3 years but doesn't he want his own children and family someday?  What if you moved across the country? He's not the dad.  I know it would be hard to let go of a child, but for his sake and the little girls sake I wonder what's right. The conversation didn't really go anywhere and she just said if he wants to see her she isn't going to say no.  I tried to let it go but now this week he is taking her daughter for a week and a half camping trip.  This just seems wrong to me, and it seems like most men she dates in the future would question it and most women her ex dates would wonder why he is always with her ex's daughter.  I feel like there's something nefarious behind this, and maybe one or the other is trying to keep hooks in the other through the child.  It seems so strange to me, am I being crazy?\\nTL;DR: Girlfriend's ex constantly stays over after a breakup with her and takes her places including to a week and a half long trip to Washington state camping.\"], [\"SUBREDDIT: r/relationships\\nTITLE: Girlfriends[32] ex still hangs out with her daughter.\\nPOST: Hello,\\n\\nRecently things have gotten more serious with my gf who is 32 and has a daughter and myself who is 29 and has no kids.  She broke up with her ex somewhat recently, maybe 6 months ago or so.  Her ex constantly calls to talk to her daughter (nearly nightly) and watches her probably one or two nights a week, and hangs out with her for probably every other weekend (for the whole weekend).  When we first started hanging out I didn't really care, but now that she wants to be more serious it's starting to seem very strange to say the least.  I brought it up a tiny bit by saying I understand that you dated him for like 3 years but doesn't he want his own children and family someday?  What if you moved across the country? He's not the dad.  I know it would be hard to let go of a child, but for his sake and the little girls sake I wonder what's right. The conversation didn't really go anywhere and she just said if he wants to see her she isn't going to say no.  I tried to let it go but now this week he is taking her daughter for a week and a half camping trip.  This just seems wrong to me, and it seems like most men she dates in the future would question it and most women her ex dates would wonder why he is always with her ex's daughter.  I feel like there's something nefarious behind this, and maybe one or the other is trying to keep hooks in the other through the child.  It seems so strange to me, am I being crazy?\\nTL;DR: My girlfriend says she can trust her ex which i think may be dumb but i love her so should i drop it?\"], [\"SUBREDDIT: r/relationships\\nTITLE: Girlfriends[32] ex still hangs out with her daughter.\\nPOST: Hello,\\n\\nRecently things have gotten more serious with my gf who is 32 and has a daughter and myself who is 29 and has no kids.  She broke up with her ex somewhat recently, maybe 6 months ago or so.  Her ex constantly calls to talk to her daughter (nearly nightly) and watches her probably one or two nights a week, and hangs out with her for probably every other weekend (for the whole weekend).  When we first started hanging out I didn't really care, but now that she wants to be more serious it's starting to seem very strange to say the least.  I brought it up a tiny bit by saying I understand that you dated him for like 3 years but doesn't he want his own children and family someday?  What if you moved across the country? He's not the dad.  I know it would be hard to let go of a child, but for his sake and the little girls sake I wonder what's right. The conversation didn't really go anywhere and she just said if he wants to see her she isn't going to say no.  I tried to let it go but now this week he is taking her daughter for a week and a half camping trip.  This just seems wrong to me, and it seems like most men she dates in the future would question it and most women her ex dates would wonder why he is always with her ex's daughter.  I feel like there's something nefarious behind this, and maybe one or the other is trying to keep hooks in the other through the child.  It seems so strange to me, am I being crazy?\\nTL;DR: Why does my girlfriend's ex always watch her kid when it could make dating difficult for any potential future partners?\"], [\"SUBREDDIT: r/relationships\\nTITLE: Girlfriends[32] ex still hangs out with her daughter.\\nPOST: Hello,\\n\\nRecently things have gotten more serious with my gf who is 32 and has a daughter and myself who is 29 and has no kids.  She broke up with her ex somewhat recently, maybe 6 months ago or so.  Her ex constantly calls to talk to her daughter (nearly nightly) and watches her probably one or two nights a week, and hangs out with her for probably every other weekend (for the whole weekend).  When we first started hanging out I didn't really care, but now that she wants to be more serious it's starting to seem very strange to say the least.  I brought it up a tiny bit by saying I understand that you dated him for like 3 years but doesn't he want his own children and family someday?  What if you moved across the country? He's not the dad.  I know it would be hard to let go of a child, but for his sake and the little girls sake I wonder what's right. The conversation didn't really go anywhere and she just said if he wants to see her she isn't going to say no.  I tried to let it go but now this week he is taking her daughter for a week and a half camping trip.  This just seems wrong to me, and it seems like most men she dates in the future would question it and most women her ex dates would wonder why he is always with her ex's daughter.  I feel like there's something nefarious behind this, and maybe one or the other is trying to keep hooks in the other through the child.  It seems so strange to me, am I being crazy?\\nTL;DR: Is it reasonable for an ex bf to be staying such a close relationship in any way shape or form with former girlfriend's kid after they break?\"]]\n"
          ]
        },
        {
          "output_type": "stream",
          "name": "stderr",
          "text": [
            "Setting `pad_token_id` to `eos_token_id`:2 for open-end generation.\n",
            "Setting `pad_token_id` to `eos_token_id`:2 for open-end generation.\n",
            "Setting `pad_token_id` to `eos_token_id`:2 for open-end generation.\n",
            "Setting `pad_token_id` to `eos_token_id`:2 for open-end generation.\n"
          ]
        },
        {
          "output_type": "stream",
          "name": "stdout",
          "text": [
            "\n",
            "Outputs for input 93:  [[\"SUBREDDIT: r/relationships\\nTITLE: My friend [16 F] is hurt by what her boyfriend [15 M]of one/two months said about her\\nPOST: My friend (Mary) was Face timing with her boyfriend (Joe) and started to ask him about what he dislikes about her. Joe mentions that he doesn't really like Mary's small chest and dislikes her bony hands. (She's really skinny). Of course, Mary is hurt by this and I'm not sure how to judge Joe. He has consistently shown signs of immaturity but he seems to care for her well being.\\n\\nI understand that people have preferences and all but how should a person react to this kind of confession? Does he genuinely love her if he finds these physical qualities about her a bit unappealing?\\nTL;DR: Friend got into an argument on the topic of physical appearance with her boyfriend and I don't know to how to go forward from here\"], ['SUBREDDIT: r/relationships\\nTITLE: My friend [16 F] is hurt by what her boyfriend [15 M]of one/two months said about her\\nPOST: My friend (Mary) was Face timing with her boyfriend (Joe) and started to ask him about what he dislikes about her. Joe mentions that he doesn\\'t really like Mary\\'s small chest and dislikes her bony hands. (She\\'s really skinny). Of course, Mary is hurt by this and I\\'m not sure how to judge Joe. He has consistently shown signs of immaturity but he seems to care for her well being.\\n\\nI understand that people have preferences and all but how should a person react to this kind of confession? Does he genuinely love her if he finds these physical qualities about her a bit unappealing?\\nTL;DR: My friend is crushed after discovering her \"boyfriend\" dislike two physical qualities about her. What are y\\'all thoughts on this situation?'], [\"SUBREDDIT: r/relationships\\nTITLE: My friend [16 F] is hurt by what her boyfriend [15 M]of one/two months said about her\\nPOST: My friend (Mary) was Face timing with her boyfriend (Joe) and started to ask him about what he dislikes about her. Joe mentions that he doesn't really like Mary's small chest and dislikes her bony hands. (She's really skinny). Of course, Mary is hurt by this and I'm not sure how to judge Joe. He has consistently shown signs of immaturity but he seems to care for her well being.\\n\\nI understand that people have preferences and all but how should a person react to this kind of confession? Does he genuinely love her if he finds these physical qualities about her a bit unappealing?\\nTL;DR: Boyfriend is saying his girlfriend is too skinny and thinks her boobs are small. What does it mean when you say something like that to someone you supposedly care about?\"], [\"SUBREDDIT: r/relationships\\nTITLE: My friend [16 F] is hurt by what her boyfriend [15 M]of one/two months said about her\\nPOST: My friend (Mary) was Face timing with her boyfriend (Joe) and started to ask him about what he dislikes about her. Joe mentions that he doesn't really like Mary's small chest and dislikes her bony hands. (She's really skinny). Of course, Mary is hurt by this and I'm not sure how to judge Joe. He has consistently shown signs of immaturity but he seems to care for her well being.\\n\\nI understand that people have preferences and all but how should a person react to this kind of confession? Does he genuinely love her if he finds these physical qualities about her a bit unappealing?\\nTL;DR: Friend feels betrayed since boy pointed out qualities she didn't want mentioned, how does Reddit handle personal shortcomings in relationships as such?\"]]\n"
          ]
        },
        {
          "output_type": "stream",
          "name": "stderr",
          "text": [
            "Setting `pad_token_id` to `eos_token_id`:2 for open-end generation.\n",
            "Setting `pad_token_id` to `eos_token_id`:2 for open-end generation.\n",
            "Setting `pad_token_id` to `eos_token_id`:2 for open-end generation.\n",
            "Setting `pad_token_id` to `eos_token_id`:2 for open-end generation.\n"
          ]
        },
        {
          "output_type": "stream",
          "name": "stdout",
          "text": [
            "\n",
            "Outputs for input 94:  [[\"SUBREDDIT: r/relationships\\nTITLE: I need some advice regarding a female friend of mine. (she's almost 20 and i'm almost 22)\\nPOST: Okay, I've been friends with this girl for about 10 months.  I first met her at college about a year ago. She had a boyfriend at first, but eventually she broke up with him, and started to pay more attention to me. Soon, we went out several times, started to text a lot, etc. She made it seem like she wanted me to be her boyfriend by how she acted, but when school was over and we went back home (we live relatively close) she acted like she didn't have time to hang out.\\nEventually she told me she was going out with this other guy, whom she actually did make her boyfriend. I was pretty devastated, and I realized I had been friendzoned. We still text constantly.\\nAnyway, she's been dating him for a couple months and she mentions how she's having trouble trusting him, because he's going to NYC this weekend and some hot friend of his will be there. Oh yeah, and she mentioned that he told her that he has cheated on his girlfriends before, but he would *never* do it again. I just want to ask her what the fuck she is thinking, but I don't want to come off as a dick, and I don't want to ruin my future chances by giving her a piece of my mind.  I'm obsessing over this; I really like her a lot, and I care about her, but I really don't understand what's going through her head. Any advice?\\nTL;DR: Girlfriend-zone after becoming really good friends with a girl I've know less than a year now and now one of my friends is going on vacation with a known cheater of hot girls and I can't stop thinking about all this\"], [\"SUBREDDIT: r/relationships\\nTITLE: I need some advice regarding a female friend of mine. (she's almost 20 and i'm almost 22)\\nPOST: Okay, I've been friends with this girl for about 10 months.  I first met her at college about a year ago. She had a boyfriend at first, but eventually she broke up with him, and started to pay more attention to me. Soon, we went out several times, started to text a lot, etc. She made it seem like she wanted me to be her boyfriend by how she acted, but when school was over and we went back home (we live relatively close) she acted like she didn't have time to hang out.\\nEventually she told me she was going out with this other guy, whom she actually did make her boyfriend. I was pretty devastated, and I realized I had been friendzoned. We still text constantly.\\nAnyway, she's been dating him for a couple months and she mentions how she's having trouble trusting him, because he's going to NYC this weekend and some hot friend of his will be there. Oh yeah, and she mentioned that he told her that he has cheated on his girlfriends before, but he would *never* do it again. I just want to ask her what the fuck she is thinking, but I don't want to come off as a dick, and I don't want to ruin my future chances by giving her a piece of my mind.  I'm obsessing over this; I really like her a lot, and I care about her, but I really don't understand what's going through her head. Any advice?\\nTL;DR: Friend-girfriend got a new bf after leaving me in the dust. He seems questionable. Advice needed.\"], [\"SUBREDDIT: r/relationships\\nTITLE: I need some advice regarding a female friend of mine. (she's almost 20 and i'm almost 22)\\nPOST: Okay, I've been friends with this girl for about 10 months.  I first met her at college about a year ago. She had a boyfriend at first, but eventually she broke up with him, and started to pay more attention to me. Soon, we went out several times, started to text a lot, etc. She made it seem like she wanted me to be her boyfriend by how she acted, but when school was over and we went back home (we live relatively close) she acted like she didn't have time to hang out.\\nEventually she told me she was going out with this other guy, whom she actually did make her boyfriend. I was pretty devastated, and I realized I had been friendzoned. We still text constantly.\\nAnyway, she's been dating him for a couple months and she mentions how she's having trouble trusting him, because he's going to NYC this weekend and some hot friend of his will be there. Oh yeah, and she mentioned that he told her that he has cheated on his girlfriends before, but he would *never* do it again. I just want to ask her what the fuck she is thinking, but I don't want to come off as a dick, and I don't want to ruin my future chances by giving her a piece of my mind.  I'm obsessing over this; I really like her a lot, and I care about her, but I really don't understand what's going through her head. Any advice?\\nTL;DR: Friend has a new bf who does not seem faithful in any way, and seems like the least genuine person ever, not sure how to tell my nearly 20-year old friend to dump him\"], [\"SUBREDDIT: r/relationships\\nTITLE: I need some advice regarding a female friend of mine. (she's almost 20 and i'm almost 22)\\nPOST: Okay, I've been friends with this girl for about 10 months.  I first met her at college about a year ago. She had a boyfriend at first, but eventually she broke up with him, and started to pay more attention to me. Soon, we went out several times, started to text a lot, etc. She made it seem like she wanted me to be her boyfriend by how she acted, but when school was over and we went back home (we live relatively close) she acted like she didn't have time to hang out.\\nEventually she told me she was going out with this other guy, whom she actually did make her boyfriend. I was pretty devastated, and I realized I had been friendzoned. We still text constantly.\\nAnyway, she's been dating him for a couple months and she mentions how she's having trouble trusting him, because he's going to NYC this weekend and some hot friend of his will be there. Oh yeah, and she mentioned that he told her that he has cheated on his girlfriends before, but he would *never* do it again. I just want to ask her what the fuck she is thinking, but I don't want to come off as a dick, and I don't want to ruin my future chances by giving her a piece of my mind.  I'm obsessing over this; I really like her a lot, and I care about her, but I really don't understand what's going through her head. Any advice?\\nTL;DR: Girl I had a huge crush on is in an unstable relationship, so I don't know if I should confront her or pretend nothing happened between us.\"]]\n"
          ]
        },
        {
          "output_type": "stream",
          "name": "stderr",
          "text": [
            "Setting `pad_token_id` to `eos_token_id`:2 for open-end generation.\n",
            "Setting `pad_token_id` to `eos_token_id`:2 for open-end generation.\n",
            "Setting `pad_token_id` to `eos_token_id`:2 for open-end generation.\n",
            "Setting `pad_token_id` to `eos_token_id`:2 for open-end generation.\n"
          ]
        },
        {
          "output_type": "stream",
          "name": "stdout",
          "text": [
            "\n",
            "Outputs for input 95:  [['SUBREDDIT: r/tifu\\nTITLE: TIFU by inviting the locals to hang out with the hairy twins\\nPOST: Ok as is quite common, this didn\\'t happen today, this happened many years ago in the far north Australian town of cooktown \\nCooktown, was a great place, heaps of Sun, good fishing etc. \\nBut just my luck as a young boy, I ventured into the Bush to get my fishing line (my bad for a terrible cast) and disturbed some local natives, I didn\\'t notice anything at the time. \\nThe hours passed and I was enjoying fishing on the jetty, my body began to succumb to urinary urges and I went in search of a place to Pee, which as a guy is easy. \\nAnyway, for some reason I couldn\\'t feel myself peeing, again, didn\\'t think much of it. \\nLater in the day I needed to take a Shit, and I couldn\\'t feel my Ass when sitting on the toilet seat, at this time I brought it to my parents attention. We went to cooktown hospital, or medical clinic, I don\\'t really remember. The doctor had a look, specifically my rear end, and I remember the doctor quite well, he was a very chatty person and at the moment his eyes laid upon my rear end he went quiet, and after a few seconds of awkward silence he uttered words I\\'ll never forget \"oh Shit\". A paralysis tick had found it\\'s way to the back of my scrotum, that little bloodsucking demon, it\\'s head buried deep within my manlyhood, after 4 hours of the doctor trying to extract the tick with the conventional methylated spirits way, and by the way, metho on your balls feels unusual. In the end I was anesthetised and a portion of my scrotum, including the bulbous little monster was removed. I couldn\\'t Pee without crying like a little Bitch for a month and I cannot Pee straight anymore, on top of that I now have a tight shiny scarred scrotum.\\nTL;DR: pissed off native aboriginals pissed at me, they sent their friend a hairy nasty tick to say fuck u.'], ['SUBREDDIT: r/tifu\\nTITLE: TIFU by inviting the locals to hang out with the hairy twins\\nPOST: Ok as is quite common, this didn\\'t happen today, this happened many years ago in the far north Australian town of cooktown \\nCooktown, was a great place, heaps of Sun, good fishing etc. \\nBut just my luck as a young boy, I ventured into the Bush to get my fishing line (my bad for a terrible cast) and disturbed some local natives, I didn\\'t notice anything at the time. \\nThe hours passed and I was enjoying fishing on the jetty, my body began to succumb to urinary urges and I went in search of a place to Pee, which as a guy is easy. \\nAnyway, for some reason I couldn\\'t feel myself peeing, again, didn\\'t think much of it. \\nLater in the day I needed to take a Shit, and I couldn\\'t feel my Ass when sitting on the toilet seat, at this time I brought it to my parents attention. We went to cooktown hospital, or medical clinic, I don\\'t really remember. The doctor had a look, specifically my rear end, and I remember the doctor quite well, he was a very chatty person and at the moment his eyes laid upon my rear end he went quiet, and after a few seconds of awkward silence he uttered words I\\'ll never forget \"oh Shit\". A paralysis tick had found it\\'s way to the back of my scrotum, that little bloodsucking demon, it\\'s head buried deep within my manlyhood, after 4 hours of the doctor trying to extract the tick with the conventional methylated spirits way, and by the way, metho on your balls feels unusual. In the end I was anesthetised and a portion of my scrotum, including the bulbous little monster was removed. I couldn\\'t Pee without crying like a little Bitch for a month and I cannot Pee straight anymore, on top of that I now have a tight shiny scarred scrotum.\\nTL;DR: accidently upset some aboriginal guys who ended up being my next door neighbours, resulting in getting attacked by a parasite from the arse of one of the neighbourhood animals, and having part of my manhood cut off'], ['SUBREDDIT: r/tifu\\nTITLE: TIFU by inviting the locals to hang out with the hairy twins\\nPOST: Ok as is quite common, this didn\\'t happen today, this happened many years ago in the far north Australian town of cooktown \\nCooktown, was a great place, heaps of Sun, good fishing etc. \\nBut just my luck as a young boy, I ventured into the Bush to get my fishing line (my bad for a terrible cast) and disturbed some local natives, I didn\\'t notice anything at the time. \\nThe hours passed and I was enjoying fishing on the jetty, my body began to succumb to urinary urges and I went in search of a place to Pee, which as a guy is easy. \\nAnyway, for some reason I couldn\\'t feel myself peeing, again, didn\\'t think much of it. \\nLater in the day I needed to take a Shit, and I couldn\\'t feel my Ass when sitting on the toilet seat, at this time I brought it to my parents attention. We went to cooktown hospital, or medical clinic, I don\\'t really remember. The doctor had a look, specifically my rear end, and I remember the doctor quite well, he was a very chatty person and at the moment his eyes laid upon my rear end he went quiet, and after a few seconds of awkward silence he uttered words I\\'ll never forget \"oh Shit\". A paralysis tick had found it\\'s way to the back of my scrotum, that little bloodsucking demon, it\\'s head buried deep within my manlyhood, after 4 hours of the doctor trying to extract the tick with the conventional methylated spirits way, and by the way, metho on your balls feels unusual. In the end I was anesthetised and a portion of my scrotum, including the bulbous little monster was removed. I couldn\\'t Pee without crying like a little Bitch for a month and I cannot Pee straight anymore, on top of that I now have a tight shiny scarred scrotum.\\nTL;DR: Disturb local natives by fishing near there land. Sense a tick on my Ball sack days beforehand, but still walk around naked until one of the aborigines chased me up the tree where to sit down my baggy man tights trap the blood leech within said area which lead to loss off my bits'], ['SUBREDDIT: r/tifu\\nTITLE: TIFU by inviting the locals to hang out with the hairy twins\\nPOST: Ok as is quite common, this didn\\'t happen today, this happened many years ago in the far north Australian town of cooktown \\nCooktown, was a great place, heaps of Sun, good fishing etc. \\nBut just my luck as a young boy, I ventured into the Bush to get my fishing line (my bad for a terrible cast) and disturbed some local natives, I didn\\'t notice anything at the time. \\nThe hours passed and I was enjoying fishing on the jetty, my body began to succumb to urinary urges and I went in search of a place to Pee, which as a guy is easy. \\nAnyway, for some reason I couldn\\'t feel myself peeing, again, didn\\'t think much of it. \\nLater in the day I needed to take a Shit, and I couldn\\'t feel my Ass when sitting on the toilet seat, at this time I brought it to my parents attention. We went to cooktown hospital, or medical clinic, I don\\'t really remember. The doctor had a look, specifically my rear end, and I remember the doctor quite well, he was a very chatty person and at the moment his eyes laid upon my rear end he went quiet, and after a few seconds of awkward silence he uttered words I\\'ll never forget \"oh Shit\". A paralysis tick had found it\\'s way to the back of my scrotum, that little bloodsucking demon, it\\'s head buried deep within my manlyhood, after 4 hours of the doctor trying to extract the tick with the conventional methylated spirits way, and by the way, metho on your balls feels unusual. In the end I was anesthetised and a portion of my scrotum, including the bulbous little monster was removed. I couldn\\'t Pee without crying like a little Bitch for a month and I cannot Pee straight anymore, on top of that I now have a tight shiny scarred scrotum.\\nTL;DR: Disturbing indigenous family while looking busy, picked up paralyxing skin muncher near my crown jewels as a young child']]\n"
          ]
        },
        {
          "output_type": "stream",
          "name": "stderr",
          "text": [
            "Setting `pad_token_id` to `eos_token_id`:2 for open-end generation.\n",
            "Setting `pad_token_id` to `eos_token_id`:2 for open-end generation.\n",
            "Setting `pad_token_id` to `eos_token_id`:2 for open-end generation.\n",
            "Setting `pad_token_id` to `eos_token_id`:2 for open-end generation.\n"
          ]
        },
        {
          "output_type": "stream",
          "name": "stdout",
          "text": [
            "\n",
            "Outputs for input 96:  [[\"SUBREDDIT: r/relationships\\nTITLE: My GF [25, F] and I [24, M] live together, but she lost her job and isn't really trying to find a new one. [3 years, 9 months cohabiting]\\nPOST: My GF lost her job 3 weeks ago today. As of this point, to the best of my knowledge, she has only submitted a single resume to a potential employer, despite being home all the time. She didn't even file for her unemployment benefits until Saturday, 19 days after she was let go.\\n\\nI can afford the rent if she were to be unemployed, but things would be stretched far too thin for me to have any kind of flexibility or free time, as I would be putting in extra overtime.\\n\\nThe fact that she is so seemingly unmotivated to find a job really bothers me, and I don't want to have to support both of us as a young adult who is still establishing his career.\\n\\nThe relationship was somewhat strained before all this happened, but now it is getting to be so much that I am 50/50 on whether or not to continue. If I were to end things, she wouldn't really have a guaranteed place to go - her parents live locally, but her father moved into her room when she moved out, and she would hate to move back in with them anyway, due to major differences in ideals.\\n\\nSo, I'm not sure what I should do. She's not helping herself, and is showing zero initiative in taking her own future under control. She stays at home watching anime and playing WoW. She hasn't taken on any additional chores at the house despite having 50 hours of extra free time a week. What do you guys think?\\nTL;DR: GF got laid off, lost motivation for living and working, lives within our means without income, wants me to pay bills with extra work hours / unemployment / savings for the foreseeable future. I feel like her lack of effort warrants me ending things despite otherwise seeming good.\"], [\"SUBREDDIT: r/relationships\\nTITLE: My GF [25, F] and I [24, M] live together, but she lost her job and isn't really trying to find a new one. [3 years, 9 months cohabiting]\\nPOST: My GF lost her job 3 weeks ago today. As of this point, to the best of my knowledge, she has only submitted a single resume to a potential employer, despite being home all the time. She didn't even file for her unemployment benefits until Saturday, 19 days after she was let go.\\n\\nI can afford the rent if she were to be unemployed, but things would be stretched far too thin for me to have any kind of flexibility or free time, as I would be putting in extra overtime.\\n\\nThe fact that she is so seemingly unmotivated to find a job really bothers me, and I don't want to have to support both of us as a young adult who is still establishing his career.\\n\\nThe relationship was somewhat strained before all this happened, but now it is getting to be so much that I am 50/50 on whether or not to continue. If I were to end things, she wouldn't really have a guaranteed place to go - her parents live locally, but her father moved into her room when she moved out, and she would hate to move back in with them anyway, due to major differences in ideals.\\n\\nSo, I'm not sure what I should do. She's not helping herself, and is showing zero initiative in taking her own future under control. She stays at home watching anime and playing WoW. She hasn't taken on any additional chores at the house despite having 50 hours of extra free time a week. What do you guys think?\\nTL;DR: Girlfriend lost her job about three weeks ago and hasn't tried too hard to get another one - Is it worth giving up on the relationship and losing a lot more than that?\"], [\"SUBREDDIT: r/relationships\\nTITLE: My GF [25, F] and I [24, M] live together, but she lost her job and isn't really trying to find a new one. [3 years, 9 months cohabiting]\\nPOST: My GF lost her job 3 weeks ago today. As of this point, to the best of my knowledge, she has only submitted a single resume to a potential employer, despite being home all the time. She didn't even file for her unemployment benefits until Saturday, 19 days after she was let go.\\n\\nI can afford the rent if she were to be unemployed, but things would be stretched far too thin for me to have any kind of flexibility or free time, as I would be putting in extra overtime.\\n\\nThe fact that she is so seemingly unmotivated to find a job really bothers me, and I don't want to have to support both of us as a young adult who is still establishing his career.\\n\\nThe relationship was somewhat strained before all this happened, but now it is getting to be so much that I am 50/50 on whether or not to continue. If I were to end things, she wouldn't really have a guaranteed place to go - her parents live locally, but her father moved into her room when she moved out, and she would hate to move back in with them anyway, due to major differences in ideals.\\n\\nSo, I'm not sure what I should do. She's not helping herself, and is showing zero initiative in taking her own future under control. She stays at home watching anime and playing WoW. She hasn't taken on any additional chores at the house despite having 50 hours of extra free time a week. What do you guys think?\\nTL;DR: GF got laid off 3 weeks today and shows zero motivation for finding another job - could potentially drive us into a situation where I support myself **AND** her (and that could also make her lose her health insurance), making it very unlikely that I move forward after graduation\"], [\"SUBREDDIT: r/relationships\\nTITLE: My GF [25, F] and I [24, M] live together, but she lost her job and isn't really trying to find a new one. [3 years, 9 months cohabiting]\\nPOST: My GF lost her job 3 weeks ago today. As of this point, to the best of my knowledge, she has only submitted a single resume to a potential employer, despite being home all the time. She didn't even file for her unemployment benefits until Saturday, 19 days after she was let go.\\n\\nI can afford the rent if she were to be unemployed, but things would be stretched far too thin for me to have any kind of flexibility or free time, as I would be putting in extra overtime.\\n\\nThe fact that she is so seemingly unmotivated to find a job really bothers me, and I don't want to have to support both of us as a young adult who is still establishing his career.\\n\\nThe relationship was somewhat strained before all this happened, but now it is getting to be so much that I am 50/50 on whether or not to continue. If I were to end things, she wouldn't really have a guaranteed place to go - her parents live locally, but her father moved into her room when she moved out, and she would hate to move back in with them anyway, due to major differences in ideals.\\n\\nSo, I'm not sure what I should do. She's not helping herself, and is showing zero initiative in taking her own future under control. She stays at home watching anime and playing WoW. She hasn't taken on any additional chores at the house despite having 50 hours of extra free time a week. What do you guys think?\\nTL;DR: Girlfriend lost job 3 weeks ago and has done very little to improve her current situation. Hasn't been looking for work (or filed unemployment either). Don't know what to do about it.\"]]\n"
          ]
        },
        {
          "output_type": "stream",
          "name": "stderr",
          "text": [
            "Setting `pad_token_id` to `eos_token_id`:2 for open-end generation.\n",
            "Setting `pad_token_id` to `eos_token_id`:2 for open-end generation.\n",
            "Setting `pad_token_id` to `eos_token_id`:2 for open-end generation.\n",
            "Setting `pad_token_id` to `eos_token_id`:2 for open-end generation.\n"
          ]
        },
        {
          "output_type": "stream",
          "name": "stdout",
          "text": [
            "\n",
            "Outputs for input 97:  [[\"SUBREDDIT: r/offmychest\\nTITLE: I am sick and tired of having to deal with my severely depressed and sometimes seemingly suicidal friend.\\nPOST: My friend, lets call him Dude, has been dealing with depression (undiagnosed but I know for sure it is, he just refuses to see a doctor or tell his family) For almost a year now he has been doing nothing but complaining and whining about the same three things, every day.\\nNo matter what I say to him he never stops complaining.\\n He is in love with a mutual friend,obsessive, unhealthy love, and she doesn't feel the same way at ll. This drives him crazy and makes him question his entire life. Every few months they they a huge fight because she gets tried of saying no and trying to explain how she doesn't have the same feelings towards him and this causes him to break down and question living. Its the same thing, every time, every few months and I am so damn tired of having to repeat the same things over and over.\\n\\nHe one of my best friends, but Im at my wits end here. I cant keep doing this wash rinse repeat bullshit that he puts himself and everyone around him through. \\n\\nHe refuses to seek help or tell his family how he feels. I have a bunch of texts from him explaining how he wants to kill himself and how he keeps thinking of new ways. I have them saved, but he thinks I have deleted them. If he continues to refuse help and get deeper into his depression Im going to show his parents the texts. \\n\\nI just cant keep doing this anymore, I cant keep watching him destroy himself yet refuse to get help when its clear he needs it. I am respecting his wishes and not telling his parents or anyone else, but if this keeps up and he seems to be getting closer to harming himself Im going to tell his parents.\\n\\nThis has been building up for a year now, I just need to get this off my chest.\\nTL;DR: Depressed friend keeps asking me to fix all his problems despite multiple offers to go to therapy and has become obsessed with a girl who doesnt feel the same way.\"], [\"SUBREDDIT: r/offmychest\\nTITLE: I am sick and tired of having to deal with my severely depressed and sometimes seemingly suicidal friend.\\nPOST: My friend, lets call him Dude, has been dealing with depression (undiagnosed but I know for sure it is, he just refuses to see a doctor or tell his family) For almost a year now he has been doing nothing but complaining and whining about the same three things, every day.\\nNo matter what I say to him he never stops complaining.\\n He is in love with a mutual friend,obsessive, unhealthy love, and she doesn't feel the same way at ll. This drives him crazy and makes him question his entire life. Every few months they they a huge fight because she gets tried of saying no and trying to explain how she doesn't have the same feelings towards him and this causes him to break down and question living. Its the same thing, every time, every few months and I am so damn tired of having to repeat the same things over and over.\\n\\nHe one of my best friends, but Im at my wits end here. I cant keep doing this wash rinse repeat bullshit that he puts himself and everyone around him through. \\n\\nHe refuses to seek help or tell his family how he feels. I have a bunch of texts from him explaining how he wants to kill himself and how he keeps thinking of new ways. I have them saved, but he thinks I have deleted them. If he continues to refuse help and get deeper into his depression Im going to show his parents the texts. \\n\\nI just cant keep doing this anymore, I cant keep watching him destroy himself yet refuse to get help when its clear he needs it. I am respecting his wishes and not telling his parents or anyone else, but if this keeps up and he seems to be getting closer to harming himself Im going to tell his parents.\\n\\nThis has been building up for a year now, I just need to get this off my chest.\\nTL;DR: Friend won't get professional help for severe depression, constantly talks about killing himself but won't go to someone for help after countless times talking about it.\"], [\"SUBREDDIT: r/offmychest\\nTITLE: I am sick and tired of having to deal with my severely depressed and sometimes seemingly suicidal friend.\\nPOST: My friend, lets call him Dude, has been dealing with depression (undiagnosed but I know for sure it is, he just refuses to see a doctor or tell his family) For almost a year now he has been doing nothing but complaining and whining about the same three things, every day.\\nNo matter what I say to him he never stops complaining.\\n He is in love with a mutual friend,obsessive, unhealthy love, and she doesn't feel the same way at ll. This drives him crazy and makes him question his entire life. Every few months they they a huge fight because she gets tried of saying no and trying to explain how she doesn't have the same feelings towards him and this causes him to break down and question living. Its the same thing, every time, every few months and I am so damn tired of having to repeat the same things over and over.\\n\\nHe one of my best friends, but Im at my wits end here. I cant keep doing this wash rinse repeat bullshit that he puts himself and everyone around him through. \\n\\nHe refuses to seek help or tell his family how he feels. I have a bunch of texts from him explaining how he wants to kill himself and how he keeps thinking of new ways. I have them saved, but he thinks I have deleted them. If he continues to refuse help and get deeper into his depression Im going to show his parents the texts. \\n\\nI just cant keep doing this anymore, I cant keep watching him destroy himself yet refuse to get help when its clear he needs it. I am respecting his wishes and not telling his parents or anyone else, but if this keeps up and he seems to be getting closer to harming himself Im going to tell his parents.\\n\\nThis has been building up for a year now, I just need to get this off my chest.\\nTL;DR: My life's been consumed with taking care of someone to the point where I need take some of it back or things are gonna reach boiling point\"], [\"SUBREDDIT: r/offmychest\\nTITLE: I am sick and tired of having to deal with my severely depressed and sometimes seemingly suicidal friend.\\nPOST: My friend, lets call him Dude, has been dealing with depression (undiagnosed but I know for sure it is, he just refuses to see a doctor or tell his family) For almost a year now he has been doing nothing but complaining and whining about the same three things, every day.\\nNo matter what I say to him he never stops complaining.\\n He is in love with a mutual friend,obsessive, unhealthy love, and she doesn't feel the same way at ll. This drives him crazy and makes him question his entire life. Every few months they they a huge fight because she gets tried of saying no and trying to explain how she doesn't have the same feelings towards him and this causes him to break down and question living. Its the same thing, every time, every few months and I am so damn tired of having to repeat the same things over and over.\\n\\nHe one of my best friends, but Im at my wits end here. I cant keep doing this wash rinse repeat bullshit that he puts himself and everyone around him through. \\n\\nHe refuses to seek help or tell his family how he feels. I have a bunch of texts from him explaining how he wants to kill himself and how he keeps thinking of new ways. I have them saved, but he thinks I have deleted them. If he continues to refuse help and get deeper into his depression Im going to show his parents the texts. \\n\\nI just cant keep doing this anymore, I cant keep watching him destroy himself yet refuse to get help when its clear he needs it. I am respecting his wishes and not telling his parents or anyone else, but if this keeps up and he seems to be getting closer to harming himself Im going to tell his parents.\\n\\nThis has been building up for a year now, I just need to get this off my chest.\\nTL;DR: My friend loves another girl who doesnt share feelings, and won't try anything to make her return this feeling other than being completely pathetic to her. Seems like hes slowly killing himself.\"]]\n"
          ]
        },
        {
          "output_type": "stream",
          "name": "stderr",
          "text": [
            "Setting `pad_token_id` to `eos_token_id`:2 for open-end generation.\n",
            "Setting `pad_token_id` to `eos_token_id`:2 for open-end generation.\n",
            "Setting `pad_token_id` to `eos_token_id`:2 for open-end generation.\n",
            "Setting `pad_token_id` to `eos_token_id`:2 for open-end generation.\n"
          ]
        },
        {
          "output_type": "stream",
          "name": "stdout",
          "text": [
            "\n",
            "Outputs for input 98:  [['SUBREDDIT: r/relationships\\nTITLE: Help, please. M(26)y WiF(25)e and I just looked at our wedding photos and she hates them.\\nPOST: So my wife and I have been married for two months and we just got our first look at our wedding photos.  She hates them.  My wife feels like there are a ton of photos of my family and hardly any of her\\'s, in truth our photographer did appear to focus on my family.  In addition, she felt like a lot of the pictures didn\\'t look as \"professional\" as she was expecting (i.e., bad lighting, our stances look forced, bad positioning of flowers and whatnot, very few photos of guest and other family, pictures of the photographers daughters at the wedding mixed with the wedding party, etc.).\\n\\nThe photographer in question is someone we know through our church.  My father is also the pastor of said church so bringing up our displeasure would cause a lot of drama we would prefer to avoid, if possible.  If necessary we will talk to our photographer like adults, but, in my experience, being a pastor\\'s son can make it difficult to keep my issues centered on me and not somehow transferred onto my dad. That was a long way of saying I\\'m looking for a solution where I can do something special for my wife and keep it between us and family.\\n\\nMy wife has a, \"I don\\'t want to talk about it because there is nothing to do about it\" mentality right now.  Even now she is in a bit of a quiet rage at the other end of out couch.  I\\'m looking for a possible solution of something I could do that would help ease her anger and, hopefully, make up for some of the bad photos.  Obviously I can\\'t go back in time and getting all that family together again would be incredibly difficult but I\\'m willing to hear all advise and ideas.  Has anyone been in a similar situation or have any ideas of what I can do to help make this better?\\nTL;DR: Wife wants new photoshoot after seeing crappy photos at our wedding, is it worth paying for a second set, or should I suggest something else.'], ['SUBREDDIT: r/relationships\\nTITLE: Help, please. M(26)y WiF(25)e and I just looked at our wedding photos and she hates them.\\nPOST: So my wife and I have been married for two months and we just got our first look at our wedding photos.  She hates them.  My wife feels like there are a ton of photos of my family and hardly any of her\\'s, in truth our photographer did appear to focus on my family.  In addition, she felt like a lot of the pictures didn\\'t look as \"professional\" as she was expecting (i.e., bad lighting, our stances look forced, bad positioning of flowers and whatnot, very few photos of guest and other family, pictures of the photographers daughters at the wedding mixed with the wedding party, etc.).\\n\\nThe photographer in question is someone we know through our church.  My father is also the pastor of said church so bringing up our displeasure would cause a lot of drama we would prefer to avoid, if possible.  If necessary we will talk to our photographer like adults, but, in my experience, being a pastor\\'s son can make it difficult to keep my issues centered on me and not somehow transferred onto my dad. That was a long way of saying I\\'m looking for a solution where I can do something special for my wife and keep it between us and family.\\n\\nMy wife has a, \"I don\\'t want to talk about it because there is nothing to do about it\" mentality right now.  Even now she is in a bit of a quiet rage at the other end of out couch.  I\\'m looking for a possible solution of something I could do that would help ease her anger and, hopefully, make up for some of the bad photos.  Obviously I can\\'t go back in time and getting all that family together again would be incredibly difficult but I\\'m willing to hear all advise and ideas.  Has anyone been in a similar situation or have any ideas of what I can do to help make this better?\\nTL;DR: Wife hates wedding photos, does anything exist that I can do to help improve the memories without causing tension and drama in relationship with photographer?'], ['SUBREDDIT: r/relationships\\nTITLE: Help, please. M(26)y WiF(25)e and I just looked at our wedding photos and she hates them.\\nPOST: So my wife and I have been married for two months and we just got our first look at our wedding photos.  She hates them.  My wife feels like there are a ton of photos of my family and hardly any of her\\'s, in truth our photographer did appear to focus on my family.  In addition, she felt like a lot of the pictures didn\\'t look as \"professional\" as she was expecting (i.e., bad lighting, our stances look forced, bad positioning of flowers and whatnot, very few photos of guest and other family, pictures of the photographers daughters at the wedding mixed with the wedding party, etc.).\\n\\nThe photographer in question is someone we know through our church.  My father is also the pastor of said church so bringing up our displeasure would cause a lot of drama we would prefer to avoid, if possible.  If necessary we will talk to our photographer like adults, but, in my experience, being a pastor\\'s son can make it difficult to keep my issues centered on me and not somehow transferred onto my dad. That was a long way of saying I\\'m looking for a solution where I can do something special for my wife and keep it between us and family.\\n\\nMy wife has a, \"I don\\'t want to talk about it because there is nothing to do about it\" mentality right now.  Even now she is in a bit of a quiet rage at the other end of out couch.  I\\'m looking for a possible solution of something I could do that would help ease her anger and, hopefully, make up for some of the bad photos.  Obviously I can\\'t go back in time and getting all that family together again would be incredibly difficult but I\\'m willing to hear all advise and ideas.  Has anyone been in a similar situation or have any ideas of what I can do to help make this better?\\nTL;DR: Wife hated our wedding photos. Want advice on how to fix things without getting rid of the photographer.'], ['SUBREDDIT: r/relationships\\nTITLE: Help, please. M(26)y WiF(25)e and I just looked at our wedding photos and she hates them.\\nPOST: So my wife and I have been married for two months and we just got our first look at our wedding photos.  She hates them.  My wife feels like there are a ton of photos of my family and hardly any of her\\'s, in truth our photographer did appear to focus on my family.  In addition, she felt like a lot of the pictures didn\\'t look as \"professional\" as she was expecting (i.e., bad lighting, our stances look forced, bad positioning of flowers and whatnot, very few photos of guest and other family, pictures of the photographers daughters at the wedding mixed with the wedding party, etc.).\\n\\nThe photographer in question is someone we know through our church.  My father is also the pastor of said church so bringing up our displeasure would cause a lot of drama we would prefer to avoid, if possible.  If necessary we will talk to our photographer like adults, but, in my experience, being a pastor\\'s son can make it difficult to keep my issues centered on me and not somehow transferred onto my dad. That was a long way of saying I\\'m looking for a solution where I can do something special for my wife and keep it between us and family.\\n\\nMy wife has a, \"I don\\'t want to talk about it because there is nothing to do about it\" mentality right now.  Even now she is in a bit of a quiet rage at the other end of out couch.  I\\'m looking for a possible solution of something I could do that would help ease her anger and, hopefully, make up for some of the bad photos.  Obviously I can\\'t go back in time and getting all that family together again would be incredibly difficult but I\\'m willing to hear all advise and ideas.  Has anyone been in a similar situation or have any ideas of what I can do to help make this better?\\nTL;DR: Looked at our wedding photo album; my wife doesn\\'t like how they turned out.  Would love some advice from people who have dealt with a somewhat similar issue.']]\n"
          ]
        },
        {
          "output_type": "stream",
          "name": "stderr",
          "text": [
            "Setting `pad_token_id` to `eos_token_id`:2 for open-end generation.\n",
            "Setting `pad_token_id` to `eos_token_id`:2 for open-end generation.\n",
            "Setting `pad_token_id` to `eos_token_id`:2 for open-end generation.\n"
          ]
        },
        {
          "output_type": "stream",
          "name": "stdout",
          "text": [
            "\n",
            "Outputs for input 99:  [['SUBREDDIT: r/relationships\\nTITLE: (21F) Found porn on my bf\\'s (21M) tablet. He says it\\'s not his, but no one else has used his tablet.\\nPOST: Background: Him and I have been together for about 1 year and a half. He\\'s only given me a reason to doubt him once, and I can\\'t actually blame him for it because we were not technically together. That\\'s  whole other story.\\n\\nNow, it\\'s not that I don\\'t care if he looks at porn, because I do care. I feel jealous and insecure. Yet, I don\\'t forbid him from doing it. I won\\'t even be upset if he does, just secretly jealous. So, I\\'ve never told him that he can\\'t look at porn. To me, it sounds like \"lame girlfriend taking away all my fun\".\\n\\nHe\\'s told me repeatedly that he doesn\\'t look at porn because he no longer feels the need to. When I even offered to look at porn with him, he refused and said he would much rather just have sex with me.\\n\\nSo that\\'s why I\\'m so darn confused about finding porn on his tablet that he claims isn\\'t his.\\n\\n...Is he lying? I honestly don\\'t know. He\\'s never lied to me before. No one comes over to our apartment, so it\\'s not like he had a horny friend over mess with his tablet. He doesn\\'t take it anywhere so that someone could have put it on his tablet.\\n\\nI mean I found like 10 pictures downloaded to his gallery. How does that happen accidentally? Do ghosts download porn to tablets or something? (just kidding)\\n\\nAm I being naive to believe him or is this really just weird? Does porn sometimes show up on your computers/tablets randomly?\\n\\nPlease don\\'t be mean, I feel really dumb even asking this.\\nTL;DR: My boyfriend found porn on his tablet and claims he didn\\'t put it there. Is this possible or am I being bamboozled?.'], ['SUBREDDIT: r/relationships\\nTITLE: (21F) Found porn on my bf\\'s (21M) tablet. He says it\\'s not his, but no one else has used his tablet.\\nPOST: Background: Him and I have been together for about 1 year and a half. He\\'s only given me a reason to doubt him once, and I can\\'t actually blame him for it because we were not technically together. That\\'s  whole other story.\\n\\nNow, it\\'s not that I don\\'t care if he looks at porn, because I do care. I feel jealous and insecure. Yet, I don\\'t forbid him from doing it. I won\\'t even be upset if he does, just secretly jealous. So, I\\'ve never told him that he can\\'t look at porn. To me, it sounds like \"lame girlfriend taking away all my fun\".\\n\\nHe\\'s told me repeatedly that he doesn\\'t look at porn because he no longer feels the need to. When I even offered to look at porn with him, he refused and said he would much rather just have sex with me.\\n\\nSo that\\'s why I\\'m so darn confused about finding porn on his tablet that he claims isn\\'t his.\\n\\n...Is he lying? I honestly don\\'t know. He\\'s never lied to me before. No one comes over to our apartment, so it\\'s not like he had a horny friend over mess with his tablet. He doesn\\'t take it anywhere so that someone could have put it on his tablet.\\n\\nI mean I found like 10 pictures downloaded to his gallery. How does that happen accidentally? Do ghosts download porn to tablets or something? (just kidding)\\n\\nAm I being naive to believe him or is this really just weird? Does porn sometimes show up on your computers/tablets randomly?\\n\\nPlease don\\'t be mean, I feel really dumb even asking this.\\nTL;DR: Boyfriend tells me that he hasn\\'t looked at porn in years and doesn\\'t have anything against it on principal, yet there\\'s porn on his personal tablet. Is he lying to me? Also what\\'s going on?'], ['SUBREDDIT: r/relationships\\nTITLE: (21F) Found porn on my bf\\'s (21M) tablet. He says it\\'s not his, but no one else has used his tablet.\\nPOST: Background: Him and I have been together for about 1 year and a half. He\\'s only given me a reason to doubt him once, and I can\\'t actually blame him for it because we were not technically together. That\\'s  whole other story.\\n\\nNow, it\\'s not that I don\\'t care if he looks at porn, because I do care. I feel jealous and insecure. Yet, I don\\'t forbid him from doing it. I won\\'t even be upset if he does, just secretly jealous. So, I\\'ve never told him that he can\\'t look at porn. To me, it sounds like \"lame girlfriend taking away all my fun\".\\n\\nHe\\'s told me repeatedly that he doesn\\'t look at porn because he no longer feels the need to. When I even offered to look at porn with him, he refused and said he would much rather just have sex with me.\\n\\nSo that\\'s why I\\'m so darn confused about finding porn on his tablet that he claims isn\\'t his.\\n\\n...Is he lying? I honestly don\\'t know. He\\'s never lied to me before. No one comes over to our apartment, so it\\'s not like he had a horny friend over mess with his tablet. He doesn\\'t take it anywhere so that someone could have put it on his tablet.\\n\\nI mean I found like 10 pictures downloaded to his gallery. How does that happen accidentally? Do ghosts download porn to tablets or something? (just kidding)\\n\\nAm I being naive to believe him or is this really just weird? Does porn sometimes show up on your computers/tablets randomly?\\n\\nPlease don\\'t be mean, I feel really dumb even asking this.\\nTL;DR: BF tells me he doesn\\'t watch porn anymore, yet when I go through his tablet I find porn and he denies ever looking at it. Is he just telling the truth?'], ['SUBREDDIT: r/relationships\\nTITLE: (21F) Found porn on my bf\\'s (21M) tablet. He says it\\'s not his, but no one else has used his tablet.\\nPOST: Background: Him and I have been together for about 1 year and a half. He\\'s only given me a reason to doubt him once, and I can\\'t actually blame him for it because we were not technically together. That\\'s  whole other story.\\n\\nNow, it\\'s not that I don\\'t care if he looks at porn, because I do care. I feel jealous and insecure. Yet, I don\\'t forbid him from doing it. I won\\'t even be upset if he does, just secretly jealous. So, I\\'ve never told him that he can\\'t look at porn. To me, it sounds like \"lame girlfriend taking away all my fun\".\\n\\nHe\\'s told me repeatedly that he doesn\\'t look at porn because he no longer feels the need to. When I even offered to look at porn with him, he refused and said he would much rather just have sex with me.\\n\\nSo that\\'s why I\\'m so darn confused about finding porn on his tablet that he claims isn\\'t his.\\n\\n...Is he lying? I honestly don\\'t know. He\\'s never lied to me before. No one comes over to our apartment, so it\\'s not like he had a horny friend over mess with his tablet. He doesn\\'t take it anywhere so that someone could have put it on his tablet.\\n\\nI mean I found like 10 pictures downloaded to his gallery. How does that happen accidentally? Do ghosts download porn to tablets or something? (just kidding)\\n\\nAm I being naive to believe him or is this really just weird? Does porn sometimes show up on your computers/tablets randomly?\\n\\nPlease don\\'t be mean, I feel really dumb even asking this.\\nTL;DR: Bf says he hasn\\'t looked at porn in years and that it\\'s not on his tablet. There are photos of naked ladies there though. Is his memory failing? Or am I being suckered into some crazy lie??']]\n"
          ]
        }
      ]
    },
    {
      "cell_type": "code",
      "execution_count": null,
      "metadata": {
        "id": "WGjSmzqqIJWY",
        "colab": {
          "base_uri": "https://localhost:8080/"
        },
        "outputId": "e27c8190-627a-46b6-b53d-6e0e789d4028"
      },
      "outputs": [
        {
          "output_type": "stream",
          "name": "stdout",
          "text": [
            "Current Working Directory: /content\n"
          ]
        }
      ],
      "source": [
        "# Get the current working directory\n",
        "current_directory = os.getcwd()\n",
        "\n",
        "# Print the current working directory\n",
        "print(\"Current Working Directory:\", current_directory)"
      ]
    },
    {
      "cell_type": "code",
      "execution_count": null,
      "metadata": {
        "id": "imXRnIaZIN2Q"
      },
      "outputs": [],
      "source": [
        "new_directory = '/content/drive/MyDrive/ConceptualGapsProject'"
      ]
    },
    {
      "cell_type": "code",
      "execution_count": null,
      "metadata": {
        "id": "rwlFAWo5IWpe",
        "colab": {
          "base_uri": "https://localhost:8080/"
        },
        "outputId": "63506c31-c74b-4c88-cba8-0e44dcd5baa7"
      },
      "outputs": [
        {
          "output_type": "stream",
          "name": "stdout",
          "text": [
            "Changed to New Directory: /content/drive/MyDrive/ConceptualGapsProject\n"
          ]
        }
      ],
      "source": [
        "# Change the current working directory\n",
        "os.chdir(new_directory)\n",
        "\n",
        "# Verify the change\n",
        "print(\"Changed to New Directory:\", os.getcwd())"
      ]
    },
    {
      "cell_type": "code",
      "execution_count": null,
      "metadata": {
        "id": "MBOtnnYqJWbW",
        "colab": {
          "base_uri": "https://localhost:8080/"
        },
        "outputId": "d741c7af-bbb8-4e1f-f9cd-fa4766cbe451"
      },
      "outputs": [
        {
          "output_type": "stream",
          "name": "stdout",
          "text": [
            "Requirement already satisfied: sentence-transformers in /usr/local/lib/python3.10/dist-packages (2.7.0)\n",
            "Requirement already satisfied: transformers<5.0.0,>=4.34.0 in /usr/local/lib/python3.10/dist-packages (from sentence-transformers) (4.41.0.dev0)\n",
            "Requirement already satisfied: tqdm in /usr/local/lib/python3.10/dist-packages (from sentence-transformers) (4.66.2)\n",
            "Requirement already satisfied: torch>=1.11.0 in /usr/local/lib/python3.10/dist-packages (from sentence-transformers) (2.2.1+cu121)\n",
            "Requirement already satisfied: numpy in /usr/local/lib/python3.10/dist-packages (from sentence-transformers) (1.25.2)\n",
            "Requirement already satisfied: scikit-learn in /usr/local/lib/python3.10/dist-packages (from sentence-transformers) (1.2.2)\n",
            "Requirement already satisfied: scipy in /usr/local/lib/python3.10/dist-packages (from sentence-transformers) (1.11.4)\n",
            "Requirement already satisfied: huggingface-hub>=0.15.1 in /usr/local/lib/python3.10/dist-packages (from sentence-transformers) (0.22.2)\n",
            "Requirement already satisfied: Pillow in /usr/local/lib/python3.10/dist-packages (from sentence-transformers) (9.4.0)\n",
            "Requirement already satisfied: filelock in /usr/local/lib/python3.10/dist-packages (from huggingface-hub>=0.15.1->sentence-transformers) (3.13.4)\n",
            "Requirement already satisfied: fsspec>=2023.5.0 in /usr/local/lib/python3.10/dist-packages (from huggingface-hub>=0.15.1->sentence-transformers) (2023.6.0)\n",
            "Requirement already satisfied: packaging>=20.9 in /usr/local/lib/python3.10/dist-packages (from huggingface-hub>=0.15.1->sentence-transformers) (24.0)\n",
            "Requirement already satisfied: pyyaml>=5.1 in /usr/local/lib/python3.10/dist-packages (from huggingface-hub>=0.15.1->sentence-transformers) (6.0.1)\n",
            "Requirement already satisfied: requests in /usr/local/lib/python3.10/dist-packages (from huggingface-hub>=0.15.1->sentence-transformers) (2.31.0)\n",
            "Requirement already satisfied: typing-extensions>=3.7.4.3 in /usr/local/lib/python3.10/dist-packages (from huggingface-hub>=0.15.1->sentence-transformers) (4.11.0)\n",
            "Requirement already satisfied: sympy in /usr/local/lib/python3.10/dist-packages (from torch>=1.11.0->sentence-transformers) (1.12)\n",
            "Requirement already satisfied: networkx in /usr/local/lib/python3.10/dist-packages (from torch>=1.11.0->sentence-transformers) (3.3)\n",
            "Requirement already satisfied: jinja2 in /usr/local/lib/python3.10/dist-packages (from torch>=1.11.0->sentence-transformers) (3.1.3)\n",
            "Requirement already satisfied: nvidia-cuda-nvrtc-cu12==12.1.105 in /usr/local/lib/python3.10/dist-packages (from torch>=1.11.0->sentence-transformers) (12.1.105)\n",
            "Requirement already satisfied: nvidia-cuda-runtime-cu12==12.1.105 in /usr/local/lib/python3.10/dist-packages (from torch>=1.11.0->sentence-transformers) (12.1.105)\n",
            "Requirement already satisfied: nvidia-cuda-cupti-cu12==12.1.105 in /usr/local/lib/python3.10/dist-packages (from torch>=1.11.0->sentence-transformers) (12.1.105)\n",
            "Requirement already satisfied: nvidia-cudnn-cu12==8.9.2.26 in /usr/local/lib/python3.10/dist-packages (from torch>=1.11.0->sentence-transformers) (8.9.2.26)\n",
            "Requirement already satisfied: nvidia-cublas-cu12==12.1.3.1 in /usr/local/lib/python3.10/dist-packages (from torch>=1.11.0->sentence-transformers) (12.1.3.1)\n",
            "Requirement already satisfied: nvidia-cufft-cu12==11.0.2.54 in /usr/local/lib/python3.10/dist-packages (from torch>=1.11.0->sentence-transformers) (11.0.2.54)\n",
            "Requirement already satisfied: nvidia-curand-cu12==10.3.2.106 in /usr/local/lib/python3.10/dist-packages (from torch>=1.11.0->sentence-transformers) (10.3.2.106)\n",
            "Requirement already satisfied: nvidia-cusolver-cu12==11.4.5.107 in /usr/local/lib/python3.10/dist-packages (from torch>=1.11.0->sentence-transformers) (11.4.5.107)\n",
            "Requirement already satisfied: nvidia-cusparse-cu12==12.1.0.106 in /usr/local/lib/python3.10/dist-packages (from torch>=1.11.0->sentence-transformers) (12.1.0.106)\n",
            "Requirement already satisfied: nvidia-nccl-cu12==2.19.3 in /usr/local/lib/python3.10/dist-packages (from torch>=1.11.0->sentence-transformers) (2.19.3)\n",
            "Requirement already satisfied: nvidia-nvtx-cu12==12.1.105 in /usr/local/lib/python3.10/dist-packages (from torch>=1.11.0->sentence-transformers) (12.1.105)\n",
            "Requirement already satisfied: triton==2.2.0 in /usr/local/lib/python3.10/dist-packages (from torch>=1.11.0->sentence-transformers) (2.2.0)\n",
            "Requirement already satisfied: nvidia-nvjitlink-cu12 in /usr/local/lib/python3.10/dist-packages (from nvidia-cusolver-cu12==11.4.5.107->torch>=1.11.0->sentence-transformers) (12.4.127)\n",
            "Requirement already satisfied: regex!=2019.12.17 in /usr/local/lib/python3.10/dist-packages (from transformers<5.0.0,>=4.34.0->sentence-transformers) (2023.12.25)\n",
            "Requirement already satisfied: tokenizers<0.20,>=0.19 in /usr/local/lib/python3.10/dist-packages (from transformers<5.0.0,>=4.34.0->sentence-transformers) (0.19.1)\n",
            "Requirement already satisfied: safetensors>=0.4.1 in /usr/local/lib/python3.10/dist-packages (from transformers<5.0.0,>=4.34.0->sentence-transformers) (0.4.3)\n",
            "Requirement already satisfied: joblib>=1.1.1 in /usr/local/lib/python3.10/dist-packages (from scikit-learn->sentence-transformers) (1.4.0)\n",
            "Requirement already satisfied: threadpoolctl>=2.0.0 in /usr/local/lib/python3.10/dist-packages (from scikit-learn->sentence-transformers) (3.4.0)\n",
            "Requirement already satisfied: MarkupSafe>=2.0 in /usr/local/lib/python3.10/dist-packages (from jinja2->torch>=1.11.0->sentence-transformers) (2.1.5)\n",
            "Requirement already satisfied: charset-normalizer<4,>=2 in /usr/local/lib/python3.10/dist-packages (from requests->huggingface-hub>=0.15.1->sentence-transformers) (3.3.2)\n",
            "Requirement already satisfied: idna<4,>=2.5 in /usr/local/lib/python3.10/dist-packages (from requests->huggingface-hub>=0.15.1->sentence-transformers) (3.7)\n",
            "Requirement already satisfied: urllib3<3,>=1.21.1 in /usr/local/lib/python3.10/dist-packages (from requests->huggingface-hub>=0.15.1->sentence-transformers) (2.0.7)\n",
            "Requirement already satisfied: certifi>=2017.4.17 in /usr/local/lib/python3.10/dist-packages (from requests->huggingface-hub>=0.15.1->sentence-transformers) (2024.2.2)\n",
            "Requirement already satisfied: mpmath>=0.19 in /usr/local/lib/python3.10/dist-packages (from sympy->torch>=1.11.0->sentence-transformers) (1.3.0)\n"
          ]
        }
      ],
      "source": [
        "!pip install sentence-transformers\n"
      ]
    },
    {
      "cell_type": "code",
      "execution_count": null,
      "metadata": {
        "id": "E8obLOmsJlem",
        "colab": {
          "base_uri": "https://localhost:8080/"
        },
        "outputId": "f947ab39-64ce-4e59-e1c1-c9baa9a95dfb"
      },
      "outputs": [
        {
          "output_type": "stream",
          "name": "stdout",
          "text": [
            "Requirement already satisfied: openai==0.28.1 in /usr/local/lib/python3.10/dist-packages (0.28.1)\n",
            "Requirement already satisfied: requests>=2.20 in /usr/local/lib/python3.10/dist-packages (from openai==0.28.1) (2.31.0)\n",
            "Requirement already satisfied: tqdm in /usr/local/lib/python3.10/dist-packages (from openai==0.28.1) (4.66.2)\n",
            "Requirement already satisfied: aiohttp in /usr/local/lib/python3.10/dist-packages (from openai==0.28.1) (3.9.5)\n",
            "Requirement already satisfied: charset-normalizer<4,>=2 in /usr/local/lib/python3.10/dist-packages (from requests>=2.20->openai==0.28.1) (3.3.2)\n",
            "Requirement already satisfied: idna<4,>=2.5 in /usr/local/lib/python3.10/dist-packages (from requests>=2.20->openai==0.28.1) (3.7)\n",
            "Requirement already satisfied: urllib3<3,>=1.21.1 in /usr/local/lib/python3.10/dist-packages (from requests>=2.20->openai==0.28.1) (2.0.7)\n",
            "Requirement already satisfied: certifi>=2017.4.17 in /usr/local/lib/python3.10/dist-packages (from requests>=2.20->openai==0.28.1) (2024.2.2)\n",
            "Requirement already satisfied: aiosignal>=1.1.2 in /usr/local/lib/python3.10/dist-packages (from aiohttp->openai==0.28.1) (1.3.1)\n",
            "Requirement already satisfied: attrs>=17.3.0 in /usr/local/lib/python3.10/dist-packages (from aiohttp->openai==0.28.1) (23.2.0)\n",
            "Requirement already satisfied: frozenlist>=1.1.1 in /usr/local/lib/python3.10/dist-packages (from aiohttp->openai==0.28.1) (1.4.1)\n",
            "Requirement already satisfied: multidict<7.0,>=4.5 in /usr/local/lib/python3.10/dist-packages (from aiohttp->openai==0.28.1) (6.0.5)\n",
            "Requirement already satisfied: yarl<2.0,>=1.0 in /usr/local/lib/python3.10/dist-packages (from aiohttp->openai==0.28.1) (1.9.4)\n",
            "Requirement already satisfied: async-timeout<5.0,>=4.0 in /usr/local/lib/python3.10/dist-packages (from aiohttp->openai==0.28.1) (4.0.3)\n"
          ]
        }
      ],
      "source": [
        "!pip install openai==0.28.1"
      ]
    },
    {
      "cell_type": "code",
      "source": [
        "ouputs_ = [\n",
        "    [\n",
        "       \"Slept with friend after meeting only last weekend--does this ruin possibilities of more? Should I wait awhile before telling him how I feel? Help?\",\n",
        "       \"hooked up with fwb for the night and wonder now how to read signs whether he would actually want more than that\",\n",
        "       \"Slept with \\'boyfriend\\'. He says there are no labels, but also seems okay about just chilling. How do I get clarification? Or, even better, advice :)\",\n",
        "        ],\n",
        "    [\n",
        "        \"Son's first funeral for a close school friend, suddenly changed his mind this morning that he doesn't want to go, how can i get him to feel it's ok if he feels he can't take it all in now?\",\n",
        "        \"our friends son died unexpectedly two weeks ago, today is the kids first funeral and my SOs youngest doesn't want to go and now my SO wants me too stand my ground while she supports him through this.\",\n",
        "        \"Son didn't want to attend funeral of dead friends. How can i help him through this without putting too much pressure on him?\",\n",
        "         ],\n",
        "    [\n",
        "        \"Saw picture online before getting response to a text, and then didn't hear from her till 24 hrs later. Is it wrong for me to get upset about not having heard from her for so long when we agreed she wouldn't make plans for when we see each other?\",\n",
        "        \"Girlfriend doesn't answer texts from a distance, has been hanging out with a boy I know nothing about all day, leaving me wondering.\",\n",
        "        \"Girl I see doesn\\'t seem very interested and hasn\\'t really had plans recently because she is really busy. Am I being impatient, or should I just move on if interest isn\\'t there?\",\n",
        "        ],\n",
        "    [\n",
        "        \"At A funeral i kick an old german lady as she falls and everyone assumes i gave her a black eye when in actuality it was shoe polish\",\n",
        "        \"Funeral for granddad happens. An old lady falls over as i run past to kick her off balance, ending up knocking a little bit of shoe polish into the wound and making it look like i gave her a black eye\",\n",
        "        \"Kicked a old woman after she\\'s fallen, thinking I help her not hurt her even worse. Everyone though otherwise for years.\",\n",
        "          ],\n",
        "    [\n",
        "        \" My best friend is having sex behind my back. Do I fuck someone else\\'s hot wife or do I get divorced?\",\n",
        "        \"Wife cheated on me, we made nice but nothing is there (I am sure)... should i quit and live life?\",\n",
        "        \"D-bag cheated on me, got caught and got fired.  One yr later, no more love, nothing left..\",\n",
        "       ],\n",
        "    [\n",
        "        \"Severe caffeine withdrawal pains if I go without it for many hours during WOE. Looking for good caffeine supplement alternatives for healthier version of former crazed behavior. Thank you!\",\n",
        "        \"My doctor doesn't really approve of the amount of diet coke, but isn't allowing me to cut it out completely because caffeine withdrawal causes excruciating headache when mixed w/ severe back problems and fibromyalgia.\",\n",
        "        \"Am addicted to sugar free sodas, and would rather use their cals for real foods instead of sodas. Found a supplement w/ 90mg and extra vitamins like b12 & folic acid, but costs nearly $20/mo. Anyone using vitamins or supplements as another form of caffeination? Suggestions welcome.\",\n",
        "        ],\n",
        "    [\n",
        "        \" Ate a banana, suffered horribly until waking up to do some very intensive Googling after which I discovered that I was probably suffering through either anaphylactic shock or a benign allergic reaction to bananas\",\n",
        "        \" Ate a banana the other night expecting magic-flavored-fruit goodness; woke up feeling like hell; turned into a human snot/indigestion fountain; diagnosed myself with a fruit allergy with help from google; felt much better.\",\n",
        "        \"Ate a previously uninvestigated food (for me) before finals week. Spent subsequent day experiencing various symptoms of anaphylactic shock including facial swelling and rashes under both arms.\",\n",
        "         ],\n",
        "    [\n",
        "        \" My boyfriend and I havent had sex or even done much more than kissing in our entire almost two year relation ship and i am nervous if its okay\",\n",
        "        \"Been with BF for 2 years and haven't had sex, normal? And am i doing damage if its what hes wants?\",\n",
        "        \"Dating a guy for two years never done anything sexual am I too slow or would it be weird if i started now since we both agreed I wouldn't till we were older\",\n",
        "          ],\n",
        "    [\n",
        "        \"What kinds of wacky and/or sexy pornos would people like to see and what ones do they already love (if any)?\",\n",
        "        \"Redditors tell me crazy cool porn ideas and if they sound really amazing I *may* make them!\",\n",
        "        \"My alter ego needs porn suggestions. Give me good things or dumb things and you just could see them in hard core sex acts!!!\",\n",
        "         ],\n",
        "    [\n",
        "        \"ASKED GIRL TO PROM. TALK TO HER FOR EVERYTHING THESE DAYS EXCEPT PROBABLY WILL I HAVE FUN AT SCHOOOOL IF WE GO...\",\n",
        "        \"Asking girl who was supposed to go with me to prom may put people off as it seems we have dated\",\n",
        "        \"Invited girl over to Prom. Talking to her is harder than before Prom invite. Deciding whether to continue talking / trying something more\",\n",
        "        ],\n",
        "    [\n",
        "        \"A girl that was looking at me the whole time I went to class was made invisible just because a friend decided to sit in front of me.\",\n",
        "        \"Some random ass nigga cock block me from asking another female out and now my target chick thinks I'm not into her.\",\n",
        "        \"Had chances with 2 girls in class, 1 already taken so the second girl became infatuated with someone else\",\n",
        "       ],\n",
        "    [\n",
        "        \"Friend who used to cause problems is now stealing things form us.  Thinking of telling her or wait. Also waiting for her to break a window or something.\",\n",
        "        \"Our shit neighbor has stolen from us twice but my wife says nothing because she fears losing her only close (shit) friend.\",\n",
        "        \" Wife has shitty friend that hangs around way to much who I am sure steals.  Not sure if I should let wife know what I think.\",\n",
        "        ],\n",
        "    [\n",
        "        \"Brushed hard enough with Gritty baking powder until my gum fell....This happens once every one year in my area :(\",\n",
        "        \"wanted white enamel so been brushing with baking soda...took almost 3 months before I realized the mistake I had done, ended up losing part of the gum\",\n",
        "        \"Brushed with Baking Soda for months and ended up accidentally making half of my gum come off because my paste is too coarse.\",\n",
        "        ],\n",
        "    [\n",
        "        \"Met a girl in college, I flirted with her constantly even knew as well as some of her friends did that there were still feelings between us.\",\n",
        "        \"Had a great night out with a girls who was engaged getting ready to move across country.. didn't seal it with my lips...\",\n",
        "        \" Flirted with my old grad school crush, it ends with us making our from eachothers mouths to their wedding altar, wondering if I shouldve made more of a move or just not read too much into things.\",\n",
        "       ],\n",
        "    [\n",
        "        \"Dad's gone into multiple hospitals in the past three years. Maybe nearing his end and it hurts knowing he won't be around forever.\",\n",
        "        \"Dad keeps having to stay in the hospital with low or no blood pressure and a bunch of other stuff making him sick and weary. May not have much longer here.\",\n",
        "        \"Dad has been in and out of hopsital and getting sicker (losing blood, low on blood volume), starting to worry he won't recover this time\",\n",
        "       ],\n",
        "    [\n",
        "        \" Non-binding HOA states that my neighbor owns his own property and he can do what ever he wants on it despite previous warnings.\",\n",
        "        \"Chickens on my property violated neighborhood rules, but I believe the HOA doesn\\'t have the power to enforce the violation.\",\n",
        "        \"The HOA wants us to stop our non-neighbor affecting behavior and we want their lawyers to shove it up their ass.\",\n",
        "     ],\n",
        "    [\n",
        "        \" Boyfriend says sexual comments to me, I feel very uncomfortable as they remind me of my ex\\'s emotional abuse regarding body image and attractiveness.\",\n",
        "        \"BF asks me in public if I\\'d let him fuck an underage chick. Gets mad when I say no and go home. Wondering how common this behavior is\",\n",
        "        \"My boyfriend tells me things about the female body or sexuality that make me feel uncomfortable. Any thoughts on how to talk about it without hurting his feelings?\",\n",
        "        ],\n",
        "    [\n",
        "        \"Spilled dust and cat hair all over the carpet with the very last bit that I was trying to clean the garage canister out and then spilled the previous weeks worth all over the same spot\",\n",
        "        \" Emptied out too much at once. Garbage bag gets sucked and now there's a giant pile of cat hair in our house.\",\n",
        "        \" Did a very nice job vacuuming before adoption day for 2 cute new cats. Fucking got lazy at cleanup and now have a second round of floor cleanups ahead.\",\n",
        "      ]\n",
        "]"
      ],
      "metadata": {
        "id": "1ApLGRBH0Kr2"
      },
      "execution_count": null,
      "outputs": []
    },
    {
      "cell_type": "code",
      "execution_count": null,
      "metadata": {
        "id": "DIZ9uhRhF3qd",
        "colab": {
          "base_uri": "https://localhost:8080/"
        },
        "outputId": "1f68a0c3-e6d2-4759-b23d-36b2d0dda2f7"
      },
      "outputs": [
        {
          "output_type": "stream",
          "name": "stderr",
          "text": [
            "Some weights of the model checkpoint at roberta-large-mnli were not used when initializing RobertaForSequenceClassification: ['roberta.pooler.dense.bias', 'roberta.pooler.dense.weight']\n",
            "- This IS expected if you are initializing RobertaForSequenceClassification from the checkpoint of a model trained on another task or with another architecture (e.g. initializing a BertForSequenceClassification model from a BertForPreTraining model).\n",
            "- This IS NOT expected if you are initializing RobertaForSequenceClassification from the checkpoint of a model that you expect to be exactly identical (initializing a BertForSequenceClassification model from a BertForSequenceClassification model).\n",
            "Some weights of the model checkpoint at roberta-large-mnli were not used when initializing RobertaForSequenceClassification: ['roberta.pooler.dense.bias', 'roberta.pooler.dense.weight']\n",
            "- This IS expected if you are initializing RobertaForSequenceClassification from the checkpoint of a model trained on another task or with another architecture (e.g. initializing a BertForSequenceClassification model from a BertForPreTraining model).\n",
            "- This IS NOT expected if you are initializing RobertaForSequenceClassification from the checkpoint of a model that you expect to be exactly identical (initializing a BertForSequenceClassification model from a BertForSequenceClassification model).\n"
          ]
        },
        {
          "output_type": "stream",
          "name": "stdout",
          "text": [
            "calculating per-input diversities\n",
            "Error calculating diversities for metric <diversity.diversity_metrics.OpenAiEmbeddingsFromSim object at 0x7a87763cd060>: RetryError[<Future at 0x7a876fcb7b20 state=finished raised AuthenticationError>]\n",
            "Error calculating diversities for metric <diversity.diversity_metrics.OpenAiEmbeddingsFromSim object at 0x7a87763cd060>: RetryError[<Future at 0x7a876fcb4760 state=finished raised AuthenticationError>]\n",
            "Error calculating diversities for metric <diversity.diversity_metrics.OpenAiEmbeddingsFromSim object at 0x7a87763cd060>: RetryError[<Future at 0x7a87d05ef520 state=finished raised AuthenticationError>]\n",
            "Error calculating diversities for metric <diversity.diversity_metrics.OpenAiEmbeddingsFromSim object at 0x7a87763cd060>: RetryError[<Future at 0x7a87d05efd30 state=finished raised AuthenticationError>]\n",
            "Error calculating diversities for metric <diversity.diversity_metrics.OpenAiEmbeddingsFromSim object at 0x7a87763cd060>: RetryError[<Future at 0x7a87d05eef80 state=finished raised AuthenticationError>]\n",
            "Error calculating diversities for metric <diversity.diversity_metrics.OpenAiEmbeddingsFromSim object at 0x7a87763cd060>: RetryError[<Future at 0x7a876fcb42b0 state=finished raised AuthenticationError>]\n",
            "Error calculating diversities for metric <diversity.diversity_metrics.OpenAiEmbeddingsFromSim object at 0x7a87763cd060>: RetryError[<Future at 0x7a876fcb73a0 state=finished raised AuthenticationError>]\n",
            "Error calculating diversities for metric <diversity.diversity_metrics.OpenAiEmbeddingsFromSim object at 0x7a87763cd060>: RetryError[<Future at 0x7a876fb1dab0 state=finished raised AuthenticationError>]\n",
            "Error calculating diversities for metric <diversity.diversity_metrics.OpenAiEmbeddingsFromSim object at 0x7a87763cd060>: RetryError[<Future at 0x7a876fb1d840 state=finished raised AuthenticationError>]\n",
            "Error calculating diversities for metric <diversity.diversity_metrics.OpenAiEmbeddingsFromSim object at 0x7a87763cd060>: RetryError[<Future at 0x7a876fb1c6a0 state=finished raised AuthenticationError>]\n",
            "Error calculating diversities for metric <diversity.diversity_metrics.OpenAiEmbeddingsFromSim object at 0x7a87763cd060>: RetryError[<Future at 0x7a876fcb41c0 state=finished raised AuthenticationError>]\n",
            "Error calculating diversities for metric <diversity.diversity_metrics.OpenAiEmbeddingsFromSim object at 0x7a87763cd060>: RetryError[<Future at 0x7a876fcb73a0 state=finished raised AuthenticationError>]\n",
            "Error calculating diversities for metric <diversity.diversity_metrics.OpenAiEmbeddingsFromSim object at 0x7a87763cd060>: RetryError[<Future at 0x7a87d05effa0 state=finished raised AuthenticationError>]\n",
            "Error calculating diversities for metric <diversity.diversity_metrics.OpenAiEmbeddingsFromSim object at 0x7a87763cd060>: RetryError[<Future at 0x7a87d05efd00 state=finished raised AuthenticationError>]\n",
            "Error calculating diversities for metric <diversity.diversity_metrics.OpenAiEmbeddingsFromSim object at 0x7a87763cd060>: RetryError[<Future at 0x7a876fc84760 state=finished raised AuthenticationError>]\n",
            "Error calculating diversities for metric <diversity.diversity_metrics.OpenAiEmbeddingsFromSim object at 0x7a87763cd060>: RetryError[<Future at 0x7a87d05ef820 state=finished raised AuthenticationError>]\n",
            "Error calculating diversities for metric <diversity.diversity_metrics.OpenAiEmbeddingsFromSim object at 0x7a87763cd060>: RetryError[<Future at 0x7a87d05ee950 state=finished raised AuthenticationError>]\n",
            "Error calculating diversities for metric <diversity.diversity_metrics.OpenAiEmbeddingsFromSim object at 0x7a87763cd060>: RetryError[<Future at 0x7a87d05eff40 state=finished raised AuthenticationError>]\n",
            "Average per-input diversities:\n",
            "{'mean_per_input_averaged_distinct_ngrams': 0.9596820891739513, 'mean_per_input_ead_averaged_distinct_ngrams': 0.960381966764968, 'mean_per_input_cosine_similarity_2d_diversity': 0.9953658814788979, 'mean_per_input_sent_bert_from_sim': 0.4198718849155638, 'mean_per_input_nli_from_sim': 0.9411433344637907, 'mean_per_input_nli_sample_from_sim': 0.8890050894905018}\n",
            "Std per-input diversities:\n",
            "{'std_per_input_averaged_distinct_ngrams': 0.01660424963032151, 'std_per_input_ead_averaged_distinct_ngrams': 0.016561245604770305, 'std_per_input_cosine_similarity_2d_diversity': 0.011130645081670535, 'std_per_input_sent_bert_from_sim': 0.11275002036845483, 'std_per_input_nli_from_sim': 0.297864882582675, 'std_per_input_nli_sample_from_sim': 0.07122854102490325}\n",
            "calculating overall diversities\n",
            "Error calculating diversities for metric <diversity.diversity_metrics.OpenAiEmbeddingsFromSim object at 0x7a87763cd060>: RetryError[<Future at 0x7a87d05efb50 state=finished raised AuthenticationError>]\n",
            "Average overall diversities:\n",
            "{'overall_averaged_distinct_ngrams': 0.8912405585716112, 'overall_ead_averaged_distinct_ngrams': 0.9030832639201506, 'overall_cosine_similarity_2d_diversity': 0.9997124938361202, 'overall_sent_bert_from_sim': 0.7230327725410461, 'overall_nli_from_sim': 0.5379319034157559, 'overall_nli_sample_from_sim': 0.8831751979230418}\n",
            "calculating overall single-input diversities\n",
            "Error calculating diversities for metric <diversity.diversity_metrics.OpenAiEmbeddingsFromSim object at 0x7a87763cd060>: RetryError[<Future at 0x7a87d05efb20 state=finished raised AuthenticationError>]\n",
            "Average overall single-input diversities:\n",
            "{'overall_single_output_averaged_distinct_ngrams': 0.9329060415750291, 'overall_single_output_ead_averaged_distinct_ngrams': 0.9372332221159544, 'overall_single_output_cosine_similarity_2d_diversity': 0.9998074327937945, 'overall_single_output_sent_bert_from_sim': 0.7378852069377899, 'overall_single_output_nli_from_sim': 0.600635802044588, 'overall_single_output_nli_sample_from_sim': 0.8753726055575352}\n",
            "{'mean_per_input_averaged_distinct_ngrams': 0.9596820891739513, 'mean_per_input_ead_averaged_distinct_ngrams': 0.960381966764968, 'mean_per_input_cosine_similarity_2d_diversity': 0.9953658814788979, 'mean_per_input_sent_bert_from_sim': 0.4198718849155638, 'mean_per_input_nli_from_sim': 0.9411433344637907, 'mean_per_input_nli_sample_from_sim': 0.8890050894905018, 'std_per_input_averaged_distinct_ngrams': 0.01660424963032151, 'std_per_input_ead_averaged_distinct_ngrams': 0.016561245604770305, 'std_per_input_cosine_similarity_2d_diversity': 0.011130645081670535, 'std_per_input_sent_bert_from_sim': 0.11275002036845483, 'std_per_input_nli_from_sim': 0.297864882582675, 'std_per_input_nli_sample_from_sim': 0.07122854102490325, 'overall_averaged_distinct_ngrams': 0.8912405585716112, 'overall_ead_averaged_distinct_ngrams': 0.9030832639201506, 'overall_cosine_similarity_2d_diversity': 0.9997124938361202, 'overall_sent_bert_from_sim': 0.7230327725410461, 'overall_nli_from_sim': 0.5379319034157559, 'overall_nli_sample_from_sim': 0.8831751979230418, 'overall_single_output_averaged_distinct_ngrams': 0.9329060415750291, 'overall_single_output_ead_averaged_distinct_ngrams': 0.9372332221159544, 'overall_single_output_cosine_similarity_2d_diversity': 0.9998074327937945, 'overall_single_output_sent_bert_from_sim': 0.7378852069377899, 'overall_single_output_nli_from_sim': 0.600635802044588, 'overall_single_output_nli_sample_from_sim': 0.8753726055575352}\n"
          ]
        }
      ],
      "source": [
        "\"\"\"\n",
        "Copyright (c) Meta Platforms, Inc. and affiliates.\n",
        "All rights reserved.\n",
        "\n",
        "This source code is licensed under the license found in the\n",
        "LICENSE file in the root directory of this source tree.\n",
        "\"\"\"\n",
        "\n",
        "\"\"\"Calculate diversity metrics on model outputs, both for a given inputs and across inputs.\"\"\"\n",
        "\n",
        "import typing as t\n",
        "\n",
        "import numpy as np\n",
        "\n",
        "from diversity.diversity_metrics import (\n",
        "    AveragedDistinctNgrams, AveragedExpectationAdjustedDistinctNgrams,\n",
        "    CosineSimilarity2Diversity, NLIFromSim, NLISampleFromSim,\n",
        "    OpenAiEmbeddingsFromSim, SentBertFromSim)\n",
        "\n",
        "DEFAULT_CONFIGS = {\n",
        "    \"averaged_distinct_ngrams\": AveragedDistinctNgrams.default_config,\n",
        "    \"ead_averaged_distinct_ngrams\": AveragedExpectationAdjustedDistinctNgrams.default_config,\n",
        "    \"cosine_similarity_2d_diversity\": CosineSimilarity2Diversity.default_config,\n",
        "    \"sent_bert_from_sim\": SentBertFromSim.default_config,\n",
        "    \"nli_from_sim\": NLIFromSim.default_config,\n",
        "    \"nli_sample_from_sim\": NLISampleFromSim.default_config,\n",
        "    \"openai_from_sim\": OpenAiEmbeddingsFromSim.default_config,\n",
        "}\n",
        "\n",
        "METRICS = [\n",
        "    AveragedDistinctNgrams,\n",
        "    AveragedExpectationAdjustedDistinctNgrams,\n",
        "    CosineSimilarity2Diversity,\n",
        "    SentBertFromSim,\n",
        "    NLIFromSim,\n",
        "    OpenAiEmbeddingsFromSim,\n",
        "    NLISampleFromSim,\n",
        "]\n",
        "\n",
        "\n",
        "def initialise_metrics(metric_configs=DEFAULT_CONFIGS):\n",
        "    \"\"\"Initialise diversity metrics from config.\"\"\"\n",
        "    if metric_configs is None:\n",
        "        metric_configs = DEFAULT_CONFIGS\n",
        "    metrics = []\n",
        "    for metric in METRICS:\n",
        "        if metric.name in metric_configs:\n",
        "            metrics.append(metric(metric_configs[metric.name]))\n",
        "    return metrics\n",
        "\n",
        "\n",
        "def calculate_output_diversity(outputs: t.List[str], metrics) -> t.Dict[str, float]:\n",
        "    \"\"\"Calculate diversity metrics on model outputs, both for a given inputs and across inputs.\"\"\"\n",
        "    results = {}\n",
        "    for metric in metrics:\n",
        "        try:\n",
        "            results[metric.name] = metric(outputs)\n",
        "        except Exception as e:\n",
        "            print(f\"Error calculating diversities for metric {metric}: {e}\")\n",
        "    return results\n",
        "\n",
        "\n",
        "def calculate_diversity_metrics(\n",
        "    outputss: t.List[t.List[str]],\n",
        "    metric_configs=DEFAULT_CONFIGS,\n",
        "    no_per_input=False,\n",
        "    no_overall_input=False,\n",
        "    sample_overall=False,\n",
        ") -> t.Dict[str, float]:\n",
        "    \"\"\"Calculate diversity metrics on model outputs, both for a given inputs and across inputs.\"\"\"\n",
        "\n",
        "    metrics = initialise_metrics(metric_configs)\n",
        "    results = {}\n",
        "\n",
        "    if not no_per_input:\n",
        "        print(\"calculating per-input diversities\")\n",
        "        per_input_diversities = []\n",
        "        i = 1\n",
        "        for outputs in outputss:\n",
        "            per_input_diversities.append(calculate_output_diversity(outputs, metrics))\n",
        "            if i % 10 == 0:\n",
        "                print(f\"{i}/{len(outputss)}\")\n",
        "\n",
        "        average_per_input_diversity = {\n",
        "            f\"mean_per_input_{k}\": np.mean([d[k] for d in per_input_diversities])\n",
        "            for k in per_input_diversities[0].keys()\n",
        "        }\n",
        "        std_per_input_diversity = {\n",
        "            f\"std_per_input_{k}\": np.std([d[k] for d in per_input_diversities])\n",
        "            for k in per_input_diversities[0].keys()\n",
        "        }\n",
        "        results.update(average_per_input_diversity)\n",
        "        results.update(std_per_input_diversity)\n",
        "        print(\"Average per-input diversities:\")\n",
        "        print(average_per_input_diversity)\n",
        "        print(\"Std per-input diversities:\")\n",
        "        print(std_per_input_diversity)\n",
        "\n",
        "    if not no_overall_input:\n",
        "        print(\"calculating overall diversities\")\n",
        "        if not sample_overall:\n",
        "            overall_diversities = calculate_output_diversity(\n",
        "                [output for outputs in outputss for output in outputs], metrics\n",
        "            )\n",
        "        else:\n",
        "            outputs = [output for outputs in outputss for output in outputs]\n",
        "            outputs_sampled_subset = list(np.random.choice(outputs, replace=False, size=500))\n",
        "            overall_diversities = calculate_output_diversity(outputs_sampled_subset, metrics)\n",
        "\n",
        "        overall_diversities = {f\"overall_{k}\": v for k, v in overall_diversities.items()}\n",
        "\n",
        "        print(\"Average overall diversities:\")\n",
        "        print(overall_diversities)\n",
        "\n",
        "        results.update(overall_diversities)\n",
        "\n",
        "    print(\"calculating overall single-input diversities\")\n",
        "    overall_single_output_diversities = calculate_output_diversity(\n",
        "        [outputs[0] for outputs in outputss], metrics\n",
        "    )\n",
        "    overall_single_output_diversities = {\n",
        "        f\"overall_single_output_{k}\": v for k, v in overall_single_output_diversities.items()\n",
        "    }\n",
        "\n",
        "    print(\"Average overall single-input diversities:\")\n",
        "    print(overall_single_output_diversities)\n",
        "\n",
        "    results.update(overall_single_output_diversities)\n",
        "\n",
        "    return results\n",
        "\n",
        "\n",
        "if __name__ == \"__main__\":\n",
        "    # Test functions on some example inputs\n",
        "    outputss_ = [\n",
        "        [\n",
        "            \"I like to eat apples.\",\n",
        "            \"I like to eat bananas.\",\n",
        "            \"I like to eat oranges.\",\n",
        "        ],\n",
        "        [\n",
        "            \"I love to eat apples.\",\n",
        "            \"I love to eat bananas.\",\n",
        "            \"I love to eat oranges.\",\n",
        "        ],\n",
        "        [\n",
        "            \"I love muching on apples.\",\n",
        "            \"I love muching on bananas.\",\n",
        "            \"I love muching on oranges.\",\n",
        "        ],\n",
        "    ]\n",
        "    outputss = [\n",
        "        [\n",
        "       \"Slept with friend after meeting only last weekend--does this ruin possibilities of more? Should I wait awhile before telling him how I feel? Help?\",\n",
        "       \"hooked up with fwb for the night and wonder now how to read signs whether he would actually want more than that\",\n",
        "       \"Slept with \\'boyfriend\\'. He says there are no labels, but also seems okay about just chilling. How do I get clarification? Or, even better, advice :)\"\n",
        "    ],\n",
        "    [\n",
        "        \"Son's first funeral for a close school friend, suddenly changed his mind this morning that he doesn't want to go, how can i get him to feel it's ok if he feels he can't take it all in now?\",\n",
        "        \"our friends son died unexpectedly two weeks ago, today is the kids first funeral and my SOs youngest doesn't want to go and now my SO wants me too stand my ground while she supports him through this.\",\n",
        "        \"Son didn't want to attend funeral of dead friends. How can i help him through this without putting too much pressure on him?\"\n",
        "    ],\n",
        "    [\n",
        "        \"Saw picture online before getting response to a text, and then didn't hear from her till 24 hrs later. Is it wrong for me to get upset about not having heard from her for so long when we agreed she wouldn't make plans for when we see each other?\",\n",
        "        \"Girlfriend doesn't answer texts from a distance, has been hanging out with a boy I know nothing about all day, leaving me wondering.\",\n",
        "        \"Girl I see doesn\\'t seem very interested and hasn\\'t really had plans recently because she is really busy. Am I being impatient, or should I just move on if interest isn\\'t there?\"\n",
        "    ],\n",
        "        [\n",
        "        \"Brushed hard enough with Gritty baking powder until my gum fell....This happens once every one year in my area :(\",\n",
        "        \"wanted white enamel so been brushing with baking soda...took almost 3 months before I realized the mistake I had done, ended up losing part of the gum\",\n",
        "        \"Brushed with Baking Soda for months and ended up accidentally making half of my gum come off because my paste is too coarse.\",\n",
        "        ],\n",
        "    ]\n",
        "    config = DEFAULT_CONFIGS.copy()\n",
        "    del config[\"sent_bert_from_sim\"]\n",
        "    print(calculate_diversity_metrics(ouputs_))\n"
      ]
    },
    {
      "cell_type": "code",
      "execution_count": null,
      "metadata": {
        "id": "d3iiehtLHygx"
      },
      "outputs": [],
      "source": []
    }
  ],
  "metadata": {
    "accelerator": "GPU",
    "colab": {
      "gpuType": "V100",
      "provenance": [],
      "machine_shape": "hm"
    },
    "kernelspec": {
      "display_name": "Python 3",
      "name": "python3"
    },
    "language_info": {
      "name": "python"
    },
    "widgets": {
      "application/vnd.jupyter.widget-state+json": {
        "8315ebfd66f34eb8ab6a393f610f3a47": {
          "model_module": "@jupyter-widgets/controls",
          "model_name": "HBoxModel",
          "model_module_version": "1.5.0",
          "state": {
            "_dom_classes": [],
            "_model_module": "@jupyter-widgets/controls",
            "_model_module_version": "1.5.0",
            "_model_name": "HBoxModel",
            "_view_count": null,
            "_view_module": "@jupyter-widgets/controls",
            "_view_module_version": "1.5.0",
            "_view_name": "HBoxView",
            "box_style": "",
            "children": [
              "IPY_MODEL_56b57325de48478dace04979b849f6bf",
              "IPY_MODEL_7426f2241ba349d8bca6e08ed4a35d1e",
              "IPY_MODEL_fc72a32088ed42f186c337c43cd0185a"
            ],
            "layout": "IPY_MODEL_d9c62c3cb0494835989b34d301d4b327"
          }
        },
        "56b57325de48478dace04979b849f6bf": {
          "model_module": "@jupyter-widgets/controls",
          "model_name": "HTMLModel",
          "model_module_version": "1.5.0",
          "state": {
            "_dom_classes": [],
            "_model_module": "@jupyter-widgets/controls",
            "_model_module_version": "1.5.0",
            "_model_name": "HTMLModel",
            "_view_count": null,
            "_view_module": "@jupyter-widgets/controls",
            "_view_module_version": "1.5.0",
            "_view_name": "HTMLView",
            "description": "",
            "description_tooltip": null,
            "layout": "IPY_MODEL_6f2c58af081e4011b7295d0ed890fe94",
            "placeholder": "​",
            "style": "IPY_MODEL_18800091dfb74987812e011be24a27f9",
            "value": "Generating train split: "
          }
        },
        "7426f2241ba349d8bca6e08ed4a35d1e": {
          "model_module": "@jupyter-widgets/controls",
          "model_name": "FloatProgressModel",
          "model_module_version": "1.5.0",
          "state": {
            "_dom_classes": [],
            "_model_module": "@jupyter-widgets/controls",
            "_model_module_version": "1.5.0",
            "_model_name": "FloatProgressModel",
            "_view_count": null,
            "_view_module": "@jupyter-widgets/controls",
            "_view_module_version": "1.5.0",
            "_view_name": "ProgressView",
            "bar_style": "success",
            "description": "",
            "description_tooltip": null,
            "layout": "IPY_MODEL_8ce29e03caf9455db421f321f31b424b",
            "max": 1,
            "min": 0,
            "orientation": "horizontal",
            "style": "IPY_MODEL_7904059c9d3847b2b894f62c955dd23f",
            "value": 1
          }
        },
        "fc72a32088ed42f186c337c43cd0185a": {
          "model_module": "@jupyter-widgets/controls",
          "model_name": "HTMLModel",
          "model_module_version": "1.5.0",
          "state": {
            "_dom_classes": [],
            "_model_module": "@jupyter-widgets/controls",
            "_model_module_version": "1.5.0",
            "_model_name": "HTMLModel",
            "_view_count": null,
            "_view_module": "@jupyter-widgets/controls",
            "_view_module_version": "1.5.0",
            "_view_name": "HTMLView",
            "description": "",
            "description_tooltip": null,
            "layout": "IPY_MODEL_10ea496722ea46af9fb593999412c2c0",
            "placeholder": "​",
            "style": "IPY_MODEL_159615e13c964f4e93be94c15408d477",
            "value": " 116722/0 [00:02&lt;00:00, 64940.87 examples/s]"
          }
        },
        "d9c62c3cb0494835989b34d301d4b327": {
          "model_module": "@jupyter-widgets/base",
          "model_name": "LayoutModel",
          "model_module_version": "1.2.0",
          "state": {
            "_model_module": "@jupyter-widgets/base",
            "_model_module_version": "1.2.0",
            "_model_name": "LayoutModel",
            "_view_count": null,
            "_view_module": "@jupyter-widgets/base",
            "_view_module_version": "1.2.0",
            "_view_name": "LayoutView",
            "align_content": null,
            "align_items": null,
            "align_self": null,
            "border": null,
            "bottom": null,
            "display": null,
            "flex": null,
            "flex_flow": null,
            "grid_area": null,
            "grid_auto_columns": null,
            "grid_auto_flow": null,
            "grid_auto_rows": null,
            "grid_column": null,
            "grid_gap": null,
            "grid_row": null,
            "grid_template_areas": null,
            "grid_template_columns": null,
            "grid_template_rows": null,
            "height": null,
            "justify_content": null,
            "justify_items": null,
            "left": null,
            "margin": null,
            "max_height": null,
            "max_width": null,
            "min_height": null,
            "min_width": null,
            "object_fit": null,
            "object_position": null,
            "order": null,
            "overflow": null,
            "overflow_x": null,
            "overflow_y": null,
            "padding": null,
            "right": null,
            "top": null,
            "visibility": null,
            "width": null
          }
        },
        "6f2c58af081e4011b7295d0ed890fe94": {
          "model_module": "@jupyter-widgets/base",
          "model_name": "LayoutModel",
          "model_module_version": "1.2.0",
          "state": {
            "_model_module": "@jupyter-widgets/base",
            "_model_module_version": "1.2.0",
            "_model_name": "LayoutModel",
            "_view_count": null,
            "_view_module": "@jupyter-widgets/base",
            "_view_module_version": "1.2.0",
            "_view_name": "LayoutView",
            "align_content": null,
            "align_items": null,
            "align_self": null,
            "border": null,
            "bottom": null,
            "display": null,
            "flex": null,
            "flex_flow": null,
            "grid_area": null,
            "grid_auto_columns": null,
            "grid_auto_flow": null,
            "grid_auto_rows": null,
            "grid_column": null,
            "grid_gap": null,
            "grid_row": null,
            "grid_template_areas": null,
            "grid_template_columns": null,
            "grid_template_rows": null,
            "height": null,
            "justify_content": null,
            "justify_items": null,
            "left": null,
            "margin": null,
            "max_height": null,
            "max_width": null,
            "min_height": null,
            "min_width": null,
            "object_fit": null,
            "object_position": null,
            "order": null,
            "overflow": null,
            "overflow_x": null,
            "overflow_y": null,
            "padding": null,
            "right": null,
            "top": null,
            "visibility": null,
            "width": null
          }
        },
        "18800091dfb74987812e011be24a27f9": {
          "model_module": "@jupyter-widgets/controls",
          "model_name": "DescriptionStyleModel",
          "model_module_version": "1.5.0",
          "state": {
            "_model_module": "@jupyter-widgets/controls",
            "_model_module_version": "1.5.0",
            "_model_name": "DescriptionStyleModel",
            "_view_count": null,
            "_view_module": "@jupyter-widgets/base",
            "_view_module_version": "1.2.0",
            "_view_name": "StyleView",
            "description_width": ""
          }
        },
        "8ce29e03caf9455db421f321f31b424b": {
          "model_module": "@jupyter-widgets/base",
          "model_name": "LayoutModel",
          "model_module_version": "1.2.0",
          "state": {
            "_model_module": "@jupyter-widgets/base",
            "_model_module_version": "1.2.0",
            "_model_name": "LayoutModel",
            "_view_count": null,
            "_view_module": "@jupyter-widgets/base",
            "_view_module_version": "1.2.0",
            "_view_name": "LayoutView",
            "align_content": null,
            "align_items": null,
            "align_self": null,
            "border": null,
            "bottom": null,
            "display": null,
            "flex": null,
            "flex_flow": null,
            "grid_area": null,
            "grid_auto_columns": null,
            "grid_auto_flow": null,
            "grid_auto_rows": null,
            "grid_column": null,
            "grid_gap": null,
            "grid_row": null,
            "grid_template_areas": null,
            "grid_template_columns": null,
            "grid_template_rows": null,
            "height": null,
            "justify_content": null,
            "justify_items": null,
            "left": null,
            "margin": null,
            "max_height": null,
            "max_width": null,
            "min_height": null,
            "min_width": null,
            "object_fit": null,
            "object_position": null,
            "order": null,
            "overflow": null,
            "overflow_x": null,
            "overflow_y": null,
            "padding": null,
            "right": null,
            "top": null,
            "visibility": null,
            "width": "20px"
          }
        },
        "7904059c9d3847b2b894f62c955dd23f": {
          "model_module": "@jupyter-widgets/controls",
          "model_name": "ProgressStyleModel",
          "model_module_version": "1.5.0",
          "state": {
            "_model_module": "@jupyter-widgets/controls",
            "_model_module_version": "1.5.0",
            "_model_name": "ProgressStyleModel",
            "_view_count": null,
            "_view_module": "@jupyter-widgets/base",
            "_view_module_version": "1.2.0",
            "_view_name": "StyleView",
            "bar_color": null,
            "description_width": ""
          }
        },
        "10ea496722ea46af9fb593999412c2c0": {
          "model_module": "@jupyter-widgets/base",
          "model_name": "LayoutModel",
          "model_module_version": "1.2.0",
          "state": {
            "_model_module": "@jupyter-widgets/base",
            "_model_module_version": "1.2.0",
            "_model_name": "LayoutModel",
            "_view_count": null,
            "_view_module": "@jupyter-widgets/base",
            "_view_module_version": "1.2.0",
            "_view_name": "LayoutView",
            "align_content": null,
            "align_items": null,
            "align_self": null,
            "border": null,
            "bottom": null,
            "display": null,
            "flex": null,
            "flex_flow": null,
            "grid_area": null,
            "grid_auto_columns": null,
            "grid_auto_flow": null,
            "grid_auto_rows": null,
            "grid_column": null,
            "grid_gap": null,
            "grid_row": null,
            "grid_template_areas": null,
            "grid_template_columns": null,
            "grid_template_rows": null,
            "height": null,
            "justify_content": null,
            "justify_items": null,
            "left": null,
            "margin": null,
            "max_height": null,
            "max_width": null,
            "min_height": null,
            "min_width": null,
            "object_fit": null,
            "object_position": null,
            "order": null,
            "overflow": null,
            "overflow_x": null,
            "overflow_y": null,
            "padding": null,
            "right": null,
            "top": null,
            "visibility": null,
            "width": null
          }
        },
        "159615e13c964f4e93be94c15408d477": {
          "model_module": "@jupyter-widgets/controls",
          "model_name": "DescriptionStyleModel",
          "model_module_version": "1.5.0",
          "state": {
            "_model_module": "@jupyter-widgets/controls",
            "_model_module_version": "1.5.0",
            "_model_name": "DescriptionStyleModel",
            "_view_count": null,
            "_view_module": "@jupyter-widgets/base",
            "_view_module_version": "1.2.0",
            "_view_name": "StyleView",
            "description_width": ""
          }
        },
        "9f5e4f0f6bda41f3a9baf2442c1f3411": {
          "model_module": "@jupyter-widgets/controls",
          "model_name": "HBoxModel",
          "model_module_version": "1.5.0",
          "state": {
            "_dom_classes": [],
            "_model_module": "@jupyter-widgets/controls",
            "_model_module_version": "1.5.0",
            "_model_name": "HBoxModel",
            "_view_count": null,
            "_view_module": "@jupyter-widgets/controls",
            "_view_module_version": "1.5.0",
            "_view_name": "HBoxView",
            "box_style": "",
            "children": [
              "IPY_MODEL_4ff9b7a7e8ff426ab1d8945e13de2cc8",
              "IPY_MODEL_209c4abef30a40c7a4b01be3234fd1a2",
              "IPY_MODEL_683726ff882845fbb4defa85786782d7"
            ],
            "layout": "IPY_MODEL_ab0e62072d874cce863a47fc0b79e9db"
          }
        },
        "4ff9b7a7e8ff426ab1d8945e13de2cc8": {
          "model_module": "@jupyter-widgets/controls",
          "model_name": "HTMLModel",
          "model_module_version": "1.5.0",
          "state": {
            "_dom_classes": [],
            "_model_module": "@jupyter-widgets/controls",
            "_model_module_version": "1.5.0",
            "_model_name": "HTMLModel",
            "_view_count": null,
            "_view_module": "@jupyter-widgets/controls",
            "_view_module_version": "1.5.0",
            "_view_name": "HTMLView",
            "description": "",
            "description_tooltip": null,
            "layout": "IPY_MODEL_ad574333cb694b4f939a219d6fb6dd21",
            "placeholder": "​",
            "style": "IPY_MODEL_e3a3f1f690a549ad87b88cb4792cd0dd",
            "value": "Generating train split: "
          }
        },
        "209c4abef30a40c7a4b01be3234fd1a2": {
          "model_module": "@jupyter-widgets/controls",
          "model_name": "FloatProgressModel",
          "model_module_version": "1.5.0",
          "state": {
            "_dom_classes": [],
            "_model_module": "@jupyter-widgets/controls",
            "_model_module_version": "1.5.0",
            "_model_name": "FloatProgressModel",
            "_view_count": null,
            "_view_module": "@jupyter-widgets/controls",
            "_view_module_version": "1.5.0",
            "_view_name": "ProgressView",
            "bar_style": "success",
            "description": "",
            "description_tooltip": null,
            "layout": "IPY_MODEL_9a225ccf4f8c4552a5340a02c69c5a24",
            "max": 1,
            "min": 0,
            "orientation": "horizontal",
            "style": "IPY_MODEL_2d2357fc438e4e3ebfdd3c1ea97c0b0c",
            "value": 1
          }
        },
        "683726ff882845fbb4defa85786782d7": {
          "model_module": "@jupyter-widgets/controls",
          "model_name": "HTMLModel",
          "model_module_version": "1.5.0",
          "state": {
            "_dom_classes": [],
            "_model_module": "@jupyter-widgets/controls",
            "_model_module_version": "1.5.0",
            "_model_name": "HTMLModel",
            "_view_count": null,
            "_view_module": "@jupyter-widgets/controls",
            "_view_module_version": "1.5.0",
            "_view_name": "HTMLView",
            "description": "",
            "description_tooltip": null,
            "layout": "IPY_MODEL_e106958822f140bc9e74c7938e3b523a",
            "placeholder": "​",
            "style": "IPY_MODEL_e7a6e7df9c6144bf99cdfad413376fb7",
            "value": " 6447/0 [00:00&lt;00:00, 7129.62 examples/s]"
          }
        },
        "ab0e62072d874cce863a47fc0b79e9db": {
          "model_module": "@jupyter-widgets/base",
          "model_name": "LayoutModel",
          "model_module_version": "1.2.0",
          "state": {
            "_model_module": "@jupyter-widgets/base",
            "_model_module_version": "1.2.0",
            "_model_name": "LayoutModel",
            "_view_count": null,
            "_view_module": "@jupyter-widgets/base",
            "_view_module_version": "1.2.0",
            "_view_name": "LayoutView",
            "align_content": null,
            "align_items": null,
            "align_self": null,
            "border": null,
            "bottom": null,
            "display": null,
            "flex": null,
            "flex_flow": null,
            "grid_area": null,
            "grid_auto_columns": null,
            "grid_auto_flow": null,
            "grid_auto_rows": null,
            "grid_column": null,
            "grid_gap": null,
            "grid_row": null,
            "grid_template_areas": null,
            "grid_template_columns": null,
            "grid_template_rows": null,
            "height": null,
            "justify_content": null,
            "justify_items": null,
            "left": null,
            "margin": null,
            "max_height": null,
            "max_width": null,
            "min_height": null,
            "min_width": null,
            "object_fit": null,
            "object_position": null,
            "order": null,
            "overflow": null,
            "overflow_x": null,
            "overflow_y": null,
            "padding": null,
            "right": null,
            "top": null,
            "visibility": null,
            "width": null
          }
        },
        "ad574333cb694b4f939a219d6fb6dd21": {
          "model_module": "@jupyter-widgets/base",
          "model_name": "LayoutModel",
          "model_module_version": "1.2.0",
          "state": {
            "_model_module": "@jupyter-widgets/base",
            "_model_module_version": "1.2.0",
            "_model_name": "LayoutModel",
            "_view_count": null,
            "_view_module": "@jupyter-widgets/base",
            "_view_module_version": "1.2.0",
            "_view_name": "LayoutView",
            "align_content": null,
            "align_items": null,
            "align_self": null,
            "border": null,
            "bottom": null,
            "display": null,
            "flex": null,
            "flex_flow": null,
            "grid_area": null,
            "grid_auto_columns": null,
            "grid_auto_flow": null,
            "grid_auto_rows": null,
            "grid_column": null,
            "grid_gap": null,
            "grid_row": null,
            "grid_template_areas": null,
            "grid_template_columns": null,
            "grid_template_rows": null,
            "height": null,
            "justify_content": null,
            "justify_items": null,
            "left": null,
            "margin": null,
            "max_height": null,
            "max_width": null,
            "min_height": null,
            "min_width": null,
            "object_fit": null,
            "object_position": null,
            "order": null,
            "overflow": null,
            "overflow_x": null,
            "overflow_y": null,
            "padding": null,
            "right": null,
            "top": null,
            "visibility": null,
            "width": null
          }
        },
        "e3a3f1f690a549ad87b88cb4792cd0dd": {
          "model_module": "@jupyter-widgets/controls",
          "model_name": "DescriptionStyleModel",
          "model_module_version": "1.5.0",
          "state": {
            "_model_module": "@jupyter-widgets/controls",
            "_model_module_version": "1.5.0",
            "_model_name": "DescriptionStyleModel",
            "_view_count": null,
            "_view_module": "@jupyter-widgets/base",
            "_view_module_version": "1.2.0",
            "_view_name": "StyleView",
            "description_width": ""
          }
        },
        "9a225ccf4f8c4552a5340a02c69c5a24": {
          "model_module": "@jupyter-widgets/base",
          "model_name": "LayoutModel",
          "model_module_version": "1.2.0",
          "state": {
            "_model_module": "@jupyter-widgets/base",
            "_model_module_version": "1.2.0",
            "_model_name": "LayoutModel",
            "_view_count": null,
            "_view_module": "@jupyter-widgets/base",
            "_view_module_version": "1.2.0",
            "_view_name": "LayoutView",
            "align_content": null,
            "align_items": null,
            "align_self": null,
            "border": null,
            "bottom": null,
            "display": null,
            "flex": null,
            "flex_flow": null,
            "grid_area": null,
            "grid_auto_columns": null,
            "grid_auto_flow": null,
            "grid_auto_rows": null,
            "grid_column": null,
            "grid_gap": null,
            "grid_row": null,
            "grid_template_areas": null,
            "grid_template_columns": null,
            "grid_template_rows": null,
            "height": null,
            "justify_content": null,
            "justify_items": null,
            "left": null,
            "margin": null,
            "max_height": null,
            "max_width": null,
            "min_height": null,
            "min_width": null,
            "object_fit": null,
            "object_position": null,
            "order": null,
            "overflow": null,
            "overflow_x": null,
            "overflow_y": null,
            "padding": null,
            "right": null,
            "top": null,
            "visibility": null,
            "width": "20px"
          }
        },
        "2d2357fc438e4e3ebfdd3c1ea97c0b0c": {
          "model_module": "@jupyter-widgets/controls",
          "model_name": "ProgressStyleModel",
          "model_module_version": "1.5.0",
          "state": {
            "_model_module": "@jupyter-widgets/controls",
            "_model_module_version": "1.5.0",
            "_model_name": "ProgressStyleModel",
            "_view_count": null,
            "_view_module": "@jupyter-widgets/base",
            "_view_module_version": "1.2.0",
            "_view_name": "StyleView",
            "bar_color": null,
            "description_width": ""
          }
        },
        "e106958822f140bc9e74c7938e3b523a": {
          "model_module": "@jupyter-widgets/base",
          "model_name": "LayoutModel",
          "model_module_version": "1.2.0",
          "state": {
            "_model_module": "@jupyter-widgets/base",
            "_model_module_version": "1.2.0",
            "_model_name": "LayoutModel",
            "_view_count": null,
            "_view_module": "@jupyter-widgets/base",
            "_view_module_version": "1.2.0",
            "_view_name": "LayoutView",
            "align_content": null,
            "align_items": null,
            "align_self": null,
            "border": null,
            "bottom": null,
            "display": null,
            "flex": null,
            "flex_flow": null,
            "grid_area": null,
            "grid_auto_columns": null,
            "grid_auto_flow": null,
            "grid_auto_rows": null,
            "grid_column": null,
            "grid_gap": null,
            "grid_row": null,
            "grid_template_areas": null,
            "grid_template_columns": null,
            "grid_template_rows": null,
            "height": null,
            "justify_content": null,
            "justify_items": null,
            "left": null,
            "margin": null,
            "max_height": null,
            "max_width": null,
            "min_height": null,
            "min_width": null,
            "object_fit": null,
            "object_position": null,
            "order": null,
            "overflow": null,
            "overflow_x": null,
            "overflow_y": null,
            "padding": null,
            "right": null,
            "top": null,
            "visibility": null,
            "width": null
          }
        },
        "e7a6e7df9c6144bf99cdfad413376fb7": {
          "model_module": "@jupyter-widgets/controls",
          "model_name": "DescriptionStyleModel",
          "model_module_version": "1.5.0",
          "state": {
            "_model_module": "@jupyter-widgets/controls",
            "_model_module_version": "1.5.0",
            "_model_name": "DescriptionStyleModel",
            "_view_count": null,
            "_view_module": "@jupyter-widgets/base",
            "_view_module_version": "1.2.0",
            "_view_name": "StyleView",
            "description_width": ""
          }
        },
        "e2c5f54215734103ab72d5d46d974c0f": {
          "model_module": "@jupyter-widgets/controls",
          "model_name": "HBoxModel",
          "model_module_version": "1.5.0",
          "state": {
            "_dom_classes": [],
            "_model_module": "@jupyter-widgets/controls",
            "_model_module_version": "1.5.0",
            "_model_name": "HBoxModel",
            "_view_count": null,
            "_view_module": "@jupyter-widgets/controls",
            "_view_module_version": "1.5.0",
            "_view_name": "HBoxView",
            "box_style": "",
            "children": [
              "IPY_MODEL_98ab96b6229945f8b94339608194481e",
              "IPY_MODEL_636ee5ab196942d099586ab4635a0468",
              "IPY_MODEL_aa4f0d9ad28f49e799fc68a8fdc9256d"
            ],
            "layout": "IPY_MODEL_dd2d87ea8c1a49b5a9709d18bb925a1f"
          }
        },
        "98ab96b6229945f8b94339608194481e": {
          "model_module": "@jupyter-widgets/controls",
          "model_name": "HTMLModel",
          "model_module_version": "1.5.0",
          "state": {
            "_dom_classes": [],
            "_model_module": "@jupyter-widgets/controls",
            "_model_module_version": "1.5.0",
            "_model_name": "HTMLModel",
            "_view_count": null,
            "_view_module": "@jupyter-widgets/controls",
            "_view_module_version": "1.5.0",
            "_view_name": "HTMLView",
            "description": "",
            "description_tooltip": null,
            "layout": "IPY_MODEL_0636511047ae4b7a86a226e60dc46db6",
            "placeholder": "​",
            "style": "IPY_MODEL_045fbec6db3746769613d0f680b225f4",
            "value": "Generating train split: "
          }
        },
        "636ee5ab196942d099586ab4635a0468": {
          "model_module": "@jupyter-widgets/controls",
          "model_name": "FloatProgressModel",
          "model_module_version": "1.5.0",
          "state": {
            "_dom_classes": [],
            "_model_module": "@jupyter-widgets/controls",
            "_model_module_version": "1.5.0",
            "_model_name": "FloatProgressModel",
            "_view_count": null,
            "_view_module": "@jupyter-widgets/controls",
            "_view_module_version": "1.5.0",
            "_view_name": "ProgressView",
            "bar_style": "success",
            "description": "",
            "description_tooltip": null,
            "layout": "IPY_MODEL_3fc2eaca2bad4c76a3405867cc0aa231",
            "max": 1,
            "min": 0,
            "orientation": "horizontal",
            "style": "IPY_MODEL_428c2242e7db488aab5925fff354afe7",
            "value": 1
          }
        },
        "aa4f0d9ad28f49e799fc68a8fdc9256d": {
          "model_module": "@jupyter-widgets/controls",
          "model_name": "HTMLModel",
          "model_module_version": "1.5.0",
          "state": {
            "_dom_classes": [],
            "_model_module": "@jupyter-widgets/controls",
            "_model_module_version": "1.5.0",
            "_model_name": "HTMLModel",
            "_view_count": null,
            "_view_module": "@jupyter-widgets/controls",
            "_view_module_version": "1.5.0",
            "_view_name": "HTMLView",
            "description": "",
            "description_tooltip": null,
            "layout": "IPY_MODEL_01b1c9090b5c46d187cf682f49be571d",
            "placeholder": "​",
            "style": "IPY_MODEL_a453e57b0a9644fcb88a88547ad0bf2b",
            "value": " 6553/0 [00:00&lt;00:00, 11624.77 examples/s]"
          }
        },
        "dd2d87ea8c1a49b5a9709d18bb925a1f": {
          "model_module": "@jupyter-widgets/base",
          "model_name": "LayoutModel",
          "model_module_version": "1.2.0",
          "state": {
            "_model_module": "@jupyter-widgets/base",
            "_model_module_version": "1.2.0",
            "_model_name": "LayoutModel",
            "_view_count": null,
            "_view_module": "@jupyter-widgets/base",
            "_view_module_version": "1.2.0",
            "_view_name": "LayoutView",
            "align_content": null,
            "align_items": null,
            "align_self": null,
            "border": null,
            "bottom": null,
            "display": null,
            "flex": null,
            "flex_flow": null,
            "grid_area": null,
            "grid_auto_columns": null,
            "grid_auto_flow": null,
            "grid_auto_rows": null,
            "grid_column": null,
            "grid_gap": null,
            "grid_row": null,
            "grid_template_areas": null,
            "grid_template_columns": null,
            "grid_template_rows": null,
            "height": null,
            "justify_content": null,
            "justify_items": null,
            "left": null,
            "margin": null,
            "max_height": null,
            "max_width": null,
            "min_height": null,
            "min_width": null,
            "object_fit": null,
            "object_position": null,
            "order": null,
            "overflow": null,
            "overflow_x": null,
            "overflow_y": null,
            "padding": null,
            "right": null,
            "top": null,
            "visibility": null,
            "width": null
          }
        },
        "0636511047ae4b7a86a226e60dc46db6": {
          "model_module": "@jupyter-widgets/base",
          "model_name": "LayoutModel",
          "model_module_version": "1.2.0",
          "state": {
            "_model_module": "@jupyter-widgets/base",
            "_model_module_version": "1.2.0",
            "_model_name": "LayoutModel",
            "_view_count": null,
            "_view_module": "@jupyter-widgets/base",
            "_view_module_version": "1.2.0",
            "_view_name": "LayoutView",
            "align_content": null,
            "align_items": null,
            "align_self": null,
            "border": null,
            "bottom": null,
            "display": null,
            "flex": null,
            "flex_flow": null,
            "grid_area": null,
            "grid_auto_columns": null,
            "grid_auto_flow": null,
            "grid_auto_rows": null,
            "grid_column": null,
            "grid_gap": null,
            "grid_row": null,
            "grid_template_areas": null,
            "grid_template_columns": null,
            "grid_template_rows": null,
            "height": null,
            "justify_content": null,
            "justify_items": null,
            "left": null,
            "margin": null,
            "max_height": null,
            "max_width": null,
            "min_height": null,
            "min_width": null,
            "object_fit": null,
            "object_position": null,
            "order": null,
            "overflow": null,
            "overflow_x": null,
            "overflow_y": null,
            "padding": null,
            "right": null,
            "top": null,
            "visibility": null,
            "width": null
          }
        },
        "045fbec6db3746769613d0f680b225f4": {
          "model_module": "@jupyter-widgets/controls",
          "model_name": "DescriptionStyleModel",
          "model_module_version": "1.5.0",
          "state": {
            "_model_module": "@jupyter-widgets/controls",
            "_model_module_version": "1.5.0",
            "_model_name": "DescriptionStyleModel",
            "_view_count": null,
            "_view_module": "@jupyter-widgets/base",
            "_view_module_version": "1.2.0",
            "_view_name": "StyleView",
            "description_width": ""
          }
        },
        "3fc2eaca2bad4c76a3405867cc0aa231": {
          "model_module": "@jupyter-widgets/base",
          "model_name": "LayoutModel",
          "model_module_version": "1.2.0",
          "state": {
            "_model_module": "@jupyter-widgets/base",
            "_model_module_version": "1.2.0",
            "_model_name": "LayoutModel",
            "_view_count": null,
            "_view_module": "@jupyter-widgets/base",
            "_view_module_version": "1.2.0",
            "_view_name": "LayoutView",
            "align_content": null,
            "align_items": null,
            "align_self": null,
            "border": null,
            "bottom": null,
            "display": null,
            "flex": null,
            "flex_flow": null,
            "grid_area": null,
            "grid_auto_columns": null,
            "grid_auto_flow": null,
            "grid_auto_rows": null,
            "grid_column": null,
            "grid_gap": null,
            "grid_row": null,
            "grid_template_areas": null,
            "grid_template_columns": null,
            "grid_template_rows": null,
            "height": null,
            "justify_content": null,
            "justify_items": null,
            "left": null,
            "margin": null,
            "max_height": null,
            "max_width": null,
            "min_height": null,
            "min_width": null,
            "object_fit": null,
            "object_position": null,
            "order": null,
            "overflow": null,
            "overflow_x": null,
            "overflow_y": null,
            "padding": null,
            "right": null,
            "top": null,
            "visibility": null,
            "width": "20px"
          }
        },
        "428c2242e7db488aab5925fff354afe7": {
          "model_module": "@jupyter-widgets/controls",
          "model_name": "ProgressStyleModel",
          "model_module_version": "1.5.0",
          "state": {
            "_model_module": "@jupyter-widgets/controls",
            "_model_module_version": "1.5.0",
            "_model_name": "ProgressStyleModel",
            "_view_count": null,
            "_view_module": "@jupyter-widgets/base",
            "_view_module_version": "1.2.0",
            "_view_name": "StyleView",
            "bar_color": null,
            "description_width": ""
          }
        },
        "01b1c9090b5c46d187cf682f49be571d": {
          "model_module": "@jupyter-widgets/base",
          "model_name": "LayoutModel",
          "model_module_version": "1.2.0",
          "state": {
            "_model_module": "@jupyter-widgets/base",
            "_model_module_version": "1.2.0",
            "_model_name": "LayoutModel",
            "_view_count": null,
            "_view_module": "@jupyter-widgets/base",
            "_view_module_version": "1.2.0",
            "_view_name": "LayoutView",
            "align_content": null,
            "align_items": null,
            "align_self": null,
            "border": null,
            "bottom": null,
            "display": null,
            "flex": null,
            "flex_flow": null,
            "grid_area": null,
            "grid_auto_columns": null,
            "grid_auto_flow": null,
            "grid_auto_rows": null,
            "grid_column": null,
            "grid_gap": null,
            "grid_row": null,
            "grid_template_areas": null,
            "grid_template_columns": null,
            "grid_template_rows": null,
            "height": null,
            "justify_content": null,
            "justify_items": null,
            "left": null,
            "margin": null,
            "max_height": null,
            "max_width": null,
            "min_height": null,
            "min_width": null,
            "object_fit": null,
            "object_position": null,
            "order": null,
            "overflow": null,
            "overflow_x": null,
            "overflow_y": null,
            "padding": null,
            "right": null,
            "top": null,
            "visibility": null,
            "width": null
          }
        },
        "a453e57b0a9644fcb88a88547ad0bf2b": {
          "model_module": "@jupyter-widgets/controls",
          "model_name": "DescriptionStyleModel",
          "model_module_version": "1.5.0",
          "state": {
            "_model_module": "@jupyter-widgets/controls",
            "_model_module_version": "1.5.0",
            "_model_name": "DescriptionStyleModel",
            "_view_count": null,
            "_view_module": "@jupyter-widgets/base",
            "_view_module_version": "1.2.0",
            "_view_name": "StyleView",
            "description_width": ""
          }
        },
        "c829fa0fda6c4c6d8c7d79b48ce768f7": {
          "model_module": "@jupyter-widgets/controls",
          "model_name": "HBoxModel",
          "model_module_version": "1.5.0",
          "state": {
            "_dom_classes": [],
            "_model_module": "@jupyter-widgets/controls",
            "_model_module_version": "1.5.0",
            "_model_name": "HBoxModel",
            "_view_count": null,
            "_view_module": "@jupyter-widgets/controls",
            "_view_module_version": "1.5.0",
            "_view_name": "HBoxView",
            "box_style": "",
            "children": [
              "IPY_MODEL_49700ba668294dc1a726dbb164a0e726",
              "IPY_MODEL_02fdeed82788408c97ea0feedd8d7515",
              "IPY_MODEL_56247df187744518b96eac1b6474f887"
            ],
            "layout": "IPY_MODEL_5128afbcd86d44c3bd797dca6c301d6b"
          }
        },
        "49700ba668294dc1a726dbb164a0e726": {
          "model_module": "@jupyter-widgets/controls",
          "model_name": "HTMLModel",
          "model_module_version": "1.5.0",
          "state": {
            "_dom_classes": [],
            "_model_module": "@jupyter-widgets/controls",
            "_model_module_version": "1.5.0",
            "_model_name": "HTMLModel",
            "_view_count": null,
            "_view_module": "@jupyter-widgets/controls",
            "_view_module_version": "1.5.0",
            "_view_name": "HTMLView",
            "description": "",
            "description_tooltip": null,
            "layout": "IPY_MODEL_139b095a4a844eaaad1aa4078bdc6d18",
            "placeholder": "​",
            "style": "IPY_MODEL_01a4804e784743d1910967c38085d94e",
            "value": "Loading checkpoint shards: 100%"
          }
        },
        "02fdeed82788408c97ea0feedd8d7515": {
          "model_module": "@jupyter-widgets/controls",
          "model_name": "FloatProgressModel",
          "model_module_version": "1.5.0",
          "state": {
            "_dom_classes": [],
            "_model_module": "@jupyter-widgets/controls",
            "_model_module_version": "1.5.0",
            "_model_name": "FloatProgressModel",
            "_view_count": null,
            "_view_module": "@jupyter-widgets/controls",
            "_view_module_version": "1.5.0",
            "_view_name": "ProgressView",
            "bar_style": "success",
            "description": "",
            "description_tooltip": null,
            "layout": "IPY_MODEL_88f73ec2bdbb425baecfb4dc89035fe1",
            "max": 2,
            "min": 0,
            "orientation": "horizontal",
            "style": "IPY_MODEL_8960efb58e1748509de7a12cb928f895",
            "value": 2
          }
        },
        "56247df187744518b96eac1b6474f887": {
          "model_module": "@jupyter-widgets/controls",
          "model_name": "HTMLModel",
          "model_module_version": "1.5.0",
          "state": {
            "_dom_classes": [],
            "_model_module": "@jupyter-widgets/controls",
            "_model_module_version": "1.5.0",
            "_model_name": "HTMLModel",
            "_view_count": null,
            "_view_module": "@jupyter-widgets/controls",
            "_view_module_version": "1.5.0",
            "_view_name": "HTMLView",
            "description": "",
            "description_tooltip": null,
            "layout": "IPY_MODEL_27beaa2d6dd547efaa5b53851fffe79b",
            "placeholder": "​",
            "style": "IPY_MODEL_39227966376e453e92540a5c595b7c67",
            "value": " 2/2 [02:44&lt;00:00, 75.72s/it]"
          }
        },
        "5128afbcd86d44c3bd797dca6c301d6b": {
          "model_module": "@jupyter-widgets/base",
          "model_name": "LayoutModel",
          "model_module_version": "1.2.0",
          "state": {
            "_model_module": "@jupyter-widgets/base",
            "_model_module_version": "1.2.0",
            "_model_name": "LayoutModel",
            "_view_count": null,
            "_view_module": "@jupyter-widgets/base",
            "_view_module_version": "1.2.0",
            "_view_name": "LayoutView",
            "align_content": null,
            "align_items": null,
            "align_self": null,
            "border": null,
            "bottom": null,
            "display": null,
            "flex": null,
            "flex_flow": null,
            "grid_area": null,
            "grid_auto_columns": null,
            "grid_auto_flow": null,
            "grid_auto_rows": null,
            "grid_column": null,
            "grid_gap": null,
            "grid_row": null,
            "grid_template_areas": null,
            "grid_template_columns": null,
            "grid_template_rows": null,
            "height": null,
            "justify_content": null,
            "justify_items": null,
            "left": null,
            "margin": null,
            "max_height": null,
            "max_width": null,
            "min_height": null,
            "min_width": null,
            "object_fit": null,
            "object_position": null,
            "order": null,
            "overflow": null,
            "overflow_x": null,
            "overflow_y": null,
            "padding": null,
            "right": null,
            "top": null,
            "visibility": null,
            "width": null
          }
        },
        "139b095a4a844eaaad1aa4078bdc6d18": {
          "model_module": "@jupyter-widgets/base",
          "model_name": "LayoutModel",
          "model_module_version": "1.2.0",
          "state": {
            "_model_module": "@jupyter-widgets/base",
            "_model_module_version": "1.2.0",
            "_model_name": "LayoutModel",
            "_view_count": null,
            "_view_module": "@jupyter-widgets/base",
            "_view_module_version": "1.2.0",
            "_view_name": "LayoutView",
            "align_content": null,
            "align_items": null,
            "align_self": null,
            "border": null,
            "bottom": null,
            "display": null,
            "flex": null,
            "flex_flow": null,
            "grid_area": null,
            "grid_auto_columns": null,
            "grid_auto_flow": null,
            "grid_auto_rows": null,
            "grid_column": null,
            "grid_gap": null,
            "grid_row": null,
            "grid_template_areas": null,
            "grid_template_columns": null,
            "grid_template_rows": null,
            "height": null,
            "justify_content": null,
            "justify_items": null,
            "left": null,
            "margin": null,
            "max_height": null,
            "max_width": null,
            "min_height": null,
            "min_width": null,
            "object_fit": null,
            "object_position": null,
            "order": null,
            "overflow": null,
            "overflow_x": null,
            "overflow_y": null,
            "padding": null,
            "right": null,
            "top": null,
            "visibility": null,
            "width": null
          }
        },
        "01a4804e784743d1910967c38085d94e": {
          "model_module": "@jupyter-widgets/controls",
          "model_name": "DescriptionStyleModel",
          "model_module_version": "1.5.0",
          "state": {
            "_model_module": "@jupyter-widgets/controls",
            "_model_module_version": "1.5.0",
            "_model_name": "DescriptionStyleModel",
            "_view_count": null,
            "_view_module": "@jupyter-widgets/base",
            "_view_module_version": "1.2.0",
            "_view_name": "StyleView",
            "description_width": ""
          }
        },
        "88f73ec2bdbb425baecfb4dc89035fe1": {
          "model_module": "@jupyter-widgets/base",
          "model_name": "LayoutModel",
          "model_module_version": "1.2.0",
          "state": {
            "_model_module": "@jupyter-widgets/base",
            "_model_module_version": "1.2.0",
            "_model_name": "LayoutModel",
            "_view_count": null,
            "_view_module": "@jupyter-widgets/base",
            "_view_module_version": "1.2.0",
            "_view_name": "LayoutView",
            "align_content": null,
            "align_items": null,
            "align_self": null,
            "border": null,
            "bottom": null,
            "display": null,
            "flex": null,
            "flex_flow": null,
            "grid_area": null,
            "grid_auto_columns": null,
            "grid_auto_flow": null,
            "grid_auto_rows": null,
            "grid_column": null,
            "grid_gap": null,
            "grid_row": null,
            "grid_template_areas": null,
            "grid_template_columns": null,
            "grid_template_rows": null,
            "height": null,
            "justify_content": null,
            "justify_items": null,
            "left": null,
            "margin": null,
            "max_height": null,
            "max_width": null,
            "min_height": null,
            "min_width": null,
            "object_fit": null,
            "object_position": null,
            "order": null,
            "overflow": null,
            "overflow_x": null,
            "overflow_y": null,
            "padding": null,
            "right": null,
            "top": null,
            "visibility": null,
            "width": null
          }
        },
        "8960efb58e1748509de7a12cb928f895": {
          "model_module": "@jupyter-widgets/controls",
          "model_name": "ProgressStyleModel",
          "model_module_version": "1.5.0",
          "state": {
            "_model_module": "@jupyter-widgets/controls",
            "_model_module_version": "1.5.0",
            "_model_name": "ProgressStyleModel",
            "_view_count": null,
            "_view_module": "@jupyter-widgets/base",
            "_view_module_version": "1.2.0",
            "_view_name": "StyleView",
            "bar_color": null,
            "description_width": ""
          }
        },
        "27beaa2d6dd547efaa5b53851fffe79b": {
          "model_module": "@jupyter-widgets/base",
          "model_name": "LayoutModel",
          "model_module_version": "1.2.0",
          "state": {
            "_model_module": "@jupyter-widgets/base",
            "_model_module_version": "1.2.0",
            "_model_name": "LayoutModel",
            "_view_count": null,
            "_view_module": "@jupyter-widgets/base",
            "_view_module_version": "1.2.0",
            "_view_name": "LayoutView",
            "align_content": null,
            "align_items": null,
            "align_self": null,
            "border": null,
            "bottom": null,
            "display": null,
            "flex": null,
            "flex_flow": null,
            "grid_area": null,
            "grid_auto_columns": null,
            "grid_auto_flow": null,
            "grid_auto_rows": null,
            "grid_column": null,
            "grid_gap": null,
            "grid_row": null,
            "grid_template_areas": null,
            "grid_template_columns": null,
            "grid_template_rows": null,
            "height": null,
            "justify_content": null,
            "justify_items": null,
            "left": null,
            "margin": null,
            "max_height": null,
            "max_width": null,
            "min_height": null,
            "min_width": null,
            "object_fit": null,
            "object_position": null,
            "order": null,
            "overflow": null,
            "overflow_x": null,
            "overflow_y": null,
            "padding": null,
            "right": null,
            "top": null,
            "visibility": null,
            "width": null
          }
        },
        "39227966376e453e92540a5c595b7c67": {
          "model_module": "@jupyter-widgets/controls",
          "model_name": "DescriptionStyleModel",
          "model_module_version": "1.5.0",
          "state": {
            "_model_module": "@jupyter-widgets/controls",
            "_model_module_version": "1.5.0",
            "_model_name": "DescriptionStyleModel",
            "_view_count": null,
            "_view_module": "@jupyter-widgets/base",
            "_view_module_version": "1.2.0",
            "_view_name": "StyleView",
            "description_width": ""
          }
        }
      }
    }
  },
  "nbformat": 4,
  "nbformat_minor": 0
}